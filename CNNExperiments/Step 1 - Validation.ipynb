{
 "cells": [
  {
   "cell_type": "code",
   "execution_count": 1,
   "metadata": {},
   "outputs": [],
   "source": [
    "%matplotlib inline\n",
    "%config InlineBackend.figure_format = 'retina'\n",
    "import os\n",
    "import numpy as np\n",
    "import pandas as pd\n",
    "import matplotlib.pyplot as plt\n",
    "import seaborn as sns\n",
    "sns.set()"
   ]
  },
  {
   "cell_type": "code",
   "execution_count": 2,
   "metadata": {},
   "outputs": [],
   "source": [
    "from sklearn.linear_model import SGDClassifier\n",
    "from sklearn.metrics import f1_score\n",
    "from sklearn.metrics import accuracy_score\n",
    "from sklearn.metrics import log_loss\n",
    "from sklearn.metrics import confusion_matrix\n",
    "from sklearn.metrics import roc_auc_score\n",
    "from sklearn.metrics import precision_score\n",
    "from sklearn.metrics import recall_score"
   ]
  },
  {
   "cell_type": "code",
   "execution_count": 3,
   "metadata": {},
   "outputs": [],
   "source": [
    "def filter_pvalue(df, pvalue_range):\n",
    "    df = df[df['Pvalue'].apply(lambda x: x <= pvalue_range[0] or x >= pvalue_range[1])].copy()\n",
    "    df['Target'] = df['Pvalue'].apply(lambda x: 1 if x < np.mean(pvalue_range) else 0)\n",
    "    return df"
   ]
  },
  {
   "cell_type": "code",
   "execution_count": 4,
   "metadata": {},
   "outputs": [],
   "source": [
    "def evaluate(train, test):\n",
    "    model = SGDClassifier(loss='log', max_iter=100)\n",
    "    model.fit(train[[col for col in train.columns if 'cause' in col or 'effect' in col]], train['Target'])\n",
    "    y_pred = model.predict(test[[col for col in test.columns if 'cause' in col or 'effect' in col]])\n",
    "    print(accuracy_score(test['Target'], y_pred))\n",
    "    print(f1_score(test['Target'], y_pred))\n",
    "    return f1_score(test['Target'], y_pred)"
   ]
  },
  {
   "cell_type": "code",
   "execution_count": 11,
   "metadata": {},
   "outputs": [],
   "source": [
    "folds = os.listdir('Raw')"
   ]
  },
  {
   "cell_type": "code",
   "execution_count": 12,
   "metadata": {},
   "outputs": [],
   "source": [
    "test = None\n",
    "train = None\n",
    "y_pred = None"
   ]
  },
  {
   "cell_type": "code",
   "execution_count": 13,
   "metadata": {},
   "outputs": [],
   "source": [
    "col_types = {\n",
    "    'CauseGene': 'category',\n",
    "    'EffectGene': 'category',\n",
    "    'Replicate': 'category',\n",
    "    'Treatment': 'category'\n",
    "}"
   ]
  },
  {
   "cell_type": "code",
   "execution_count": 72,
   "metadata": {
    "scrolled": true
   },
   "outputs": [
    {
     "name": "stdout",
     "output_type": "stream",
     "text": [
      "Test fold: Jnk.csv\n",
      "Train fold: CTNNB1.csv\n",
      "Train fold: LEF1.csv\n",
      "Train fold: Erk.csv\n",
      "Train fold: IRF4.csv\n",
      "Train fold: MYC.csv\n",
      "Train fold: Ikk2.csv\n"
     ]
    }
   ],
   "source": [
    "scores = []\n",
    "for idx, test_fold in enumerate(folds):\n",
    "    if idx <= 1: continue\n",
    "    print(f'Test fold: {test_fold}')\n",
    "    test = pd.read_csv(f'Raw/{test_fold}', sep = ';', dtype=col_types)\n",
    "    train = pd.DataFrame(columns = test.columns)\n",
    "    for train_fold in [fold for fold in folds if fold != test_fold]:\n",
    "        print(f'Train fold: {train_fold}')\n",
    "        train = pd.concat((train, pd.read_csv(f'Raw/{train_fold}',sep = ';', dtype=col_types)))\n",
    "    train = train.reset_index(drop=True)\n",
    "    \n",
    "    test = filter_pvalue(test, (0.01, 0.5))\n",
    "    train = filter_pvalue(train, (0.01, 0.5))\n",
    "    \n",
    "#     score = evaluate(train, test)\n",
    "#     print(f'Score: {score}')\n",
    "#     scores += score\n",
    "    \n",
    "    break"
   ]
  },
  {
   "cell_type": "code",
   "execution_count": 15,
   "metadata": {},
   "outputs": [
    {
     "data": {
      "text/plain": [
       "((691542, 24), (82038, 24))"
      ]
     },
     "execution_count": 15,
     "metadata": {},
     "output_type": "execute_result"
    }
   ],
   "source": [
    "train.shape, test.shape, "
   ]
  },
  {
   "cell_type": "code",
   "execution_count": 18,
   "metadata": {},
   "outputs": [],
   "source": [
    "x = [float(x.split('m')[0]) for x in \\\n",
    "     train.loc[0,[c for c in train if c.endswith('cause')]].index]"
   ]
  },
  {
   "cell_type": "code",
   "execution_count": 19,
   "metadata": {},
   "outputs": [
    {
     "data": {
      "text/plain": [
       "[0.0, 15.0, 30.0, 90.0, 120.0, 180.0, 210.0, 240.0, 360.0]"
      ]
     },
     "execution_count": 19,
     "metadata": {},
     "output_type": "execute_result"
    }
   ],
   "source": [
    "x"
   ]
  },
  {
   "cell_type": "code",
   "execution_count": 20,
   "metadata": {},
   "outputs": [],
   "source": [
    "y = train.loc[0,[c for c in train if c.endswith('cause')]]"
   ]
  },
  {
   "cell_type": "code",
   "execution_count": null,
   "metadata": {},
   "outputs": [],
   "source": []
  },
  {
   "cell_type": "code",
   "execution_count": 41,
   "metadata": {},
   "outputs": [
    {
     "data": {
      "text/plain": [
       "[False, False, False, True, False, False, False, False, False]"
      ]
     },
     "execution_count": 41,
     "metadata": {},
     "output_type": "execute_result"
    }
   ],
   "source": [
    "[c.startswith('90') for c in y.index]"
   ]
  },
  {
   "cell_type": "code",
   "execution_count": 39,
   "metadata": {},
   "outputs": [
    {
     "data": {
      "text/plain": [
       "0min_neg_cause    0.777138\n",
       "15min_cause        0.62156\n",
       "30min_cause       0.762682\n",
       "90min_cause       0.949396\n",
       "120min_cause     -0.388986\n",
       "180min_cause      -1.19022\n",
       "210min_cause      -1.31899\n",
       "240min_cause      -1.81522\n",
       "360min_cause      -1.35419\n",
       "Name: 0, dtype: object"
      ]
     },
     "execution_count": 39,
     "metadata": {},
     "output_type": "execute_result"
    }
   ],
   "source": [
    "y"
   ]
  },
  {
   "cell_type": "code",
   "execution_count": 56,
   "metadata": {},
   "outputs": [
    {
     "data": {
      "image/png": "[encoded data removed]",
      "text/plain": [
       "<matplotlib.figure.Figure at 0x7f56383d34e0>"
      ]
     },
     "metadata": {
      "image/png": {
       "height": 332,
       "width": 594
      }
     },
     "output_type": "display_data"
    }
   ],
   "source": [
    "fig, ax = plt.subplots(2, 2, figsize=(10,5))\n",
    "fig.subplots_adjust(hspace=0.7)\n",
    "for idx, gene in enumerate(['MAPK1', 'NFKB1', 'A1BG', 'IRF4']):\n",
    "    df = train[train['EffectGene']==gene].iloc[0]\n",
    "    y = df[[c.endswith('effect') for c in df.index]]\n",
    "    x = [float(x.split('m')[0]) for x in y.index]\n",
    "    ax[idx//2][idx%2].plot(x, y)\n",
    "    ax[idx//2][idx%2].set_title(gene)\n",
    "    ax[idx//2][idx%2].set_xlabel('time (min)')"
   ]
  },
  {
   "cell_type": "code",
   "execution_count": 59,
   "metadata": {},
   "outputs": [],
   "source": [
    "res = pd.DataFrame()\n",
    "for idx, gene in enumerate(['MAPK1', 'NFKB1', 'A1BG', 'IRF4']):\n",
    "    df = train[train['EffectGene']==gene].iloc[0:1]\n",
    "    res = pd.concat([res, df])"
   ]
  },
  {
   "cell_type": "code",
   "execution_count": 61,
   "metadata": {},
   "outputs": [
    {
     "data": {
      "text/html": [
       "<div>\n",
       "<style scoped>\n",
       "    .dataframe tbody tr th:only-of-type {\n",
       "        vertical-align: middle;\n",
       "    }\n",
       "\n",
       "    .dataframe tbody tr th {\n",
       "        vertical-align: top;\n",
       "    }\n",
       "\n",
       "    .dataframe thead th {\n",
       "        text-align: right;\n",
       "    }\n",
       "</style>\n",
       "<table border=\"1\" class=\"dataframe\">\n",
       "  <thead>\n",
       "    <tr style=\"text-align: right;\">\n",
       "      <th></th>\n",
       "      <th>CauseGene</th>\n",
       "      <th>EffectGene</th>\n",
       "      <th>Replicate</th>\n",
       "      <th>Treatment</th>\n",
       "      <th>Pvalue</th>\n",
       "      <th>0min_neg_cause</th>\n",
       "      <th>15min_cause</th>\n",
       "      <th>30min_cause</th>\n",
       "      <th>90min_cause</th>\n",
       "      <th>120min_cause</th>\n",
       "      <th>...</th>\n",
       "      <th>0min_neg_effect</th>\n",
       "      <th>15min_effect</th>\n",
       "      <th>30min_effect</th>\n",
       "      <th>90min_effect</th>\n",
       "      <th>120min_effect</th>\n",
       "      <th>180min_effect</th>\n",
       "      <th>210min_effect</th>\n",
       "      <th>240min_effect</th>\n",
       "      <th>360min_effect</th>\n",
       "      <th>Target</th>\n",
       "    </tr>\n",
       "  </thead>\n",
       "  <tbody>\n",
       "    <tr>\n",
       "      <th>151398</th>\n",
       "      <td>MAPK10</td>\n",
       "      <td>MAPK1</td>\n",
       "      <td>1</td>\n",
       "      <td>BCR</td>\n",
       "      <td>0.983</td>\n",
       "      <td>0.280284</td>\n",
       "      <td>0.372051</td>\n",
       "      <td>0.824172</td>\n",
       "      <td>-0.746940</td>\n",
       "      <td>0.472452</td>\n",
       "      <td>...</td>\n",
       "      <td>1.570461</td>\n",
       "      <td>-0.259946</td>\n",
       "      <td>0.461187</td>\n",
       "      <td>-1.821926</td>\n",
       "      <td>0.217530</td>\n",
       "      <td>-0.064708</td>\n",
       "      <td>0.709208</td>\n",
       "      <td>0.849054</td>\n",
       "      <td>0.560650</td>\n",
       "      <td>0</td>\n",
       "    </tr>\n",
       "    <tr>\n",
       "      <th>57768</th>\n",
       "      <td>LEF1</td>\n",
       "      <td>NFKB1</td>\n",
       "      <td>1</td>\n",
       "      <td>BCR</td>\n",
       "      <td>0.863</td>\n",
       "      <td>0.777138</td>\n",
       "      <td>0.621560</td>\n",
       "      <td>0.762682</td>\n",
       "      <td>0.949396</td>\n",
       "      <td>-0.388986</td>\n",
       "      <td>...</td>\n",
       "      <td>-0.795316</td>\n",
       "      <td>-1.266743</td>\n",
       "      <td>-0.755123</td>\n",
       "      <td>-0.128786</td>\n",
       "      <td>1.102735</td>\n",
       "      <td>1.528849</td>\n",
       "      <td>1.699936</td>\n",
       "      <td>1.431027</td>\n",
       "      <td>0.033916</td>\n",
       "      <td>0</td>\n",
       "    </tr>\n",
       "    <tr>\n",
       "      <th>0</th>\n",
       "      <td>LEF1</td>\n",
       "      <td>A1BG</td>\n",
       "      <td>1</td>\n",
       "      <td>BCR</td>\n",
       "      <td>0.843</td>\n",
       "      <td>0.777138</td>\n",
       "      <td>0.621560</td>\n",
       "      <td>0.762682</td>\n",
       "      <td>0.949396</td>\n",
       "      <td>-0.388986</td>\n",
       "      <td>...</td>\n",
       "      <td>0.077473</td>\n",
       "      <td>-0.044090</td>\n",
       "      <td>-0.349988</td>\n",
       "      <td>-0.122733</td>\n",
       "      <td>-0.027860</td>\n",
       "      <td>1.066276</td>\n",
       "      <td>0.106499</td>\n",
       "      <td>-1.334779</td>\n",
       "      <td>0.580358</td>\n",
       "      <td>0</td>\n",
       "    </tr>\n",
       "    <tr>\n",
       "      <th>42642</th>\n",
       "      <td>LEF1</td>\n",
       "      <td>IRF4</td>\n",
       "      <td>1</td>\n",
       "      <td>BCR</td>\n",
       "      <td>0.978</td>\n",
       "      <td>0.777138</td>\n",
       "      <td>0.621560</td>\n",
       "      <td>0.762682</td>\n",
       "      <td>0.949396</td>\n",
       "      <td>-0.388986</td>\n",
       "      <td>...</td>\n",
       "      <td>-1.179309</td>\n",
       "      <td>-1.050650</td>\n",
       "      <td>-0.986710</td>\n",
       "      <td>0.635617</td>\n",
       "      <td>1.404792</td>\n",
       "      <td>1.280665</td>\n",
       "      <td>1.378628</td>\n",
       "      <td>0.540760</td>\n",
       "      <td>-0.466360</td>\n",
       "      <td>0</td>\n",
       "    </tr>\n",
       "  </tbody>\n",
       "</table>\n",
       "<p>4 rows × 24 columns</p>\n",
       "</div>"
      ],
      "text/plain": [
       "       CauseGene EffectGene Replicate Treatment  Pvalue  0min_neg_cause  \\\n",
       "151398    MAPK10      MAPK1         1       BCR   0.983        0.280284   \n",
       "57768       LEF1      NFKB1         1       BCR   0.863        0.777138   \n",
       "0           LEF1       A1BG         1       BCR   0.843        0.777138   \n",
       "42642       LEF1       IRF4         1       BCR   0.978        0.777138   \n",
       "\n",
       "        15min_cause  30min_cause  90min_cause  120min_cause   ...    \\\n",
       "151398     0.372051     0.824172    -0.746940      0.472452   ...     \n",
       "57768      0.621560     0.762682     0.949396     -0.388986   ...     \n",
       "0          0.621560     0.762682     0.949396     -0.388986   ...     \n",
       "42642      0.621560     0.762682     0.949396     -0.388986   ...     \n",
       "\n",
       "        0min_neg_effect  15min_effect  30min_effect  90min_effect  \\\n",
       "151398         1.570461     -0.259946      0.461187     -1.821926   \n",
       "57768         -0.795316     -1.266743     -0.755123     -0.128786   \n",
       "0              0.077473     -0.044090     -0.349988     -0.122733   \n",
       "42642         -1.179309     -1.050650     -0.986710      0.635617   \n",
       "\n",
       "        120min_effect  180min_effect  210min_effect  240min_effect  \\\n",
       "151398       0.217530      -0.064708       0.709208       0.849054   \n",
       "57768        1.102735       1.528849       1.699936       1.431027   \n",
       "0           -0.027860       1.066276       0.106499      -1.334779   \n",
       "42642        1.404792       1.280665       1.378628       0.540760   \n",
       "\n",
       "        360min_effect  Target  \n",
       "151398       0.560650       0  \n",
       "57768        0.033916       0  \n",
       "0            0.580358       0  \n",
       "42642       -0.466360       0  \n",
       "\n",
       "[4 rows x 24 columns]"
      ]
     },
     "execution_count": 61,
     "metadata": {},
     "output_type": "execute_result"
    }
   ],
   "source": [
    "res[['CauseGene', 'EffectGene', 'Pvalue']]"
   ]
  },
  {
   "cell_type": "code",
   "execution_count": 79,
   "metadata": {},
   "outputs": [],
   "source": [
    "x1 = res.iloc[0, [c.endswith('cause') for c in res]]\n",
    "x2 = res.iloc[0, [c.endswith('effect') for c in res]]"
   ]
  },
  {
   "cell_type": "code",
   "execution_count": 95,
   "metadata": {},
   "outputs": [
    {
     "data": {
      "text/plain": [
       "array([[ 0.44017501, -0.07285859,  0.12926326, -0.51065644,  0.0609702 ,\n",
       "        -0.01813665,  0.19877972,  0.2379761 ,  0.15714109],\n",
       "       [ 0.58429227, -0.09671314,  0.17158522, -0.67784995,  0.08093239,\n",
       "        -0.02407475,  0.26386199,  0.31589161,  0.20859049],\n",
       "       [ 1.29433089, -0.21424006,  0.38009753, -1.50158094,  0.17928235,\n",
       "        -0.05333067,  0.58451008,  0.6997667 ,  0.46207203],\n",
       "       [-1.17304033,  0.19416382, -0.34447894,  1.36086917, -0.16248197,\n",
       "         0.0483331 , -0.52973617, -0.6341922 , -0.41877169],\n",
       "       [ 0.74196691, -0.12281174,  0.21788848, -0.86077168,  0.10277246,\n",
       "        -0.03057146,  0.33506667,  0.40113679,  0.26487984],\n",
       "       [ 0.64879637, -0.10738998,  0.19052771, -0.75268254,  0.08986708,\n",
       "        -0.02673253,  0.29299155,  0.35076509,  0.23161825],\n",
       "       [-0.28713658,  0.04752738, -0.08432149,  0.33311328, -0.0397723 ,\n",
       "         0.01183097, -0.12966871, -0.15523744, -0.10250685],\n",
       "       [-0.88704515,  0.14682536, -0.26049264,  1.02908004, -0.12286776,\n",
       "         0.03654916, -0.4005829 , -0.47957185, -0.31667231],\n",
       "       [-2.36942742,  0.39219203, -0.69581396,  2.7488234 , -0.32819777,\n",
       "         0.09762816, -1.07001556, -1.28100659, -0.84587809]])"
      ]
     },
     "execution_count": 95,
     "metadata": {},
     "output_type": "execute_result"
    }
   ],
   "source": [
    "np.array(np.outer(x1, x2), dtype='float')"
   ]
  },
  {
   "cell_type": "code",
   "execution_count": 99,
   "metadata": {},
   "outputs": [
    {
     "data": {
      "text/plain": [
       "<matplotlib.axes._subplots.AxesSubplot at 0x7f563fee52b0>"
      ]
     },
     "execution_count": 99,
     "metadata": {},
     "output_type": "execute_result"
    },
    {
     "data": {
      "image/png": "[encoded data removed]",
      "text/plain": [
       "<matplotlib.figure.Figure at 0x7f563ffd71d0>"
      ]
     },
     "metadata": {
      "image/png": {
       "height": 248,
       "width": 348
      }
     },
     "output_type": "display_data"
    }
   ],
   "source": [
    "sns.heatmap(np.array(np.outer(x1, x2), dtype='float'), cmap='Blues')"
   ]
  },
  {
   "cell_type": "code",
   "execution_count": 14,
   "metadata": {},
   "outputs": [
    {
     "data": {
      "text/html": [
       "<div>\n",
       "<style scoped>\n",
       "    .dataframe tbody tr th:only-of-type {\n",
       "        vertical-align: middle;\n",
       "    }\n",
       "\n",
       "    .dataframe tbody tr th {\n",
       "        vertical-align: top;\n",
       "    }\n",
       "\n",
       "    .dataframe thead th {\n",
       "        text-align: right;\n",
       "    }\n",
       "</style>\n",
       "<table border=\"1\" class=\"dataframe\">\n",
       "  <thead>\n",
       "    <tr style=\"text-align: right;\">\n",
       "      <th></th>\n",
       "      <th>CauseGene</th>\n",
       "      <th>EffectGene</th>\n",
       "      <th>Replicate</th>\n",
       "      <th>Treatment</th>\n",
       "      <th>Pvalue</th>\n",
       "      <th>0min_neg_cause</th>\n",
       "      <th>15min_cause</th>\n",
       "      <th>30min_cause</th>\n",
       "      <th>90min_cause</th>\n",
       "      <th>120min_cause</th>\n",
       "      <th>...</th>\n",
       "      <th>0min_neg_effect</th>\n",
       "      <th>15min_effect</th>\n",
       "      <th>30min_effect</th>\n",
       "      <th>90min_effect</th>\n",
       "      <th>120min_effect</th>\n",
       "      <th>180min_effect</th>\n",
       "      <th>210min_effect</th>\n",
       "      <th>240min_effect</th>\n",
       "      <th>360min_effect</th>\n",
       "      <th>Target</th>\n",
       "    </tr>\n",
       "  </thead>\n",
       "  <tbody>\n",
       "    <tr>\n",
       "      <th>0</th>\n",
       "      <td>MAPK1</td>\n",
       "      <td>A1BG</td>\n",
       "      <td>1</td>\n",
       "      <td>BCR</td>\n",
       "      <td>0.684</td>\n",
       "      <td>1.570461</td>\n",
       "      <td>-0.259946</td>\n",
       "      <td>0.461187</td>\n",
       "      <td>-1.821926</td>\n",
       "      <td>0.217530</td>\n",
       "      <td>...</td>\n",
       "      <td>0.077473</td>\n",
       "      <td>-0.044090</td>\n",
       "      <td>-0.349988</td>\n",
       "      <td>-0.122733</td>\n",
       "      <td>-0.027860</td>\n",
       "      <td>1.066276</td>\n",
       "      <td>0.106499</td>\n",
       "      <td>-1.334779</td>\n",
       "      <td>0.580358</td>\n",
       "      <td>0</td>\n",
       "    </tr>\n",
       "    <tr>\n",
       "      <th>1</th>\n",
       "      <td>MAPK1</td>\n",
       "      <td>A1BG</td>\n",
       "      <td>1</td>\n",
       "      <td>CD40</td>\n",
       "      <td>0.684</td>\n",
       "      <td>1.570461</td>\n",
       "      <td>0.540413</td>\n",
       "      <td>-0.058239</td>\n",
       "      <td>-0.384124</td>\n",
       "      <td>0.131689</td>\n",
       "      <td>...</td>\n",
       "      <td>0.077473</td>\n",
       "      <td>0.255573</td>\n",
       "      <td>0.825101</td>\n",
       "      <td>-2.091418</td>\n",
       "      <td>0.986115</td>\n",
       "      <td>0.020539</td>\n",
       "      <td>0.666451</td>\n",
       "      <td>-0.667305</td>\n",
       "      <td>0.313519</td>\n",
       "      <td>0</td>\n",
       "    </tr>\n",
       "    <tr>\n",
       "      <th>2</th>\n",
       "      <td>MAPK1</td>\n",
       "      <td>A1BG</td>\n",
       "      <td>2</td>\n",
       "      <td>BCR</td>\n",
       "      <td>0.684</td>\n",
       "      <td>0.814767</td>\n",
       "      <td>-1.303725</td>\n",
       "      <td>0.780416</td>\n",
       "      <td>1.014104</td>\n",
       "      <td>0.493707</td>\n",
       "      <td>...</td>\n",
       "      <td>-0.670996</td>\n",
       "      <td>0.537398</td>\n",
       "      <td>0.592462</td>\n",
       "      <td>0.456636</td>\n",
       "      <td>-0.244272</td>\n",
       "      <td>-1.993159</td>\n",
       "      <td>0.945375</td>\n",
       "      <td>0.301992</td>\n",
       "      <td>1.030175</td>\n",
       "      <td>0</td>\n",
       "    </tr>\n",
       "    <tr>\n",
       "      <th>3</th>\n",
       "      <td>MAPK1</td>\n",
       "      <td>A1BG</td>\n",
       "      <td>2</td>\n",
       "      <td>CD40</td>\n",
       "      <td>0.684</td>\n",
       "      <td>0.814767</td>\n",
       "      <td>-1.453817</td>\n",
       "      <td>0.690254</td>\n",
       "      <td>0.163129</td>\n",
       "      <td>0.340793</td>\n",
       "      <td>...</td>\n",
       "      <td>-0.670996</td>\n",
       "      <td>1.808573</td>\n",
       "      <td>-1.767904</td>\n",
       "      <td>-0.623801</td>\n",
       "      <td>-0.330098</td>\n",
       "      <td>1.473550</td>\n",
       "      <td>-0.284614</td>\n",
       "      <td>-1.346430</td>\n",
       "      <td>0.232617</td>\n",
       "      <td>0</td>\n",
       "    </tr>\n",
       "    <tr>\n",
       "      <th>4</th>\n",
       "      <td>MAPK1</td>\n",
       "      <td>A1BG</td>\n",
       "      <td>3</td>\n",
       "      <td>BCR</td>\n",
       "      <td>0.684</td>\n",
       "      <td>-1.276183</td>\n",
       "      <td>1.060551</td>\n",
       "      <td>0.513360</td>\n",
       "      <td>-0.863885</td>\n",
       "      <td>-0.520006</td>\n",
       "      <td>...</td>\n",
       "      <td>1.650800</td>\n",
       "      <td>0.196474</td>\n",
       "      <td>-0.110119</td>\n",
       "      <td>-1.663191</td>\n",
       "      <td>0.131282</td>\n",
       "      <td>-0.023995</td>\n",
       "      <td>-0.201010</td>\n",
       "      <td>1.363202</td>\n",
       "      <td>1.410923</td>\n",
       "      <td>0</td>\n",
       "    </tr>\n",
       "  </tbody>\n",
       "</table>\n",
       "<p>5 rows × 24 columns</p>\n",
       "</div>"
      ],
      "text/plain": [
       "  CauseGene EffectGene Replicate Treatment  Pvalue  0min_neg_cause  \\\n",
       "0     MAPK1       A1BG         1       BCR   0.684        1.570461   \n",
       "1     MAPK1       A1BG         1      CD40   0.684        1.570461   \n",
       "2     MAPK1       A1BG         2       BCR   0.684        0.814767   \n",
       "3     MAPK1       A1BG         2      CD40   0.684        0.814767   \n",
       "4     MAPK1       A1BG         3       BCR   0.684       -1.276183   \n",
       "\n",
       "   15min_cause  30min_cause  90min_cause  120min_cause   ...    \\\n",
       "0    -0.259946     0.461187    -1.821926      0.217530   ...     \n",
       "1     0.540413    -0.058239    -0.384124      0.131689   ...     \n",
       "2    -1.303725     0.780416     1.014104      0.493707   ...     \n",
       "3    -1.453817     0.690254     0.163129      0.340793   ...     \n",
       "4     1.060551     0.513360    -0.863885     -0.520006   ...     \n",
       "\n",
       "   0min_neg_effect  15min_effect  30min_effect  90min_effect  120min_effect  \\\n",
       "0         0.077473     -0.044090     -0.349988     -0.122733      -0.027860   \n",
       "1         0.077473      0.255573      0.825101     -2.091418       0.986115   \n",
       "2        -0.670996      0.537398      0.592462      0.456636      -0.244272   \n",
       "3        -0.670996      1.808573     -1.767904     -0.623801      -0.330098   \n",
       "4         1.650800      0.196474     -0.110119     -1.663191       0.131282   \n",
       "\n",
       "   180min_effect  210min_effect  240min_effect  360min_effect  Target  \n",
       "0       1.066276       0.106499      -1.334779       0.580358       0  \n",
       "1       0.020539       0.666451      -0.667305       0.313519       0  \n",
       "2      -1.993159       0.945375       0.301992       1.030175       0  \n",
       "3       1.473550      -0.284614      -1.346430       0.232617       0  \n",
       "4      -0.023995      -0.201010       1.363202       1.410923       0  \n",
       "\n",
       "[5 rows x 24 columns]"
      ]
     },
     "execution_count": 14,
     "metadata": {},
     "output_type": "execute_result"
    }
   ],
   "source": [
    "train.head()"
   ]
  },
  {
   "cell_type": "code",
   "execution_count": 64,
   "metadata": {},
   "outputs": [
    {
     "data": {
      "text/plain": [
       "Text(0.5,1,'Test Pvalues')"
      ]
     },
     "execution_count": 64,
     "metadata": {},
     "output_type": "execute_result"
    },
    {
     "data": {
      "image/png": "[encoded data removed]",
      "text/plain": [
       "<matplotlib.figure.Figure at 0x7f5638411400>"
      ]
     },
     "metadata": {
      "image/png": {
       "height": 209,
       "width": 611
      }
     },
     "output_type": "display_data"
    }
   ],
   "source": [
    "plt.subplots(ncols=2, figsize=(10,3))\n",
    "plt.subplot(121)\n",
    "ax = train['Pvalue'].hist(bins=50)\n",
    "ax.set_title('Train Pvalues')\n",
    "plt.subplot(122)\n",
    "ax = test['Pvalue'].hist(bins=50)\n",
    "ax.set_title('Test Pvalues')"
   ]
  },
  {
   "cell_type": "code",
   "execution_count": 15,
   "metadata": {},
   "outputs": [
    {
     "data": {
      "text/plain": [
       "Text(0.5,1,'Test Pvalues')"
      ]
     },
     "execution_count": 15,
     "metadata": {},
     "output_type": "execute_result"
    },
    {
     "data": {
      "image/png": "[encoded data removed]",
      "text/plain": [
       "<matplotlib.figure.Figure at 0x7fe6efc18160>"
      ]
     },
     "metadata": {
      "image/png": {
       "height": 209,
       "width": 611
      }
     },
     "output_type": "display_data"
    }
   ],
   "source": [
    "plt.subplots(ncols=2, figsize=(10,3))\n",
    "plt.subplot(121)\n",
    "ax = train['Pvalue'].hist(bins=50)\n",
    "ax.set_title('Train Pvalues')\n",
    "plt.subplot(122)\n",
    "ax = test['Pvalue'].hist(bins=50)\n",
    "ax.set_title('Test Pvalues')"
   ]
  },
  {
   "cell_type": "code",
   "execution_count": 67,
   "metadata": {},
   "outputs": [
    {
     "data": {
      "text/plain": [
       "<matplotlib.axes._subplots.AxesSubplot at 0x7f5640903630>"
      ]
     },
     "execution_count": 67,
     "metadata": {},
     "output_type": "execute_result"
    },
    {
     "data": {
      "image/png": "[encoded data removed]",
      "text/plain": [
       "<matplotlib.figure.Figure at 0x7f56408e5e48>"
      ]
     },
     "metadata": {
      "image/png": {
       "height": 249,
       "width": 394
      }
     },
     "output_type": "display_data"
    }
   ],
   "source": [
    "train['Target'].value_counts().plot.bar(rot=0)"
   ]
  },
  {
   "cell_type": "code",
   "execution_count": 69,
   "metadata": {},
   "outputs": [
    {
     "data": {
      "text/plain": [
       "0    81978\n",
       "1       60\n",
       "Name: Target, dtype: int64"
      ]
     },
     "execution_count": 69,
     "metadata": {},
     "output_type": "execute_result"
    }
   ],
   "source": [
    "test['Target'].value_counts()"
   ]
  },
  {
   "cell_type": "code",
   "execution_count": 68,
   "metadata": {},
   "outputs": [
    {
     "data": {
      "text/plain": [
       "0    673824\n",
       "1     17718\n",
       "Name: Target, dtype: int64"
      ]
     },
     "execution_count": 68,
     "metadata": {},
     "output_type": "execute_result"
    }
   ],
   "source": [
    "train['Target'].value_counts()"
   ]
  },
  {
   "cell_type": "code",
   "execution_count": 71,
   "metadata": {},
   "outputs": [
    {
     "data": {
      "text/plain": [
       "(0    687864\n",
       " 1     17646\n",
       " Name: Target, dtype: int64, 0    67938\n",
       " 1      132\n",
       " Name: Target, dtype: int64)"
      ]
     },
     "execution_count": 71,
     "metadata": {},
     "output_type": "execute_result"
    }
   ],
   "source": [
    "train['Target'].value_counts(), test['Target'].value_counts()"
   ]
  },
  {
   "cell_type": "code",
   "execution_count": 73,
   "metadata": {},
   "outputs": [
    {
     "data": {
      "text/plain": [
       "(0    549810\n",
       " 1     10668\n",
       " Name: Target, dtype: int64, 0    205992\n",
       " 1      7110\n",
       " Name: Target, dtype: int64)"
      ]
     },
     "execution_count": 73,
     "metadata": {},
     "output_type": "execute_result"
    }
   ],
   "source": [
    "train['Target'].value_counts(), test['Target'].value_counts()"
   ]
  },
  {
   "cell_type": "code",
   "execution_count": 76,
   "metadata": {},
   "outputs": [
    {
     "data": {
      "text/plain": [
       "0.026294700099729305"
      ]
     },
     "execution_count": 76,
     "metadata": {},
     "output_type": "execute_result"
    }
   ],
   "source": [
    "17718 / 673824"
   ]
  },
  {
   "cell_type": "code",
   "execution_count": 75,
   "metadata": {},
   "outputs": [
    {
     "data": {
      "text/plain": [
       "<matplotlib.axes._subplots.AxesSubplot at 0x7f563b53c278>"
      ]
     },
     "execution_count": 75,
     "metadata": {},
     "output_type": "execute_result"
    },
    {
     "data": {
      "image/png": "[encoded data removed]",
      "text/plain": [
       "<matplotlib.figure.Figure at 0x7f563fabd6a0>"
      ]
     },
     "metadata": {
      "image/png": {
       "height": 248,
       "width": 394
      }
     },
     "output_type": "display_data"
    }
   ],
   "source": [
    "train['Target'].value_counts().plot.bar(rot=0)"
   ]
  },
  {
   "cell_type": "code",
   "execution_count": 41,
   "metadata": {
    "scrolled": true
   },
   "outputs": [
    {
     "data": {
      "text/plain": [
       "0.9992686316097418"
      ]
     },
     "execution_count": 41,
     "metadata": {},
     "output_type": "execute_result"
    }
   ],
   "source": [
    "len(test[test['Target']==0]) / len(test)"
   ]
  },
  {
   "cell_type": "code",
   "execution_count": 92,
   "metadata": {},
   "outputs": [
    {
     "data": {
      "text/plain": [
       "Text(0.5,1,'Test Target')"
      ]
     },
     "execution_count": 92,
     "metadata": {},
     "output_type": "execute_result"
    },
    {
     "data": {
      "image/png": "[encoded data removed]",
      "text/plain": [
       "<matplotlib.figure.Figure at 0x7f2190a489e8>"
      ]
     },
     "metadata": {
      "image/png": {
       "height": 209,
       "width": 617
      }
     },
     "output_type": "display_data"
    }
   ],
   "source": [
    "plt.subplots(ncols=2, figsize=(10,3))\n",
    "plt.subplot(121)\n",
    "ax = train['Target'].hist(bins=50)\n",
    "ax.set_title('Train Target')\n",
    "plt.subplot(122)\n",
    "ax = test['Target'].hist(bins=50)\n",
    "ax.set_title('Test Target')"
   ]
  },
  {
   "cell_type": "markdown",
   "metadata": {},
   "source": [
    "## Evaluate Classifiers"
   ]
  },
  {
   "cell_type": "code",
   "execution_count": 18,
   "metadata": {},
   "outputs": [],
   "source": [
    "def gmean_score(y, y_pred):\n",
    "    matrix = confusion_matrix(y, y_pred)\n",
    "    tn = matrix[0][0]\n",
    "    tp = matrix[1][1]\n",
    "    fn = matrix[1][0]\n",
    "    fp = matrix[0][1]\n",
    "    return np.sqrt(tp / (tp + fn) * tn / (tn + fp))    "
   ]
  },
  {
   "cell_type": "code",
   "execution_count": 80,
   "metadata": {},
   "outputs": [],
   "source": [
    "def evaluate_metrics(y, y_pred, y_pred_proba, model='', fold='', desc=''):\n",
    "    df = pd.DataFrame()\n",
    "    df.loc[0, 'Model'] = model\n",
    "    df.loc[0, 'Fold'] = fold\n",
    "    df.loc[0, 'ROC-AUC'] = roc_auc_score(y, y_pred_proba)\n",
    "    df.loc[0, 'G-mean'] = gmean_score(y, y_pred)\n",
    "    df.loc[0, 'F1-Score'] = f1_score(y, y_pred)\n",
    "    df.loc[0, 'Accuracy'] = accuracy_score(y, y_pred)\n",
    "    df.loc[0, 'Precision'] = precision_score(y, y_pred)\n",
    "    df.loc[0, 'Recall'] = recall_score(y, y_pred)    \n",
    "    df.loc[0, 'Logloss'] = log_loss(y, y_pred_proba)\n",
    "    df.loc[0, 'Description'] = desc\n",
    "    print('Confusion matrix:')\n",
    "    print(confusion_matrix(y, y_pred))\n",
    "    print(df)\n",
    "    return df"
   ]
  },
  {
   "cell_type": "code",
   "execution_count": 86,
   "metadata": {},
   "outputs": [],
   "source": [
    "def evaluate_classifier(model, results, desc=''):\n",
    "    for test_fold in folds:\n",
    "        print(f'Test fold: {test_fold}')\n",
    "        test = pd.read_csv(f'Raw/{test_fold}', sep = ';', dtype=col_types)\n",
    "        train = pd.DataFrame(columns = test.columns)\n",
    "        for train_fold in [fold for fold in folds if fold != test_fold]:\n",
    "            print(f'Train fold: {train_fold}')\n",
    "            train = pd.concat((train, pd.read_csv(f'Raw/{train_fold}',\n",
    "                                        sep = ';', dtype=col_types)))\n",
    "        train = train.reset_index(drop=True)\n",
    "\n",
    "        test = filter_pvalue(test, (0.01, 0.5))\n",
    "        train = filter_pvalue(train, (0.01, 0.5))\n",
    "\n",
    "        print('Evaluating...')\n",
    "        \n",
    "        model.fit(train[[col for col in train.columns \\\n",
    "                if 'cause' in col or 'effect' in col]], train['Target'])\n",
    "        y_pred = model.predict(test[[col for col in test.columns \\\n",
    "                if 'cause' in col or 'effect' in col]])\n",
    "        y_pred_proba = model.predict_proba(test[[col for col in test.columns \\\n",
    "                if 'cause' in col or 'effect' in col]])[:,1]\n",
    "        \n",
    "        model_name = str(model.__class__).split('.')[-1].replace('>','').replace(\"'\",'')\n",
    "        result = evaluate_metrics(test['Target'], y_pred, y_pred_proba, \n",
    "                         model_name, test_fold.split('.')[0], desc)\n",
    "        \n",
    "        results = pd.concat((results, result))      \n",
    "        \n",
    "    results = results.reset_index(drop=True)\n",
    "    return results"
   ]
  },
  {
   "cell_type": "code",
   "execution_count": 82,
   "metadata": {},
   "outputs": [],
   "source": [
    "from lightgbm import LGBMClassifier"
   ]
  },
  {
   "cell_type": "code",
   "execution_count": 83,
   "metadata": {},
   "outputs": [],
   "source": [
    "results = pd.DataFrame()"
   ]
  },
  {
   "cell_type": "code",
   "execution_count": 84,
   "metadata": {
    "scrolled": true
   },
   "outputs": [
    {
     "name": "stdout",
     "output_type": "stream",
     "text": [
      "Test fold: CTNNB1.csv\n",
      "Train fold: Erk.csv\n",
      "Train fold: Ikk2.csv\n",
      "Train fold: IRF4.csv\n",
      "Train fold: Jnk.csv\n",
      "Train fold: LEF1.csv\n",
      "Train fold: MYC.csv\n",
      "Evaluating...\n"
     ]
    },
    {
     "name": "stderr",
     "output_type": "stream",
     "text": [
      "/home/robert/anaconda3/envs/kaggle/lib/python3.6/site-packages/sklearn/preprocessing/label.py:151: DeprecationWarning: The truth value of an empty array is ambiguous. Returning False, but in future this will result in an error. Use `array.size > 0` to check that an array is not empty.\n",
      "  if diff:\n"
     ]
    },
    {
     "name": "stdout",
     "output_type": "stream",
     "text": [
      "Confusion matrix:\n",
      "[[81976     2]\n",
      " [   60     0]]\n",
      "            Model    Fold   ROC-AUC  G-mean  F1-Score  Accuracy  Precision  \\\n",
      "0  LGBMClassifier  CTNNB1  0.599173     0.0       0.0  0.999244        0.0   \n",
      "\n",
      "   Recall   Logloss Description  \n",
      "0     0.0  0.028031     default  \n",
      "Test fold: Erk.csv\n",
      "Train fold: CTNNB1.csv\n",
      "Train fold: Ikk2.csv\n",
      "Train fold: IRF4.csv\n",
      "Train fold: Jnk.csv\n",
      "Train fold: LEF1.csv\n",
      "Train fold: MYC.csv\n",
      "Evaluating...\n"
     ]
    },
    {
     "name": "stderr",
     "output_type": "stream",
     "text": [
      "/home/robert/anaconda3/envs/kaggle/lib/python3.6/site-packages/sklearn/preprocessing/label.py:151: DeprecationWarning: The truth value of an empty array is ambiguous. Returning False, but in future this will result in an error. Use `array.size > 0` to check that an array is not empty.\n",
      "  if diff:\n"
     ]
    },
    {
     "name": "stdout",
     "output_type": "stream",
     "text": [
      "Confusion matrix:\n",
      "[[140464      2]\n",
      " [   264      0]]\n",
      "            Model Fold   ROC-AUC  G-mean  F1-Score  Accuracy  Precision  \\\n",
      "0  LGBMClassifier  Erk  0.623835     0.0       0.0   0.99811        0.0   \n",
      "\n",
      "   Recall   Logloss Description  \n",
      "0     0.0  0.033098     default  \n",
      "Test fold: Ikk2.csv\n",
      "Train fold: CTNNB1.csv\n",
      "Train fold: Erk.csv\n",
      "Train fold: IRF4.csv\n",
      "Train fold: Jnk.csv\n",
      "Train fold: LEF1.csv\n",
      "Train fold: MYC.csv\n",
      "Evaluating...\n"
     ]
    },
    {
     "name": "stderr",
     "output_type": "stream",
     "text": [
      "/home/robert/anaconda3/envs/kaggle/lib/python3.6/site-packages/sklearn/preprocessing/label.py:151: DeprecationWarning: The truth value of an empty array is ambiguous. Returning False, but in future this will result in an error. Use `array.size > 0` to check that an array is not empty.\n",
      "  if diff:\n"
     ]
    },
    {
     "name": "stdout",
     "output_type": "stream",
     "text": [
      "Confusion matrix:\n",
      "[[104418     18]\n",
      " [  4545      3]]\n",
      "            Model  Fold   ROC-AUC    G-mean  F1-Score  Accuracy  Precision  \\\n",
      "0  LGBMClassifier  Ikk2  0.522583  0.025681  0.001313  0.958131   0.142857   \n",
      "\n",
      "    Recall   Logloss Description  \n",
      "0  0.00066  0.299633     default  \n",
      "Test fold: IRF4.csv\n",
      "Train fold: CTNNB1.csv\n",
      "Train fold: Erk.csv\n",
      "Train fold: Ikk2.csv\n",
      "Train fold: Jnk.csv\n",
      "Train fold: LEF1.csv\n",
      "Train fold: MYC.csv\n",
      "Evaluating...\n"
     ]
    },
    {
     "name": "stderr",
     "output_type": "stream",
     "text": [
      "/home/robert/anaconda3/envs/kaggle/lib/python3.6/site-packages/sklearn/preprocessing/label.py:151: DeprecationWarning: The truth value of an empty array is ambiguous. Returning False, but in future this will result in an error. Use `array.size > 0` to check that an array is not empty.\n",
      "  if diff:\n"
     ]
    },
    {
     "name": "stdout",
     "output_type": "stream",
     "text": [
      "Confusion matrix:\n",
      "[[96586     2]\n",
      " [   66     0]]\n",
      "            Model  Fold   ROC-AUC  G-mean  F1-Score  Accuracy  Precision  \\\n",
      "0  LGBMClassifier  IRF4  0.546795     0.0       0.0  0.999296        0.0   \n",
      "\n",
      "   Recall   Logloss Description  \n",
      "0     0.0  0.039057     default  \n",
      "Test fold: Jnk.csv\n",
      "Train fold: CTNNB1.csv\n",
      "Train fold: Erk.csv\n",
      "Train fold: Ikk2.csv\n",
      "Train fold: IRF4.csv\n",
      "Train fold: LEF1.csv\n",
      "Train fold: MYC.csv\n",
      "Evaluating...\n"
     ]
    },
    {
     "name": "stderr",
     "output_type": "stream",
     "text": [
      "/home/robert/anaconda3/envs/kaggle/lib/python3.6/site-packages/sklearn/preprocessing/label.py:151: DeprecationWarning: The truth value of an empty array is ambiguous. Returning False, but in future this will result in an error. Use `array.size > 0` to check that an array is not empty.\n",
      "  if diff:\n"
     ]
    },
    {
     "name": "stdout",
     "output_type": "stream",
     "text": [
      "Confusion matrix:\n",
      "[[205810    182]\n",
      " [  7096     14]]\n",
      "            Model Fold   ROC-AUC    G-mean  F1-Score  Accuracy  Precision  \\\n",
      "0  LGBMClassifier  Jnk  0.557015  0.044354  0.003832  0.965847   0.071429   \n",
      "\n",
      "     Recall   Logloss Description  \n",
      "0  0.001969  0.209958     default  \n",
      "Test fold: LEF1.csv\n",
      "Train fold: CTNNB1.csv\n",
      "Train fold: Erk.csv\n",
      "Train fold: Ikk2.csv\n",
      "Train fold: IRF4.csv\n",
      "Train fold: Jnk.csv\n",
      "Train fold: MYC.csv\n",
      "Evaluating...\n"
     ]
    },
    {
     "name": "stderr",
     "output_type": "stream",
     "text": [
      "/home/robert/anaconda3/envs/kaggle/lib/python3.6/site-packages/sklearn/preprocessing/label.py:151: DeprecationWarning: The truth value of an empty array is ambiguous. Returning False, but in future this will result in an error. Use `array.size > 0` to check that an array is not empty.\n",
      "  if diff:\n"
     ]
    },
    {
     "name": "stdout",
     "output_type": "stream",
     "text": [
      "Confusion matrix:\n",
      "[[67928    10]\n",
      " [  132     0]]\n",
      "            Model  Fold   ROC-AUC  G-mean  F1-Score  Accuracy  Precision  \\\n",
      "0  LGBMClassifier  LEF1  0.638872     0.0       0.0  0.997914        0.0   \n",
      "\n",
      "   Recall   Logloss Description  \n",
      "0     0.0  0.047929     default  \n",
      "Test fold: MYC.csv\n",
      "Train fold: CTNNB1.csv\n",
      "Train fold: Erk.csv\n",
      "Train fold: Ikk2.csv\n",
      "Train fold: IRF4.csv\n",
      "Train fold: Jnk.csv\n",
      "Train fold: LEF1.csv\n",
      "Evaluating...\n",
      "Confusion matrix:\n",
      "[[58388    16]\n",
      " [ 5597     1]]\n",
      "            Model Fold  ROC-AUC    G-mean  F1-Score  Accuracy  Precision  \\\n",
      "0  LGBMClassifier  MYC  0.60118  0.013364  0.000356    0.9123   0.058824   \n",
      "\n",
      "     Recall   Logloss Description  \n",
      "0  0.000179  0.473882     default  \n"
     ]
    },
    {
     "name": "stderr",
     "output_type": "stream",
     "text": [
      "/home/robert/anaconda3/envs/kaggle/lib/python3.6/site-packages/sklearn/preprocessing/label.py:151: DeprecationWarning: The truth value of an empty array is ambiguous. Returning False, but in future this will result in an error. Use `array.size > 0` to check that an array is not empty.\n",
      "  if diff:\n"
     ]
    }
   ],
   "source": [
    "results = evaluate_classifier(LGBMClassifier(), results, desc='default')"
   ]
  },
  {
   "cell_type": "code",
   "execution_count": 85,
   "metadata": {},
   "outputs": [
    {
     "data": {
      "text/html": [
       "<div>\n",
       "<style scoped>\n",
       "    .dataframe tbody tr th:only-of-type {\n",
       "        vertical-align: middle;\n",
       "    }\n",
       "\n",
       "    .dataframe tbody tr th {\n",
       "        vertical-align: top;\n",
       "    }\n",
       "\n",
       "    .dataframe thead th {\n",
       "        text-align: right;\n",
       "    }\n",
       "</style>\n",
       "<table border=\"1\" class=\"dataframe\">\n",
       "  <thead>\n",
       "    <tr style=\"text-align: right;\">\n",
       "      <th></th>\n",
       "      <th>Model</th>\n",
       "      <th>Fold</th>\n",
       "      <th>ROC-AUC</th>\n",
       "      <th>G-mean</th>\n",
       "      <th>F1-Score</th>\n",
       "      <th>Accuracy</th>\n",
       "      <th>Precision</th>\n",
       "      <th>Recall</th>\n",
       "      <th>Logloss</th>\n",
       "      <th>Description</th>\n",
       "    </tr>\n",
       "  </thead>\n",
       "  <tbody>\n",
       "    <tr>\n",
       "      <th>0</th>\n",
       "      <td>LGBMClassifier</td>\n",
       "      <td>CTNNB1</td>\n",
       "      <td>0.599173</td>\n",
       "      <td>0.000000</td>\n",
       "      <td>0.000000</td>\n",
       "      <td>0.999244</td>\n",
       "      <td>0.000000</td>\n",
       "      <td>0.000000</td>\n",
       "      <td>0.028031</td>\n",
       "      <td>default</td>\n",
       "    </tr>\n",
       "    <tr>\n",
       "      <th>0</th>\n",
       "      <td>LGBMClassifier</td>\n",
       "      <td>Erk</td>\n",
       "      <td>0.623835</td>\n",
       "      <td>0.000000</td>\n",
       "      <td>0.000000</td>\n",
       "      <td>0.998110</td>\n",
       "      <td>0.000000</td>\n",
       "      <td>0.000000</td>\n",
       "      <td>0.033098</td>\n",
       "      <td>default</td>\n",
       "    </tr>\n",
       "    <tr>\n",
       "      <th>0</th>\n",
       "      <td>LGBMClassifier</td>\n",
       "      <td>Ikk2</td>\n",
       "      <td>0.522583</td>\n",
       "      <td>0.025681</td>\n",
       "      <td>0.001313</td>\n",
       "      <td>0.958131</td>\n",
       "      <td>0.142857</td>\n",
       "      <td>0.000660</td>\n",
       "      <td>0.299633</td>\n",
       "      <td>default</td>\n",
       "    </tr>\n",
       "    <tr>\n",
       "      <th>0</th>\n",
       "      <td>LGBMClassifier</td>\n",
       "      <td>IRF4</td>\n",
       "      <td>0.546795</td>\n",
       "      <td>0.000000</td>\n",
       "      <td>0.000000</td>\n",
       "      <td>0.999296</td>\n",
       "      <td>0.000000</td>\n",
       "      <td>0.000000</td>\n",
       "      <td>0.039057</td>\n",
       "      <td>default</td>\n",
       "    </tr>\n",
       "    <tr>\n",
       "      <th>0</th>\n",
       "      <td>LGBMClassifier</td>\n",
       "      <td>Jnk</td>\n",
       "      <td>0.557015</td>\n",
       "      <td>0.044354</td>\n",
       "      <td>0.003832</td>\n",
       "      <td>0.965847</td>\n",
       "      <td>0.071429</td>\n",
       "      <td>0.001969</td>\n",
       "      <td>0.209958</td>\n",
       "      <td>default</td>\n",
       "    </tr>\n",
       "    <tr>\n",
       "      <th>0</th>\n",
       "      <td>LGBMClassifier</td>\n",
       "      <td>LEF1</td>\n",
       "      <td>0.638872</td>\n",
       "      <td>0.000000</td>\n",
       "      <td>0.000000</td>\n",
       "      <td>0.997914</td>\n",
       "      <td>0.000000</td>\n",
       "      <td>0.000000</td>\n",
       "      <td>0.047929</td>\n",
       "      <td>default</td>\n",
       "    </tr>\n",
       "    <tr>\n",
       "      <th>0</th>\n",
       "      <td>LGBMClassifier</td>\n",
       "      <td>MYC</td>\n",
       "      <td>0.601180</td>\n",
       "      <td>0.013364</td>\n",
       "      <td>0.000356</td>\n",
       "      <td>0.912300</td>\n",
       "      <td>0.058824</td>\n",
       "      <td>0.000179</td>\n",
       "      <td>0.473882</td>\n",
       "      <td>default</td>\n",
       "    </tr>\n",
       "  </tbody>\n",
       "</table>\n",
       "</div>"
      ],
      "text/plain": [
       "            Model    Fold   ROC-AUC    G-mean  F1-Score  Accuracy  Precision  \\\n",
       "0  LGBMClassifier  CTNNB1  0.599173  0.000000  0.000000  0.999244   0.000000   \n",
       "0  LGBMClassifier     Erk  0.623835  0.000000  0.000000  0.998110   0.000000   \n",
       "0  LGBMClassifier    Ikk2  0.522583  0.025681  0.001313  0.958131   0.142857   \n",
       "0  LGBMClassifier    IRF4  0.546795  0.000000  0.000000  0.999296   0.000000   \n",
       "0  LGBMClassifier     Jnk  0.557015  0.044354  0.003832  0.965847   0.071429   \n",
       "0  LGBMClassifier    LEF1  0.638872  0.000000  0.000000  0.997914   0.000000   \n",
       "0  LGBMClassifier     MYC  0.601180  0.013364  0.000356  0.912300   0.058824   \n",
       "\n",
       "     Recall   Logloss Description  \n",
       "0  0.000000  0.028031     default  \n",
       "0  0.000000  0.033098     default  \n",
       "0  0.000660  0.299633     default  \n",
       "0  0.000000  0.039057     default  \n",
       "0  0.001969  0.209958     default  \n",
       "0  0.000000  0.047929     default  \n",
       "0  0.000179  0.473882     default  "
      ]
     },
     "execution_count": 85,
     "metadata": {},
     "output_type": "execute_result"
    }
   ],
   "source": [
    "results"
   ]
  },
  {
   "cell_type": "code",
   "execution_count": 87,
   "metadata": {},
   "outputs": [
    {
     "name": "stdout",
     "output_type": "stream",
     "text": [
      "Test fold: CTNNB1.csv\n",
      "Train fold: Erk.csv\n",
      "Train fold: Ikk2.csv\n",
      "Train fold: IRF4.csv\n",
      "Train fold: Jnk.csv\n",
      "Train fold: LEF1.csv\n",
      "Train fold: MYC.csv\n",
      "Evaluating...\n"
     ]
    },
    {
     "name": "stderr",
     "output_type": "stream",
     "text": [
      "/home/robert/anaconda3/envs/kaggle/lib/python3.6/site-packages/sklearn/preprocessing/label.py:151: DeprecationWarning: The truth value of an empty array is ambiguous. Returning False, but in future this will result in an error. Use `array.size > 0` to check that an array is not empty.\n",
      "  if diff:\n"
     ]
    },
    {
     "name": "stdout",
     "output_type": "stream",
     "text": [
      "Confusion matrix:\n",
      "[[56372 25606]\n",
      " [   35    25]]\n",
      "            Model    Fold   ROC-AUC    G-mean  F1-Score  Accuracy  Precision  \\\n",
      "0  LGBMClassifier  CTNNB1  0.568392  0.535276  0.001946   0.68745   0.000975   \n",
      "\n",
      "     Recall   Logloss   Description  \n",
      "0  0.416667  0.495957  is_unbalance  \n",
      "Test fold: Erk.csv\n",
      "Train fold: CTNNB1.csv\n",
      "Train fold: Ikk2.csv\n",
      "Train fold: IRF4.csv\n",
      "Train fold: Jnk.csv\n",
      "Train fold: LEF1.csv\n",
      "Train fold: MYC.csv\n",
      "Evaluating...\n"
     ]
    },
    {
     "name": "stderr",
     "output_type": "stream",
     "text": [
      "/home/robert/anaconda3/envs/kaggle/lib/python3.6/site-packages/sklearn/preprocessing/label.py:151: DeprecationWarning: The truth value of an empty array is ambiguous. Returning False, but in future this will result in an error. Use `array.size > 0` to check that an array is not empty.\n",
      "  if diff:\n"
     ]
    },
    {
     "name": "stdout",
     "output_type": "stream",
     "text": [
      "Confusion matrix:\n",
      "[[102300  38166]\n",
      " [   144    120]]\n",
      "            Model Fold   ROC-AUC    G-mean  F1-Score  Accuracy  Precision  \\\n",
      "0  LGBMClassifier  Erk  0.626002  0.575362  0.006226  0.727777   0.003134   \n",
      "\n",
      "     Recall   Logloss   Description  \n",
      "0  0.454545  0.480927  is_unbalance  \n",
      "Test fold: Ikk2.csv\n",
      "Train fold: CTNNB1.csv\n",
      "Train fold: Erk.csv\n",
      "Train fold: IRF4.csv\n",
      "Train fold: Jnk.csv\n",
      "Train fold: LEF1.csv\n",
      "Train fold: MYC.csv\n",
      "Evaluating...\n"
     ]
    },
    {
     "name": "stderr",
     "output_type": "stream",
     "text": [
      "/home/robert/anaconda3/envs/kaggle/lib/python3.6/site-packages/sklearn/preprocessing/label.py:151: DeprecationWarning: The truth value of an empty array is ambiguous. Returning False, but in future this will result in an error. Use `array.size > 0` to check that an array is not empty.\n",
      "  if diff:\n"
     ]
    },
    {
     "name": "stdout",
     "output_type": "stream",
     "text": [
      "Confusion matrix:\n",
      "[[103688    748]\n",
      " [  4467     81]]\n",
      "            Model  Fold   ROC-AUC    G-mean  F1-Score  Accuracy  Precision  \\\n",
      "0  LGBMClassifier  Ikk2  0.586635  0.132975  0.030128  0.952149   0.097708   \n",
      "\n",
      "    Recall   Logloss   Description  \n",
      "0  0.01781  0.192323  is_unbalance  \n",
      "Test fold: IRF4.csv\n",
      "Train fold: CTNNB1.csv\n",
      "Train fold: Erk.csv\n",
      "Train fold: Ikk2.csv\n",
      "Train fold: Jnk.csv\n",
      "Train fold: LEF1.csv\n",
      "Train fold: MYC.csv\n",
      "Evaluating...\n"
     ]
    },
    {
     "name": "stderr",
     "output_type": "stream",
     "text": [
      "/home/robert/anaconda3/envs/kaggle/lib/python3.6/site-packages/sklearn/preprocessing/label.py:151: DeprecationWarning: The truth value of an empty array is ambiguous. Returning False, but in future this will result in an error. Use `array.size > 0` to check that an array is not empty.\n",
      "  if diff:\n"
     ]
    },
    {
     "name": "stdout",
     "output_type": "stream",
     "text": [
      "Confusion matrix:\n",
      "[[47078 49510]\n",
      " [   31    35]]\n",
      "            Model  Fold   ROC-AUC    G-mean  F1-Score  Accuracy  Precision  \\\n",
      "0  LGBMClassifier  IRF4  0.535977  0.508405  0.001411   0.48744   0.000706   \n",
      "\n",
      "     Recall   Logloss   Description  \n",
      "0  0.530303  0.709721  is_unbalance  \n",
      "Test fold: Jnk.csv\n",
      "Train fold: CTNNB1.csv\n",
      "Train fold: Erk.csv\n",
      "Train fold: Ikk2.csv\n",
      "Train fold: IRF4.csv\n",
      "Train fold: LEF1.csv\n",
      "Train fold: MYC.csv\n",
      "Evaluating...\n"
     ]
    },
    {
     "name": "stderr",
     "output_type": "stream",
     "text": [
      "/home/robert/anaconda3/envs/kaggle/lib/python3.6/site-packages/sklearn/preprocessing/label.py:151: DeprecationWarning: The truth value of an empty array is ambiguous. Returning False, but in future this will result in an error. Use `array.size > 0` to check that an array is not empty.\n",
      "  if diff:\n"
     ]
    },
    {
     "name": "stdout",
     "output_type": "stream",
     "text": [
      "Confusion matrix:\n",
      "[[197087   8905]\n",
      " [  6547    563]]\n",
      "            Model Fold   ROC-AUC    G-mean  F1-Score  Accuracy  Precision  \\\n",
      "0  LGBMClassifier  Jnk  0.619648  0.275247  0.067921   0.92749   0.059463   \n",
      "\n",
      "     Recall   Logloss   Description  \n",
      "0  0.079184  0.224323  is_unbalance  \n",
      "Test fold: LEF1.csv\n",
      "Train fold: CTNNB1.csv\n",
      "Train fold: Erk.csv\n",
      "Train fold: Ikk2.csv\n",
      "Train fold: IRF4.csv\n",
      "Train fold: Jnk.csv\n",
      "Train fold: MYC.csv\n",
      "Evaluating...\n"
     ]
    },
    {
     "name": "stderr",
     "output_type": "stream",
     "text": [
      "/home/robert/anaconda3/envs/kaggle/lib/python3.6/site-packages/sklearn/preprocessing/label.py:151: DeprecationWarning: The truth value of an empty array is ambiguous. Returning False, but in future this will result in an error. Use `array.size > 0` to check that an array is not empty.\n",
      "  if diff:\n"
     ]
    },
    {
     "name": "stdout",
     "output_type": "stream",
     "text": [
      "Confusion matrix:\n",
      "[[37874 30064]\n",
      " [   48    84]]\n",
      "            Model  Fold   ROC-AUC    G-mean  F1-Score  Accuracy  Precision  \\\n",
      "0  LGBMClassifier  LEF1  0.631975  0.595617  0.005548  0.557632   0.002786   \n",
      "\n",
      "     Recall   Logloss   Description  \n",
      "0  0.636364  0.726999  is_unbalance  \n",
      "Test fold: MYC.csv\n",
      "Train fold: CTNNB1.csv\n",
      "Train fold: Erk.csv\n",
      "Train fold: Ikk2.csv\n",
      "Train fold: IRF4.csv\n",
      "Train fold: Jnk.csv\n",
      "Train fold: LEF1.csv\n",
      "Evaluating...\n",
      "Confusion matrix:\n",
      "[[58404     0]\n",
      " [ 5595     3]]\n",
      "            Model Fold   ROC-AUC   G-mean  F1-Score  Accuracy  Precision  \\\n",
      "0  LGBMClassifier  MYC  0.669603  0.02315  0.001071  0.912581        1.0   \n",
      "\n",
      "     Recall   Logloss   Description  \n",
      "0  0.000536  0.286691  is_unbalance  \n"
     ]
    },
    {
     "name": "stderr",
     "output_type": "stream",
     "text": [
      "/home/robert/anaconda3/envs/kaggle/lib/python3.6/site-packages/sklearn/preprocessing/label.py:151: DeprecationWarning: The truth value of an empty array is ambiguous. Returning False, but in future this will result in an error. Use `array.size > 0` to check that an array is not empty.\n",
      "  if diff:\n"
     ]
    }
   ],
   "source": [
    "results = evaluate_classifier(LGBMClassifier(is_unbalance=True), results, desc='is_unbalance')"
   ]
  },
  {
   "cell_type": "code",
   "execution_count": 88,
   "metadata": {
    "scrolled": true
   },
   "outputs": [
    {
     "data": {
      "text/html": [
       "<div>\n",
       "<style scoped>\n",
       "    .dataframe tbody tr th:only-of-type {\n",
       "        vertical-align: middle;\n",
       "    }\n",
       "\n",
       "    .dataframe tbody tr th {\n",
       "        vertical-align: top;\n",
       "    }\n",
       "\n",
       "    .dataframe thead th {\n",
       "        text-align: right;\n",
       "    }\n",
       "</style>\n",
       "<table border=\"1\" class=\"dataframe\">\n",
       "  <thead>\n",
       "    <tr style=\"text-align: right;\">\n",
       "      <th></th>\n",
       "      <th>Model</th>\n",
       "      <th>Fold</th>\n",
       "      <th>ROC-AUC</th>\n",
       "      <th>G-mean</th>\n",
       "      <th>F1-Score</th>\n",
       "      <th>Accuracy</th>\n",
       "      <th>Precision</th>\n",
       "      <th>Recall</th>\n",
       "      <th>Logloss</th>\n",
       "      <th>Description</th>\n",
       "    </tr>\n",
       "  </thead>\n",
       "  <tbody>\n",
       "    <tr>\n",
       "      <th>0</th>\n",
       "      <td>LGBMClassifier</td>\n",
       "      <td>CTNNB1</td>\n",
       "      <td>0.599173</td>\n",
       "      <td>0.000000</td>\n",
       "      <td>0.000000</td>\n",
       "      <td>0.999244</td>\n",
       "      <td>0.000000</td>\n",
       "      <td>0.000000</td>\n",
       "      <td>0.028031</td>\n",
       "      <td>default</td>\n",
       "    </tr>\n",
       "    <tr>\n",
       "      <th>1</th>\n",
       "      <td>LGBMClassifier</td>\n",
       "      <td>Erk</td>\n",
       "      <td>0.623835</td>\n",
       "      <td>0.000000</td>\n",
       "      <td>0.000000</td>\n",
       "      <td>0.998110</td>\n",
       "      <td>0.000000</td>\n",
       "      <td>0.000000</td>\n",
       "      <td>0.033098</td>\n",
       "      <td>default</td>\n",
       "    </tr>\n",
       "    <tr>\n",
       "      <th>2</th>\n",
       "      <td>LGBMClassifier</td>\n",
       "      <td>Ikk2</td>\n",
       "      <td>0.522583</td>\n",
       "      <td>0.025681</td>\n",
       "      <td>0.001313</td>\n",
       "      <td>0.958131</td>\n",
       "      <td>0.142857</td>\n",
       "      <td>0.000660</td>\n",
       "      <td>0.299633</td>\n",
       "      <td>default</td>\n",
       "    </tr>\n",
       "    <tr>\n",
       "      <th>3</th>\n",
       "      <td>LGBMClassifier</td>\n",
       "      <td>IRF4</td>\n",
       "      <td>0.546795</td>\n",
       "      <td>0.000000</td>\n",
       "      <td>0.000000</td>\n",
       "      <td>0.999296</td>\n",
       "      <td>0.000000</td>\n",
       "      <td>0.000000</td>\n",
       "      <td>0.039057</td>\n",
       "      <td>default</td>\n",
       "    </tr>\n",
       "    <tr>\n",
       "      <th>4</th>\n",
       "      <td>LGBMClassifier</td>\n",
       "      <td>Jnk</td>\n",
       "      <td>0.557015</td>\n",
       "      <td>0.044354</td>\n",
       "      <td>0.003832</td>\n",
       "      <td>0.965847</td>\n",
       "      <td>0.071429</td>\n",
       "      <td>0.001969</td>\n",
       "      <td>0.209958</td>\n",
       "      <td>default</td>\n",
       "    </tr>\n",
       "    <tr>\n",
       "      <th>5</th>\n",
       "      <td>LGBMClassifier</td>\n",
       "      <td>LEF1</td>\n",
       "      <td>0.638872</td>\n",
       "      <td>0.000000</td>\n",
       "      <td>0.000000</td>\n",
       "      <td>0.997914</td>\n",
       "      <td>0.000000</td>\n",
       "      <td>0.000000</td>\n",
       "      <td>0.047929</td>\n",
       "      <td>default</td>\n",
       "    </tr>\n",
       "    <tr>\n",
       "      <th>6</th>\n",
       "      <td>LGBMClassifier</td>\n",
       "      <td>MYC</td>\n",
       "      <td>0.601180</td>\n",
       "      <td>0.013364</td>\n",
       "      <td>0.000356</td>\n",
       "      <td>0.912300</td>\n",
       "      <td>0.058824</td>\n",
       "      <td>0.000179</td>\n",
       "      <td>0.473882</td>\n",
       "      <td>default</td>\n",
       "    </tr>\n",
       "    <tr>\n",
       "      <th>7</th>\n",
       "      <td>LGBMClassifier</td>\n",
       "      <td>CTNNB1</td>\n",
       "      <td>0.568392</td>\n",
       "      <td>0.535276</td>\n",
       "      <td>0.001946</td>\n",
       "      <td>0.687450</td>\n",
       "      <td>0.000975</td>\n",
       "      <td>0.416667</td>\n",
       "      <td>0.495957</td>\n",
       "      <td>is_unbalance</td>\n",
       "    </tr>\n",
       "    <tr>\n",
       "      <th>8</th>\n",
       "      <td>LGBMClassifier</td>\n",
       "      <td>Erk</td>\n",
       "      <td>0.626002</td>\n",
       "      <td>0.575362</td>\n",
       "      <td>0.006226</td>\n",
       "      <td>0.727777</td>\n",
       "      <td>0.003134</td>\n",
       "      <td>0.454545</td>\n",
       "      <td>0.480927</td>\n",
       "      <td>is_unbalance</td>\n",
       "    </tr>\n",
       "    <tr>\n",
       "      <th>9</th>\n",
       "      <td>LGBMClassifier</td>\n",
       "      <td>Ikk2</td>\n",
       "      <td>0.586635</td>\n",
       "      <td>0.132975</td>\n",
       "      <td>0.030128</td>\n",
       "      <td>0.952149</td>\n",
       "      <td>0.097708</td>\n",
       "      <td>0.017810</td>\n",
       "      <td>0.192323</td>\n",
       "      <td>is_unbalance</td>\n",
       "    </tr>\n",
       "    <tr>\n",
       "      <th>10</th>\n",
       "      <td>LGBMClassifier</td>\n",
       "      <td>IRF4</td>\n",
       "      <td>0.535977</td>\n",
       "      <td>0.508405</td>\n",
       "      <td>0.001411</td>\n",
       "      <td>0.487440</td>\n",
       "      <td>0.000706</td>\n",
       "      <td>0.530303</td>\n",
       "      <td>0.709721</td>\n",
       "      <td>is_unbalance</td>\n",
       "    </tr>\n",
       "    <tr>\n",
       "      <th>11</th>\n",
       "      <td>LGBMClassifier</td>\n",
       "      <td>Jnk</td>\n",
       "      <td>0.619648</td>\n",
       "      <td>0.275247</td>\n",
       "      <td>0.067921</td>\n",
       "      <td>0.927490</td>\n",
       "      <td>0.059463</td>\n",
       "      <td>0.079184</td>\n",
       "      <td>0.224323</td>\n",
       "      <td>is_unbalance</td>\n",
       "    </tr>\n",
       "    <tr>\n",
       "      <th>12</th>\n",
       "      <td>LGBMClassifier</td>\n",
       "      <td>LEF1</td>\n",
       "      <td>0.631975</td>\n",
       "      <td>0.595617</td>\n",
       "      <td>0.005548</td>\n",
       "      <td>0.557632</td>\n",
       "      <td>0.002786</td>\n",
       "      <td>0.636364</td>\n",
       "      <td>0.726999</td>\n",
       "      <td>is_unbalance</td>\n",
       "    </tr>\n",
       "    <tr>\n",
       "      <th>13</th>\n",
       "      <td>LGBMClassifier</td>\n",
       "      <td>MYC</td>\n",
       "      <td>0.669603</td>\n",
       "      <td>0.023150</td>\n",
       "      <td>0.001071</td>\n",
       "      <td>0.912581</td>\n",
       "      <td>1.000000</td>\n",
       "      <td>0.000536</td>\n",
       "      <td>0.286691</td>\n",
       "      <td>is_unbalance</td>\n",
       "    </tr>\n",
       "  </tbody>\n",
       "</table>\n",
       "</div>"
      ],
      "text/plain": [
       "             Model    Fold   ROC-AUC    G-mean  F1-Score  Accuracy  Precision  \\\n",
       "0   LGBMClassifier  CTNNB1  0.599173  0.000000  0.000000  0.999244   0.000000   \n",
       "1   LGBMClassifier     Erk  0.623835  0.000000  0.000000  0.998110   0.000000   \n",
       "2   LGBMClassifier    Ikk2  0.522583  0.025681  0.001313  0.958131   0.142857   \n",
       "3   LGBMClassifier    IRF4  0.546795  0.000000  0.000000  0.999296   0.000000   \n",
       "4   LGBMClassifier     Jnk  0.557015  0.044354  0.003832  0.965847   0.071429   \n",
       "5   LGBMClassifier    LEF1  0.638872  0.000000  0.000000  0.997914   0.000000   \n",
       "6   LGBMClassifier     MYC  0.601180  0.013364  0.000356  0.912300   0.058824   \n",
       "7   LGBMClassifier  CTNNB1  0.568392  0.535276  0.001946  0.687450   0.000975   \n",
       "8   LGBMClassifier     Erk  0.626002  0.575362  0.006226  0.727777   0.003134   \n",
       "9   LGBMClassifier    Ikk2  0.586635  0.132975  0.030128  0.952149   0.097708   \n",
       "10  LGBMClassifier    IRF4  0.535977  0.508405  0.001411  0.487440   0.000706   \n",
       "11  LGBMClassifier     Jnk  0.619648  0.275247  0.067921  0.927490   0.059463   \n",
       "12  LGBMClassifier    LEF1  0.631975  0.595617  0.005548  0.557632   0.002786   \n",
       "13  LGBMClassifier     MYC  0.669603  0.023150  0.001071  0.912581   1.000000   \n",
       "\n",
       "      Recall   Logloss   Description  \n",
       "0   0.000000  0.028031       default  \n",
       "1   0.000000  0.033098       default  \n",
       "2   0.000660  0.299633       default  \n",
       "3   0.000000  0.039057       default  \n",
       "4   0.001969  0.209958       default  \n",
       "5   0.000000  0.047929       default  \n",
       "6   0.000179  0.473882       default  \n",
       "7   0.416667  0.495957  is_unbalance  \n",
       "8   0.454545  0.480927  is_unbalance  \n",
       "9   0.017810  0.192323  is_unbalance  \n",
       "10  0.530303  0.709721  is_unbalance  \n",
       "11  0.079184  0.224323  is_unbalance  \n",
       "12  0.636364  0.726999  is_unbalance  \n",
       "13  0.000536  0.286691  is_unbalance  "
      ]
     },
     "execution_count": 88,
     "metadata": {},
     "output_type": "execute_result"
    }
   ],
   "source": [
    "results"
   ]
  },
  {
   "cell_type": "code",
   "execution_count": 89,
   "metadata": {},
   "outputs": [],
   "source": [
    "from xgboost import XGBClassifier"
   ]
  },
  {
   "cell_type": "code",
   "execution_count": 90,
   "metadata": {},
   "outputs": [
    {
     "name": "stdout",
     "output_type": "stream",
     "text": [
      "Test fold: CTNNB1.csv\n",
      "Train fold: Erk.csv\n",
      "Train fold: Ikk2.csv\n",
      "Train fold: IRF4.csv\n",
      "Train fold: Jnk.csv\n",
      "Train fold: LEF1.csv\n",
      "Train fold: MYC.csv\n",
      "Evaluating...\n"
     ]
    },
    {
     "name": "stderr",
     "output_type": "stream",
     "text": [
      "/home/robert/anaconda3/envs/kaggle/lib/python3.6/site-packages/sklearn/preprocessing/label.py:151: DeprecationWarning: The truth value of an empty array is ambiguous. Returning False, but in future this will result in an error. Use `array.size > 0` to check that an array is not empty.\n",
      "  if diff:\n",
      "/home/robert/anaconda3/envs/kaggle/lib/python3.6/site-packages/sklearn/metrics/classification.py:1135: UndefinedMetricWarning: F-score is ill-defined and being set to 0.0 due to no predicted samples.\n",
      "  'precision', 'predicted', average, warn_for)\n",
      "/home/robert/anaconda3/envs/kaggle/lib/python3.6/site-packages/sklearn/metrics/classification.py:1135: UndefinedMetricWarning: Precision is ill-defined and being set to 0.0 due to no predicted samples.\n",
      "  'precision', 'predicted', average, warn_for)\n"
     ]
    },
    {
     "name": "stdout",
     "output_type": "stream",
     "text": [
      "Confusion matrix:\n",
      "[[81978     0]\n",
      " [   60     0]]\n",
      "           Model    Fold   ROC-AUC  G-mean  F1-Score  Accuracy  Precision  \\\n",
      "0  XGBClassifier  CTNNB1  0.541579     0.0       0.0  0.999269        0.0   \n",
      "\n",
      "   Recall   Logloss Description  \n",
      "0     0.0  0.025109     default  \n",
      "Test fold: Erk.csv\n",
      "Train fold: CTNNB1.csv\n",
      "Train fold: Ikk2.csv\n",
      "Train fold: IRF4.csv\n",
      "Train fold: Jnk.csv\n",
      "Train fold: LEF1.csv\n",
      "Train fold: MYC.csv\n",
      "Evaluating...\n"
     ]
    },
    {
     "name": "stderr",
     "output_type": "stream",
     "text": [
      "/home/robert/anaconda3/envs/kaggle/lib/python3.6/site-packages/sklearn/preprocessing/label.py:151: DeprecationWarning: The truth value of an empty array is ambiguous. Returning False, but in future this will result in an error. Use `array.size > 0` to check that an array is not empty.\n",
      "  if diff:\n",
      "/home/robert/anaconda3/envs/kaggle/lib/python3.6/site-packages/sklearn/metrics/classification.py:1135: UndefinedMetricWarning: F-score is ill-defined and being set to 0.0 due to no predicted samples.\n",
      "  'precision', 'predicted', average, warn_for)\n",
      "/home/robert/anaconda3/envs/kaggle/lib/python3.6/site-packages/sklearn/metrics/classification.py:1135: UndefinedMetricWarning: Precision is ill-defined and being set to 0.0 due to no predicted samples.\n",
      "  'precision', 'predicted', average, warn_for)\n"
     ]
    },
    {
     "name": "stdout",
     "output_type": "stream",
     "text": [
      "Confusion matrix:\n",
      "[[140466      0]\n",
      " [   264      0]]\n",
      "           Model Fold   ROC-AUC  G-mean  F1-Score  Accuracy  Precision  \\\n",
      "0  XGBClassifier  Erk  0.589961     0.0       0.0  0.998124        0.0   \n",
      "\n",
      "   Recall   Logloss Description  \n",
      "0     0.0  0.034247     default  \n",
      "Test fold: Ikk2.csv\n",
      "Train fold: CTNNB1.csv\n",
      "Train fold: Erk.csv\n",
      "Train fold: IRF4.csv\n",
      "Train fold: Jnk.csv\n",
      "Train fold: LEF1.csv\n",
      "Train fold: MYC.csv\n",
      "Evaluating...\n"
     ]
    },
    {
     "name": "stderr",
     "output_type": "stream",
     "text": [
      "/home/robert/anaconda3/envs/kaggle/lib/python3.6/site-packages/sklearn/preprocessing/label.py:151: DeprecationWarning: The truth value of an empty array is ambiguous. Returning False, but in future this will result in an error. Use `array.size > 0` to check that an array is not empty.\n",
      "  if diff:\n",
      "/home/robert/anaconda3/envs/kaggle/lib/python3.6/site-packages/sklearn/metrics/classification.py:1135: UndefinedMetricWarning: F-score is ill-defined and being set to 0.0 due to no predicted samples.\n",
      "  'precision', 'predicted', average, warn_for)\n",
      "/home/robert/anaconda3/envs/kaggle/lib/python3.6/site-packages/sklearn/metrics/classification.py:1135: UndefinedMetricWarning: Precision is ill-defined and being set to 0.0 due to no predicted samples.\n",
      "  'precision', 'predicted', average, warn_for)\n"
     ]
    },
    {
     "name": "stdout",
     "output_type": "stream",
     "text": [
      "Confusion matrix:\n",
      "[[104436      0]\n",
      " [  4548      0]]\n",
      "           Model  Fold   ROC-AUC  G-mean  F1-Score  Accuracy  Precision  \\\n",
      "0  XGBClassifier  Ikk2  0.544096     0.0       0.0  0.958269        0.0   \n",
      "\n",
      "   Recall   Logloss Description  \n",
      "0     0.0  0.254006     default  \n",
      "Test fold: IRF4.csv\n",
      "Train fold: CTNNB1.csv\n",
      "Train fold: Erk.csv\n",
      "Train fold: Ikk2.csv\n",
      "Train fold: Jnk.csv\n",
      "Train fold: LEF1.csv\n",
      "Train fold: MYC.csv\n",
      "Evaluating...\n"
     ]
    },
    {
     "name": "stderr",
     "output_type": "stream",
     "text": [
      "/home/robert/anaconda3/envs/kaggle/lib/python3.6/site-packages/sklearn/preprocessing/label.py:151: DeprecationWarning: The truth value of an empty array is ambiguous. Returning False, but in future this will result in an error. Use `array.size > 0` to check that an array is not empty.\n",
      "  if diff:\n",
      "/home/robert/anaconda3/envs/kaggle/lib/python3.6/site-packages/sklearn/metrics/classification.py:1135: UndefinedMetricWarning: F-score is ill-defined and being set to 0.0 due to no predicted samples.\n",
      "  'precision', 'predicted', average, warn_for)\n",
      "/home/robert/anaconda3/envs/kaggle/lib/python3.6/site-packages/sklearn/metrics/classification.py:1135: UndefinedMetricWarning: Precision is ill-defined and being set to 0.0 due to no predicted samples.\n",
      "  'precision', 'predicted', average, warn_for)\n"
     ]
    },
    {
     "name": "stdout",
     "output_type": "stream",
     "text": [
      "Confusion matrix:\n",
      "[[96588     0]\n",
      " [   66     0]]\n",
      "           Model  Fold   ROC-AUC  G-mean  F1-Score  Accuracy  Precision  \\\n",
      "0  XGBClassifier  IRF4  0.512227     0.0       0.0  0.999317        0.0   \n",
      "\n",
      "   Recall  Logloss Description  \n",
      "0     0.0  0.03502     default  \n",
      "Test fold: Jnk.csv\n",
      "Train fold: CTNNB1.csv\n",
      "Train fold: Erk.csv\n",
      "Train fold: Ikk2.csv\n",
      "Train fold: IRF4.csv\n",
      "Train fold: LEF1.csv\n",
      "Train fold: MYC.csv\n",
      "Evaluating...\n"
     ]
    },
    {
     "name": "stderr",
     "output_type": "stream",
     "text": [
      "/home/robert/anaconda3/envs/kaggle/lib/python3.6/site-packages/sklearn/preprocessing/label.py:151: DeprecationWarning: The truth value of an empty array is ambiguous. Returning False, but in future this will result in an error. Use `array.size > 0` to check that an array is not empty.\n",
      "  if diff:\n",
      "/home/robert/anaconda3/envs/kaggle/lib/python3.6/site-packages/sklearn/metrics/classification.py:1135: UndefinedMetricWarning: F-score is ill-defined and being set to 0.0 due to no predicted samples.\n",
      "  'precision', 'predicted', average, warn_for)\n",
      "/home/robert/anaconda3/envs/kaggle/lib/python3.6/site-packages/sklearn/metrics/classification.py:1135: UndefinedMetricWarning: Precision is ill-defined and being set to 0.0 due to no predicted samples.\n",
      "  'precision', 'predicted', average, warn_for)\n"
     ]
    },
    {
     "name": "stdout",
     "output_type": "stream",
     "text": [
      "Confusion matrix:\n",
      "[[205992      0]\n",
      " [  7110      0]]\n",
      "           Model Fold   ROC-AUC  G-mean  F1-Score  Accuracy  Precision  \\\n",
      "0  XGBClassifier  Jnk  0.569364     0.0       0.0  0.966636        0.0   \n",
      "\n",
      "   Recall  Logloss Description  \n",
      "0     0.0  0.17598     default  \n",
      "Test fold: LEF1.csv\n",
      "Train fold: CTNNB1.csv\n",
      "Train fold: Erk.csv\n",
      "Train fold: Ikk2.csv\n",
      "Train fold: IRF4.csv\n",
      "Train fold: Jnk.csv\n",
      "Train fold: MYC.csv\n",
      "Evaluating...\n"
     ]
    },
    {
     "name": "stderr",
     "output_type": "stream",
     "text": [
      "/home/robert/anaconda3/envs/kaggle/lib/python3.6/site-packages/sklearn/preprocessing/label.py:151: DeprecationWarning: The truth value of an empty array is ambiguous. Returning False, but in future this will result in an error. Use `array.size > 0` to check that an array is not empty.\n",
      "  if diff:\n",
      "/home/robert/anaconda3/envs/kaggle/lib/python3.6/site-packages/sklearn/metrics/classification.py:1135: UndefinedMetricWarning: F-score is ill-defined and being set to 0.0 due to no predicted samples.\n",
      "  'precision', 'predicted', average, warn_for)\n",
      "/home/robert/anaconda3/envs/kaggle/lib/python3.6/site-packages/sklearn/metrics/classification.py:1135: UndefinedMetricWarning: Precision is ill-defined and being set to 0.0 due to no predicted samples.\n",
      "  'precision', 'predicted', average, warn_for)\n"
     ]
    },
    {
     "name": "stdout",
     "output_type": "stream",
     "text": [
      "Confusion matrix:\n",
      "[[67938     0]\n",
      " [  132     0]]\n",
      "           Model  Fold   ROC-AUC  G-mean  F1-Score  Accuracy  Precision  \\\n",
      "0  XGBClassifier  LEF1  0.580766     0.0       0.0  0.998061        0.0   \n",
      "\n",
      "   Recall   Logloss Description  \n",
      "0     0.0  0.055468     default  \n",
      "Test fold: MYC.csv\n",
      "Train fold: CTNNB1.csv\n",
      "Train fold: Erk.csv\n",
      "Train fold: Ikk2.csv\n",
      "Train fold: IRF4.csv\n",
      "Train fold: Jnk.csv\n",
      "Train fold: LEF1.csv\n",
      "Evaluating...\n"
     ]
    },
    {
     "name": "stderr",
     "output_type": "stream",
     "text": [
      "/home/robert/anaconda3/envs/kaggle/lib/python3.6/site-packages/sklearn/preprocessing/label.py:151: DeprecationWarning: The truth value of an empty array is ambiguous. Returning False, but in future this will result in an error. Use `array.size > 0` to check that an array is not empty.\n",
      "  if diff:\n",
      "/home/robert/anaconda3/envs/kaggle/lib/python3.6/site-packages/sklearn/metrics/classification.py:1135: UndefinedMetricWarning: F-score is ill-defined and being set to 0.0 due to no predicted samples.\n",
      "  'precision', 'predicted', average, warn_for)\n",
      "/home/robert/anaconda3/envs/kaggle/lib/python3.6/site-packages/sklearn/metrics/classification.py:1135: UndefinedMetricWarning: Precision is ill-defined and being set to 0.0 due to no predicted samples.\n",
      "  'precision', 'predicted', average, warn_for)\n"
     ]
    },
    {
     "name": "stdout",
     "output_type": "stream",
     "text": [
      "Confusion matrix:\n",
      "[[58404     0]\n",
      " [ 5598     0]]\n",
      "           Model Fold   ROC-AUC  G-mean  F1-Score  Accuracy  Precision  \\\n",
      "0  XGBClassifier  MYC  0.580379     0.0       0.0  0.912534        0.0   \n",
      "\n",
      "   Recall   Logloss Description  \n",
      "0     0.0  0.419978     default  \n"
     ]
    }
   ],
   "source": [
    "results = evaluate_classifier(XGBClassifier(), results, desc='default')"
   ]
  },
  {
   "cell_type": "code",
   "execution_count": 91,
   "metadata": {
    "scrolled": false
   },
   "outputs": [
    {
     "data": {
      "text/html": [
       "<div>\n",
       "<style scoped>\n",
       "    .dataframe tbody tr th:only-of-type {\n",
       "        vertical-align: middle;\n",
       "    }\n",
       "\n",
       "    .dataframe tbody tr th {\n",
       "        vertical-align: top;\n",
       "    }\n",
       "\n",
       "    .dataframe thead th {\n",
       "        text-align: right;\n",
       "    }\n",
       "</style>\n",
       "<table border=\"1\" class=\"dataframe\">\n",
       "  <thead>\n",
       "    <tr style=\"text-align: right;\">\n",
       "      <th></th>\n",
       "      <th>Model</th>\n",
       "      <th>Fold</th>\n",
       "      <th>ROC-AUC</th>\n",
       "      <th>G-mean</th>\n",
       "      <th>F1-Score</th>\n",
       "      <th>Accuracy</th>\n",
       "      <th>Precision</th>\n",
       "      <th>Recall</th>\n",
       "      <th>Logloss</th>\n",
       "      <th>Description</th>\n",
       "    </tr>\n",
       "  </thead>\n",
       "  <tbody>\n",
       "    <tr>\n",
       "      <th>0</th>\n",
       "      <td>LGBMClassifier</td>\n",
       "      <td>CTNNB1</td>\n",
       "      <td>0.599173</td>\n",
       "      <td>0.000000</td>\n",
       "      <td>0.000000</td>\n",
       "      <td>0.999244</td>\n",
       "      <td>0.000000</td>\n",
       "      <td>0.000000</td>\n",
       "      <td>0.028031</td>\n",
       "      <td>default</td>\n",
       "    </tr>\n",
       "    <tr>\n",
       "      <th>1</th>\n",
       "      <td>LGBMClassifier</td>\n",
       "      <td>Erk</td>\n",
       "      <td>0.623835</td>\n",
       "      <td>0.000000</td>\n",
       "      <td>0.000000</td>\n",
       "      <td>0.998110</td>\n",
       "      <td>0.000000</td>\n",
       "      <td>0.000000</td>\n",
       "      <td>0.033098</td>\n",
       "      <td>default</td>\n",
       "    </tr>\n",
       "    <tr>\n",
       "      <th>2</th>\n",
       "      <td>LGBMClassifier</td>\n",
       "      <td>Ikk2</td>\n",
       "      <td>0.522583</td>\n",
       "      <td>0.025681</td>\n",
       "      <td>0.001313</td>\n",
       "      <td>0.958131</td>\n",
       "      <td>0.142857</td>\n",
       "      <td>0.000660</td>\n",
       "      <td>0.299633</td>\n",
       "      <td>default</td>\n",
       "    </tr>\n",
       "    <tr>\n",
       "      <th>3</th>\n",
       "      <td>LGBMClassifier</td>\n",
       "      <td>IRF4</td>\n",
       "      <td>0.546795</td>\n",
       "      <td>0.000000</td>\n",
       "      <td>0.000000</td>\n",
       "      <td>0.999296</td>\n",
       "      <td>0.000000</td>\n",
       "      <td>0.000000</td>\n",
       "      <td>0.039057</td>\n",
       "      <td>default</td>\n",
       "    </tr>\n",
       "    <tr>\n",
       "      <th>4</th>\n",
       "      <td>LGBMClassifier</td>\n",
       "      <td>Jnk</td>\n",
       "      <td>0.557015</td>\n",
       "      <td>0.044354</td>\n",
       "      <td>0.003832</td>\n",
       "      <td>0.965847</td>\n",
       "      <td>0.071429</td>\n",
       "      <td>0.001969</td>\n",
       "      <td>0.209958</td>\n",
       "      <td>default</td>\n",
       "    </tr>\n",
       "    <tr>\n",
       "      <th>5</th>\n",
       "      <td>LGBMClassifier</td>\n",
       "      <td>LEF1</td>\n",
       "      <td>0.638872</td>\n",
       "      <td>0.000000</td>\n",
       "      <td>0.000000</td>\n",
       "      <td>0.997914</td>\n",
       "      <td>0.000000</td>\n",
       "      <td>0.000000</td>\n",
       "      <td>0.047929</td>\n",
       "      <td>default</td>\n",
       "    </tr>\n",
       "    <tr>\n",
       "      <th>6</th>\n",
       "      <td>LGBMClassifier</td>\n",
       "      <td>MYC</td>\n",
       "      <td>0.601180</td>\n",
       "      <td>0.013364</td>\n",
       "      <td>0.000356</td>\n",
       "      <td>0.912300</td>\n",
       "      <td>0.058824</td>\n",
       "      <td>0.000179</td>\n",
       "      <td>0.473882</td>\n",
       "      <td>default</td>\n",
       "    </tr>\n",
       "    <tr>\n",
       "      <th>7</th>\n",
       "      <td>LGBMClassifier</td>\n",
       "      <td>CTNNB1</td>\n",
       "      <td>0.568392</td>\n",
       "      <td>0.535276</td>\n",
       "      <td>0.001946</td>\n",
       "      <td>0.687450</td>\n",
       "      <td>0.000975</td>\n",
       "      <td>0.416667</td>\n",
       "      <td>0.495957</td>\n",
       "      <td>is_unbalance</td>\n",
       "    </tr>\n",
       "    <tr>\n",
       "      <th>8</th>\n",
       "      <td>LGBMClassifier</td>\n",
       "      <td>Erk</td>\n",
       "      <td>0.626002</td>\n",
       "      <td>0.575362</td>\n",
       "      <td>0.006226</td>\n",
       "      <td>0.727777</td>\n",
       "      <td>0.003134</td>\n",
       "      <td>0.454545</td>\n",
       "      <td>0.480927</td>\n",
       "      <td>is_unbalance</td>\n",
       "    </tr>\n",
       "    <tr>\n",
       "      <th>9</th>\n",
       "      <td>LGBMClassifier</td>\n",
       "      <td>Ikk2</td>\n",
       "      <td>0.586635</td>\n",
       "      <td>0.132975</td>\n",
       "      <td>0.030128</td>\n",
       "      <td>0.952149</td>\n",
       "      <td>0.097708</td>\n",
       "      <td>0.017810</td>\n",
       "      <td>0.192323</td>\n",
       "      <td>is_unbalance</td>\n",
       "    </tr>\n",
       "    <tr>\n",
       "      <th>10</th>\n",
       "      <td>LGBMClassifier</td>\n",
       "      <td>IRF4</td>\n",
       "      <td>0.535977</td>\n",
       "      <td>0.508405</td>\n",
       "      <td>0.001411</td>\n",
       "      <td>0.487440</td>\n",
       "      <td>0.000706</td>\n",
       "      <td>0.530303</td>\n",
       "      <td>0.709721</td>\n",
       "      <td>is_unbalance</td>\n",
       "    </tr>\n",
       "    <tr>\n",
       "      <th>11</th>\n",
       "      <td>LGBMClassifier</td>\n",
       "      <td>Jnk</td>\n",
       "      <td>0.619648</td>\n",
       "      <td>0.275247</td>\n",
       "      <td>0.067921</td>\n",
       "      <td>0.927490</td>\n",
       "      <td>0.059463</td>\n",
       "      <td>0.079184</td>\n",
       "      <td>0.224323</td>\n",
       "      <td>is_unbalance</td>\n",
       "    </tr>\n",
       "    <tr>\n",
       "      <th>12</th>\n",
       "      <td>LGBMClassifier</td>\n",
       "      <td>LEF1</td>\n",
       "      <td>0.631975</td>\n",
       "      <td>0.595617</td>\n",
       "      <td>0.005548</td>\n",
       "      <td>0.557632</td>\n",
       "      <td>0.002786</td>\n",
       "      <td>0.636364</td>\n",
       "      <td>0.726999</td>\n",
       "      <td>is_unbalance</td>\n",
       "    </tr>\n",
       "    <tr>\n",
       "      <th>13</th>\n",
       "      <td>LGBMClassifier</td>\n",
       "      <td>MYC</td>\n",
       "      <td>0.669603</td>\n",
       "      <td>0.023150</td>\n",
       "      <td>0.001071</td>\n",
       "      <td>0.912581</td>\n",
       "      <td>1.000000</td>\n",
       "      <td>0.000536</td>\n",
       "      <td>0.286691</td>\n",
       "      <td>is_unbalance</td>\n",
       "    </tr>\n",
       "    <tr>\n",
       "      <th>14</th>\n",
       "      <td>XGBClassifier</td>\n",
       "      <td>CTNNB1</td>\n",
       "      <td>0.541579</td>\n",
       "      <td>0.000000</td>\n",
       "      <td>0.000000</td>\n",
       "      <td>0.999269</td>\n",
       "      <td>0.000000</td>\n",
       "      <td>0.000000</td>\n",
       "      <td>0.025109</td>\n",
       "      <td>default</td>\n",
       "    </tr>\n",
       "    <tr>\n",
       "      <th>15</th>\n",
       "      <td>XGBClassifier</td>\n",
       "      <td>Erk</td>\n",
       "      <td>0.589961</td>\n",
       "      <td>0.000000</td>\n",
       "      <td>0.000000</td>\n",
       "      <td>0.998124</td>\n",
       "      <td>0.000000</td>\n",
       "      <td>0.000000</td>\n",
       "      <td>0.034247</td>\n",
       "      <td>default</td>\n",
       "    </tr>\n",
       "    <tr>\n",
       "      <th>16</th>\n",
       "      <td>XGBClassifier</td>\n",
       "      <td>Ikk2</td>\n",
       "      <td>0.544096</td>\n",
       "      <td>0.000000</td>\n",
       "      <td>0.000000</td>\n",
       "      <td>0.958269</td>\n",
       "      <td>0.000000</td>\n",
       "      <td>0.000000</td>\n",
       "      <td>0.254006</td>\n",
       "      <td>default</td>\n",
       "    </tr>\n",
       "    <tr>\n",
       "      <th>17</th>\n",
       "      <td>XGBClassifier</td>\n",
       "      <td>IRF4</td>\n",
       "      <td>0.512227</td>\n",
       "      <td>0.000000</td>\n",
       "      <td>0.000000</td>\n",
       "      <td>0.999317</td>\n",
       "      <td>0.000000</td>\n",
       "      <td>0.000000</td>\n",
       "      <td>0.035020</td>\n",
       "      <td>default</td>\n",
       "    </tr>\n",
       "    <tr>\n",
       "      <th>18</th>\n",
       "      <td>XGBClassifier</td>\n",
       "      <td>Jnk</td>\n",
       "      <td>0.569364</td>\n",
       "      <td>0.000000</td>\n",
       "      <td>0.000000</td>\n",
       "      <td>0.966636</td>\n",
       "      <td>0.000000</td>\n",
       "      <td>0.000000</td>\n",
       "      <td>0.175980</td>\n",
       "      <td>default</td>\n",
       "    </tr>\n",
       "    <tr>\n",
       "      <th>19</th>\n",
       "      <td>XGBClassifier</td>\n",
       "      <td>LEF1</td>\n",
       "      <td>0.580766</td>\n",
       "      <td>0.000000</td>\n",
       "      <td>0.000000</td>\n",
       "      <td>0.998061</td>\n",
       "      <td>0.000000</td>\n",
       "      <td>0.000000</td>\n",
       "      <td>0.055468</td>\n",
       "      <td>default</td>\n",
       "    </tr>\n",
       "    <tr>\n",
       "      <th>20</th>\n",
       "      <td>XGBClassifier</td>\n",
       "      <td>MYC</td>\n",
       "      <td>0.580379</td>\n",
       "      <td>0.000000</td>\n",
       "      <td>0.000000</td>\n",
       "      <td>0.912534</td>\n",
       "      <td>0.000000</td>\n",
       "      <td>0.000000</td>\n",
       "      <td>0.419978</td>\n",
       "      <td>default</td>\n",
       "    </tr>\n",
       "  </tbody>\n",
       "</table>\n",
       "</div>"
      ],
      "text/plain": [
       "             Model    Fold   ROC-AUC    G-mean  F1-Score  Accuracy  Precision  \\\n",
       "0   LGBMClassifier  CTNNB1  0.599173  0.000000  0.000000  0.999244   0.000000   \n",
       "1   LGBMClassifier     Erk  0.623835  0.000000  0.000000  0.998110   0.000000   \n",
       "2   LGBMClassifier    Ikk2  0.522583  0.025681  0.001313  0.958131   0.142857   \n",
       "3   LGBMClassifier    IRF4  0.546795  0.000000  0.000000  0.999296   0.000000   \n",
       "4   LGBMClassifier     Jnk  0.557015  0.044354  0.003832  0.965847   0.071429   \n",
       "5   LGBMClassifier    LEF1  0.638872  0.000000  0.000000  0.997914   0.000000   \n",
       "6   LGBMClassifier     MYC  0.601180  0.013364  0.000356  0.912300   0.058824   \n",
       "7   LGBMClassifier  CTNNB1  0.568392  0.535276  0.001946  0.687450   0.000975   \n",
       "8   LGBMClassifier     Erk  0.626002  0.575362  0.006226  0.727777   0.003134   \n",
       "9   LGBMClassifier    Ikk2  0.586635  0.132975  0.030128  0.952149   0.097708   \n",
       "10  LGBMClassifier    IRF4  0.535977  0.508405  0.001411  0.487440   0.000706   \n",
       "11  LGBMClassifier     Jnk  0.619648  0.275247  0.067921  0.927490   0.059463   \n",
       "12  LGBMClassifier    LEF1  0.631975  0.595617  0.005548  0.557632   0.002786   \n",
       "13  LGBMClassifier     MYC  0.669603  0.023150  0.001071  0.912581   1.000000   \n",
       "14   XGBClassifier  CTNNB1  0.541579  0.000000  0.000000  0.999269   0.000000   \n",
       "15   XGBClassifier     Erk  0.589961  0.000000  0.000000  0.998124   0.000000   \n",
       "16   XGBClassifier    Ikk2  0.544096  0.000000  0.000000  0.958269   0.000000   \n",
       "17   XGBClassifier    IRF4  0.512227  0.000000  0.000000  0.999317   0.000000   \n",
       "18   XGBClassifier     Jnk  0.569364  0.000000  0.000000  0.966636   0.000000   \n",
       "19   XGBClassifier    LEF1  0.580766  0.000000  0.000000  0.998061   0.000000   \n",
       "20   XGBClassifier     MYC  0.580379  0.000000  0.000000  0.912534   0.000000   \n",
       "\n",
       "      Recall   Logloss   Description  \n",
       "0   0.000000  0.028031       default  \n",
       "1   0.000000  0.033098       default  \n",
       "2   0.000660  0.299633       default  \n",
       "3   0.000000  0.039057       default  \n",
       "4   0.001969  0.209958       default  \n",
       "5   0.000000  0.047929       default  \n",
       "6   0.000179  0.473882       default  \n",
       "7   0.416667  0.495957  is_unbalance  \n",
       "8   0.454545  0.480927  is_unbalance  \n",
       "9   0.017810  0.192323  is_unbalance  \n",
       "10  0.530303  0.709721  is_unbalance  \n",
       "11  0.079184  0.224323  is_unbalance  \n",
       "12  0.636364  0.726999  is_unbalance  \n",
       "13  0.000536  0.286691  is_unbalance  \n",
       "14  0.000000  0.025109       default  \n",
       "15  0.000000  0.034247       default  \n",
       "16  0.000000  0.254006       default  \n",
       "17  0.000000  0.035020       default  \n",
       "18  0.000000  0.175980       default  \n",
       "19  0.000000  0.055468       default  \n",
       "20  0.000000  0.419978       default  "
      ]
     },
     "execution_count": 91,
     "metadata": {},
     "output_type": "execute_result"
    }
   ],
   "source": [
    "results"
   ]
  },
  {
   "cell_type": "code",
   "execution_count": 92,
   "metadata": {},
   "outputs": [],
   "source": [
    "results.to_csv('results.csv', index=False)"
   ]
  },
  {
   "cell_type": "code",
   "execution_count": 93,
   "metadata": {},
   "outputs": [
    {
     "name": "stdout",
     "output_type": "stream",
     "text": [
      "Test fold: CTNNB1.csv\n",
      "Train fold: Erk.csv\n",
      "Train fold: Ikk2.csv\n",
      "Train fold: IRF4.csv\n",
      "Train fold: Jnk.csv\n",
      "Train fold: LEF1.csv\n",
      "Train fold: MYC.csv\n",
      "Evaluating...\n"
     ]
    },
    {
     "name": "stderr",
     "output_type": "stream",
     "text": [
      "/home/robert/anaconda3/envs/kaggle/lib/python3.6/site-packages/sklearn/preprocessing/label.py:151: DeprecationWarning: The truth value of an empty array is ambiguous. Returning False, but in future this will result in an error. Use `array.size > 0` to check that an array is not empty.\n",
      "  if diff:\n",
      "/home/robert/anaconda3/envs/kaggle/lib/python3.6/site-packages/sklearn/metrics/classification.py:1135: UndefinedMetricWarning: F-score is ill-defined and being set to 0.0 due to no predicted samples.\n",
      "  'precision', 'predicted', average, warn_for)\n",
      "/home/robert/anaconda3/envs/kaggle/lib/python3.6/site-packages/sklearn/metrics/classification.py:1135: UndefinedMetricWarning: Precision is ill-defined and being set to 0.0 due to no predicted samples.\n",
      "  'precision', 'predicted', average, warn_for)\n"
     ]
    },
    {
     "name": "stdout",
     "output_type": "stream",
     "text": [
      "Confusion matrix:\n",
      "[[81978     0]\n",
      " [   60     0]]\n",
      "           Model    Fold   ROC-AUC  G-mean  F1-Score  Accuracy  Precision  \\\n",
      "0  XGBClassifier  CTNNB1  0.622935     0.0       0.0  0.999269        0.0   \n",
      "\n",
      "   Recall   Logloss Description  \n",
      "0     0.0  0.033899      custom  \n",
      "Test fold: Erk.csv\n",
      "Train fold: CTNNB1.csv\n",
      "Train fold: Ikk2.csv\n",
      "Train fold: IRF4.csv\n",
      "Train fold: Jnk.csv\n",
      "Train fold: LEF1.csv\n",
      "Train fold: MYC.csv\n",
      "Evaluating...\n"
     ]
    },
    {
     "name": "stderr",
     "output_type": "stream",
     "text": [
      "/home/robert/anaconda3/envs/kaggle/lib/python3.6/site-packages/sklearn/preprocessing/label.py:151: DeprecationWarning: The truth value of an empty array is ambiguous. Returning False, but in future this will result in an error. Use `array.size > 0` to check that an array is not empty.\n",
      "  if diff:\n"
     ]
    },
    {
     "name": "stdout",
     "output_type": "stream",
     "text": [
      "Confusion matrix:\n",
      "[[140455     11]\n",
      " [   264      0]]\n",
      "           Model Fold   ROC-AUC  G-mean  F1-Score  Accuracy  Precision  \\\n",
      "0  XGBClassifier  Erk  0.657909     0.0       0.0  0.998046        0.0   \n",
      "\n",
      "   Recall   Logloss Description  \n",
      "0     0.0  0.039443      custom  \n",
      "Test fold: Ikk2.csv\n",
      "Train fold: CTNNB1.csv\n",
      "Train fold: Erk.csv\n",
      "Train fold: IRF4.csv\n",
      "Train fold: Jnk.csv\n",
      "Train fold: LEF1.csv\n",
      "Train fold: MYC.csv\n",
      "Evaluating...\n"
     ]
    },
    {
     "name": "stderr",
     "output_type": "stream",
     "text": [
      "/home/robert/anaconda3/envs/kaggle/lib/python3.6/site-packages/sklearn/preprocessing/label.py:151: DeprecationWarning: The truth value of an empty array is ambiguous. Returning False, but in future this will result in an error. Use `array.size > 0` to check that an array is not empty.\n",
      "  if diff:\n",
      "/home/robert/anaconda3/envs/kaggle/lib/python3.6/site-packages/sklearn/metrics/classification.py:1135: UndefinedMetricWarning: F-score is ill-defined and being set to 0.0 due to no predicted samples.\n",
      "  'precision', 'predicted', average, warn_for)\n",
      "/home/robert/anaconda3/envs/kaggle/lib/python3.6/site-packages/sklearn/metrics/classification.py:1135: UndefinedMetricWarning: Precision is ill-defined and being set to 0.0 due to no predicted samples.\n",
      "  'precision', 'predicted', average, warn_for)\n"
     ]
    },
    {
     "name": "stdout",
     "output_type": "stream",
     "text": [
      "Confusion matrix:\n",
      "[[104436      0]\n",
      " [  4548      0]]\n",
      "           Model  Fold   ROC-AUC  G-mean  F1-Score  Accuracy  Precision  \\\n",
      "0  XGBClassifier  Ikk2  0.605535     0.0       0.0  0.958269        0.0   \n",
      "\n",
      "   Recall   Logloss Description  \n",
      "0     0.0  0.265768      custom  \n",
      "Test fold: IRF4.csv\n",
      "Train fold: CTNNB1.csv\n",
      "Train fold: Erk.csv\n",
      "Train fold: Ikk2.csv\n",
      "Train fold: Jnk.csv\n",
      "Train fold: LEF1.csv\n",
      "Train fold: MYC.csv\n",
      "Evaluating...\n"
     ]
    },
    {
     "name": "stderr",
     "output_type": "stream",
     "text": [
      "/home/robert/anaconda3/envs/kaggle/lib/python3.6/site-packages/sklearn/preprocessing/label.py:151: DeprecationWarning: The truth value of an empty array is ambiguous. Returning False, but in future this will result in an error. Use `array.size > 0` to check that an array is not empty.\n",
      "  if diff:\n",
      "/home/robert/anaconda3/envs/kaggle/lib/python3.6/site-packages/sklearn/metrics/classification.py:1135: UndefinedMetricWarning: F-score is ill-defined and being set to 0.0 due to no predicted samples.\n",
      "  'precision', 'predicted', average, warn_for)\n",
      "/home/robert/anaconda3/envs/kaggle/lib/python3.6/site-packages/sklearn/metrics/classification.py:1135: UndefinedMetricWarning: Precision is ill-defined and being set to 0.0 due to no predicted samples.\n",
      "  'precision', 'predicted', average, warn_for)\n"
     ]
    },
    {
     "name": "stdout",
     "output_type": "stream",
     "text": [
      "Confusion matrix:\n",
      "[[96588     0]\n",
      " [   66     0]]\n",
      "           Model  Fold   ROC-AUC  G-mean  F1-Score  Accuracy  Precision  \\\n",
      "0  XGBClassifier  IRF4  0.527423     0.0       0.0  0.999317        0.0   \n",
      "\n",
      "   Recall   Logloss Description  \n",
      "0     0.0  0.051906      custom  \n",
      "Test fold: Jnk.csv\n",
      "Train fold: CTNNB1.csv\n",
      "Train fold: Erk.csv\n",
      "Train fold: Ikk2.csv\n",
      "Train fold: IRF4.csv\n",
      "Train fold: LEF1.csv\n",
      "Train fold: MYC.csv\n",
      "Evaluating...\n"
     ]
    },
    {
     "name": "stderr",
     "output_type": "stream",
     "text": [
      "/home/robert/anaconda3/envs/kaggle/lib/python3.6/site-packages/sklearn/preprocessing/label.py:151: DeprecationWarning: The truth value of an empty array is ambiguous. Returning False, but in future this will result in an error. Use `array.size > 0` to check that an array is not empty.\n",
      "  if diff:\n",
      "/home/robert/anaconda3/envs/kaggle/lib/python3.6/site-packages/sklearn/metrics/classification.py:1135: UndefinedMetricWarning: F-score is ill-defined and being set to 0.0 due to no predicted samples.\n",
      "  'precision', 'predicted', average, warn_for)\n",
      "/home/robert/anaconda3/envs/kaggle/lib/python3.6/site-packages/sklearn/metrics/classification.py:1135: UndefinedMetricWarning: Precision is ill-defined and being set to 0.0 due to no predicted samples.\n",
      "  'precision', 'predicted', average, warn_for)\n"
     ]
    },
    {
     "name": "stdout",
     "output_type": "stream",
     "text": [
      "Confusion matrix:\n",
      "[[205992      0]\n",
      " [  7110      0]]\n",
      "           Model Fold   ROC-AUC  G-mean  F1-Score  Accuracy  Precision  \\\n",
      "0  XGBClassifier  Jnk  0.624316     0.0       0.0  0.966636        0.0   \n",
      "\n",
      "   Recall   Logloss Description  \n",
      "0     0.0  0.172499      custom  \n",
      "Test fold: LEF1.csv\n",
      "Train fold: CTNNB1.csv\n",
      "Train fold: Erk.csv\n",
      "Train fold: Ikk2.csv\n",
      "Train fold: IRF4.csv\n",
      "Train fold: Jnk.csv\n",
      "Train fold: MYC.csv\n",
      "Evaluating...\n"
     ]
    },
    {
     "name": "stderr",
     "output_type": "stream",
     "text": [
      "/home/robert/anaconda3/envs/kaggle/lib/python3.6/site-packages/sklearn/preprocessing/label.py:151: DeprecationWarning: The truth value of an empty array is ambiguous. Returning False, but in future this will result in an error. Use `array.size > 0` to check that an array is not empty.\n",
      "  if diff:\n"
     ]
    },
    {
     "name": "stdout",
     "output_type": "stream",
     "text": [
      "Confusion matrix:\n",
      "[[67913    25]\n",
      " [  132     0]]\n",
      "           Model  Fold   ROC-AUC  G-mean  F1-Score  Accuracy  Precision  \\\n",
      "0  XGBClassifier  LEF1  0.685018     0.0       0.0  0.997694        0.0   \n",
      "\n",
      "   Recall  Logloss Description  \n",
      "0     0.0  0.06492      custom  \n",
      "Test fold: MYC.csv\n",
      "Train fold: CTNNB1.csv\n",
      "Train fold: Erk.csv\n",
      "Train fold: Ikk2.csv\n",
      "Train fold: IRF4.csv\n",
      "Train fold: Jnk.csv\n",
      "Train fold: LEF1.csv\n",
      "Evaluating...\n"
     ]
    },
    {
     "name": "stderr",
     "output_type": "stream",
     "text": [
      "/home/robert/anaconda3/envs/kaggle/lib/python3.6/site-packages/sklearn/preprocessing/label.py:151: DeprecationWarning: The truth value of an empty array is ambiguous. Returning False, but in future this will result in an error. Use `array.size > 0` to check that an array is not empty.\n",
      "  if diff:\n"
     ]
    },
    {
     "name": "stdout",
     "output_type": "stream",
     "text": [
      "Confusion matrix:\n",
      "[[58404     0]\n",
      " [ 5598     0]]\n",
      "           Model Fold   ROC-AUC  G-mean  F1-Score  Accuracy  Precision  \\\n",
      "0  XGBClassifier  MYC  0.642494     0.0       0.0  0.912534        0.0   \n",
      "\n",
      "   Recall   Logloss Description  \n",
      "0     0.0  0.402306      custom  \n"
     ]
    },
    {
     "name": "stderr",
     "output_type": "stream",
     "text": [
      "/home/robert/anaconda3/envs/kaggle/lib/python3.6/site-packages/sklearn/metrics/classification.py:1135: UndefinedMetricWarning: F-score is ill-defined and being set to 0.0 due to no predicted samples.\n",
      "  'precision', 'predicted', average, warn_for)\n",
      "/home/robert/anaconda3/envs/kaggle/lib/python3.6/site-packages/sklearn/metrics/classification.py:1135: UndefinedMetricWarning: Precision is ill-defined and being set to 0.0 due to no predicted samples.\n",
      "  'precision', 'predicted', average, warn_for)\n"
     ]
    }
   ],
   "source": [
    "xgb = XGBClassifier(\n",
    "    n_estimators=400,\n",
    "    max_depth=4,\n",
    "    objective=\"binary:logistic\",\n",
    "    learning_rate=0.07, \n",
    "    subsample=.8,\n",
    "    min_child_weight=6,\n",
    "    colsample_bytree=.8,\n",
    "    scale_pos_weight=1.6,\n",
    "    gamma=10,\n",
    "    reg_alpha=8,\n",
    "    reg_lambda=1.3,\n",
    ")\n",
    "results = evaluate_classifier(xgb, results, desc='custom')"
   ]
  },
  {
   "cell_type": "code",
   "execution_count": 94,
   "metadata": {},
   "outputs": [
    {
     "data": {
      "text/html": [
       "<div>\n",
       "<style scoped>\n",
       "    .dataframe tbody tr th:only-of-type {\n",
       "        vertical-align: middle;\n",
       "    }\n",
       "\n",
       "    .dataframe tbody tr th {\n",
       "        vertical-align: top;\n",
       "    }\n",
       "\n",
       "    .dataframe thead th {\n",
       "        text-align: right;\n",
       "    }\n",
       "</style>\n",
       "<table border=\"1\" class=\"dataframe\">\n",
       "  <thead>\n",
       "    <tr style=\"text-align: right;\">\n",
       "      <th></th>\n",
       "      <th>Model</th>\n",
       "      <th>Fold</th>\n",
       "      <th>ROC-AUC</th>\n",
       "      <th>G-mean</th>\n",
       "      <th>F1-Score</th>\n",
       "      <th>Accuracy</th>\n",
       "      <th>Precision</th>\n",
       "      <th>Recall</th>\n",
       "      <th>Logloss</th>\n",
       "      <th>Description</th>\n",
       "    </tr>\n",
       "  </thead>\n",
       "  <tbody>\n",
       "    <tr>\n",
       "      <th>0</th>\n",
       "      <td>LGBMClassifier</td>\n",
       "      <td>CTNNB1</td>\n",
       "      <td>0.599173</td>\n",
       "      <td>0.000000</td>\n",
       "      <td>0.000000</td>\n",
       "      <td>0.999244</td>\n",
       "      <td>0.000000</td>\n",
       "      <td>0.000000</td>\n",
       "      <td>0.028031</td>\n",
       "      <td>default</td>\n",
       "    </tr>\n",
       "    <tr>\n",
       "      <th>1</th>\n",
       "      <td>LGBMClassifier</td>\n",
       "      <td>Erk</td>\n",
       "      <td>0.623835</td>\n",
       "      <td>0.000000</td>\n",
       "      <td>0.000000</td>\n",
       "      <td>0.998110</td>\n",
       "      <td>0.000000</td>\n",
       "      <td>0.000000</td>\n",
       "      <td>0.033098</td>\n",
       "      <td>default</td>\n",
       "    </tr>\n",
       "    <tr>\n",
       "      <th>2</th>\n",
       "      <td>LGBMClassifier</td>\n",
       "      <td>Ikk2</td>\n",
       "      <td>0.522583</td>\n",
       "      <td>0.025681</td>\n",
       "      <td>0.001313</td>\n",
       "      <td>0.958131</td>\n",
       "      <td>0.142857</td>\n",
       "      <td>0.000660</td>\n",
       "      <td>0.299633</td>\n",
       "      <td>default</td>\n",
       "    </tr>\n",
       "    <tr>\n",
       "      <th>3</th>\n",
       "      <td>LGBMClassifier</td>\n",
       "      <td>IRF4</td>\n",
       "      <td>0.546795</td>\n",
       "      <td>0.000000</td>\n",
       "      <td>0.000000</td>\n",
       "      <td>0.999296</td>\n",
       "      <td>0.000000</td>\n",
       "      <td>0.000000</td>\n",
       "      <td>0.039057</td>\n",
       "      <td>default</td>\n",
       "    </tr>\n",
       "    <tr>\n",
       "      <th>4</th>\n",
       "      <td>LGBMClassifier</td>\n",
       "      <td>Jnk</td>\n",
       "      <td>0.557015</td>\n",
       "      <td>0.044354</td>\n",
       "      <td>0.003832</td>\n",
       "      <td>0.965847</td>\n",
       "      <td>0.071429</td>\n",
       "      <td>0.001969</td>\n",
       "      <td>0.209958</td>\n",
       "      <td>default</td>\n",
       "    </tr>\n",
       "    <tr>\n",
       "      <th>5</th>\n",
       "      <td>LGBMClassifier</td>\n",
       "      <td>LEF1</td>\n",
       "      <td>0.638872</td>\n",
       "      <td>0.000000</td>\n",
       "      <td>0.000000</td>\n",
       "      <td>0.997914</td>\n",
       "      <td>0.000000</td>\n",
       "      <td>0.000000</td>\n",
       "      <td>0.047929</td>\n",
       "      <td>default</td>\n",
       "    </tr>\n",
       "    <tr>\n",
       "      <th>6</th>\n",
       "      <td>LGBMClassifier</td>\n",
       "      <td>MYC</td>\n",
       "      <td>0.601180</td>\n",
       "      <td>0.013364</td>\n",
       "      <td>0.000356</td>\n",
       "      <td>0.912300</td>\n",
       "      <td>0.058824</td>\n",
       "      <td>0.000179</td>\n",
       "      <td>0.473882</td>\n",
       "      <td>default</td>\n",
       "    </tr>\n",
       "    <tr>\n",
       "      <th>7</th>\n",
       "      <td>LGBMClassifier</td>\n",
       "      <td>CTNNB1</td>\n",
       "      <td>0.568392</td>\n",
       "      <td>0.535276</td>\n",
       "      <td>0.001946</td>\n",
       "      <td>0.687450</td>\n",
       "      <td>0.000975</td>\n",
       "      <td>0.416667</td>\n",
       "      <td>0.495957</td>\n",
       "      <td>is_unbalance</td>\n",
       "    </tr>\n",
       "    <tr>\n",
       "      <th>8</th>\n",
       "      <td>LGBMClassifier</td>\n",
       "      <td>Erk</td>\n",
       "      <td>0.626002</td>\n",
       "      <td>0.575362</td>\n",
       "      <td>0.006226</td>\n",
       "      <td>0.727777</td>\n",
       "      <td>0.003134</td>\n",
       "      <td>0.454545</td>\n",
       "      <td>0.480927</td>\n",
       "      <td>is_unbalance</td>\n",
       "    </tr>\n",
       "    <tr>\n",
       "      <th>9</th>\n",
       "      <td>LGBMClassifier</td>\n",
       "      <td>Ikk2</td>\n",
       "      <td>0.586635</td>\n",
       "      <td>0.132975</td>\n",
       "      <td>0.030128</td>\n",
       "      <td>0.952149</td>\n",
       "      <td>0.097708</td>\n",
       "      <td>0.017810</td>\n",
       "      <td>0.192323</td>\n",
       "      <td>is_unbalance</td>\n",
       "    </tr>\n",
       "    <tr>\n",
       "      <th>10</th>\n",
       "      <td>LGBMClassifier</td>\n",
       "      <td>IRF4</td>\n",
       "      <td>0.535977</td>\n",
       "      <td>0.508405</td>\n",
       "      <td>0.001411</td>\n",
       "      <td>0.487440</td>\n",
       "      <td>0.000706</td>\n",
       "      <td>0.530303</td>\n",
       "      <td>0.709721</td>\n",
       "      <td>is_unbalance</td>\n",
       "    </tr>\n",
       "    <tr>\n",
       "      <th>11</th>\n",
       "      <td>LGBMClassifier</td>\n",
       "      <td>Jnk</td>\n",
       "      <td>0.619648</td>\n",
       "      <td>0.275247</td>\n",
       "      <td>0.067921</td>\n",
       "      <td>0.927490</td>\n",
       "      <td>0.059463</td>\n",
       "      <td>0.079184</td>\n",
       "      <td>0.224323</td>\n",
       "      <td>is_unbalance</td>\n",
       "    </tr>\n",
       "    <tr>\n",
       "      <th>12</th>\n",
       "      <td>LGBMClassifier</td>\n",
       "      <td>LEF1</td>\n",
       "      <td>0.631975</td>\n",
       "      <td>0.595617</td>\n",
       "      <td>0.005548</td>\n",
       "      <td>0.557632</td>\n",
       "      <td>0.002786</td>\n",
       "      <td>0.636364</td>\n",
       "      <td>0.726999</td>\n",
       "      <td>is_unbalance</td>\n",
       "    </tr>\n",
       "    <tr>\n",
       "      <th>13</th>\n",
       "      <td>LGBMClassifier</td>\n",
       "      <td>MYC</td>\n",
       "      <td>0.669603</td>\n",
       "      <td>0.023150</td>\n",
       "      <td>0.001071</td>\n",
       "      <td>0.912581</td>\n",
       "      <td>1.000000</td>\n",
       "      <td>0.000536</td>\n",
       "      <td>0.286691</td>\n",
       "      <td>is_unbalance</td>\n",
       "    </tr>\n",
       "    <tr>\n",
       "      <th>14</th>\n",
       "      <td>XGBClassifier</td>\n",
       "      <td>CTNNB1</td>\n",
       "      <td>0.541579</td>\n",
       "      <td>0.000000</td>\n",
       "      <td>0.000000</td>\n",
       "      <td>0.999269</td>\n",
       "      <td>0.000000</td>\n",
       "      <td>0.000000</td>\n",
       "      <td>0.025109</td>\n",
       "      <td>default</td>\n",
       "    </tr>\n",
       "    <tr>\n",
       "      <th>15</th>\n",
       "      <td>XGBClassifier</td>\n",
       "      <td>Erk</td>\n",
       "      <td>0.589961</td>\n",
       "      <td>0.000000</td>\n",
       "      <td>0.000000</td>\n",
       "      <td>0.998124</td>\n",
       "      <td>0.000000</td>\n",
       "      <td>0.000000</td>\n",
       "      <td>0.034247</td>\n",
       "      <td>default</td>\n",
       "    </tr>\n",
       "    <tr>\n",
       "      <th>16</th>\n",
       "      <td>XGBClassifier</td>\n",
       "      <td>Ikk2</td>\n",
       "      <td>0.544096</td>\n",
       "      <td>0.000000</td>\n",
       "      <td>0.000000</td>\n",
       "      <td>0.958269</td>\n",
       "      <td>0.000000</td>\n",
       "      <td>0.000000</td>\n",
       "      <td>0.254006</td>\n",
       "      <td>default</td>\n",
       "    </tr>\n",
       "    <tr>\n",
       "      <th>17</th>\n",
       "      <td>XGBClassifier</td>\n",
       "      <td>IRF4</td>\n",
       "      <td>0.512227</td>\n",
       "      <td>0.000000</td>\n",
       "      <td>0.000000</td>\n",
       "      <td>0.999317</td>\n",
       "      <td>0.000000</td>\n",
       "      <td>0.000000</td>\n",
       "      <td>0.035020</td>\n",
       "      <td>default</td>\n",
       "    </tr>\n",
       "    <tr>\n",
       "      <th>18</th>\n",
       "      <td>XGBClassifier</td>\n",
       "      <td>Jnk</td>\n",
       "      <td>0.569364</td>\n",
       "      <td>0.000000</td>\n",
       "      <td>0.000000</td>\n",
       "      <td>0.966636</td>\n",
       "      <td>0.000000</td>\n",
       "      <td>0.000000</td>\n",
       "      <td>0.175980</td>\n",
       "      <td>default</td>\n",
       "    </tr>\n",
       "    <tr>\n",
       "      <th>19</th>\n",
       "      <td>XGBClassifier</td>\n",
       "      <td>LEF1</td>\n",
       "      <td>0.580766</td>\n",
       "      <td>0.000000</td>\n",
       "      <td>0.000000</td>\n",
       "      <td>0.998061</td>\n",
       "      <td>0.000000</td>\n",
       "      <td>0.000000</td>\n",
       "      <td>0.055468</td>\n",
       "      <td>default</td>\n",
       "    </tr>\n",
       "    <tr>\n",
       "      <th>20</th>\n",
       "      <td>XGBClassifier</td>\n",
       "      <td>MYC</td>\n",
       "      <td>0.580379</td>\n",
       "      <td>0.000000</td>\n",
       "      <td>0.000000</td>\n",
       "      <td>0.912534</td>\n",
       "      <td>0.000000</td>\n",
       "      <td>0.000000</td>\n",
       "      <td>0.419978</td>\n",
       "      <td>default</td>\n",
       "    </tr>\n",
       "    <tr>\n",
       "      <th>21</th>\n",
       "      <td>XGBClassifier</td>\n",
       "      <td>CTNNB1</td>\n",
       "      <td>0.622935</td>\n",
       "      <td>0.000000</td>\n",
       "      <td>0.000000</td>\n",
       "      <td>0.999269</td>\n",
       "      <td>0.000000</td>\n",
       "      <td>0.000000</td>\n",
       "      <td>0.033899</td>\n",
       "      <td>custom</td>\n",
       "    </tr>\n",
       "    <tr>\n",
       "      <th>22</th>\n",
       "      <td>XGBClassifier</td>\n",
       "      <td>Erk</td>\n",
       "      <td>0.657909</td>\n",
       "      <td>0.000000</td>\n",
       "      <td>0.000000</td>\n",
       "      <td>0.998046</td>\n",
       "      <td>0.000000</td>\n",
       "      <td>0.000000</td>\n",
       "      <td>0.039443</td>\n",
       "      <td>custom</td>\n",
       "    </tr>\n",
       "    <tr>\n",
       "      <th>23</th>\n",
       "      <td>XGBClassifier</td>\n",
       "      <td>Ikk2</td>\n",
       "      <td>0.605535</td>\n",
       "      <td>0.000000</td>\n",
       "      <td>0.000000</td>\n",
       "      <td>0.958269</td>\n",
       "      <td>0.000000</td>\n",
       "      <td>0.000000</td>\n",
       "      <td>0.265768</td>\n",
       "      <td>custom</td>\n",
       "    </tr>\n",
       "    <tr>\n",
       "      <th>24</th>\n",
       "      <td>XGBClassifier</td>\n",
       "      <td>IRF4</td>\n",
       "      <td>0.527423</td>\n",
       "      <td>0.000000</td>\n",
       "      <td>0.000000</td>\n",
       "      <td>0.999317</td>\n",
       "      <td>0.000000</td>\n",
       "      <td>0.000000</td>\n",
       "      <td>0.051906</td>\n",
       "      <td>custom</td>\n",
       "    </tr>\n",
       "    <tr>\n",
       "      <th>25</th>\n",
       "      <td>XGBClassifier</td>\n",
       "      <td>Jnk</td>\n",
       "      <td>0.624316</td>\n",
       "      <td>0.000000</td>\n",
       "      <td>0.000000</td>\n",
       "      <td>0.966636</td>\n",
       "      <td>0.000000</td>\n",
       "      <td>0.000000</td>\n",
       "      <td>0.172499</td>\n",
       "      <td>custom</td>\n",
       "    </tr>\n",
       "    <tr>\n",
       "      <th>26</th>\n",
       "      <td>XGBClassifier</td>\n",
       "      <td>LEF1</td>\n",
       "      <td>0.685018</td>\n",
       "      <td>0.000000</td>\n",
       "      <td>0.000000</td>\n",
       "      <td>0.997694</td>\n",
       "      <td>0.000000</td>\n",
       "      <td>0.000000</td>\n",
       "      <td>0.064920</td>\n",
       "      <td>custom</td>\n",
       "    </tr>\n",
       "    <tr>\n",
       "      <th>27</th>\n",
       "      <td>XGBClassifier</td>\n",
       "      <td>MYC</td>\n",
       "      <td>0.642494</td>\n",
       "      <td>0.000000</td>\n",
       "      <td>0.000000</td>\n",
       "      <td>0.912534</td>\n",
       "      <td>0.000000</td>\n",
       "      <td>0.000000</td>\n",
       "      <td>0.402306</td>\n",
       "      <td>custom</td>\n",
       "    </tr>\n",
       "  </tbody>\n",
       "</table>\n",
       "</div>"
      ],
      "text/plain": [
       "             Model    Fold   ROC-AUC    G-mean  F1-Score  Accuracy  Precision  \\\n",
       "0   LGBMClassifier  CTNNB1  0.599173  0.000000  0.000000  0.999244   0.000000   \n",
       "1   LGBMClassifier     Erk  0.623835  0.000000  0.000000  0.998110   0.000000   \n",
       "2   LGBMClassifier    Ikk2  0.522583  0.025681  0.001313  0.958131   0.142857   \n",
       "3   LGBMClassifier    IRF4  0.546795  0.000000  0.000000  0.999296   0.000000   \n",
       "4   LGBMClassifier     Jnk  0.557015  0.044354  0.003832  0.965847   0.071429   \n",
       "5   LGBMClassifier    LEF1  0.638872  0.000000  0.000000  0.997914   0.000000   \n",
       "6   LGBMClassifier     MYC  0.601180  0.013364  0.000356  0.912300   0.058824   \n",
       "7   LGBMClassifier  CTNNB1  0.568392  0.535276  0.001946  0.687450   0.000975   \n",
       "8   LGBMClassifier     Erk  0.626002  0.575362  0.006226  0.727777   0.003134   \n",
       "9   LGBMClassifier    Ikk2  0.586635  0.132975  0.030128  0.952149   0.097708   \n",
       "10  LGBMClassifier    IRF4  0.535977  0.508405  0.001411  0.487440   0.000706   \n",
       "11  LGBMClassifier     Jnk  0.619648  0.275247  0.067921  0.927490   0.059463   \n",
       "12  LGBMClassifier    LEF1  0.631975  0.595617  0.005548  0.557632   0.002786   \n",
       "13  LGBMClassifier     MYC  0.669603  0.023150  0.001071  0.912581   1.000000   \n",
       "14   XGBClassifier  CTNNB1  0.541579  0.000000  0.000000  0.999269   0.000000   \n",
       "15   XGBClassifier     Erk  0.589961  0.000000  0.000000  0.998124   0.000000   \n",
       "16   XGBClassifier    Ikk2  0.544096  0.000000  0.000000  0.958269   0.000000   \n",
       "17   XGBClassifier    IRF4  0.512227  0.000000  0.000000  0.999317   0.000000   \n",
       "18   XGBClassifier     Jnk  0.569364  0.000000  0.000000  0.966636   0.000000   \n",
       "19   XGBClassifier    LEF1  0.580766  0.000000  0.000000  0.998061   0.000000   \n",
       "20   XGBClassifier     MYC  0.580379  0.000000  0.000000  0.912534   0.000000   \n",
       "21   XGBClassifier  CTNNB1  0.622935  0.000000  0.000000  0.999269   0.000000   \n",
       "22   XGBClassifier     Erk  0.657909  0.000000  0.000000  0.998046   0.000000   \n",
       "23   XGBClassifier    Ikk2  0.605535  0.000000  0.000000  0.958269   0.000000   \n",
       "24   XGBClassifier    IRF4  0.527423  0.000000  0.000000  0.999317   0.000000   \n",
       "25   XGBClassifier     Jnk  0.624316  0.000000  0.000000  0.966636   0.000000   \n",
       "26   XGBClassifier    LEF1  0.685018  0.000000  0.000000  0.997694   0.000000   \n",
       "27   XGBClassifier     MYC  0.642494  0.000000  0.000000  0.912534   0.000000   \n",
       "\n",
       "      Recall   Logloss   Description  \n",
       "0   0.000000  0.028031       default  \n",
       "1   0.000000  0.033098       default  \n",
       "2   0.000660  0.299633       default  \n",
       "3   0.000000  0.039057       default  \n",
       "4   0.001969  0.209958       default  \n",
       "5   0.000000  0.047929       default  \n",
       "6   0.000179  0.473882       default  \n",
       "7   0.416667  0.495957  is_unbalance  \n",
       "8   0.454545  0.480927  is_unbalance  \n",
       "9   0.017810  0.192323  is_unbalance  \n",
       "10  0.530303  0.709721  is_unbalance  \n",
       "11  0.079184  0.224323  is_unbalance  \n",
       "12  0.636364  0.726999  is_unbalance  \n",
       "13  0.000536  0.286691  is_unbalance  \n",
       "14  0.000000  0.025109       default  \n",
       "15  0.000000  0.034247       default  \n",
       "16  0.000000  0.254006       default  \n",
       "17  0.000000  0.035020       default  \n",
       "18  0.000000  0.175980       default  \n",
       "19  0.000000  0.055468       default  \n",
       "20  0.000000  0.419978       default  \n",
       "21  0.000000  0.033899        custom  \n",
       "22  0.000000  0.039443        custom  \n",
       "23  0.000000  0.265768        custom  \n",
       "24  0.000000  0.051906        custom  \n",
       "25  0.000000  0.172499        custom  \n",
       "26  0.000000  0.064920        custom  \n",
       "27  0.000000  0.402306        custom  "
      ]
     },
     "execution_count": 94,
     "metadata": {},
     "output_type": "execute_result"
    }
   ],
   "source": [
    "results"
   ]
  },
  {
   "cell_type": "code",
   "execution_count": 98,
   "metadata": {},
   "outputs": [],
   "source": [
    "results[results['Description']=='is_unbalance'].\\\n",
    "    to_csv('results_lightgbm.csv', index=False)"
   ]
  },
  {
   "cell_type": "code",
   "execution_count": null,
   "metadata": {},
   "outputs": [],
   "source": []
  },
  {
   "cell_type": "code",
   "execution_count": null,
   "metadata": {},
   "outputs": [],
   "source": []
  },
  {
   "cell_type": "code",
   "execution_count": null,
   "metadata": {},
   "outputs": [],
   "source": []
  },
  {
   "cell_type": "code",
   "execution_count": 64,
   "metadata": {},
   "outputs": [
    {
     "data": {
      "text/plain": [
       "LGBMClassifier(boosting_type='gbdt', class_weight=None, colsample_bytree=1.0,\n",
       "        learning_rate=0.1, max_depth=-1, min_child_samples=20,\n",
       "        min_child_weight=0.001, min_split_gain=0.0, n_estimators=100,\n",
       "        n_jobs=-1, num_leaves=31, objective=None, random_state=None,\n",
       "        reg_alpha=0.0, reg_lambda=0.0, silent=True, subsample=1.0,\n",
       "        subsample_for_bin=200000, subsample_freq=1)"
      ]
     },
     "execution_count": 64,
     "metadata": {},
     "output_type": "execute_result"
    }
   ],
   "source": [
    "model = LGBMClassifier()\n",
    "model.fit(train[[col for col in train.columns if 'cause' in col or 'effect' in col]], train['Target'])\n",
    "y_pred = model.predict(test[[col for col in test.columns if 'cause' in col or 'effect' in col]])\n",
    "y_pred_proba = model.predict_proba(test[[col for col in test.columns if 'cause' in col or 'effect' in col]])[:,1]"
   ]
  },
  {
   "cell_type": "code",
   "execution_count": 67,
   "metadata": {},
   "outputs": [
    {
     "name": "stderr",
     "output_type": "stream",
     "text": [
      "/home/robert/anaconda3/envs/kaggle/lib/python3.6/site-packages/sklearn/preprocessing/label.py:151: DeprecationWarning: The truth value of an empty array is ambiguous. Returning False, but in future this will result in an error. Use `array.size > 0` to check that an array is not empty.\n",
      "  if diff:\n"
     ]
    }
   ],
   "source": [
    "y_pred = model.predict(test[[col for col in test.columns if 'cause' in col or 'effect' in col]])\n",
    "y_pred_proba = model.predict_proba(test[[col for col in test.columns if 'cause' in col or 'effect' in col]])[:,1]"
   ]
  },
  {
   "cell_type": "code",
   "execution_count": 70,
   "metadata": {},
   "outputs": [
    {
     "data": {
      "text/plain": [
       "array([0, 0, 0, ..., 0, 0, 0])"
      ]
     },
     "execution_count": 70,
     "metadata": {},
     "output_type": "execute_result"
    }
   ],
   "source": [
    "y_pred"
   ]
  },
  {
   "cell_type": "code",
   "execution_count": 60,
   "metadata": {},
   "outputs": [
    {
     "name": "stdout",
     "output_type": "stream",
     "text": [
      "Confusion matrix:\n",
      "[[81976     2]\n",
      " [   60     0]]\n",
      "  Model Fold   ROC-AUC  G-mean  F1-Score  Accuracy  Precision  Recall  \\\n",
      "0             0.599173     0.0       0.0  0.999244        0.0     0.0   \n",
      "\n",
      "    Logloss Description  \n",
      "0  0.028031              \n"
     ]
    },
    {
     "data": {
      "text/html": [
       "<div>\n",
       "<style scoped>\n",
       "    .dataframe tbody tr th:only-of-type {\n",
       "        vertical-align: middle;\n",
       "    }\n",
       "\n",
       "    .dataframe tbody tr th {\n",
       "        vertical-align: top;\n",
       "    }\n",
       "\n",
       "    .dataframe thead th {\n",
       "        text-align: right;\n",
       "    }\n",
       "</style>\n",
       "<table border=\"1\" class=\"dataframe\">\n",
       "  <thead>\n",
       "    <tr style=\"text-align: right;\">\n",
       "      <th></th>\n",
       "      <th>Model</th>\n",
       "      <th>Fold</th>\n",
       "      <th>ROC-AUC</th>\n",
       "      <th>G-mean</th>\n",
       "      <th>F1-Score</th>\n",
       "      <th>Accuracy</th>\n",
       "      <th>Precision</th>\n",
       "      <th>Recall</th>\n",
       "      <th>Logloss</th>\n",
       "      <th>Description</th>\n",
       "    </tr>\n",
       "  </thead>\n",
       "  <tbody>\n",
       "    <tr>\n",
       "      <th>0</th>\n",
       "      <td></td>\n",
       "      <td></td>\n",
       "      <td>0.599173</td>\n",
       "      <td>0.0</td>\n",
       "      <td>0.0</td>\n",
       "      <td>0.999244</td>\n",
       "      <td>0.0</td>\n",
       "      <td>0.0</td>\n",
       "      <td>0.028031</td>\n",
       "      <td></td>\n",
       "    </tr>\n",
       "  </tbody>\n",
       "</table>\n",
       "</div>"
      ],
      "text/plain": [
       "  Model Fold   ROC-AUC  G-mean  F1-Score  Accuracy  Precision  Recall  \\\n",
       "0             0.599173     0.0       0.0  0.999244        0.0     0.0   \n",
       "\n",
       "    Logloss Description  \n",
       "0  0.028031              "
      ]
     },
     "execution_count": 60,
     "metadata": {},
     "output_type": "execute_result"
    }
   ],
   "source": [
    "evaluate_metrics(test['Target'], y_pred, y_pred_proba)"
   ]
  },
  {
   "cell_type": "code",
   "execution_count": 27,
   "metadata": {},
   "outputs": [
    {
     "name": "stdout",
     "output_type": "stream",
     "text": [
      "Confusion matrix:\n",
      "[[81976     2]\n",
      " [   60     0]]\n"
     ]
    },
    {
     "data": {
      "text/html": [
       "<div>\n",
       "<style scoped>\n",
       "    .dataframe tbody tr th:only-of-type {\n",
       "        vertical-align: middle;\n",
       "    }\n",
       "\n",
       "    .dataframe tbody tr th {\n",
       "        vertical-align: top;\n",
       "    }\n",
       "\n",
       "    .dataframe thead th {\n",
       "        text-align: right;\n",
       "    }\n",
       "</style>\n",
       "<table border=\"1\" class=\"dataframe\">\n",
       "  <thead>\n",
       "    <tr style=\"text-align: right;\">\n",
       "      <th></th>\n",
       "      <th>ROC-AUC</th>\n",
       "      <th>G-mean</th>\n",
       "      <th>F1-Score</th>\n",
       "      <th>Accuracy</th>\n",
       "      <th>Precision</th>\n",
       "      <th>Recall</th>\n",
       "      <th>Logloss</th>\n",
       "    </tr>\n",
       "  </thead>\n",
       "  <tbody>\n",
       "    <tr>\n",
       "      <th>0</th>\n",
       "      <td>0.599173</td>\n",
       "      <td>0.0</td>\n",
       "      <td>0.0</td>\n",
       "      <td>0.999244</td>\n",
       "      <td>0.0</td>\n",
       "      <td>0.0</td>\n",
       "      <td>0.028031</td>\n",
       "    </tr>\n",
       "  </tbody>\n",
       "</table>\n",
       "</div>"
      ],
      "text/plain": [
       "    ROC-AUC  G-mean  F1-Score  Accuracy  Precision  Recall   Logloss\n",
       "0  0.599173     0.0       0.0  0.999244        0.0     0.0  0.028031"
      ]
     },
     "execution_count": 27,
     "metadata": {},
     "output_type": "execute_result"
    }
   ],
   "source": [
    "evaluate_metrics(test['Target'], y_pred, y_pred_proba)"
   ]
  },
  {
   "cell_type": "code",
   "execution_count": 25,
   "metadata": {},
   "outputs": [
    {
     "name": "stdout",
     "output_type": "stream",
     "text": [
      "Confusion matrix:\n",
      "[[56372 25606]\n",
      " [   35    25]]\n"
     ]
    },
    {
     "data": {
      "text/html": [
       "<div>\n",
       "<style scoped>\n",
       "    .dataframe tbody tr th:only-of-type {\n",
       "        vertical-align: middle;\n",
       "    }\n",
       "\n",
       "    .dataframe tbody tr th {\n",
       "        vertical-align: top;\n",
       "    }\n",
       "\n",
       "    .dataframe thead th {\n",
       "        text-align: right;\n",
       "    }\n",
       "</style>\n",
       "<table border=\"1\" class=\"dataframe\">\n",
       "  <thead>\n",
       "    <tr style=\"text-align: right;\">\n",
       "      <th></th>\n",
       "      <th>ROC-AUC</th>\n",
       "      <th>G-mean</th>\n",
       "      <th>F1-Score</th>\n",
       "      <th>Accuracy</th>\n",
       "      <th>Precision</th>\n",
       "      <th>Recall</th>\n",
       "      <th>Logloss</th>\n",
       "    </tr>\n",
       "  </thead>\n",
       "  <tbody>\n",
       "    <tr>\n",
       "      <th>0</th>\n",
       "      <td>0.568392</td>\n",
       "      <td>0.535276</td>\n",
       "      <td>0.001946</td>\n",
       "      <td>0.68745</td>\n",
       "      <td>0.000975</td>\n",
       "      <td>0.416667</td>\n",
       "      <td>0.495957</td>\n",
       "    </tr>\n",
       "  </tbody>\n",
       "</table>\n",
       "</div>"
      ],
      "text/plain": [
       "    ROC-AUC    G-mean  F1-Score  Accuracy  Precision    Recall   Logloss\n",
       "0  0.568392  0.535276  0.001946   0.68745   0.000975  0.416667  0.495957"
      ]
     },
     "execution_count": 25,
     "metadata": {},
     "output_type": "execute_result"
    }
   ],
   "source": [
    "evaluate_metrics(test['Target'], y_pred, y_pred_proba)"
   ]
  },
  {
   "cell_type": "code",
   "execution_count": null,
   "metadata": {},
   "outputs": [],
   "source": [
    "model = SGDClassifier(loss='log', max_iter=100)\n",
    "model.fit(train[[col for col in train.columns if 'cause' in col or 'effect' in col]], train['Target'])\n",
    "y_pred = model.predict(test[[col for col in test.columns if 'cause' in col or 'effect' in col]])\n",
    "y_pred_proba = model.predict_proba(test[[col for col in test.columns if 'cause' in col or 'effect' in col]])[:,1]"
   ]
  },
  {
   "cell_type": "code",
   "execution_count": null,
   "metadata": {},
   "outputs": [],
   "source": []
  },
  {
   "cell_type": "code",
   "execution_count": null,
   "metadata": {},
   "outputs": [],
   "source": []
  },
  {
   "cell_type": "code",
   "execution_count": null,
   "metadata": {},
   "outputs": [],
   "source": []
  },
  {
   "cell_type": "code",
   "execution_count": null,
   "metadata": {},
   "outputs": [],
   "source": []
  },
  {
   "cell_type": "code",
   "execution_count": null,
   "metadata": {},
   "outputs": [],
   "source": []
  },
  {
   "cell_type": "code",
   "execution_count": null,
   "metadata": {},
   "outputs": [],
   "source": []
  }
 ],
 "metadata": {
  "kernelspec": {
   "display_name": "Python 3",
   "language": "python",
   "name": "python3"
  },
  "language_info": {
   "codemirror_mode": {
    "name": "ipython",
    "version": 3
   },
   "file_extension": ".py",
   "mimetype": "text/x-python",
   "name": "python",
   "nbconvert_exporter": "python",
   "pygments_lexer": "ipython3",
   "version": "3.6.4"
  }
 },
 "nbformat": 4,
 "nbformat_minor": 2
}
