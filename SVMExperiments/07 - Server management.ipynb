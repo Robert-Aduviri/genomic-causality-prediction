{
 "cells": [
  {
   "cell_type": "code",
   "execution_count": 1,
   "metadata": {},
   "outputs": [],
   "source": [
    "import pandas as pd"
   ]
  },
  {
   "cell_type": "code",
   "execution_count": 2,
   "metadata": {},
   "outputs": [],
   "source": [
    "servers = pd.DataFrame()\n",
    "servers['name'] = [f'PC{i:02}' for i in range(1, 5)] + \\\n",
    "                [f'PC{i:02}' for i in range(6, 8)] + \\\n",
    "                [f'PC{i:02}' for i in range(9, 11)]\n",
    "servers['hostname'] = ['172.19.4.225', '172.19.4.204', '172.19.4.235',\n",
    "                 '172.19.4.200', '172.19.4.215', '172.19.4.238',\n",
    "                 '172.19.4.203', '172.19.4.234']\n",
    "servers['username'] = ['robert'] + ['iapucp'] * 7\n",
    "servers['password'] = ['291295'] + ['iapucp504'] * 5 + \\\n",
    "                      ['intart504'] + ['iapucp504']\n",
    "servers['model'] = ['HP i7'] * 3 + ['MSI'] + ['HP i7'] + \\\n",
    "                   ['MSI'] * 2 + ['Lenovo i5']\n"
   ]
  },
  {
   "cell_type": "code",
   "execution_count": 3,
   "metadata": {},
   "outputs": [
    {
     "data": {
      "text/html": [
       "<div>\n",
       "<style scoped>\n",
       "    .dataframe tbody tr th:only-of-type {\n",
       "        vertical-align: middle;\n",
       "    }\n",
       "\n",
       "    .dataframe tbody tr th {\n",
       "        vertical-align: top;\n",
       "    }\n",
       "\n",
       "    .dataframe thead th {\n",
       "        text-align: right;\n",
       "    }\n",
       "</style>\n",
       "<table border=\"1\" class=\"dataframe\">\n",
       "  <thead>\n",
       "    <tr style=\"text-align: right;\">\n",
       "      <th></th>\n",
       "      <th>name</th>\n",
       "      <th>hostname</th>\n",
       "      <th>username</th>\n",
       "      <th>password</th>\n",
       "      <th>model</th>\n",
       "    </tr>\n",
       "  </thead>\n",
       "  <tbody>\n",
       "    <tr>\n",
       "      <th>0</th>\n",
       "      <td>PC01</td>\n",
       "      <td>172.19.4.225</td>\n",
       "      <td>robert</td>\n",
       "      <td>291295</td>\n",
       "      <td>HP i7</td>\n",
       "    </tr>\n",
       "    <tr>\n",
       "      <th>1</th>\n",
       "      <td>PC02</td>\n",
       "      <td>172.19.4.204</td>\n",
       "      <td>iapucp</td>\n",
       "      <td>iapucp504</td>\n",
       "      <td>HP i7</td>\n",
       "    </tr>\n",
       "    <tr>\n",
       "      <th>2</th>\n",
       "      <td>PC03</td>\n",
       "      <td>172.19.4.235</td>\n",
       "      <td>iapucp</td>\n",
       "      <td>iapucp504</td>\n",
       "      <td>HP i7</td>\n",
       "    </tr>\n",
       "    <tr>\n",
       "      <th>3</th>\n",
       "      <td>PC04</td>\n",
       "      <td>172.19.4.200</td>\n",
       "      <td>iapucp</td>\n",
       "      <td>iapucp504</td>\n",
       "      <td>MSI</td>\n",
       "    </tr>\n",
       "    <tr>\n",
       "      <th>4</th>\n",
       "      <td>PC06</td>\n",
       "      <td>172.19.4.215</td>\n",
       "      <td>iapucp</td>\n",
       "      <td>iapucp504</td>\n",
       "      <td>HP i7</td>\n",
       "    </tr>\n",
       "    <tr>\n",
       "      <th>5</th>\n",
       "      <td>PC07</td>\n",
       "      <td>172.19.4.238</td>\n",
       "      <td>iapucp</td>\n",
       "      <td>iapucp504</td>\n",
       "      <td>MSI</td>\n",
       "    </tr>\n",
       "    <tr>\n",
       "      <th>6</th>\n",
       "      <td>PC09</td>\n",
       "      <td>172.19.4.203</td>\n",
       "      <td>iapucp</td>\n",
       "      <td>intart504</td>\n",
       "      <td>MSI</td>\n",
       "    </tr>\n",
       "    <tr>\n",
       "      <th>7</th>\n",
       "      <td>PC10</td>\n",
       "      <td>172.19.4.234</td>\n",
       "      <td>iapucp</td>\n",
       "      <td>iapucp504</td>\n",
       "      <td>Lenovo i5</td>\n",
       "    </tr>\n",
       "  </tbody>\n",
       "</table>\n",
       "</div>"
      ],
      "text/plain": [
       "   name      hostname username   password      model\n",
       "0  PC01  172.19.4.225   robert     291295      HP i7\n",
       "1  PC02  172.19.4.204   iapucp  iapucp504      HP i7\n",
       "2  PC03  172.19.4.235   iapucp  iapucp504      HP i7\n",
       "3  PC04  172.19.4.200   iapucp  iapucp504        MSI\n",
       "4  PC06  172.19.4.215   iapucp  iapucp504      HP i7\n",
       "5  PC07  172.19.4.238   iapucp  iapucp504        MSI\n",
       "6  PC09  172.19.4.203   iapucp  intart504        MSI\n",
       "7  PC10  172.19.4.234   iapucp  iapucp504  Lenovo i5"
      ]
     },
     "execution_count": 3,
     "metadata": {},
     "output_type": "execute_result"
    }
   ],
   "source": [
    "servers"
   ]
  },
  {
   "cell_type": "code",
   "execution_count": null,
   "metadata": {},
   "outputs": [],
   "source": [
    "cd Desktop/Experiments && bash setup.sh"
   ]
  },
  {
   "cell_type": "code",
   "execution_count": 62,
   "metadata": {},
   "outputs": [],
   "source": [
    "servers.to_csv('servers.csv', index=False)"
   ]
  },
  {
   "cell_type": "code",
   "execution_count": 4,
   "metadata": {},
   "outputs": [],
   "source": [
    "import paramiko\n",
    "def connect(servers, name):\n",
    "    server = servers[servers.name==name]\n",
    "    params = server[['hostname', 'username', 'password']] \\\n",
    "                .iloc[0].to_dict()\n",
    "    ssh = paramiko.SSHClient()\n",
    "    ssh.set_missing_host_key_policy(paramiko.AutoAddPolicy()) \n",
    "    ssh.connect(**params)\n",
    "    return ssh"
   ]
  },
  {
   "cell_type": "code",
   "execution_count": 7,
   "metadata": {},
   "outputs": [
    {
     "name": "stdout",
     "output_type": "stream",
     "text": [
      "Bags\n",
      "CTNNB1-Raw-BCR.txt\n",
      "CTNNB1-Raw-CD40.txt\n",
      "DataCV\n",
      "Dockerfile\n",
      "environment.yml\n",
      "FeatRanking\n",
      "run_experiment.py\n"
     ]
    }
   ],
   "source": [
    "ssh = connect(servers, 'PC01')\n",
    "stdin, stdout, stderr = ssh.exec_command('ls Desktop/Experiments')\n",
    "for line in stdout: print(line, end='') "
   ]
  },
  {
   "cell_type": "code",
   "execution_count": 67,
   "metadata": {},
   "outputs": [
    {
     "name": "stdout",
     "output_type": "stream",
     "text": [
      "CPU times: user 248 ms, sys: 8 ms, total: 256 ms\n",
      "Wall time: 2.46 s\n"
     ]
    }
   ],
   "source": [
    "%%time\n",
    "for server in servers.name:\n",
    "    ssh = connect(servers, server)\n",
    "    ssh.exec_command('mkdir -p ~/Desktop/Experiments')"
   ]
  },
  {
   "cell_type": "code",
   "execution_count": 37,
   "metadata": {},
   "outputs": [
    {
     "name": "stdout",
     "output_type": "stream",
     "text": [
      "CPU times: user 232 ms, sys: 20 ms, total: 252 ms\n",
      "Wall time: 1.86 s\n"
     ]
    }
   ],
   "source": [
    "%%time\n",
    "for server in servers.name:\n",
    "    ssh = connect(servers, server)\n",
    "    ssh.exec_command('mkdir -p ~/Desktop/Experiments/Results')"
   ]
  },
  {
   "cell_type": "code",
   "execution_count": null,
   "metadata": {},
   "outputs": [],
   "source": [
    "import os\n",
    "os.chdir('..')"
   ]
  },
  {
   "cell_type": "code",
   "execution_count": 5,
   "metadata": {},
   "outputs": [],
   "source": [
    "from scp import SCPClient"
   ]
  },
  {
   "cell_type": "code",
   "execution_count": 15,
   "metadata": {},
   "outputs": [
    {
     "name": "stdout",
     "output_type": "stream",
     "text": [
      "CPU times: user 188 ms, sys: 24 ms, total: 212 ms\n",
      "Wall time: 2.6 s\n"
     ]
    }
   ],
   "source": [
    "%%time\n",
    "for server in servers.name:\n",
    "    ssh = connect(servers, server)\n",
    "    scp = SCPClient(ssh.get_transport())\n",
    "    scp.put(['environment.yml', 'setup.sh'], \n",
    "            remote_path='~/Desktop/Experiments')"
   ]
  },
  {
   "cell_type": "markdown",
   "metadata": {},
   "source": [
    "## Transport Bags and FeatRanking"
   ]
  },
  {
   "cell_type": "code",
   "execution_count": 18,
   "metadata": {},
   "outputs": [],
   "source": [
    "from tqdm import tqdm_notebook"
   ]
  },
  {
   "cell_type": "code",
   "execution_count": 20,
   "metadata": {},
   "outputs": [
    {
     "data": {
      "application/vnd.jupyter.widget-view+json": {
       "model_id": "6858e9db5d5b480e832eaefaa05d1687",
       "version_major": 2,
       "version_minor": 0
      },
      "text/html": [
       "<p>Failed to display Jupyter Widget of type <code>HBox</code>.</p>\n",
       "<p>\n",
       "  If you're reading this message in the Jupyter Notebook or JupyterLab Notebook, it may mean\n",
       "  that the widgets JavaScript is still loading. If this message persists, it\n",
       "  likely means that the widgets JavaScript library is either not installed or\n",
       "  not enabled. See the <a href=\"https://ipywidgets.readthedocs.io/en/stable/user_install.html\">Jupyter\n",
       "  Widgets Documentation</a> for setup instructions.\n",
       "</p>\n",
       "<p>\n",
       "  If you're reading this message in another frontend (for example, a static\n",
       "  rendering on GitHub or <a href=\"https://nbviewer.jupyter.org/\">NBViewer</a>),\n",
       "  it may mean that your frontend doesn't currently support widgets.\n",
       "</p>\n"
      ],
      "text/plain": [
       "HBox(children=(IntProgress(value=0, max=8), HTML(value='')))"
      ]
     },
     "metadata": {},
     "output_type": "display_data"
    },
    {
     "name": "stdout",
     "output_type": "stream",
     "text": [
      "\n",
      "CPU times: user 7.88 s, sys: 592 ms, total: 8.47 s\n",
      "Wall time: 48.1 s\n"
     ]
    }
   ],
   "source": [
    "%%time\n",
    "for server in tqdm_notebook(servers.name):\n",
    "    ssh = connect(servers, server)\n",
    "    scp = SCPClient(ssh.get_transport())\n",
    "    scp.put([path + 'Bags', path + 'FeatRanking'], \n",
    "            remote_path='~/Desktop/Experiments', recursive=True)"
   ]
  },
  {
   "cell_type": "code",
   "execution_count": 22,
   "metadata": {},
   "outputs": [],
   "source": [
    "def progress(filename, size, sent):\n",
    "    print(\"\\r%s\\'s progress: %.2f%% \" % \\\n",
    "          (filename, float(sent)/float(size)*100), end='')"
   ]
  },
  {
   "cell_type": "code",
   "execution_count": 25,
   "metadata": {},
   "outputs": [
    {
     "name": "stdout",
     "output_type": "stream",
     "text": [
      "CPU times: user 252 ms, sys: 16 ms, total: 268 ms\n",
      "Wall time: 1.84 s\n"
     ]
    }
   ],
   "source": [
    "%%time\n",
    "for server in servers.name:\n",
    "    ssh = connect(servers, server)\n",
    "    ssh.exec_command('mkdir -p ~/Desktop/Experiments/DataCV')"
   ]
  },
  {
   "cell_type": "code",
   "execution_count": 26,
   "metadata": {},
   "outputs": [],
   "source": [
    "path = '_data/genomics-data/DataCV/'"
   ]
  },
  {
   "cell_type": "code",
   "execution_count": null,
   "metadata": {},
   "outputs": [
    {
     "data": {
      "application/vnd.jupyter.widget-view+json": {
       "model_id": "5a822a9d395b42efbcaaca292fe85f98",
       "version_major": 2,
       "version_minor": 0
      },
      "text/html": [
       "<p>Failed to display Jupyter Widget of type <code>HBox</code>.</p>\n",
       "<p>\n",
       "  If you're reading this message in the Jupyter Notebook or JupyterLab Notebook, it may mean\n",
       "  that the widgets JavaScript is still loading. If this message persists, it\n",
       "  likely means that the widgets JavaScript library is either not installed or\n",
       "  not enabled. See the <a href=\"https://ipywidgets.readthedocs.io/en/stable/user_install.html\">Jupyter\n",
       "  Widgets Documentation</a> for setup instructions.\n",
       "</p>\n",
       "<p>\n",
       "  If you're reading this message in another frontend (for example, a static\n",
       "  rendering on GitHub or <a href=\"https://nbviewer.jupyter.org/\">NBViewer</a>),\n",
       "  it may mean that your frontend doesn't currently support widgets.\n",
       "</p>\n"
      ],
      "text/plain": [
       "HBox(children=(IntProgress(value=0, max=7), HTML(value='')))"
      ]
     },
     "metadata": {},
     "output_type": "display_data"
    },
    {
     "name": "stdout",
     "output_type": "stream",
     "text": [
      "PC02\n",
      "b'Erk_CD40(0.01).tst.mat''s progress: 100.00% PC03\n",
      "b'Jnk_BCR(0.01).tst.mat''s progress: 61.63% "
     ]
    }
   ],
   "source": [
    "%%time\n",
    "for server in tqdm_notebook(servers.name[1:], total=len(servers)-1):\n",
    "    print(server)\n",
    "    ssh = connect(servers, server)\n",
    "    scp = SCPClient(ssh.get_transport(), progress = progress)\n",
    "    scp.put([path + 'Dc', path + 'Di', path + 'Raw'], \n",
    "            remote_path='~/Desktop/Experiments/DataCV', \n",
    "            recursive=True)"
   ]
  },
  {
   "cell_type": "markdown",
   "metadata": {},
   "source": [
    "## Transport script"
   ]
  },
  {
   "cell_type": "code",
   "execution_count": 38,
   "metadata": {},
   "outputs": [
    {
     "name": "stdout",
     "output_type": "stream",
     "text": [
      "CPU times: user 196 ms, sys: 52 ms, total: 248 ms\n",
      "Wall time: 2.53 s\n"
     ]
    }
   ],
   "source": [
    "%%time\n",
    "for server in servers.name:\n",
    "    ssh = connect(servers, server)\n",
    "    scp = SCPClient(ssh.get_transport())\n",
    "    scp.put(['run_experiment.py'], \n",
    "            remote_path='~/Desktop/Experiments')"
   ]
  },
  {
   "cell_type": "code",
   "execution_count": 36,
   "metadata": {},
   "outputs": [
    {
     "data": {
      "text/html": [
       "<div>\n",
       "<style scoped>\n",
       "    .dataframe tbody tr th:only-of-type {\n",
       "        vertical-align: middle;\n",
       "    }\n",
       "\n",
       "    .dataframe tbody tr th {\n",
       "        vertical-align: top;\n",
       "    }\n",
       "\n",
       "    .dataframe thead th {\n",
       "        text-align: right;\n",
       "    }\n",
       "</style>\n",
       "<table border=\"1\" class=\"dataframe\">\n",
       "  <thead>\n",
       "    <tr style=\"text-align: right;\">\n",
       "      <th></th>\n",
       "      <th>name</th>\n",
       "      <th>hostname</th>\n",
       "      <th>username</th>\n",
       "      <th>password</th>\n",
       "      <th>model</th>\n",
       "    </tr>\n",
       "  </thead>\n",
       "  <tbody>\n",
       "    <tr>\n",
       "      <th>0</th>\n",
       "      <td>PC01</td>\n",
       "      <td>172.19.4.225</td>\n",
       "      <td>robert</td>\n",
       "      <td>291295</td>\n",
       "      <td>HP i7</td>\n",
       "    </tr>\n",
       "    <tr>\n",
       "      <th>1</th>\n",
       "      <td>PC02</td>\n",
       "      <td>172.19.4.204</td>\n",
       "      <td>iapucp</td>\n",
       "      <td>iapucp504</td>\n",
       "      <td>HP i7</td>\n",
       "    </tr>\n",
       "    <tr>\n",
       "      <th>2</th>\n",
       "      <td>PC03</td>\n",
       "      <td>172.19.4.235</td>\n",
       "      <td>iapucp</td>\n",
       "      <td>iapucp504</td>\n",
       "      <td>HP i7</td>\n",
       "    </tr>\n",
       "    <tr>\n",
       "      <th>3</th>\n",
       "      <td>PC04</td>\n",
       "      <td>172.19.4.200</td>\n",
       "      <td>iapucp</td>\n",
       "      <td>iapucp504</td>\n",
       "      <td>MSI</td>\n",
       "    </tr>\n",
       "    <tr>\n",
       "      <th>4</th>\n",
       "      <td>PC06</td>\n",
       "      <td>172.19.4.215</td>\n",
       "      <td>iapucp</td>\n",
       "      <td>iapucp504</td>\n",
       "      <td>HP i7</td>\n",
       "    </tr>\n",
       "    <tr>\n",
       "      <th>5</th>\n",
       "      <td>PC07</td>\n",
       "      <td>172.19.4.238</td>\n",
       "      <td>iapucp</td>\n",
       "      <td>iapucp504</td>\n",
       "      <td>MSI</td>\n",
       "    </tr>\n",
       "    <tr>\n",
       "      <th>6</th>\n",
       "      <td>PC09</td>\n",
       "      <td>172.19.4.203</td>\n",
       "      <td>iapucp</td>\n",
       "      <td>intart504</td>\n",
       "      <td>MSI</td>\n",
       "    </tr>\n",
       "    <tr>\n",
       "      <th>7</th>\n",
       "      <td>PC10</td>\n",
       "      <td>172.19.4.234</td>\n",
       "      <td>iapucp</td>\n",
       "      <td>iapucp504</td>\n",
       "      <td>Lenovo i5</td>\n",
       "    </tr>\n",
       "  </tbody>\n",
       "</table>\n",
       "</div>"
      ],
      "text/plain": [
       "   name      hostname username   password      model\n",
       "0  PC01  172.19.4.225   robert     291295      HP i7\n",
       "1  PC02  172.19.4.204   iapucp  iapucp504      HP i7\n",
       "2  PC03  172.19.4.235   iapucp  iapucp504      HP i7\n",
       "3  PC04  172.19.4.200   iapucp  iapucp504        MSI\n",
       "4  PC06  172.19.4.215   iapucp  iapucp504      HP i7\n",
       "5  PC07  172.19.4.238   iapucp  iapucp504        MSI\n",
       "6  PC09  172.19.4.203   iapucp  intart504        MSI\n",
       "7  PC10  172.19.4.234   iapucp  iapucp504  Lenovo i5"
      ]
     },
     "execution_count": 36,
     "metadata": {},
     "output_type": "execute_result"
    }
   ],
   "source": [
    "servers"
   ]
  },
  {
   "cell_type": "code",
   "execution_count": null,
   "metadata": {},
   "outputs": [],
   "source": [
    "sudo apt-get install screen"
   ]
  },
  {
   "cell_type": "code",
   "execution_count": null,
   "metadata": {},
   "outputs": [],
   "source": [
    "screen\n",
    "source activate iapucp\n",
    "cd Desktop/Experiments\n",
    "python run_experiment.py IRF4 Di BCR"
   ]
  }
 ],
 "metadata": {
  "kernelspec": {
   "display_name": "Python 3",
   "language": "python",
   "name": "python3"
  },
  "language_info": {
   "codemirror_mode": {
    "name": "ipython",
    "version": 3
   },
   "file_extension": ".py",
   "mimetype": "text/x-python",
   "name": "python",
   "nbconvert_exporter": "python",
   "pygments_lexer": "ipython3",
   "version": "3.6.4"
  }
 },
 "nbformat": 4,
 "nbformat_minor": 2
}
