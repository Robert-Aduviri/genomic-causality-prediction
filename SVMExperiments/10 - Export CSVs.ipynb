{
 "cells": [
  {
   "cell_type": "code",
   "execution_count": 1,
   "metadata": {},
   "outputs": [],
   "source": [
    "%load_ext autoreload\n",
    "%autoreload 2\n",
    "%matplotlib inline\n",
    "%config InlineBackend.figure_format = 'retina'\n",
    "import numpy as np\n",
    "import pandas as pd\n",
    "import matplotlib.pyplot as plt\n",
    "import seaborn as sns\n",
    "sns.set()\n",
    "pd.set_option('display.max_columns', 400)\n",
    "\n",
    "import os\n",
    "os.chdir('..')"
   ]
  },
  {
   "cell_type": "code",
   "execution_count": 8,
   "metadata": {},
   "outputs": [],
   "source": [
    "from SVMExperiments.utils import load_result, list_files, get_dataframe\n",
    "featuresets = ['Raw', 'Di', 'Dc']\n",
    "treatments = ['BCR', 'CD40', 'All']"
   ]
  },
  {
   "cell_type": "code",
   "execution_count": 10,
   "metadata": {},
   "outputs": [
    {
     "name": "stdout",
     "output_type": "stream",
     "text": [
      "CPU times: user 11.4 s, sys: 244 ms, total: 11.6 s\n",
      "Wall time: 11.6 s\n"
     ]
    }
   ],
   "source": [
    "%%time\n",
    "results, ensembles = get_dataframe('CTNNB1', featuresets, treatments)"
   ]
  },
  {
   "cell_type": "code",
   "execution_count": 16,
   "metadata": {},
   "outputs": [
    {
     "name": "stdout",
     "output_type": "stream",
     "text": [
      "(112500, 15) (3750, 15)\n"
     ]
    }
   ],
   "source": [
    "def filter_df(df):\n",
    "    return df[(df.Run==1) & (df.Bag<100)]\n",
    "\n",
    "results = filter_df(results)\n",
    "ensembles = ensembles[ensembles.Run==1]\n",
    "print(results.shape, ensembles.shape)"
   ]
  },
  {
   "cell_type": "code",
   "execution_count": 37,
   "metadata": {},
   "outputs": [
    {
     "name": "stdout",
     "output_type": "stream",
     "text": [
      "CTNNB1\n",
      "Erk\n",
      "IRF4\n",
      "Ikk2\n",
      "Jnk\n",
      "LEF1\n",
      "MYC\n"
     ]
    }
   ],
   "source": [
    "%%time\n",
    "results = {}\n",
    "ensembles = {}\n",
    "datasets = ['CTNNB1', 'Erk', 'IRF4', 'Ikk2', 'Jnk', 'LEF1', 'MYC']\n",
    "for dataset in datasets:\n",
    "    print(dataset)\n",
    "    res, ens = get_dataframe('Jnk', featuresets, treatments)\n",
    "    results[dataset] = res[(res.Run==1) & (res.Bag<100)]\n",
    "    ensembles[dataset] = ens[ens.Run==1]"
   ]
  },
  {
   "cell_type": "code",
   "execution_count": 40,
   "metadata": {},
   "outputs": [
    {
     "name": "stdout",
     "output_type": "stream",
     "text": [
      "CTNNB1 \t (112500, 15) (4500, 15)\n",
      "Erk \t (112500, 15) (4500, 15)\n",
      "IRF4 \t (112500, 15) (4500, 15)\n",
      "Ikk2 \t (112500, 15) (4500, 15)\n",
      "Jnk \t (112500, 15) (4500, 15)\n",
      "LEF1 \t (112500, 15) (4500, 15)\n",
      "MYC \t (112500, 15) (4500, 15)\n"
     ]
    }
   ],
   "source": [
    "for dataset in results:\n",
    "    print(dataset, '\\t', results[dataset].shape, ensembles[dataset].shape)"
   ]
  },
  {
   "cell_type": "code",
   "execution_count": null,
   "metadata": {},
   "outputs": [],
   "source": [
    "for dataset in results:\n",
    "    print(dataset)\n",
    "    results[dataset].to_csv(f'Results/{dataset}.csv', index=False)\n",
    "    ensembles[dataset].to_csv(f'Results/{dataset}_Ensemble.csv', index=False)"
   ]
  },
  {
   "cell_type": "code",
   "execution_count": null,
   "metadata": {},
   "outputs": [],
   "source": []
  }
 ],
 "metadata": {
  "kernelspec": {
   "display_name": "Python 3",
   "language": "python",
   "name": "python3"
  },
  "language_info": {
   "codemirror_mode": {
    "name": "ipython",
    "version": 3
   },
   "file_extension": ".py",
   "mimetype": "text/x-python",
   "name": "python",
   "nbconvert_exporter": "python",
   "pygments_lexer": "ipython3",
   "version": "3.6.4"
  }
 },
 "nbformat": 4,
 "nbformat_minor": 2
}
