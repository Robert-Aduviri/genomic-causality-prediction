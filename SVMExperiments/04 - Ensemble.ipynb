{
 "cells": [
  {
   "cell_type": "code",
   "execution_count": 1,
   "metadata": {},
   "outputs": [],
   "source": [
    "%load_ext autoreload\n",
    "%autoreload 2\n",
    "%matplotlib inline\n",
    "%config InlineBackend.figure_format = 'retina'\n",
    "import numpy as np\n",
    "import pandas as pd\n",
    "import matplotlib.pyplot as plt\n",
    "import seaborn as sns\n",
    "sns.set()\n",
    "pd.set_option('display.max_columns', 400)"
   ]
  },
  {
   "cell_type": "code",
   "execution_count": 2,
   "metadata": {},
   "outputs": [],
   "source": [
    "import os\n",
    "from pathlib import Path\n",
    "os.chdir('..')\n",
    "DATA = Path('_data/genomics-data')\n",
    "DataCV_dir      = DATA/'DataCV'\n",
    "Bags_dir        = DATA/'Bags'\n",
    "FeatRanking_dir = DATA/'FeatRanking'\n",
    "Log_dir         = DATA/'LogsClassifFeatureRank'"
   ]
  },
  {
   "cell_type": "code",
   "execution_count": 3,
   "metadata": {},
   "outputs": [],
   "source": [
    "from lightgbm import LGBMClassifier\n",
    "from sklearn.svm import LinearSVC, SVC"
   ]
  },
  {
   "cell_type": "code",
   "execution_count": 4,
   "metadata": {},
   "outputs": [],
   "source": [
    "from SVMExperiments.utils import classify_feature_rank"
   ]
  },
  {
   "cell_type": "code",
   "execution_count": 5,
   "metadata": {},
   "outputs": [],
   "source": [
    "import warnings\n",
    "warnings.filterwarnings(\"ignore\", category=DeprecationWarning) "
   ]
  },
  {
   "cell_type": "code",
   "execution_count": 26,
   "metadata": {},
   "outputs": [],
   "source": [
    "a = pd.DataFrame()"
   ]
  },
  {
   "cell_type": "code",
   "execution_count": 27,
   "metadata": {},
   "outputs": [
    {
     "data": {
      "text/plain": [
       "array([], shape=(0, 0), dtype=float64)"
      ]
     },
     "execution_count": 27,
     "metadata": {},
     "output_type": "execute_result"
    }
   ],
   "source": [
    "a.values"
   ]
  },
  {
   "cell_type": "code",
   "execution_count": 25,
   "metadata": {},
   "outputs": [
    {
     "name": "stdout",
     "output_type": "stream",
     "text": [
      "Run: 4\n",
      "    Classifier: LGBMClassifier\n",
      "       Feature ranking method: Entropy\n",
      "          Features: [23, 22, 20, 21, 41, 30, 8, 28, 29, 1, 6, 7]\n"
     ]
    },
    {
     "ename": "TypeError",
     "evalue": "must be real number, not str",
     "output_type": "error",
     "traceback": [
      "\u001b[0;31m---------------------------------------------------------------------------\u001b[0m",
      "\u001b[0;31mTypeError\u001b[0m                                 Traceback (most recent call last)",
      "\u001b[0;32m<timed eval>\u001b[0m in \u001b[0;36m<module>\u001b[0;34m()\u001b[0m\n",
      "\u001b[0;32m~/Documents/genomic-causality-prediction/SVMExperiments/utils.py\u001b[0m in \u001b[0;36mclassify_feature_rank\u001b[0;34m(DataCV_dir, Bags_dir, FeatRanking_dir, classifiers, params, dataset, feature_set, treatment, pval_pos_threshold, num_bags, num_runs, num_top_features, test_all_features)\u001b[0m\n\u001b[1;32m    187\u001b[0m                     evaluate_bags(trn_neg, trn_pos, test_data, test_labels, \n\u001b[1;32m    188\u001b[0m                                   \u001b[0mrun\u001b[0m\u001b[0;34m,\u001b[0m \u001b[0mclassifier\u001b[0m\u001b[0;34m,\u001b[0m \u001b[0mclassifier_name\u001b[0m\u001b[0;34m,\u001b[0m \u001b[0mparam\u001b[0m\u001b[0;34m,\u001b[0m\u001b[0;34m\u001b[0m\u001b[0m\n\u001b[0;32m--> 189\u001b[0;31m                                   feat_rank_row.Method, features, bags, n_samples, num_bags)    \n\u001b[0m\u001b[1;32m    190\u001b[0m             \u001b[0;32mif\u001b[0m \u001b[0mtest_all_features\u001b[0m\u001b[0;34m:\u001b[0m\u001b[0;34m\u001b[0m\u001b[0m\n\u001b[1;32m    191\u001b[0m                 \u001b[0mprint\u001b[0m\u001b[0;34m(\u001b[0m\u001b[0;34m' '\u001b[0m\u001b[0;34m*\u001b[0m\u001b[0;36m6\u001b[0m\u001b[0;34m,\u001b[0m \u001b[0;34mf'All features'\u001b[0m\u001b[0;34m)\u001b[0m\u001b[0;34m\u001b[0m\u001b[0m\n",
      "\u001b[0;32m~/Documents/genomic-causality-prediction/SVMExperiments/utils.py\u001b[0m in \u001b[0;36mevaluate_bags\u001b[0;34m(trn_neg, trn_pos, test_data, test_labels, run, classifier, classifier_name, params, feature_ranker, features, bags, n_samples, num_bags)\u001b[0m\n\u001b[1;32m     95\u001b[0m                   feature_ranker, features, bags, n_samples, num_bags):\n\u001b[1;32m     96\u001b[0m \u001b[0;34m\u001b[0m\u001b[0m\n\u001b[0;32m---> 97\u001b[0;31m     \u001b[0mtrn_neg\u001b[0m \u001b[0;34m=\u001b[0m \u001b[0mmp\u001b[0m\u001b[0;34m.\u001b[0m\u001b[0mArray\u001b[0m\u001b[0;34m(\u001b[0m\u001b[0mctypes\u001b[0m\u001b[0;34m.\u001b[0m\u001b[0mc_double\u001b[0m\u001b[0;34m,\u001b[0m \u001b[0mtrn_neg\u001b[0m\u001b[0;34m)\u001b[0m\u001b[0;34m\u001b[0m\u001b[0m\n\u001b[0m\u001b[1;32m     98\u001b[0m     \u001b[0mtrn_neg\u001b[0m \u001b[0;34m=\u001b[0m \u001b[0mnp\u001b[0m\u001b[0;34m.\u001b[0m\u001b[0mctypeslib\u001b[0m\u001b[0;34m.\u001b[0m\u001b[0mas_array\u001b[0m\u001b[0;34m(\u001b[0m\u001b[0mtrn_neg\u001b[0m\u001b[0;34m.\u001b[0m\u001b[0mget_obj\u001b[0m\u001b[0;34m(\u001b[0m\u001b[0;34m)\u001b[0m\u001b[0;34m)\u001b[0m\u001b[0;34m\u001b[0m\u001b[0m\n\u001b[1;32m     99\u001b[0m \u001b[0;34m\u001b[0m\u001b[0m\n",
      "\u001b[0;32m~/anaconda3/envs/chana/lib/python3.6/multiprocessing/context.py\u001b[0m in \u001b[0;36mArray\u001b[0;34m(self, typecode_or_type, size_or_initializer, lock)\u001b[0m\n\u001b[1;32m    139\u001b[0m         \u001b[0;32mfrom\u001b[0m \u001b[0;34m.\u001b[0m\u001b[0msharedctypes\u001b[0m \u001b[0;32mimport\u001b[0m \u001b[0mArray\u001b[0m\u001b[0;34m\u001b[0m\u001b[0m\n\u001b[1;32m    140\u001b[0m         return Array(typecode_or_type, size_or_initializer, lock=lock,\n\u001b[0;32m--> 141\u001b[0;31m                      ctx=self.get_context())\n\u001b[0m\u001b[1;32m    142\u001b[0m \u001b[0;34m\u001b[0m\u001b[0m\n\u001b[1;32m    143\u001b[0m     \u001b[0;32mdef\u001b[0m \u001b[0mfreeze_support\u001b[0m\u001b[0;34m(\u001b[0m\u001b[0mself\u001b[0m\u001b[0;34m)\u001b[0m\u001b[0;34m:\u001b[0m\u001b[0;34m\u001b[0m\u001b[0m\n",
      "\u001b[0;32m~/anaconda3/envs/chana/lib/python3.6/multiprocessing/sharedctypes.py\u001b[0m in \u001b[0;36mArray\u001b[0;34m(typecode_or_type, size_or_initializer, lock, ctx)\u001b[0m\n\u001b[1;32m     85\u001b[0m     \u001b[0mReturn\u001b[0m \u001b[0ma\u001b[0m \u001b[0msynchronization\u001b[0m \u001b[0mwrapper\u001b[0m \u001b[0;32mfor\u001b[0m \u001b[0ma\u001b[0m \u001b[0mRawArray\u001b[0m\u001b[0;34m\u001b[0m\u001b[0m\n\u001b[1;32m     86\u001b[0m     '''\n\u001b[0;32m---> 87\u001b[0;31m     \u001b[0mobj\u001b[0m \u001b[0;34m=\u001b[0m \u001b[0mRawArray\u001b[0m\u001b[0;34m(\u001b[0m\u001b[0mtypecode_or_type\u001b[0m\u001b[0;34m,\u001b[0m \u001b[0msize_or_initializer\u001b[0m\u001b[0;34m)\u001b[0m\u001b[0;34m\u001b[0m\u001b[0m\n\u001b[0m\u001b[1;32m     88\u001b[0m     \u001b[0;32mif\u001b[0m \u001b[0mlock\u001b[0m \u001b[0;32mis\u001b[0m \u001b[0;32mFalse\u001b[0m\u001b[0;34m:\u001b[0m\u001b[0;34m\u001b[0m\u001b[0m\n\u001b[1;32m     89\u001b[0m         \u001b[0;32mreturn\u001b[0m \u001b[0mobj\u001b[0m\u001b[0;34m\u001b[0m\u001b[0m\n",
      "\u001b[0;32m~/anaconda3/envs/chana/lib/python3.6/multiprocessing/sharedctypes.py\u001b[0m in \u001b[0;36mRawArray\u001b[0;34m(typecode_or_type, size_or_initializer)\u001b[0m\n\u001b[1;32m     64\u001b[0m         \u001b[0mtype_\u001b[0m \u001b[0;34m=\u001b[0m \u001b[0mtype_\u001b[0m \u001b[0;34m*\u001b[0m \u001b[0mlen\u001b[0m\u001b[0;34m(\u001b[0m\u001b[0msize_or_initializer\u001b[0m\u001b[0;34m)\u001b[0m\u001b[0;34m\u001b[0m\u001b[0m\n\u001b[1;32m     65\u001b[0m         \u001b[0mresult\u001b[0m \u001b[0;34m=\u001b[0m \u001b[0m_new_value\u001b[0m\u001b[0;34m(\u001b[0m\u001b[0mtype_\u001b[0m\u001b[0;34m)\u001b[0m\u001b[0;34m\u001b[0m\u001b[0m\n\u001b[0;32m---> 66\u001b[0;31m         \u001b[0mresult\u001b[0m\u001b[0;34m.\u001b[0m\u001b[0m__init__\u001b[0m\u001b[0;34m(\u001b[0m\u001b[0;34m*\u001b[0m\u001b[0msize_or_initializer\u001b[0m\u001b[0;34m)\u001b[0m\u001b[0;34m\u001b[0m\u001b[0m\n\u001b[0m\u001b[1;32m     67\u001b[0m         \u001b[0;32mreturn\u001b[0m \u001b[0mresult\u001b[0m\u001b[0;34m\u001b[0m\u001b[0m\n\u001b[1;32m     68\u001b[0m \u001b[0;34m\u001b[0m\u001b[0m\n",
      "\u001b[0;31mTypeError\u001b[0m: must be real number, not str"
     ]
    }
   ],
   "source": [
    "%%time\n",
    "classify_feature_rank(DataCV_dir, Bags_dir, FeatRanking_dir,\n",
    "                      [LGBMClassifier], [{}],\n",
    "                      'Erk', 'Di', 'BCR', 0.01, num_bags=[10,20],\n",
    "                      num_runs=[4], num_top_features=[12], test_all_features=True)"
   ]
  },
  {
   "cell_type": "code",
   "execution_count": null,
   "metadata": {},
   "outputs": [
    {
     "name": "stdout",
     "output_type": "stream",
     "text": [
      "> \u001b[0;32m/home/raduviri/anaconda3/envs/chana/lib/python3.6/multiprocessing/sharedctypes.py\u001b[0m(66)\u001b[0;36mRawArray\u001b[0;34m()\u001b[0m\n",
      "\u001b[0;32m     64 \u001b[0;31m        \u001b[0mtype_\u001b[0m \u001b[0;34m=\u001b[0m \u001b[0mtype_\u001b[0m \u001b[0;34m*\u001b[0m \u001b[0mlen\u001b[0m\u001b[0;34m(\u001b[0m\u001b[0msize_or_initializer\u001b[0m\u001b[0;34m)\u001b[0m\u001b[0;34m\u001b[0m\u001b[0m\n",
      "\u001b[0m\u001b[0;32m     65 \u001b[0;31m        \u001b[0mresult\u001b[0m \u001b[0;34m=\u001b[0m \u001b[0m_new_value\u001b[0m\u001b[0;34m(\u001b[0m\u001b[0mtype_\u001b[0m\u001b[0;34m)\u001b[0m\u001b[0;34m\u001b[0m\u001b[0m\n",
      "\u001b[0m\u001b[0;32m---> 66 \u001b[0;31m        \u001b[0mresult\u001b[0m\u001b[0;34m.\u001b[0m\u001b[0m__init__\u001b[0m\u001b[0;34m(\u001b[0m\u001b[0;34m*\u001b[0m\u001b[0msize_or_initializer\u001b[0m\u001b[0;34m)\u001b[0m\u001b[0;34m\u001b[0m\u001b[0m\n",
      "\u001b[0m\u001b[0;32m     67 \u001b[0;31m        \u001b[0;32mreturn\u001b[0m \u001b[0mresult\u001b[0m\u001b[0;34m\u001b[0m\u001b[0m\n",
      "\u001b[0m\u001b[0;32m     68 \u001b[0;31m\u001b[0;34m\u001b[0m\u001b[0m\n",
      "\u001b[0m\n",
      "> \u001b[0;32m/home/raduviri/anaconda3/envs/chana/lib/python3.6/multiprocessing/sharedctypes.py\u001b[0m(87)\u001b[0;36mArray\u001b[0;34m()\u001b[0m\n",
      "\u001b[0;32m     85 \u001b[0;31m    \u001b[0mReturn\u001b[0m \u001b[0ma\u001b[0m \u001b[0msynchronization\u001b[0m \u001b[0mwrapper\u001b[0m \u001b[0;32mfor\u001b[0m \u001b[0ma\u001b[0m \u001b[0mRawArray\u001b[0m\u001b[0;34m\u001b[0m\u001b[0m\n",
      "\u001b[0m\u001b[0;32m     86 \u001b[0;31m    '''\n",
      "\u001b[0m\u001b[0;32m---> 87 \u001b[0;31m    \u001b[0mobj\u001b[0m \u001b[0;34m=\u001b[0m \u001b[0mRawArray\u001b[0m\u001b[0;34m(\u001b[0m\u001b[0mtypecode_or_type\u001b[0m\u001b[0;34m,\u001b[0m \u001b[0msize_or_initializer\u001b[0m\u001b[0;34m)\u001b[0m\u001b[0;34m\u001b[0m\u001b[0m\n",
      "\u001b[0m\u001b[0;32m     88 \u001b[0;31m    \u001b[0;32mif\u001b[0m \u001b[0mlock\u001b[0m \u001b[0;32mis\u001b[0m \u001b[0;32mFalse\u001b[0m\u001b[0;34m:\u001b[0m\u001b[0;34m\u001b[0m\u001b[0m\n",
      "\u001b[0m\u001b[0;32m     89 \u001b[0;31m        \u001b[0;32mreturn\u001b[0m \u001b[0mobj\u001b[0m\u001b[0;34m\u001b[0m\u001b[0m\n",
      "\u001b[0m\n",
      "> \u001b[0;32m/home/raduviri/anaconda3/envs/chana/lib/python3.6/multiprocessing/context.py\u001b[0m(141)\u001b[0;36mArray\u001b[0;34m()\u001b[0m\n",
      "\u001b[0;32m    139 \u001b[0;31m        \u001b[0;32mfrom\u001b[0m \u001b[0;34m.\u001b[0m\u001b[0msharedctypes\u001b[0m \u001b[0;32mimport\u001b[0m \u001b[0mArray\u001b[0m\u001b[0;34m\u001b[0m\u001b[0m\n",
      "\u001b[0m\u001b[0;32m    140 \u001b[0;31m        return Array(typecode_or_type, size_or_initializer, lock=lock,\n",
      "\u001b[0m\u001b[0;32m--> 141 \u001b[0;31m                     ctx=self.get_context())\n",
      "\u001b[0m\u001b[0;32m    142 \u001b[0;31m\u001b[0;34m\u001b[0m\u001b[0m\n",
      "\u001b[0m\u001b[0;32m    143 \u001b[0;31m    \u001b[0;32mdef\u001b[0m \u001b[0mfreeze_support\u001b[0m\u001b[0;34m(\u001b[0m\u001b[0mself\u001b[0m\u001b[0;34m)\u001b[0m\u001b[0;34m:\u001b[0m\u001b[0;34m\u001b[0m\u001b[0m\n",
      "\u001b[0m\n",
      "> \u001b[0;32m/home/raduviri/Documents/genomic-causality-prediction/SVMExperiments/utils.py\u001b[0m(97)\u001b[0;36mevaluate_bags\u001b[0;34m()\u001b[0m\n",
      "\u001b[0;32m     95 \u001b[0;31m                  feature_ranker, features, bags, n_samples, num_bags):\n",
      "\u001b[0m\u001b[0;32m     96 \u001b[0;31m\u001b[0;34m\u001b[0m\u001b[0m\n",
      "\u001b[0m\u001b[0;32m---> 97 \u001b[0;31m    \u001b[0mtrn_neg\u001b[0m \u001b[0;34m=\u001b[0m \u001b[0mmp\u001b[0m\u001b[0;34m.\u001b[0m\u001b[0mArray\u001b[0m\u001b[0;34m(\u001b[0m\u001b[0mctypes\u001b[0m\u001b[0;34m.\u001b[0m\u001b[0mc_double\u001b[0m\u001b[0;34m,\u001b[0m \u001b[0mtrn_neg\u001b[0m\u001b[0;34m)\u001b[0m\u001b[0;34m\u001b[0m\u001b[0m\n",
      "\u001b[0m\u001b[0;32m     98 \u001b[0;31m    \u001b[0mtrn_neg\u001b[0m \u001b[0;34m=\u001b[0m \u001b[0mnp\u001b[0m\u001b[0;34m.\u001b[0m\u001b[0mctypeslib\u001b[0m\u001b[0;34m.\u001b[0m\u001b[0mas_array\u001b[0m\u001b[0;34m(\u001b[0m\u001b[0mtrn_neg\u001b[0m\u001b[0;34m.\u001b[0m\u001b[0mget_obj\u001b[0m\u001b[0;34m(\u001b[0m\u001b[0;34m)\u001b[0m\u001b[0;34m)\u001b[0m\u001b[0;34m\u001b[0m\u001b[0m\n",
      "\u001b[0m\u001b[0;32m     99 \u001b[0;31m\u001b[0;34m\u001b[0m\u001b[0m\n",
      "\u001b[0m\n",
      "<class 'pandas.core.frame.DataFrame'>\n",
      "*** NameError: name 'trn_get' is not defined\n",
      "<class 'numpy.ndarray'>\n",
      "<class 'pandas.core.frame.DataFrame'>\n",
      "<class 'pandas.core.frame.DataFrame'>\n",
      "<class 'pandas.core.series.Series'>\n"
     ]
    }
   ],
   "source": [
    "%debug"
   ]
  },
  {
   "cell_type": "code",
   "execution_count": 20,
   "metadata": {},
   "outputs": [
    {
     "name": "stdout",
     "output_type": "stream",
     "text": [
      "Run: 4\n",
      "    Classifier: LGBMClassifier\n",
      "       Feature ranking method: Entropy\n",
      "          Features: [23, 22, 20, 21, 41, 30, 8, 28, 29, 1, 6, 7]\n",
      "Run: 4 | Entropy | LGBMClassifier | NumFeatures: 12 | Bag: 0 | TPR: 0.7024 | TNR: 0.6014 | GMean: 0.6499 | TP: 59 | TN: 42204 | FP: 27975 | FN: 25\n",
      "Run: 4 | Entropy | LGBMClassifier | NumFeatures: 12 | Bag: 1 | TPR: 0.7143 | TNR: 0.5739 | GMean: 0.6402 | TP: 60 | TN: 40273 | FP: 29906 | FN: 24\n",
      "Run: 4 | Entropy | LGBMClassifier | NumFeatures: 12 | Bag: 2 | TPR: 0.7381 | TNR: 0.5951 | GMean: 0.6627 | TP: 62 | TN: 41762 | FP: 28417 | FN: 22\n",
      "Run: 4 | Entropy | LGBMClassifier | NumFeatures: 12 | Bag: 3 | TPR: 0.6548 | TNR: 0.6805 | GMean: 0.6675 | TP: 55 | TN: 47758 | FP: 22421 | FN: 29\n",
      "Run: 4 | Entropy | LGBMClassifier | NumFeatures: 12 | Bag: 4 | TPR: 0.6667 | TNR: 0.6013 | GMean: 0.6331 | TP: 56 | TN: 42198 | FP: 27981 | FN: 28\n",
      "Run: 4 | Entropy | LGBMClassifier | NumFeatures: 12 | Bag: 5 | TPR: 0.6310 | TNR: 0.6603 | GMean: 0.6455 | TP: 53 | TN: 46339 | FP: 23840 | FN: 31\n",
      "Run: 4 | Entropy | LGBMClassifier | NumFeatures: 12 | Bag: 6 | TPR: 0.5595 | TNR: 0.6426 | GMean: 0.5996 | TP: 47 | TN: 45094 | FP: 25085 | FN: 37\n",
      "Run: 4 | Entropy | LGBMClassifier | NumFeatures: 12 | Bag: 7 | TPR: 0.7500 | TNR: 0.6431 | GMean: 0.6945 | TP: 63 | TN: 45132 | FP: 25047 | FN: 21\n",
      "Run: 4 | Entropy | LGBMClassifier | NumFeatures: 12 | Bag: 8 | TPR: 0.7143 | TNR: 0.6231 | GMean: 0.6671 | TP: 60 | TN: 43727 | FP: 26452 | FN: 24\n",
      "Run: 4 | Entropy | LGBMClassifier | NumFeatures: 12 | Bag: 9 | TPR: 0.6786 | TNR: 0.6401 | GMean: 0.6591 | TP: 57 | TN: 44924 | FP: 25255 | FN: 27\n",
      "Run: 4 | Entropy | LGBMClassifier | NumFeatures: 12 | Bag: 10 | TPR: 0.7500 | TNR: 0.6215 | GMean: 0.6827 | TP: 63 | TN: 43614 | FP: 26565 | FN: 21\n",
      "Run: 4 | Entropy | LGBMClassifier | NumFeatures: 12 | Bag: 11 | TPR: 0.7262 | TNR: 0.6514 | GMean: 0.6878 | TP: 61 | TN: 45718 | FP: 24461 | FN: 23\n",
      "Run: 4 | Entropy | LGBMClassifier | NumFeatures: 12 | Bag: 12 | TPR: 0.7500 | TNR: 0.5704 | GMean: 0.6541 | TP: 63 | TN: 40029 | FP: 30150 | FN: 21\n",
      "Run: 4 | Entropy | LGBMClassifier | NumFeatures: 12 | Bag: 13 | TPR: 0.6786 | TNR: 0.6228 | GMean: 0.6501 | TP: 57 | TN: 43706 | FP: 26473 | FN: 27\n",
      "Run: 4 | Entropy | LGBMClassifier | NumFeatures: 12 | Bag: 14 | TPR: 0.6905 | TNR: 0.6344 | GMean: 0.6618 | TP: 58 | TN: 44522 | FP: 25657 | FN: 26\n",
      "Run: 4 | Entropy | LGBMClassifier | NumFeatures: 12 | Bag: 15 | TPR: 0.6786 | TNR: 0.6216 | GMean: 0.6495 | TP: 57 | TN: 43626 | FP: 26553 | FN: 27\n",
      "Run: 4 | Entropy | LGBMClassifier | NumFeatures: 12 | Bag: 16 | TPR: 0.7381 | TNR: 0.6329 | GMean: 0.6835 | TP: 62 | TN: 44419 | FP: 25760 | FN: 22\n",
      "Run: 4 | Entropy | LGBMClassifier | NumFeatures: 12 | Bag: 17 | TPR: 0.6905 | TNR: 0.6319 | GMean: 0.6605 | TP: 58 | TN: 44346 | FP: 25833 | FN: 26\n",
      "Run: 4 | Entropy | LGBMClassifier | NumFeatures: 12 | Bag: 18 | TPR: 0.7500 | TNR: 0.6088 | GMean: 0.6757 | TP: 63 | TN: 42726 | FP: 27453 | FN: 21\n",
      "Run: 4 | Entropy | LGBMClassifier | NumFeatures: 12 | Bag: 19 | TPR: 0.6905 | TNR: 0.6331 | GMean: 0.6612 | TP: 58 | TN: 44430 | FP: 25749 | FN: 26\n",
      "Mean TPR: 0.6810 | Mean TNR: 0.6261 | Mean GMean: 0.6519\n",
      "Run: 4 | Entropy | LGBMClassifier | NumFeatures: 12 | Ensemble of 10 bags | TPR: 0.6905 | TNR: 0.6641 | GMean: 0.6772 | TP: 58 | TN: 46605 | FP: 23574 | FN: 26\n",
      "Mean TPR: 0.6976 | Mean TNR: 0.6245 | Mean GMean: 0.6593\n",
      "Run: 4 | Entropy | LGBMClassifier | NumFeatures: 12 | Ensemble of 20 bags | TPR: 0.7024 | TNR: 0.6513 | GMean: 0.6764 | TP: 59 | TN: 45707 | FP: 24472 | FN: 25\n",
      "\n",
      "       Feature ranking method: Ttest\n",
      "          Features: [23, 22, 21, 20, 8, 30, 28, 6, 7, 29, 18, 19]\n",
      "Run: 4 | Ttest | LGBMClassifier | NumFeatures: 12 | Bag: 0 | TPR: 0.4167 | TNR: 0.6748 | GMean: 0.5303 | TP: 35 | TN: 47360 | FP: 22819 | FN: 49\n",
      "Run: 4 | Ttest | LGBMClassifier | NumFeatures: 12 | Bag: 1 | TPR: 0.5238 | TNR: 0.6550 | GMean: 0.5857 | TP: 44 | TN: 45968 | FP: 24211 | FN: 40\n",
      "Run: 4 | Ttest | LGBMClassifier | NumFeatures: 12 | Bag: 2 | TPR: 0.5476 | TNR: 0.6185 | GMean: 0.5820 | TP: 46 | TN: 43406 | FP: 26773 | FN: 38\n",
      "Run: 4 | Ttest | LGBMClassifier | NumFeatures: 12 | Bag: 3 | TPR: 0.6190 | TNR: 0.6809 | GMean: 0.6492 | TP: 52 | TN: 47783 | FP: 22396 | FN: 32\n",
      "Run: 4 | Ttest | LGBMClassifier | NumFeatures: 12 | Bag: 4 | TPR: 0.5357 | TNR: 0.6965 | GMean: 0.6108 | TP: 45 | TN: 48878 | FP: 21301 | FN: 39\n",
      "Run: 4 | Ttest | LGBMClassifier | NumFeatures: 12 | Bag: 5 | TPR: 0.4524 | TNR: 0.6809 | GMean: 0.5550 | TP: 38 | TN: 47788 | FP: 22391 | FN: 46\n",
      "Run: 4 | Ttest | LGBMClassifier | NumFeatures: 12 | Bag: 6 | TPR: 0.3571 | TNR: 0.6803 | GMean: 0.4929 | TP: 30 | TN: 47742 | FP: 22437 | FN: 54\n",
      "Run: 4 | Ttest | LGBMClassifier | NumFeatures: 12 | Bag: 7 | TPR: 0.5119 | TNR: 0.6779 | GMean: 0.5891 | TP: 43 | TN: 47571 | FP: 22608 | FN: 41\n",
      "Run: 4 | Ttest | LGBMClassifier | NumFeatures: 12 | Bag: 8 | TPR: 0.5238 | TNR: 0.6332 | GMean: 0.5759 | TP: 44 | TN: 44439 | FP: 25740 | FN: 40\n",
      "Run: 4 | Ttest | LGBMClassifier | NumFeatures: 12 | Bag: 9 | TPR: 0.4881 | TNR: 0.7187 | GMean: 0.5923 | TP: 41 | TN: 50438 | FP: 19741 | FN: 43\n",
      "Run: 4 | Ttest | LGBMClassifier | NumFeatures: 12 | Bag: 10 | TPR: 0.4643 | TNR: 0.6735 | GMean: 0.5592 | TP: 39 | TN: 47264 | FP: 22915 | FN: 45\n",
      "Run: 4 | Ttest | LGBMClassifier | NumFeatures: 12 | Bag: 11 | TPR: 0.4048 | TNR: 0.7239 | GMean: 0.5413 | TP: 34 | TN: 50802 | FP: 19377 | FN: 50\n",
      "Run: 4 | Ttest | LGBMClassifier | NumFeatures: 12 | Bag: 12 | TPR: 0.4405 | TNR: 0.6349 | GMean: 0.5288 | TP: 37 | TN: 44556 | FP: 25623 | FN: 47\n",
      "Run: 4 | Ttest | LGBMClassifier | NumFeatures: 12 | Bag: 13 | TPR: 0.4286 | TNR: 0.6726 | GMean: 0.5369 | TP: 36 | TN: 47204 | FP: 22975 | FN: 48\n",
      "Run: 4 | Ttest | LGBMClassifier | NumFeatures: 12 | Bag: 14 | TPR: 0.4762 | TNR: 0.6778 | GMean: 0.5681 | TP: 40 | TN: 47565 | FP: 22614 | FN: 44\n",
      "Run: 4 | Ttest | LGBMClassifier | NumFeatures: 12 | Bag: 15 | TPR: 0.5119 | TNR: 0.6657 | GMean: 0.5837 | TP: 43 | TN: 46716 | FP: 23463 | FN: 41\n",
      "Run: 4 | Ttest | LGBMClassifier | NumFeatures: 12 | Bag: 16 | TPR: 0.4643 | TNR: 0.6957 | GMean: 0.5684 | TP: 39 | TN: 48827 | FP: 21352 | FN: 45\n",
      "Run: 4 | Ttest | LGBMClassifier | NumFeatures: 12 | Bag: 17 | TPR: 0.5833 | TNR: 0.6583 | GMean: 0.6197 | TP: 49 | TN: 46201 | FP: 23978 | FN: 35\n",
      "Run: 4 | Ttest | LGBMClassifier | NumFeatures: 12 | Bag: 18 | TPR: 0.5476 | TNR: 0.6016 | GMean: 0.5740 | TP: 46 | TN: 42217 | FP: 27962 | FN: 38\n",
      "Run: 4 | Ttest | LGBMClassifier | NumFeatures: 12 | Bag: 19 | TPR: 0.4881 | TNR: 0.7075 | GMean: 0.5877 | TP: 41 | TN: 49653 | FP: 20526 | FN: 43\n",
      "Mean TPR: 0.4976 | Mean TNR: 0.6717 | Mean GMean: 0.5763\n",
      "Run: 4 | Ttest | LGBMClassifier | NumFeatures: 12 | Ensemble of 10 bags | TPR: 0.4524 | TNR: 0.7297 | GMean: 0.5745 | TP: 38 | TN: 51208 | FP: 18971 | FN: 46\n",
      "Mean TPR: 0.4893 | Mean TNR: 0.6714 | Mean GMean: 0.5715\n",
      "Run: 4 | Ttest | LGBMClassifier | NumFeatures: 12 | Ensemble of 20 bags | TPR: 0.4405 | TNR: 0.7178 | GMean: 0.5623 | TP: 37 | TN: 50371 | FP: 19808 | FN: 47\n",
      "\n",
      "       Feature ranking method: Brattacharyya\n",
      "          Features: [23, 22, 21, 20, 30, 28, 29, 8, 6, 7, 41, 43]\n",
      "Run: 4 | Brattacharyya | LGBMClassifier | NumFeatures: 12 | Bag: 0 | TPR: 0.6786 | TNR: 0.5808 | GMean: 0.6278 | TP: 57 | TN: 40762 | FP: 29417 | FN: 27\n",
      "Run: 4 | Brattacharyya | LGBMClassifier | NumFeatures: 12 | Bag: 1 | TPR: 0.6786 | TNR: 0.5433 | GMean: 0.6072 | TP: 57 | TN: 38129 | FP: 32050 | FN: 27\n",
      "Run: 4 | Brattacharyya | LGBMClassifier | NumFeatures: 12 | Bag: 2 | TPR: 0.6786 | TNR: 0.5257 | GMean: 0.5973 | TP: 57 | TN: 36892 | FP: 33287 | FN: 27\n",
      "Run: 4 | Brattacharyya | LGBMClassifier | NumFeatures: 12 | Bag: 3 | TPR: 0.6667 | TNR: 0.6022 | GMean: 0.6336 | TP: 56 | TN: 42261 | FP: 27918 | FN: 28\n",
      "Run: 4 | Brattacharyya | LGBMClassifier | NumFeatures: 12 | Bag: 4 | TPR: 0.6786 | TNR: 0.5469 | GMean: 0.6092 | TP: 57 | TN: 38379 | FP: 31800 | FN: 27\n",
      "Run: 4 | Brattacharyya | LGBMClassifier | NumFeatures: 12 | Bag: 5 | TPR: 0.6429 | TNR: 0.5977 | GMean: 0.6199 | TP: 54 | TN: 41949 | FP: 28230 | FN: 30\n",
      "Run: 4 | Brattacharyya | LGBMClassifier | NumFeatures: 12 | Bag: 6 | TPR: 0.6429 | TNR: 0.6050 | GMean: 0.6236 | TP: 54 | TN: 42456 | FP: 27723 | FN: 30\n",
      "Run: 4 | Brattacharyya | LGBMClassifier | NumFeatures: 12 | Bag: 7 | TPR: 0.5595 | TNR: 0.6185 | GMean: 0.5883 | TP: 47 | TN: 43403 | FP: 26776 | FN: 37\n",
      "Run: 4 | Brattacharyya | LGBMClassifier | NumFeatures: 12 | Bag: 8 | TPR: 0.6310 | TNR: 0.5812 | GMean: 0.6056 | TP: 53 | TN: 40789 | FP: 29390 | FN: 31\n",
      "Run: 4 | Brattacharyya | LGBMClassifier | NumFeatures: 12 | Bag: 9 | TPR: 0.6190 | TNR: 0.6089 | GMean: 0.6139 | TP: 52 | TN: 42731 | FP: 27448 | FN: 32\n",
      "Run: 4 | Brattacharyya | LGBMClassifier | NumFeatures: 12 | Bag: 10 | TPR: 0.6905 | TNR: 0.5658 | GMean: 0.6250 | TP: 58 | TN: 39708 | FP: 30471 | FN: 26\n",
      "Run: 4 | Brattacharyya | LGBMClassifier | NumFeatures: 12 | Bag: 11 | TPR: 0.6667 | TNR: 0.6302 | GMean: 0.6482 | TP: 56 | TN: 44227 | FP: 25952 | FN: 28\n",
      "Run: 4 | Brattacharyya | LGBMClassifier | NumFeatures: 12 | Bag: 12 | TPR: 0.6667 | TNR: 0.5363 | GMean: 0.5980 | TP: 56 | TN: 37640 | FP: 32539 | FN: 28\n",
      "Run: 4 | Brattacharyya | LGBMClassifier | NumFeatures: 12 | Bag: 13 | TPR: 0.6905 | TNR: 0.5516 | GMean: 0.6171 | TP: 58 | TN: 38710 | FP: 31469 | FN: 26\n",
      "Run: 4 | Brattacharyya | LGBMClassifier | NumFeatures: 12 | Bag: 14 | TPR: 0.7024 | TNR: 0.5634 | GMean: 0.6291 | TP: 59 | TN: 39539 | FP: 30640 | FN: 25\n",
      "Run: 4 | Brattacharyya | LGBMClassifier | NumFeatures: 12 | Bag: 15 | TPR: 0.6667 | TNR: 0.5638 | GMean: 0.6131 | TP: 56 | TN: 39567 | FP: 30612 | FN: 28\n",
      "Run: 4 | Brattacharyya | LGBMClassifier | NumFeatures: 12 | Bag: 16 | TPR: 0.6310 | TNR: 0.5884 | GMean: 0.6093 | TP: 53 | TN: 41294 | FP: 28885 | FN: 31\n",
      "Run: 4 | Brattacharyya | LGBMClassifier | NumFeatures: 12 | Bag: 17 | TPR: 0.6786 | TNR: 0.5979 | GMean: 0.6370 | TP: 57 | TN: 41963 | FP: 28216 | FN: 27\n",
      "Run: 4 | Brattacharyya | LGBMClassifier | NumFeatures: 12 | Bag: 18 | TPR: 0.6190 | TNR: 0.5510 | GMean: 0.5840 | TP: 52 | TN: 38669 | FP: 31510 | FN: 32\n",
      "Run: 4 | Brattacharyya | LGBMClassifier | NumFeatures: 12 | Bag: 19 | TPR: 0.6786 | TNR: 0.5868 | GMean: 0.6310 | TP: 57 | TN: 41181 | FP: 28998 | FN: 27\n",
      "Mean TPR: 0.6476 | Mean TNR: 0.5810 | Mean GMean: 0.6126\n",
      "Run: 4 | Brattacharyya | LGBMClassifier | NumFeatures: 12 | Ensemble of 10 bags | TPR: 0.6548 | TNR: 0.6075 | GMean: 0.6307 | TP: 55 | TN: 42634 | FP: 27545 | FN: 29\n",
      "Mean TPR: 0.6583 | Mean TNR: 0.5773 | Mean GMean: 0.6159\n",
      "Run: 4 | Brattacharyya | LGBMClassifier | NumFeatures: 12 | Ensemble of 20 bags | TPR: 0.6667 | TNR: 0.5910 | GMean: 0.6277 | TP: 56 | TN: 41475 | FP: 28704 | FN: 28\n",
      "\n",
      "       Feature ranking method: Wilcoxon\n",
      "          Features: [23, 22, 21, 20, 30, 28, 8, 6, 29, 7, 18, 12]\n",
      "Run: 4 | Wilcoxon | LGBMClassifier | NumFeatures: 12 | Bag: 0 | TPR: 0.3690 | TNR: 0.6595 | GMean: 0.4933 | TP: 31 | TN: 46283 | FP: 23896 | FN: 53\n",
      "Run: 4 | Wilcoxon | LGBMClassifier | NumFeatures: 12 | Bag: 1 | TPR: 0.5238 | TNR: 0.6632 | GMean: 0.5894 | TP: 44 | TN: 46543 | FP: 23636 | FN: 40\n",
      "Run: 4 | Wilcoxon | LGBMClassifier | NumFeatures: 12 | Bag: 2 | TPR: 0.5238 | TNR: 0.6524 | GMean: 0.5846 | TP: 44 | TN: 45787 | FP: 24392 | FN: 40\n",
      "Run: 4 | Wilcoxon | LGBMClassifier | NumFeatures: 12 | Bag: 3 | TPR: 0.5833 | TNR: 0.6797 | GMean: 0.6297 | TP: 49 | TN: 47704 | FP: 22475 | FN: 35\n",
      "Run: 4 | Wilcoxon | LGBMClassifier | NumFeatures: 12 | Bag: 4 | TPR: 0.4405 | TNR: 0.6794 | GMean: 0.5471 | TP: 37 | TN: 47683 | FP: 22496 | FN: 47\n",
      "Run: 4 | Wilcoxon | LGBMClassifier | NumFeatures: 12 | Bag: 5 | TPR: 0.4167 | TNR: 0.6923 | GMean: 0.5371 | TP: 35 | TN: 48583 | FP: 21596 | FN: 49\n",
      "Run: 4 | Wilcoxon | LGBMClassifier | NumFeatures: 12 | Bag: 6 | TPR: 0.4286 | TNR: 0.7140 | GMean: 0.5532 | TP: 36 | TN: 50110 | FP: 20069 | FN: 48\n",
      "Run: 4 | Wilcoxon | LGBMClassifier | NumFeatures: 12 | Bag: 7 | TPR: 0.5119 | TNR: 0.7058 | GMean: 0.6011 | TP: 43 | TN: 49530 | FP: 20649 | FN: 41\n",
      "Run: 4 | Wilcoxon | LGBMClassifier | NumFeatures: 12 | Bag: 8 | TPR: 0.4881 | TNR: 0.6491 | GMean: 0.5629 | TP: 41 | TN: 45554 | FP: 24625 | FN: 43\n",
      "Run: 4 | Wilcoxon | LGBMClassifier | NumFeatures: 12 | Bag: 9 | TPR: 0.4286 | TNR: 0.7468 | GMean: 0.5657 | TP: 36 | TN: 52407 | FP: 17772 | FN: 48\n",
      "Run: 4 | Wilcoxon | LGBMClassifier | NumFeatures: 12 | Bag: 10 | TPR: 0.5000 | TNR: 0.6545 | GMean: 0.5721 | TP: 42 | TN: 45933 | FP: 24246 | FN: 42\n",
      "Run: 4 | Wilcoxon | LGBMClassifier | NumFeatures: 12 | Bag: 11 | TPR: 0.4405 | TNR: 0.7001 | GMean: 0.5553 | TP: 37 | TN: 49130 | FP: 21049 | FN: 47\n",
      "Run: 4 | Wilcoxon | LGBMClassifier | NumFeatures: 12 | Bag: 12 | TPR: 0.5119 | TNR: 0.6365 | GMean: 0.5708 | TP: 43 | TN: 44670 | FP: 25509 | FN: 41\n",
      "Run: 4 | Wilcoxon | LGBMClassifier | NumFeatures: 12 | Bag: 13 | TPR: 0.4881 | TNR: 0.6330 | GMean: 0.5559 | TP: 41 | TN: 44426 | FP: 25753 | FN: 43\n",
      "Run: 4 | Wilcoxon | LGBMClassifier | NumFeatures: 12 | Bag: 14 | TPR: 0.4881 | TNR: 0.6641 | GMean: 0.5693 | TP: 41 | TN: 46608 | FP: 23571 | FN: 43\n",
      "Run: 4 | Wilcoxon | LGBMClassifier | NumFeatures: 12 | Bag: 15 | TPR: 0.5000 | TNR: 0.6887 | GMean: 0.5868 | TP: 42 | TN: 48331 | FP: 21848 | FN: 42\n",
      "Run: 4 | Wilcoxon | LGBMClassifier | NumFeatures: 12 | Bag: 16 | TPR: 0.4881 | TNR: 0.7035 | GMean: 0.5860 | TP: 41 | TN: 49372 | FP: 20807 | FN: 43\n",
      "Run: 4 | Wilcoxon | LGBMClassifier | NumFeatures: 12 | Bag: 17 | TPR: 0.5238 | TNR: 0.6832 | GMean: 0.5982 | TP: 44 | TN: 47949 | FP: 22230 | FN: 40\n",
      "Run: 4 | Wilcoxon | LGBMClassifier | NumFeatures: 12 | Bag: 18 | TPR: 0.5000 | TNR: 0.6574 | GMean: 0.5733 | TP: 42 | TN: 46137 | FP: 24042 | FN: 42\n",
      "Run: 4 | Wilcoxon | LGBMClassifier | NumFeatures: 12 | Bag: 19 | TPR: 0.5119 | TNR: 0.6774 | GMean: 0.5888 | TP: 43 | TN: 47536 | FP: 22643 | FN: 41\n",
      "Mean TPR: 0.4714 | Mean TNR: 0.6842 | Mean GMean: 0.5664\n",
      "Run: 4 | Wilcoxon | LGBMClassifier | NumFeatures: 12 | Ensemble of 10 bags | TPR: 0.4405 | TNR: 0.7425 | GMean: 0.5719 | TP: 37 | TN: 52111 | FP: 18068 | FN: 47\n",
      "Mean TPR: 0.4833 | Mean TNR: 0.6770 | Mean GMean: 0.5710\n",
      "Run: 4 | Wilcoxon | LGBMClassifier | NumFeatures: 12 | Ensemble of 20 bags | TPR: 0.4643 | TNR: 0.7224 | GMean: 0.5791 | TP: 39 | TN: 50696 | FP: 19483 | FN: 45\n",
      "\n",
      "       All features\n",
      "          Features: [0, 1, 2, 3, 4, 5, 6, 7, 8, 9, 10, 11, 12, 13, 14, 15, 16, 17, 18, 19, 20, 21, 22, 23, 24, 25, 26, 27, 28, 29, 30, 31, 32, 33, 34, 35, 36, 37, 38, 39, 40, 41, 42, 43, 44]\n",
      "Run: 4 | Wilcoxon | LGBMClassifier | NumFeatures: 45 | Bag: 0 | TPR: 0.5952 | TNR: 0.7059 | GMean: 0.6482 | TP: 50 | TN: 49536 | FP: 20643 | FN: 34\n",
      "Run: 4 | Wilcoxon | LGBMClassifier | NumFeatures: 45 | Bag: 1 | TPR: 0.5238 | TNR: 0.7047 | GMean: 0.6076 | TP: 44 | TN: 49457 | FP: 20722 | FN: 40\n",
      "Run: 4 | Wilcoxon | LGBMClassifier | NumFeatures: 45 | Bag: 2 | TPR: 0.4524 | TNR: 0.7640 | GMean: 0.5879 | TP: 38 | TN: 53618 | FP: 16561 | FN: 46\n",
      "Run: 4 | Wilcoxon | LGBMClassifier | NumFeatures: 45 | Bag: 3 | TPR: 0.5714 | TNR: 0.7661 | GMean: 0.6616 | TP: 48 | TN: 53764 | FP: 16415 | FN: 36\n",
      "Run: 4 | Wilcoxon | LGBMClassifier | NumFeatures: 45 | Bag: 4 | TPR: 0.5714 | TNR: 0.7224 | GMean: 0.6425 | TP: 48 | TN: 50698 | FP: 19481 | FN: 36\n",
      "Run: 4 | Wilcoxon | LGBMClassifier | NumFeatures: 45 | Bag: 5 | TPR: 0.4881 | TNR: 0.7704 | GMean: 0.6132 | TP: 41 | TN: 54069 | FP: 16110 | FN: 43\n",
      "Run: 4 | Wilcoxon | LGBMClassifier | NumFeatures: 45 | Bag: 6 | TPR: 0.5595 | TNR: 0.7604 | GMean: 0.6523 | TP: 47 | TN: 53366 | FP: 16813 | FN: 37\n",
      "Run: 4 | Wilcoxon | LGBMClassifier | NumFeatures: 45 | Bag: 7 | TPR: 0.4286 | TNR: 0.7927 | GMean: 0.5829 | TP: 36 | TN: 55633 | FP: 14546 | FN: 48\n",
      "Run: 4 | Wilcoxon | LGBMClassifier | NumFeatures: 45 | Bag: 8 | TPR: 0.5238 | TNR: 0.7668 | GMean: 0.6338 | TP: 44 | TN: 53814 | FP: 16365 | FN: 40\n",
      "Run: 4 | Wilcoxon | LGBMClassifier | NumFeatures: 45 | Bag: 9 | TPR: 0.4167 | TNR: 0.7829 | GMean: 0.5712 | TP: 35 | TN: 54945 | FP: 15234 | FN: 49\n",
      "Run: 4 | Wilcoxon | LGBMClassifier | NumFeatures: 45 | Bag: 10 | TPR: 0.5119 | TNR: 0.7703 | GMean: 0.6279 | TP: 43 | TN: 54059 | FP: 16120 | FN: 41\n",
      "Run: 4 | Wilcoxon | LGBMClassifier | NumFeatures: 45 | Bag: 11 | TPR: 0.4643 | TNR: 0.7557 | GMean: 0.5924 | TP: 39 | TN: 53037 | FP: 17142 | FN: 45\n",
      "Run: 4 | Wilcoxon | LGBMClassifier | NumFeatures: 45 | Bag: 12 | TPR: 0.5833 | TNR: 0.7169 | GMean: 0.6467 | TP: 49 | TN: 50312 | FP: 19867 | FN: 35\n",
      "Run: 4 | Wilcoxon | LGBMClassifier | NumFeatures: 45 | Bag: 13 | TPR: 0.5833 | TNR: 0.7202 | GMean: 0.6481 | TP: 49 | TN: 50540 | FP: 19639 | FN: 35\n",
      "Run: 4 | Wilcoxon | LGBMClassifier | NumFeatures: 45 | Bag: 14 | TPR: 0.4762 | TNR: 0.7463 | GMean: 0.5962 | TP: 40 | TN: 52378 | FP: 17801 | FN: 44\n",
      "Run: 4 | Wilcoxon | LGBMClassifier | NumFeatures: 45 | Bag: 15 | TPR: 0.5238 | TNR: 0.7504 | GMean: 0.6270 | TP: 44 | TN: 52664 | FP: 17515 | FN: 40\n",
      "Run: 4 | Wilcoxon | LGBMClassifier | NumFeatures: 45 | Bag: 16 | TPR: 0.4524 | TNR: 0.7793 | GMean: 0.5938 | TP: 38 | TN: 54691 | FP: 15488 | FN: 46\n",
      "Run: 4 | Wilcoxon | LGBMClassifier | NumFeatures: 45 | Bag: 17 | TPR: 0.5595 | TNR: 0.7707 | GMean: 0.6567 | TP: 47 | TN: 54084 | FP: 16095 | FN: 37\n",
      "Run: 4 | Wilcoxon | LGBMClassifier | NumFeatures: 45 | Bag: 18 | TPR: 0.5357 | TNR: 0.7682 | GMean: 0.6415 | TP: 45 | TN: 53913 | FP: 16266 | FN: 39\n",
      "Run: 4 | Wilcoxon | LGBMClassifier | NumFeatures: 45 | Bag: 19 | TPR: 0.4881 | TNR: 0.7579 | GMean: 0.6082 | TP: 41 | TN: 53191 | FP: 16988 | FN: 43\n",
      "Mean TPR: 0.5131 | Mean TNR: 0.7536 | Mean GMean: 0.6201\n",
      "Run: 4 | Wilcoxon | LGBMClassifier | NumFeatures: 45 | Ensemble of 10 bags | TPR: 0.5476 | TNR: 0.7890 | GMean: 0.6573 | TP: 46 | TN: 55373 | FP: 14806 | FN: 38\n",
      "Mean TPR: 0.5155 | Mean TNR: 0.7536 | Mean GMean: 0.6220\n",
      "Run: 4 | Wilcoxon | LGBMClassifier | NumFeatures: 45 | Ensemble of 20 bags | TPR: 0.5357 | TNR: 0.7806 | GMean: 0.6467 | TP: 45 | TN: 54784 | FP: 15395 | FN: 39\n",
      "\n",
      "CPU times: user 4min 8s, sys: 1.81 s, total: 4min 10s\n",
      "Wall time: 48.3 s\n"
     ]
    }
   ],
   "source": [
    "%%time\n",
    "classify_feature_rank(DataCV_dir, Bags_dir, FeatRanking_dir,\n",
    "                      [LGBMClassifier], [{}],\n",
    "                      'Erk', 'Di', 'BCR', 0.01, num_bags=[10,20],\n",
    "                      num_runs=[4], num_top_features=[12], test_all_features=True)"
   ]
  },
  {
   "cell_type": "raw",
   "metadata": {},
   "source": []
  },
  {
   "cell_type": "code",
   "execution_count": null,
   "metadata": {},
   "outputs": [],
   "source": []
  }
 ],
 "metadata": {
  "kernelspec": {
   "display_name": "Python 3",
   "language": "python",
   "name": "python3"
  },
  "language_info": {
   "codemirror_mode": {
    "name": "ipython",
    "version": 3
   },
   "file_extension": ".py",
   "mimetype": "text/x-python",
   "name": "python",
   "nbconvert_exporter": "python",
   "pygments_lexer": "ipython3",
   "version": "3.6.4"
  }
 },
 "nbformat": 4,
 "nbformat_minor": 2
}
