{
 "cells": [
  {
   "cell_type": "code",
   "execution_count": 1,
   "metadata": {},
   "outputs": [],
   "source": [
    "%load_ext autoreload\n",
    "%autoreload 2\n",
    "%matplotlib inline\n",
    "%config InlineBackend.figure_format = 'retina'\n",
    "import numpy as np\n",
    "import pandas as pd\n",
    "import matplotlib.pyplot as plt\n",
    "import seaborn as sns\n",
    "sns.set()\n",
    "pd.set_option('display.max_columns', 400)"
   ]
  },
  {
   "cell_type": "code",
   "execution_count": 2,
   "metadata": {},
   "outputs": [],
   "source": [
    "import os\n",
    "from pathlib import Path\n",
    "os.chdir('..')\n",
    "DATA = Path('_data/genomics-data')\n",
    "DataCV_dir      = DATA/'DataCV'\n",
    "Bags_dir        = DATA/'Bags'\n",
    "FeatRanking_dir = DATA/'FeatRanking'\n",
    "Log_dir         = DATA/'LogsClassifFeatureRank'"
   ]
  },
  {
   "cell_type": "code",
   "execution_count": 19,
   "metadata": {},
   "outputs": [],
   "source": [
    "from lightgbm import LGBMClassifier\n",
    "from sklearn.svm import LinearSVC, SVC\n",
    "from sklearn.neural_network import MLPClassifier\n",
    "from sklearn.ensemble import RandomForestClassifier\n",
    "from sklearn.naive_bayes import GaussianNB\n",
    "from sklearn.neighbors import KNeighborsClassifier\n",
    "from sklearn.linear_model import LogisticRegression\n",
    "from SVMExperiments.utils import classify_feature_rank"
   ]
  },
  {
   "cell_type": "code",
   "execution_count": 4,
   "metadata": {},
   "outputs": [],
   "source": [
    "import warnings\n",
    "warnings.filterwarnings(\"ignore\", category=DeprecationWarning) "
   ]
  },
  {
   "cell_type": "markdown",
   "metadata": {},
   "source": [
    "- NN => Emular features\n",
    "- Tt => Discreto\n",
    "- 10 PCs\n",
    "- 30 PCs, 4 laboratorios [V205, V206, V207, V208]\n",
    "- 7 inhibidores x \n",
    "  4 features x \n",
    "  3 instancias x\n",
    "  5 runs x [1,2,3,4,5]\n",
    "  5 clasificadores [SVM, RandomForest, LightGBM, LogisticRegression, KNN]\n",
    "  3 conjuntos de bags [100,200,300]\n",
    "  6 # top features [2,4,6,8,10,12]\n",
    "  \n",
    "= 3,780,000 training runs\n",
    "29,077 training runs for PC\n",
    "3 s/training run\n"
   ]
  },
  {
   "cell_type": "code",
   "execution_count": 22,
   "metadata": {},
   "outputs": [
    {
     "data": {
      "text/plain": [
       "3780000"
      ]
     },
     "execution_count": 22,
     "metadata": {},
     "output_type": "execute_result"
    }
   ],
   "source": [
    "7*4*3*5*5*300*6"
   ]
  },
  {
   "cell_type": "code",
   "execution_count": 23,
   "metadata": {},
   "outputs": [
    {
     "data": {
      "text/plain": [
       "29076.923076923078"
      ]
     },
     "execution_count": 23,
     "metadata": {},
     "output_type": "execute_result"
    }
   ],
   "source": [
    "7*4*3*5*5*300*6 / 130"
   ]
  },
  {
   "cell_type": "code",
   "execution_count": 32,
   "metadata": {},
   "outputs": [
    {
     "data": {
      "text/plain": [
       "24.230833333333333"
      ]
     },
     "execution_count": 32,
     "metadata": {},
     "output_type": "execute_result"
    }
   ],
   "source": [
    "29077 * 3 / 3600"
   ]
  },
  {
   "cell_type": "code",
   "execution_count": 33,
   "metadata": {},
   "outputs": [
    {
     "data": {
      "text/plain": [
       "3150.0"
      ]
     },
     "execution_count": 33,
     "metadata": {},
     "output_type": "execute_result"
    }
   ],
   "source": [
    "3780000 * 3 / 3600"
   ]
  },
  {
   "cell_type": "code",
   "execution_count": 37,
   "metadata": {},
   "outputs": [
    {
     "data": {
      "text/plain": [
       "315.0"
      ]
     },
     "execution_count": 37,
     "metadata": {},
     "output_type": "execute_result"
    }
   ],
   "source": [
    "3150 / 10"
   ]
  },
  {
   "cell_type": "code",
   "execution_count": 38,
   "metadata": {},
   "outputs": [
    {
     "data": {
      "text/plain": [
       "13.125"
      ]
     },
     "execution_count": 38,
     "metadata": {},
     "output_type": "execute_result"
    }
   ],
   "source": [
    "315 / 24"
   ]
  },
  {
   "cell_type": "code",
   "execution_count": 28,
   "metadata": {},
   "outputs": [
    {
     "name": "stdout",
     "output_type": "stream",
     "text": [
      "Feature set: Di | Dataset: Erk | Treatment: BCR | Pval: 0.01\n",
      "Num bags: [10, 20, 30] | Num runs: [4] | Num features: [12] | All features: True\n",
      "Run: 4\n",
      "    Classifier: KNeighborsClassifier\n",
      "       Feature ranking method: Entropy\n",
      "          Features: [23, 22, 20, 21, 41, 30, 8, 28, 29, 1, 6, 7]\n",
      "Run: 4 | Entropy | KNeighborsClassifier | NumFeatures: 12 | Bag: 0 | TPR: 0.5714 | TNR: 0.5437 | GMean: 0.5574 | TP: 48 | TN: 38155 | FP: 32024 | FN: 36\n",
      "Run: 4 | Entropy | KNeighborsClassifier | NumFeatures: 12 | Bag: 1 | TPR: 0.7024 | TNR: 0.5307 | GMean: 0.6105 | TP: 59 | TN: 37244 | FP: 32935 | FN: 25\n",
      "Run: 4 | Entropy | KNeighborsClassifier | NumFeatures: 12 | Bag: 2 | TPR: 0.6905 | TNR: 0.5292 | GMean: 0.6045 | TP: 58 | TN: 37142 | FP: 33037 | FN: 26\n",
      "Run: 4 | Entropy | KNeighborsClassifier | NumFeatures: 12 | Bag: 3 | TPR: 0.6667 | TNR: 0.5822 | GMean: 0.6230 | TP: 56 | TN: 40856 | FP: 29323 | FN: 28\n",
      "Run: 4 | Entropy | KNeighborsClassifier | NumFeatures: 12 | Bag: 4 | TPR: 0.5952 | TNR: 0.5575 | GMean: 0.5761 | TP: 50 | TN: 39128 | FP: 31051 | FN: 34\n",
      "Run: 4 | Entropy | KNeighborsClassifier | NumFeatures: 12 | Bag: 5 | TPR: 0.5357 | TNR: 0.5889 | GMean: 0.5617 | TP: 45 | TN: 41328 | FP: 28851 | FN: 39\n",
      "Run: 4 | Entropy | KNeighborsClassifier | NumFeatures: 12 | Bag: 6 | TPR: 0.5833 | TNR: 0.5585 | GMean: 0.5708 | TP: 49 | TN: 39194 | FP: 30985 | FN: 35\n",
      "Run: 4 | Entropy | KNeighborsClassifier | NumFeatures: 12 | Bag: 7 | TPR: 0.6071 | TNR: 0.5549 | GMean: 0.5804 | TP: 51 | TN: 38943 | FP: 31236 | FN: 33\n",
      "Run: 4 | Entropy | KNeighborsClassifier | NumFeatures: 12 | Bag: 8 | TPR: 0.6429 | TNR: 0.5450 | GMean: 0.5919 | TP: 54 | TN: 38247 | FP: 31932 | FN: 30\n",
      "Run: 4 | Entropy | KNeighborsClassifier | NumFeatures: 12 | Bag: 9 | TPR: 0.6548 | TNR: 0.5692 | GMean: 0.6105 | TP: 55 | TN: 39945 | FP: 30234 | FN: 29\n",
      "Run: 4 | Entropy | KNeighborsClassifier | NumFeatures: 12 | Bag: 10 | TPR: 0.7143 | TNR: 0.5508 | GMean: 0.6272 | TP: 60 | TN: 38654 | FP: 31525 | FN: 24\n",
      "Run: 4 | Entropy | KNeighborsClassifier | NumFeatures: 12 | Bag: 11 | TPR: 0.6071 | TNR: 0.5533 | GMean: 0.5796 | TP: 51 | TN: 38832 | FP: 31347 | FN: 33\n"
     ]
    },
    {
     "ename": "KeyboardInterrupt",
     "evalue": "",
     "output_type": "error",
     "traceback": [
      "\u001b[0;31m---------------------------------------------------------------------------\u001b[0m",
      "\u001b[0;31mKeyboardInterrupt\u001b[0m                         Traceback (most recent call last)",
      "\u001b[0;32m<timed eval>\u001b[0m in \u001b[0;36m<module>\u001b[0;34m()\u001b[0m\n",
      "\u001b[0;32m~/Documents/genomic-causality-prediction/SVMExperiments/utils.py\u001b[0m in \u001b[0;36mclassify_feature_rank\u001b[0;34m(DataCV_dir, Bags_dir, FeatRanking_dir, classifiers, params, dataset, feature_set, treatment, pval_pos_threshold, num_bags, num_runs, num_top_features, test_all_features)\u001b[0m\n\u001b[1;32m    202\u001b[0m                     evaluate_bags(trn_neg, trn_pos, test_data, test_labels, \n\u001b[1;32m    203\u001b[0m                                   \u001b[0mrun\u001b[0m\u001b[0;34m,\u001b[0m \u001b[0mclassifier\u001b[0m\u001b[0;34m,\u001b[0m \u001b[0mclassifier_name\u001b[0m\u001b[0;34m,\u001b[0m \u001b[0mparam\u001b[0m\u001b[0;34m,\u001b[0m\u001b[0;34m\u001b[0m\u001b[0m\n\u001b[0;32m--> 204\u001b[0;31m                                   feat_rank_row.Method, features, bags, n_samples, num_bags)    \n\u001b[0m\u001b[1;32m    205\u001b[0m             \u001b[0;32mif\u001b[0m \u001b[0mtest_all_features\u001b[0m\u001b[0;34m:\u001b[0m\u001b[0;34m\u001b[0m\u001b[0m\n\u001b[1;32m    206\u001b[0m                 \u001b[0mprint\u001b[0m\u001b[0;34m(\u001b[0m\u001b[0;34m' '\u001b[0m\u001b[0;34m*\u001b[0m\u001b[0;36m6\u001b[0m\u001b[0;34m,\u001b[0m \u001b[0;34mf'All features'\u001b[0m\u001b[0;34m)\u001b[0m\u001b[0;34m\u001b[0m\u001b[0m\n",
      "\u001b[0;32m~/Documents/genomic-causality-prediction/SVMExperiments/utils.py\u001b[0m in \u001b[0;36mevaluate_bags\u001b[0;34m(trn_neg, trn_pos, test_data, test_labels, run, classifier, classifier_name, params, feature_ranker, features, bags, n_samples, num_bags)\u001b[0m\n\u001b[1;32m    131\u001b[0m     \u001b[0mresults\u001b[0m \u001b[0;34m=\u001b[0m \u001b[0;34m[\u001b[0m\u001b[0;34m]\u001b[0m\u001b[0;34m\u001b[0m\u001b[0m\n\u001b[1;32m    132\u001b[0m     \u001b[0;32mfor\u001b[0m \u001b[0mbag_id\u001b[0m \u001b[0;32min\u001b[0m \u001b[0mrange\u001b[0m\u001b[0;34m(\u001b[0m\u001b[0mmax\u001b[0m\u001b[0;34m(\u001b[0m\u001b[0mnum_bags\u001b[0m\u001b[0;34m)\u001b[0m\u001b[0;34m)\u001b[0m\u001b[0;34m:\u001b[0m\u001b[0;34m\u001b[0m\u001b[0m\n\u001b[0;32m--> 133\u001b[0;31m         \u001b[0mresults\u001b[0m\u001b[0;34m.\u001b[0m\u001b[0mappend\u001b[0m\u001b[0;34m(\u001b[0m\u001b[0mpartial_predict\u001b[0m\u001b[0;34m(\u001b[0m\u001b[0mbag_id\u001b[0m\u001b[0;34m)\u001b[0m\u001b[0;34m)\u001b[0m\u001b[0;34m\u001b[0m\u001b[0m\n\u001b[0m\u001b[1;32m    134\u001b[0m         \u001b[0mprint\u001b[0m\u001b[0;34m(\u001b[0m\u001b[0mresults\u001b[0m\u001b[0;34m[\u001b[0m\u001b[0;34m-\u001b[0m\u001b[0;36m1\u001b[0m\u001b[0;34m]\u001b[0m\u001b[0;34m[\u001b[0m\u001b[0;36m1\u001b[0m\u001b[0;34m]\u001b[0m\u001b[0;34m)\u001b[0m\u001b[0;34m\u001b[0m\u001b[0m\n\u001b[1;32m    135\u001b[0m \u001b[0;34m\u001b[0m\u001b[0m\n",
      "\u001b[0;32m~/Documents/genomic-causality-prediction/SVMExperiments/utils.py\u001b[0m in \u001b[0;36mpredict_bag\u001b[0;34m(bag_id, trn_neg, trn_pos, test_data, test_labels, run, classifier, classifier_name, params, feature_ranker, features, bags, n_samples)\u001b[0m\n\u001b[1;32m     79\u001b[0m     \u001b[0mmodel\u001b[0m \u001b[0;34m=\u001b[0m \u001b[0mclassifier\u001b[0m\u001b[0;34m(\u001b[0m\u001b[0;34m**\u001b[0m\u001b[0mparams\u001b[0m\u001b[0;34m)\u001b[0m\u001b[0;34m\u001b[0m\u001b[0m\n\u001b[1;32m     80\u001b[0m     \u001b[0mmodel\u001b[0m\u001b[0;34m.\u001b[0m\u001b[0mfit\u001b[0m\u001b[0;34m(\u001b[0m\u001b[0mtrain_data\u001b[0m\u001b[0;34m,\u001b[0m \u001b[0mtrain_labels\u001b[0m\u001b[0;34m)\u001b[0m\u001b[0;34m\u001b[0m\u001b[0m\n\u001b[0;32m---> 81\u001b[0;31m     \u001b[0mtest_preds\u001b[0m \u001b[0;34m=\u001b[0m \u001b[0mmodel\u001b[0m\u001b[0;34m.\u001b[0m\u001b[0mpredict\u001b[0m\u001b[0;34m(\u001b[0m\u001b[0mtest_data\u001b[0m\u001b[0;34m)\u001b[0m\u001b[0;34m\u001b[0m\u001b[0m\n\u001b[0m\u001b[1;32m     82\u001b[0m \u001b[0;34m\u001b[0m\u001b[0m\n\u001b[1;32m     83\u001b[0m     tpr, tnr, gmean, log = log_metrics(test_labels, test_preds, \n",
      "\u001b[0;32m~/anaconda3/envs/chana/lib/python3.6/site-packages/sklearn/neighbors/classification.py\u001b[0m in \u001b[0;36mpredict\u001b[0;34m(self, X)\u001b[0m\n\u001b[1;32m    143\u001b[0m         \u001b[0mX\u001b[0m \u001b[0;34m=\u001b[0m \u001b[0mcheck_array\u001b[0m\u001b[0;34m(\u001b[0m\u001b[0mX\u001b[0m\u001b[0;34m,\u001b[0m \u001b[0maccept_sparse\u001b[0m\u001b[0;34m=\u001b[0m\u001b[0;34m'csr'\u001b[0m\u001b[0;34m)\u001b[0m\u001b[0;34m\u001b[0m\u001b[0m\n\u001b[1;32m    144\u001b[0m \u001b[0;34m\u001b[0m\u001b[0m\n\u001b[0;32m--> 145\u001b[0;31m         \u001b[0mneigh_dist\u001b[0m\u001b[0;34m,\u001b[0m \u001b[0mneigh_ind\u001b[0m \u001b[0;34m=\u001b[0m \u001b[0mself\u001b[0m\u001b[0;34m.\u001b[0m\u001b[0mkneighbors\u001b[0m\u001b[0;34m(\u001b[0m\u001b[0mX\u001b[0m\u001b[0;34m)\u001b[0m\u001b[0;34m\u001b[0m\u001b[0m\n\u001b[0m\u001b[1;32m    146\u001b[0m \u001b[0;34m\u001b[0m\u001b[0m\n\u001b[1;32m    147\u001b[0m         \u001b[0mclasses_\u001b[0m \u001b[0;34m=\u001b[0m \u001b[0mself\u001b[0m\u001b[0;34m.\u001b[0m\u001b[0mclasses_\u001b[0m\u001b[0;34m\u001b[0m\u001b[0m\n",
      "\u001b[0;32m~/anaconda3/envs/chana/lib/python3.6/site-packages/sklearn/neighbors/base.py\u001b[0m in \u001b[0;36mkneighbors\u001b[0;34m(self, X, n_neighbors, return_distance)\u001b[0m\n\u001b[1;32m    383\u001b[0m                 delayed(self._tree.query, check_pickle=False)(\n\u001b[1;32m    384\u001b[0m                     X[s], n_neighbors, return_distance)\n\u001b[0;32m--> 385\u001b[0;31m                 \u001b[0;32mfor\u001b[0m \u001b[0ms\u001b[0m \u001b[0;32min\u001b[0m \u001b[0mgen_even_slices\u001b[0m\u001b[0;34m(\u001b[0m\u001b[0mX\u001b[0m\u001b[0;34m.\u001b[0m\u001b[0mshape\u001b[0m\u001b[0;34m[\u001b[0m\u001b[0;36m0\u001b[0m\u001b[0;34m]\u001b[0m\u001b[0;34m,\u001b[0m \u001b[0mn_jobs\u001b[0m\u001b[0;34m)\u001b[0m\u001b[0;34m\u001b[0m\u001b[0m\n\u001b[0m\u001b[1;32m    386\u001b[0m             )\n\u001b[1;32m    387\u001b[0m             \u001b[0;32mif\u001b[0m \u001b[0mreturn_distance\u001b[0m\u001b[0;34m:\u001b[0m\u001b[0;34m\u001b[0m\u001b[0m\n",
      "\u001b[0;32m~/anaconda3/envs/chana/lib/python3.6/site-packages/sklearn/externals/joblib/parallel.py\u001b[0m in \u001b[0;36m__call__\u001b[0;34m(self, iterable)\u001b[0m\n\u001b[1;32m    787\u001b[0m                 \u001b[0;31m# consumption.\u001b[0m\u001b[0;34m\u001b[0m\u001b[0;34m\u001b[0m\u001b[0m\n\u001b[1;32m    788\u001b[0m                 \u001b[0mself\u001b[0m\u001b[0;34m.\u001b[0m\u001b[0m_iterating\u001b[0m \u001b[0;34m=\u001b[0m \u001b[0;32mFalse\u001b[0m\u001b[0;34m\u001b[0m\u001b[0m\n\u001b[0;32m--> 789\u001b[0;31m             \u001b[0mself\u001b[0m\u001b[0;34m.\u001b[0m\u001b[0mretrieve\u001b[0m\u001b[0;34m(\u001b[0m\u001b[0;34m)\u001b[0m\u001b[0;34m\u001b[0m\u001b[0m\n\u001b[0m\u001b[1;32m    790\u001b[0m             \u001b[0;31m# Make sure that we get a last message telling us we are done\u001b[0m\u001b[0;34m\u001b[0m\u001b[0;34m\u001b[0m\u001b[0m\n\u001b[1;32m    791\u001b[0m             \u001b[0melapsed_time\u001b[0m \u001b[0;34m=\u001b[0m \u001b[0mtime\u001b[0m\u001b[0;34m.\u001b[0m\u001b[0mtime\u001b[0m\u001b[0;34m(\u001b[0m\u001b[0;34m)\u001b[0m \u001b[0;34m-\u001b[0m \u001b[0mself\u001b[0m\u001b[0;34m.\u001b[0m\u001b[0m_start_time\u001b[0m\u001b[0;34m\u001b[0m\u001b[0m\n",
      "\u001b[0;32m~/anaconda3/envs/chana/lib/python3.6/site-packages/sklearn/externals/joblib/parallel.py\u001b[0m in \u001b[0;36mretrieve\u001b[0;34m(self)\u001b[0m\n\u001b[1;32m    697\u001b[0m             \u001b[0;32mtry\u001b[0m\u001b[0;34m:\u001b[0m\u001b[0;34m\u001b[0m\u001b[0m\n\u001b[1;32m    698\u001b[0m                 \u001b[0;32mif\u001b[0m \u001b[0mgetattr\u001b[0m\u001b[0;34m(\u001b[0m\u001b[0mself\u001b[0m\u001b[0;34m.\u001b[0m\u001b[0m_backend\u001b[0m\u001b[0;34m,\u001b[0m \u001b[0;34m'supports_timeout'\u001b[0m\u001b[0;34m,\u001b[0m \u001b[0;32mFalse\u001b[0m\u001b[0;34m)\u001b[0m\u001b[0;34m:\u001b[0m\u001b[0;34m\u001b[0m\u001b[0m\n\u001b[0;32m--> 699\u001b[0;31m                     \u001b[0mself\u001b[0m\u001b[0;34m.\u001b[0m\u001b[0m_output\u001b[0m\u001b[0;34m.\u001b[0m\u001b[0mextend\u001b[0m\u001b[0;34m(\u001b[0m\u001b[0mjob\u001b[0m\u001b[0;34m.\u001b[0m\u001b[0mget\u001b[0m\u001b[0;34m(\u001b[0m\u001b[0mtimeout\u001b[0m\u001b[0;34m=\u001b[0m\u001b[0mself\u001b[0m\u001b[0;34m.\u001b[0m\u001b[0mtimeout\u001b[0m\u001b[0;34m)\u001b[0m\u001b[0;34m)\u001b[0m\u001b[0;34m\u001b[0m\u001b[0m\n\u001b[0m\u001b[1;32m    700\u001b[0m                 \u001b[0;32melse\u001b[0m\u001b[0;34m:\u001b[0m\u001b[0;34m\u001b[0m\u001b[0m\n\u001b[1;32m    701\u001b[0m                     \u001b[0mself\u001b[0m\u001b[0;34m.\u001b[0m\u001b[0m_output\u001b[0m\u001b[0;34m.\u001b[0m\u001b[0mextend\u001b[0m\u001b[0;34m(\u001b[0m\u001b[0mjob\u001b[0m\u001b[0;34m.\u001b[0m\u001b[0mget\u001b[0m\u001b[0;34m(\u001b[0m\u001b[0;34m)\u001b[0m\u001b[0;34m)\u001b[0m\u001b[0;34m\u001b[0m\u001b[0m\n",
      "\u001b[0;32m~/anaconda3/envs/chana/lib/python3.6/multiprocessing/pool.py\u001b[0m in \u001b[0;36mget\u001b[0;34m(self, timeout)\u001b[0m\n\u001b[1;32m    636\u001b[0m \u001b[0;34m\u001b[0m\u001b[0m\n\u001b[1;32m    637\u001b[0m     \u001b[0;32mdef\u001b[0m \u001b[0mget\u001b[0m\u001b[0;34m(\u001b[0m\u001b[0mself\u001b[0m\u001b[0;34m,\u001b[0m \u001b[0mtimeout\u001b[0m\u001b[0;34m=\u001b[0m\u001b[0;32mNone\u001b[0m\u001b[0;34m)\u001b[0m\u001b[0;34m:\u001b[0m\u001b[0;34m\u001b[0m\u001b[0m\n\u001b[0;32m--> 638\u001b[0;31m         \u001b[0mself\u001b[0m\u001b[0;34m.\u001b[0m\u001b[0mwait\u001b[0m\u001b[0;34m(\u001b[0m\u001b[0mtimeout\u001b[0m\u001b[0;34m)\u001b[0m\u001b[0;34m\u001b[0m\u001b[0m\n\u001b[0m\u001b[1;32m    639\u001b[0m         \u001b[0;32mif\u001b[0m \u001b[0;32mnot\u001b[0m \u001b[0mself\u001b[0m\u001b[0;34m.\u001b[0m\u001b[0mready\u001b[0m\u001b[0;34m(\u001b[0m\u001b[0;34m)\u001b[0m\u001b[0;34m:\u001b[0m\u001b[0;34m\u001b[0m\u001b[0m\n\u001b[1;32m    640\u001b[0m             \u001b[0;32mraise\u001b[0m \u001b[0mTimeoutError\u001b[0m\u001b[0;34m\u001b[0m\u001b[0m\n",
      "\u001b[0;32m~/anaconda3/envs/chana/lib/python3.6/multiprocessing/pool.py\u001b[0m in \u001b[0;36mwait\u001b[0;34m(self, timeout)\u001b[0m\n\u001b[1;32m    633\u001b[0m \u001b[0;34m\u001b[0m\u001b[0m\n\u001b[1;32m    634\u001b[0m     \u001b[0;32mdef\u001b[0m \u001b[0mwait\u001b[0m\u001b[0;34m(\u001b[0m\u001b[0mself\u001b[0m\u001b[0;34m,\u001b[0m \u001b[0mtimeout\u001b[0m\u001b[0;34m=\u001b[0m\u001b[0;32mNone\u001b[0m\u001b[0;34m)\u001b[0m\u001b[0;34m:\u001b[0m\u001b[0;34m\u001b[0m\u001b[0m\n\u001b[0;32m--> 635\u001b[0;31m         \u001b[0mself\u001b[0m\u001b[0;34m.\u001b[0m\u001b[0m_event\u001b[0m\u001b[0;34m.\u001b[0m\u001b[0mwait\u001b[0m\u001b[0;34m(\u001b[0m\u001b[0mtimeout\u001b[0m\u001b[0;34m)\u001b[0m\u001b[0;34m\u001b[0m\u001b[0m\n\u001b[0m\u001b[1;32m    636\u001b[0m \u001b[0;34m\u001b[0m\u001b[0m\n\u001b[1;32m    637\u001b[0m     \u001b[0;32mdef\u001b[0m \u001b[0mget\u001b[0m\u001b[0;34m(\u001b[0m\u001b[0mself\u001b[0m\u001b[0;34m,\u001b[0m \u001b[0mtimeout\u001b[0m\u001b[0;34m=\u001b[0m\u001b[0;32mNone\u001b[0m\u001b[0;34m)\u001b[0m\u001b[0;34m:\u001b[0m\u001b[0;34m\u001b[0m\u001b[0m\n",
      "\u001b[0;32m~/anaconda3/envs/chana/lib/python3.6/threading.py\u001b[0m in \u001b[0;36mwait\u001b[0;34m(self, timeout)\u001b[0m\n\u001b[1;32m    549\u001b[0m             \u001b[0msignaled\u001b[0m \u001b[0;34m=\u001b[0m \u001b[0mself\u001b[0m\u001b[0;34m.\u001b[0m\u001b[0m_flag\u001b[0m\u001b[0;34m\u001b[0m\u001b[0m\n\u001b[1;32m    550\u001b[0m             \u001b[0;32mif\u001b[0m \u001b[0;32mnot\u001b[0m \u001b[0msignaled\u001b[0m\u001b[0;34m:\u001b[0m\u001b[0;34m\u001b[0m\u001b[0m\n\u001b[0;32m--> 551\u001b[0;31m                 \u001b[0msignaled\u001b[0m \u001b[0;34m=\u001b[0m \u001b[0mself\u001b[0m\u001b[0;34m.\u001b[0m\u001b[0m_cond\u001b[0m\u001b[0;34m.\u001b[0m\u001b[0mwait\u001b[0m\u001b[0;34m(\u001b[0m\u001b[0mtimeout\u001b[0m\u001b[0;34m)\u001b[0m\u001b[0;34m\u001b[0m\u001b[0m\n\u001b[0m\u001b[1;32m    552\u001b[0m             \u001b[0;32mreturn\u001b[0m \u001b[0msignaled\u001b[0m\u001b[0;34m\u001b[0m\u001b[0m\n\u001b[1;32m    553\u001b[0m \u001b[0;34m\u001b[0m\u001b[0m\n",
      "\u001b[0;32m~/anaconda3/envs/chana/lib/python3.6/threading.py\u001b[0m in \u001b[0;36mwait\u001b[0;34m(self, timeout)\u001b[0m\n\u001b[1;32m    293\u001b[0m         \u001b[0;32mtry\u001b[0m\u001b[0;34m:\u001b[0m    \u001b[0;31m# restore state no matter what (e.g., KeyboardInterrupt)\u001b[0m\u001b[0;34m\u001b[0m\u001b[0m\n\u001b[1;32m    294\u001b[0m             \u001b[0;32mif\u001b[0m \u001b[0mtimeout\u001b[0m \u001b[0;32mis\u001b[0m \u001b[0;32mNone\u001b[0m\u001b[0;34m:\u001b[0m\u001b[0;34m\u001b[0m\u001b[0m\n\u001b[0;32m--> 295\u001b[0;31m                 \u001b[0mwaiter\u001b[0m\u001b[0;34m.\u001b[0m\u001b[0macquire\u001b[0m\u001b[0;34m(\u001b[0m\u001b[0;34m)\u001b[0m\u001b[0;34m\u001b[0m\u001b[0m\n\u001b[0m\u001b[1;32m    296\u001b[0m                 \u001b[0mgotit\u001b[0m \u001b[0;34m=\u001b[0m \u001b[0;32mTrue\u001b[0m\u001b[0;34m\u001b[0m\u001b[0m\n\u001b[1;32m    297\u001b[0m             \u001b[0;32melse\u001b[0m\u001b[0;34m:\u001b[0m\u001b[0;34m\u001b[0m\u001b[0m\n",
      "\u001b[0;31mKeyboardInterrupt\u001b[0m: "
     ]
    }
   ],
   "source": [
    "%%time\n",
    "classify_feature_rank(DataCV_dir, Bags_dir, FeatRanking_dir,\n",
    "                      [KNeighborsClassifier], [{'n_neighbors': 3, 'n_jobs': -1}],\n",
    "                      'Erk', 'Di', 'BCR', 0.01, num_bags=[10,20,30],\n",
    "                      num_runs=[4], num_top_features=[12], test_all_features=True)"
   ]
  },
  {
   "cell_type": "code",
   "execution_count": 18,
   "metadata": {},
   "outputs": [
    {
     "name": "stdout",
     "output_type": "stream",
     "text": [
      "Feature set: Di | Dataset: Erk | Treatment: BCR | Pval: 0.01\n",
      "Num bags: [10, 20, 30] | Num runs: [4] | Num features: [12] | All features: True\n",
      "Run: 4\n",
      "    Classifier: GaussianNB\n",
      "       Feature ranking method: Entropy\n",
      "          Features: [23, 22, 20, 21, 41, 30, 8, 28, 29, 1, 6, 7]\n",
      "Run: 4 | Entropy | GaussianNB | NumFeatures: 12 | Bag: 0 | TPR: 0.8214 | TNR: 0.3531 | GMean: 0.5386 | TP: 69 | TN: 24782 | FP: 45397 | FN: 15\n",
      "Run: 4 | Entropy | GaussianNB | NumFeatures: 12 | Bag: 1 | TPR: 0.7976 | TNR: 0.3826 | GMean: 0.5524 | TP: 67 | TN: 26850 | FP: 43329 | FN: 17\n",
      "Run: 4 | Entropy | GaussianNB | NumFeatures: 12 | Bag: 2 | TPR: 0.8095 | TNR: 0.3533 | GMean: 0.5348 | TP: 68 | TN: 24792 | FP: 45387 | FN: 16\n",
      "Run: 4 | Entropy | GaussianNB | NumFeatures: 12 | Bag: 3 | TPR: 0.8214 | TNR: 0.3760 | GMean: 0.5558 | TP: 69 | TN: 26388 | FP: 43791 | FN: 15\n",
      "Run: 4 | Entropy | GaussianNB | NumFeatures: 12 | Bag: 4 | TPR: 0.8095 | TNR: 0.3719 | GMean: 0.5487 | TP: 68 | TN: 26103 | FP: 44076 | FN: 16\n",
      "Run: 4 | Entropy | GaussianNB | NumFeatures: 12 | Bag: 5 | TPR: 0.7857 | TNR: 0.3922 | GMean: 0.5551 | TP: 66 | TN: 27523 | FP: 42656 | FN: 18\n",
      "Run: 4 | Entropy | GaussianNB | NumFeatures: 12 | Bag: 6 | TPR: 0.7857 | TNR: 0.3775 | GMean: 0.5446 | TP: 66 | TN: 26490 | FP: 43689 | FN: 18\n",
      "Run: 4 | Entropy | GaussianNB | NumFeatures: 12 | Bag: 7 | TPR: 0.8333 | TNR: 0.3753 | GMean: 0.5592 | TP: 70 | TN: 26336 | FP: 43843 | FN: 14\n",
      "Run: 4 | Entropy | GaussianNB | NumFeatures: 12 | Bag: 8 | TPR: 0.8333 | TNR: 0.3603 | GMean: 0.5479 | TP: 70 | TN: 25285 | FP: 44894 | FN: 14\n",
      "Run: 4 | Entropy | GaussianNB | NumFeatures: 12 | Bag: 9 | TPR: 0.8214 | TNR: 0.3764 | GMean: 0.5560 | TP: 69 | TN: 26414 | FP: 43765 | FN: 15\n",
      "Run: 4 | Entropy | GaussianNB | NumFeatures: 12 | Bag: 10 | TPR: 0.8214 | TNR: 0.3641 | GMean: 0.5469 | TP: 69 | TN: 25553 | FP: 44626 | FN: 15\n",
      "Run: 4 | Entropy | GaussianNB | NumFeatures: 12 | Bag: 11 | TPR: 0.8095 | TNR: 0.3948 | GMean: 0.5654 | TP: 68 | TN: 27710 | FP: 42469 | FN: 16\n",
      "Run: 4 | Entropy | GaussianNB | NumFeatures: 12 | Bag: 12 | TPR: 0.8214 | TNR: 0.3486 | GMean: 0.5351 | TP: 69 | TN: 24461 | FP: 45718 | FN: 15\n",
      "Run: 4 | Entropy | GaussianNB | NumFeatures: 12 | Bag: 13 | TPR: 0.8333 | TNR: 0.3569 | GMean: 0.5453 | TP: 70 | TN: 25046 | FP: 45133 | FN: 14\n",
      "Run: 4 | Entropy | GaussianNB | NumFeatures: 12 | Bag: 14 | TPR: 0.8214 | TNR: 0.3796 | GMean: 0.5584 | TP: 69 | TN: 26641 | FP: 43538 | FN: 15\n",
      "Run: 4 | Entropy | GaussianNB | NumFeatures: 12 | Bag: 15 | TPR: 0.7857 | TNR: 0.3868 | GMean: 0.5513 | TP: 66 | TN: 27144 | FP: 43035 | FN: 18\n",
      "Run: 4 | Entropy | GaussianNB | NumFeatures: 12 | Bag: 16 | TPR: 0.7976 | TNR: 0.3786 | GMean: 0.5495 | TP: 67 | TN: 26569 | FP: 43610 | FN: 17\n",
      "Run: 4 | Entropy | GaussianNB | NumFeatures: 12 | Bag: 17 | TPR: 0.7857 | TNR: 0.3866 | GMean: 0.5511 | TP: 66 | TN: 27132 | FP: 43047 | FN: 18\n",
      "Run: 4 | Entropy | GaussianNB | NumFeatures: 12 | Bag: 18 | TPR: 0.8333 | TNR: 0.3572 | GMean: 0.5456 | TP: 70 | TN: 25067 | FP: 45112 | FN: 14\n",
      "Run: 4 | Entropy | GaussianNB | NumFeatures: 12 | Bag: 19 | TPR: 0.8333 | TNR: 0.3671 | GMean: 0.5531 | TP: 70 | TN: 25766 | FP: 44413 | FN: 14\n",
      "Run: 4 | Entropy | GaussianNB | NumFeatures: 12 | Bag: 20 | TPR: 0.7738 | TNR: 0.3835 | GMean: 0.5447 | TP: 65 | TN: 26913 | FP: 43266 | FN: 19\n",
      "Run: 4 | Entropy | GaussianNB | NumFeatures: 12 | Bag: 21 | TPR: 0.8333 | TNR: 0.3714 | GMean: 0.5563 | TP: 70 | TN: 26064 | FP: 44115 | FN: 14\n",
      "Run: 4 | Entropy | GaussianNB | NumFeatures: 12 | Bag: 22 | TPR: 0.8452 | TNR: 0.3648 | GMean: 0.5553 | TP: 71 | TN: 25600 | FP: 44579 | FN: 13\n",
      "Run: 4 | Entropy | GaussianNB | NumFeatures: 12 | Bag: 23 | TPR: 0.8214 | TNR: 0.3923 | GMean: 0.5676 | TP: 69 | TN: 27528 | FP: 42651 | FN: 15\n",
      "Run: 4 | Entropy | GaussianNB | NumFeatures: 12 | Bag: 24 | TPR: 0.8214 | TNR: 0.3955 | GMean: 0.5700 | TP: 69 | TN: 27754 | FP: 42425 | FN: 15\n",
      "Run: 4 | Entropy | GaussianNB | NumFeatures: 12 | Bag: 25 | TPR: 0.8095 | TNR: 0.3804 | GMean: 0.5549 | TP: 68 | TN: 26695 | FP: 43484 | FN: 16\n",
      "Run: 4 | Entropy | GaussianNB | NumFeatures: 12 | Bag: 26 | TPR: 0.8214 | TNR: 0.3698 | GMean: 0.5511 | TP: 69 | TN: 25949 | FP: 44230 | FN: 15\n",
      "Run: 4 | Entropy | GaussianNB | NumFeatures: 12 | Bag: 27 | TPR: 0.8214 | TNR: 0.3841 | GMean: 0.5617 | TP: 69 | TN: 26956 | FP: 43223 | FN: 15\n",
      "Run: 4 | Entropy | GaussianNB | NumFeatures: 12 | Bag: 28 | TPR: 0.7976 | TNR: 0.3925 | GMean: 0.5596 | TP: 67 | TN: 27548 | FP: 42631 | FN: 17\n",
      "Run: 4 | Entropy | GaussianNB | NumFeatures: 12 | Bag: 29 | TPR: 0.8214 | TNR: 0.3882 | GMean: 0.5647 | TP: 69 | TN: 27241 | FP: 42938 | FN: 15\n",
      "Mean TPR: 0.8119 | Mean TNR: 0.3719 | Mean GMean: 0.5493\n",
      "Run: 4 | Entropy | GaussianNB | NumFeatures: 12 | Ensemble of 10 bags | TPR: 0.8095 | TNR: 0.3760 | GMean: 0.5517 | TP: 68 | TN: 26390 | FP: 43789 | FN: 16\n",
      "Mean TPR: 0.8131 | Mean TNR: 0.3719 | Mean GMean: 0.5497\n",
      "Run: 4 | Entropy | GaussianNB | NumFeatures: 12 | Ensemble of 20 bags | TPR: 0.8214 | TNR: 0.3739 | GMean: 0.5542 | TP: 69 | TN: 26243 | FP: 43936 | FN: 15\n",
      "Mean TPR: 0.8143 | Mean TNR: 0.3754 | Mean GMean: 0.5527\n",
      "Run: 4 | Entropy | GaussianNB | NumFeatures: 12 | Ensemble of 30 bags | TPR: 0.8214 | TNR: 0.3773 | GMean: 0.5567 | TP: 69 | TN: 26481 | FP: 43698 | FN: 15\n",
      "\n",
      "       Feature ranking method: Ttest\n",
      "          Features: [23, 22, 21, 20, 8, 30, 28, 6, 7, 29, 18, 19]\n",
      "Run: 4 | Ttest | GaussianNB | NumFeatures: 12 | Bag: 0 | TPR: 0.7738 | TNR: 0.3655 | GMean: 0.5318 | TP: 65 | TN: 25650 | FP: 44529 | FN: 19\n",
      "Run: 4 | Ttest | GaussianNB | NumFeatures: 12 | Bag: 1 | TPR: 0.7619 | TNR: 0.4080 | GMean: 0.5575 | TP: 64 | TN: 28632 | FP: 41547 | FN: 20\n",
      "Run: 4 | Ttest | GaussianNB | NumFeatures: 12 | Bag: 2 | TPR: 0.7738 | TNR: 0.3701 | GMean: 0.5351 | TP: 65 | TN: 25972 | FP: 44207 | FN: 19\n",
      "Run: 4 | Ttest | GaussianNB | NumFeatures: 12 | Bag: 3 | TPR: 0.7738 | TNR: 0.3978 | GMean: 0.5548 | TP: 65 | TN: 27920 | FP: 42259 | FN: 19\n",
      "Run: 4 | Ttest | GaussianNB | NumFeatures: 12 | Bag: 4 | TPR: 0.7619 | TNR: 0.3902 | GMean: 0.5452 | TP: 64 | TN: 27383 | FP: 42796 | FN: 20\n",
      "Run: 4 | Ttest | GaussianNB | NumFeatures: 12 | Bag: 5 | TPR: 0.7500 | TNR: 0.4105 | GMean: 0.5548 | TP: 63 | TN: 28806 | FP: 41373 | FN: 21\n",
      "Run: 4 | Ttest | GaussianNB | NumFeatures: 12 | Bag: 6 | TPR: 0.7619 | TNR: 0.3878 | GMean: 0.5436 | TP: 64 | TN: 27217 | FP: 42962 | FN: 20\n",
      "Run: 4 | Ttest | GaussianNB | NumFeatures: 12 | Bag: 7 | TPR: 0.7619 | TNR: 0.4008 | GMean: 0.5526 | TP: 64 | TN: 28127 | FP: 42052 | FN: 20\n",
      "Run: 4 | Ttest | GaussianNB | NumFeatures: 12 | Bag: 8 | TPR: 0.7857 | TNR: 0.3749 | GMean: 0.5427 | TP: 66 | TN: 26311 | FP: 43868 | FN: 18\n",
      "Run: 4 | Ttest | GaussianNB | NumFeatures: 12 | Bag: 9 | TPR: 0.7738 | TNR: 0.3971 | GMean: 0.5543 | TP: 65 | TN: 27867 | FP: 42312 | FN: 19\n",
      "Run: 4 | Ttest | GaussianNB | NumFeatures: 12 | Bag: 10 | TPR: 0.7738 | TNR: 0.3840 | GMean: 0.5451 | TP: 65 | TN: 26947 | FP: 43232 | FN: 19\n",
      "Run: 4 | Ttest | GaussianNB | NumFeatures: 12 | Bag: 11 | TPR: 0.7738 | TNR: 0.4065 | GMean: 0.5609 | TP: 65 | TN: 28529 | FP: 41650 | FN: 19\n",
      "Run: 4 | Ttest | GaussianNB | NumFeatures: 12 | Bag: 12 | TPR: 0.7857 | TNR: 0.3657 | GMean: 0.5360 | TP: 66 | TN: 25662 | FP: 44517 | FN: 18\n",
      "Run: 4 | Ttest | GaussianNB | NumFeatures: 12 | Bag: 13 | TPR: 0.7738 | TNR: 0.3787 | GMean: 0.5413 | TP: 65 | TN: 26577 | FP: 43602 | FN: 19\n",
      "Run: 4 | Ttest | GaussianNB | NumFeatures: 12 | Bag: 14 | TPR: 0.7738 | TNR: 0.3943 | GMean: 0.5523 | TP: 65 | TN: 27669 | FP: 42510 | FN: 19\n",
      "Run: 4 | Ttest | GaussianNB | NumFeatures: 12 | Bag: 15 | TPR: 0.7500 | TNR: 0.4194 | GMean: 0.5609 | TP: 63 | TN: 29436 | FP: 40743 | FN: 21\n",
      "Run: 4 | Ttest | GaussianNB | NumFeatures: 12 | Bag: 16 | TPR: 0.7500 | TNR: 0.4028 | GMean: 0.5496 | TP: 63 | TN: 28267 | FP: 41912 | FN: 21\n",
      "Run: 4 | Ttest | GaussianNB | NumFeatures: 12 | Bag: 17 | TPR: 0.7738 | TNR: 0.3954 | GMean: 0.5531 | TP: 65 | TN: 27748 | FP: 42431 | FN: 19\n",
      "Run: 4 | Ttest | GaussianNB | NumFeatures: 12 | Bag: 18 | TPR: 0.7738 | TNR: 0.3695 | GMean: 0.5347 | TP: 65 | TN: 25929 | FP: 44250 | FN: 19\n",
      "Run: 4 | Ttest | GaussianNB | NumFeatures: 12 | Bag: 19 | TPR: 0.7976 | TNR: 0.3851 | GMean: 0.5542 | TP: 67 | TN: 27023 | FP: 43156 | FN: 17\n",
      "Run: 4 | Ttest | GaussianNB | NumFeatures: 12 | Bag: 20 | TPR: 0.7619 | TNR: 0.4161 | GMean: 0.5630 | TP: 64 | TN: 29199 | FP: 40980 | FN: 20\n",
      "Run: 4 | Ttest | GaussianNB | NumFeatures: 12 | Bag: 21 | TPR: 0.7738 | TNR: 0.3873 | GMean: 0.5475 | TP: 65 | TN: 27183 | FP: 42996 | FN: 19\n",
      "Run: 4 | Ttest | GaussianNB | NumFeatures: 12 | Bag: 22 | TPR: 0.7619 | TNR: 0.3829 | GMean: 0.5401 | TP: 64 | TN: 26872 | FP: 43307 | FN: 20\n",
      "Run: 4 | Ttest | GaussianNB | NumFeatures: 12 | Bag: 23 | TPR: 0.7857 | TNR: 0.4112 | GMean: 0.5684 | TP: 66 | TN: 28855 | FP: 41324 | FN: 18\n",
      "Run: 4 | Ttest | GaussianNB | NumFeatures: 12 | Bag: 24 | TPR: 0.7738 | TNR: 0.4097 | GMean: 0.5631 | TP: 65 | TN: 28753 | FP: 41426 | FN: 19\n",
      "Run: 4 | Ttest | GaussianNB | NumFeatures: 12 | Bag: 25 | TPR: 0.7857 | TNR: 0.4045 | GMean: 0.5637 | TP: 66 | TN: 28386 | FP: 41793 | FN: 18\n",
      "Run: 4 | Ttest | GaussianNB | NumFeatures: 12 | Bag: 26 | TPR: 0.7857 | TNR: 0.3942 | GMean: 0.5565 | TP: 66 | TN: 27664 | FP: 42515 | FN: 18\n",
      "Run: 4 | Ttest | GaussianNB | NumFeatures: 12 | Bag: 27 | TPR: 0.7619 | TNR: 0.4029 | GMean: 0.5541 | TP: 64 | TN: 28278 | FP: 41901 | FN: 20\n",
      "Run: 4 | Ttest | GaussianNB | NumFeatures: 12 | Bag: 28 | TPR: 0.7619 | TNR: 0.4115 | GMean: 0.5599 | TP: 64 | TN: 28880 | FP: 41299 | FN: 20\n",
      "Run: 4 | Ttest | GaussianNB | NumFeatures: 12 | Bag: 29 | TPR: 0.7619 | TNR: 0.3996 | GMean: 0.5518 | TP: 64 | TN: 28045 | FP: 42134 | FN: 20\n",
      "Mean TPR: 0.7679 | Mean TNR: 0.3903 | Mean GMean: 0.5473\n",
      "Run: 4 | Ttest | GaussianNB | NumFeatures: 12 | Ensemble of 10 bags | TPR: 0.7619 | TNR: 0.3959 | GMean: 0.5492 | TP: 64 | TN: 27783 | FP: 42396 | FN: 20\n",
      "Mean TPR: 0.7702 | Mean TNR: 0.3902 | Mean GMean: 0.5480\n",
      "Run: 4 | Ttest | GaussianNB | NumFeatures: 12 | Ensemble of 20 bags | TPR: 0.7619 | TNR: 0.3926 | GMean: 0.5469 | TP: 64 | TN: 27550 | FP: 42629 | FN: 20\n",
      "Mean TPR: 0.7706 | Mean TNR: 0.3941 | Mean GMean: 0.5510\n",
      "Run: 4 | Ttest | GaussianNB | NumFeatures: 12 | Ensemble of 30 bags | TPR: 0.7619 | TNR: 0.3957 | GMean: 0.5491 | TP: 64 | TN: 27771 | FP: 42408 | FN: 20\n",
      "\n",
      "       Feature ranking method: Brattacharyya\n",
      "          Features: [23, 22, 21, 20, 30, 28, 29, 8, 6, 7, 41, 43]\n",
      "Run: 4 | Brattacharyya | GaussianNB | NumFeatures: 12 | Bag: 0 | TPR: 0.8095 | TNR: 0.3337 | GMean: 0.5198 | TP: 68 | TN: 23422 | FP: 46757 | FN: 16\n",
      "Run: 4 | Brattacharyya | GaussianNB | NumFeatures: 12 | Bag: 1 | TPR: 0.7857 | TNR: 0.3649 | GMean: 0.5355 | TP: 66 | TN: 25609 | FP: 44570 | FN: 18\n",
      "Run: 4 | Brattacharyya | GaussianNB | NumFeatures: 12 | Bag: 2 | TPR: 0.7738 | TNR: 0.3313 | GMean: 0.5063 | TP: 65 | TN: 23249 | FP: 46930 | FN: 19\n",
      "Run: 4 | Brattacharyya | GaussianNB | NumFeatures: 12 | Bag: 3 | TPR: 0.7738 | TNR: 0.3495 | GMean: 0.5200 | TP: 65 | TN: 24525 | FP: 45654 | FN: 19\n",
      "Run: 4 | Brattacharyya | GaussianNB | NumFeatures: 12 | Bag: 4 | TPR: 0.8095 | TNR: 0.3556 | GMean: 0.5365 | TP: 68 | TN: 24955 | FP: 45224 | FN: 16\n",
      "Run: 4 | Brattacharyya | GaussianNB | NumFeatures: 12 | Bag: 5 | TPR: 0.7500 | TNR: 0.3702 | GMean: 0.5269 | TP: 63 | TN: 25981 | FP: 44198 | FN: 21\n",
      "Run: 4 | Brattacharyya | GaussianNB | NumFeatures: 12 | Bag: 6 | TPR: 0.7976 | TNR: 0.3555 | GMean: 0.5325 | TP: 67 | TN: 24952 | FP: 45227 | FN: 17\n",
      "Run: 4 | Brattacharyya | GaussianNB | NumFeatures: 12 | Bag: 7 | TPR: 0.7738 | TNR: 0.3521 | GMean: 0.5220 | TP: 65 | TN: 24713 | FP: 45466 | FN: 19\n",
      "Run: 4 | Brattacharyya | GaussianNB | NumFeatures: 12 | Bag: 8 | TPR: 0.7976 | TNR: 0.3396 | GMean: 0.5205 | TP: 67 | TN: 23836 | FP: 46343 | FN: 17\n",
      "Run: 4 | Brattacharyya | GaussianNB | NumFeatures: 12 | Bag: 9 | TPR: 0.7857 | TNR: 0.3511 | GMean: 0.5253 | TP: 66 | TN: 24643 | FP: 45536 | FN: 18\n",
      "Run: 4 | Brattacharyya | GaussianNB | NumFeatures: 12 | Bag: 10 | TPR: 0.7738 | TNR: 0.3435 | GMean: 0.5155 | TP: 65 | TN: 24105 | FP: 46074 | FN: 19\n",
      "Run: 4 | Brattacharyya | GaussianNB | NumFeatures: 12 | Bag: 11 | TPR: 0.7857 | TNR: 0.3711 | GMean: 0.5400 | TP: 66 | TN: 26042 | FP: 44137 | FN: 18\n",
      "Run: 4 | Brattacharyya | GaussianNB | NumFeatures: 12 | Bag: 12 | TPR: 0.8095 | TNR: 0.3297 | GMean: 0.5166 | TP: 68 | TN: 23140 | FP: 47039 | FN: 16\n",
      "Run: 4 | Brattacharyya | GaussianNB | NumFeatures: 12 | Bag: 13 | TPR: 0.7619 | TNR: 0.3370 | GMean: 0.5067 | TP: 64 | TN: 23647 | FP: 46532 | FN: 20\n",
      "Run: 4 | Brattacharyya | GaussianNB | NumFeatures: 12 | Bag: 14 | TPR: 0.7976 | TNR: 0.3557 | GMean: 0.5327 | TP: 67 | TN: 24966 | FP: 45213 | FN: 17\n",
      "Run: 4 | Brattacharyya | GaussianNB | NumFeatures: 12 | Bag: 15 | TPR: 0.7619 | TNR: 0.3676 | GMean: 0.5293 | TP: 64 | TN: 25801 | FP: 44378 | FN: 20\n",
      "Run: 4 | Brattacharyya | GaussianNB | NumFeatures: 12 | Bag: 16 | TPR: 0.7738 | TNR: 0.3563 | GMean: 0.5251 | TP: 65 | TN: 25005 | FP: 45174 | FN: 19\n",
      "Run: 4 | Brattacharyya | GaussianNB | NumFeatures: 12 | Bag: 17 | TPR: 0.7976 | TNR: 0.3634 | GMean: 0.5383 | TP: 67 | TN: 25500 | FP: 44679 | FN: 17\n",
      "Run: 4 | Brattacharyya | GaussianNB | NumFeatures: 12 | Bag: 18 | TPR: 0.8095 | TNR: 0.3295 | GMean: 0.5164 | TP: 68 | TN: 23122 | FP: 47057 | FN: 16\n",
      "Run: 4 | Brattacharyya | GaussianNB | NumFeatures: 12 | Bag: 19 | TPR: 0.7857 | TNR: 0.3439 | GMean: 0.5198 | TP: 66 | TN: 24135 | FP: 46044 | FN: 18\n",
      "Run: 4 | Brattacharyya | GaussianNB | NumFeatures: 12 | Bag: 20 | TPR: 0.7619 | TNR: 0.3638 | GMean: 0.5265 | TP: 64 | TN: 25532 | FP: 44647 | FN: 20\n",
      "Run: 4 | Brattacharyya | GaussianNB | NumFeatures: 12 | Bag: 21 | TPR: 0.8095 | TNR: 0.3458 | GMean: 0.5291 | TP: 68 | TN: 24271 | FP: 45908 | FN: 16\n",
      "Run: 4 | Brattacharyya | GaussianNB | NumFeatures: 12 | Bag: 22 | TPR: 0.8333 | TNR: 0.3417 | GMean: 0.5336 | TP: 70 | TN: 23982 | FP: 46197 | FN: 14\n",
      "Run: 4 | Brattacharyya | GaussianNB | NumFeatures: 12 | Bag: 23 | TPR: 0.7976 | TNR: 0.3669 | GMean: 0.5410 | TP: 67 | TN: 25749 | FP: 44430 | FN: 17\n",
      "Run: 4 | Brattacharyya | GaussianNB | NumFeatures: 12 | Bag: 24 | TPR: 0.7619 | TNR: 0.3722 | GMean: 0.5325 | TP: 64 | TN: 26118 | FP: 44061 | FN: 20\n",
      "Run: 4 | Brattacharyya | GaussianNB | NumFeatures: 12 | Bag: 25 | TPR: 0.7500 | TNR: 0.3615 | GMean: 0.5207 | TP: 63 | TN: 25371 | FP: 44808 | FN: 21\n",
      "Run: 4 | Brattacharyya | GaussianNB | NumFeatures: 12 | Bag: 26 | TPR: 0.7619 | TNR: 0.3485 | GMean: 0.5153 | TP: 64 | TN: 24454 | FP: 45725 | FN: 20\n",
      "Run: 4 | Brattacharyya | GaussianNB | NumFeatures: 12 | Bag: 27 | TPR: 0.7857 | TNR: 0.3607 | GMean: 0.5324 | TP: 66 | TN: 25315 | FP: 44864 | FN: 18\n",
      "Run: 4 | Brattacharyya | GaussianNB | NumFeatures: 12 | Bag: 28 | TPR: 0.7619 | TNR: 0.3686 | GMean: 0.5300 | TP: 64 | TN: 25870 | FP: 44309 | FN: 20\n",
      "Run: 4 | Brattacharyya | GaussianNB | NumFeatures: 12 | Bag: 29 | TPR: 0.7976 | TNR: 0.3612 | GMean: 0.5368 | TP: 67 | TN: 25352 | FP: 44827 | FN: 17\n",
      "Mean TPR: 0.7857 | Mean TNR: 0.3504 | Mean GMean: 0.5245\n",
      "Run: 4 | Brattacharyya | GaussianNB | NumFeatures: 12 | Ensemble of 10 bags | TPR: 0.7857 | TNR: 0.3541 | GMean: 0.5275 | TP: 66 | TN: 24851 | FP: 45328 | FN: 18\n",
      "Mean TPR: 0.7857 | Mean TNR: 0.3501 | Mean GMean: 0.5243\n",
      "Run: 4 | Brattacharyya | GaussianNB | NumFeatures: 12 | Ensemble of 20 bags | TPR: 0.7857 | TNR: 0.3513 | GMean: 0.5254 | TP: 66 | TN: 24656 | FP: 45523 | FN: 18\n",
      "Mean TPR: 0.7845 | Mean TNR: 0.3531 | Mean GMean: 0.5261\n",
      "Run: 4 | Brattacharyya | GaussianNB | NumFeatures: 12 | Ensemble of 30 bags | TPR: 0.7857 | TNR: 0.3542 | GMean: 0.5275 | TP: 66 | TN: 24857 | FP: 45322 | FN: 18\n",
      "\n",
      "       Feature ranking method: Wilcoxon\n",
      "          Features: [23, 22, 21, 20, 30, 28, 8, 6, 29, 7, 18, 12]\n",
      "Run: 4 | Wilcoxon | GaussianNB | NumFeatures: 12 | Bag: 0 | TPR: 0.8333 | TNR: 0.3393 | GMean: 0.5317 | TP: 70 | TN: 23810 | FP: 46369 | FN: 14\n",
      "Run: 4 | Wilcoxon | GaussianNB | NumFeatures: 12 | Bag: 1 | TPR: 0.8095 | TNR: 0.3766 | GMean: 0.5521 | TP: 68 | TN: 26429 | FP: 43750 | FN: 16\n",
      "Run: 4 | Wilcoxon | GaussianNB | NumFeatures: 12 | Bag: 2 | TPR: 0.8333 | TNR: 0.3364 | GMean: 0.5295 | TP: 70 | TN: 23609 | FP: 46570 | FN: 14\n",
      "Run: 4 | Wilcoxon | GaussianNB | NumFeatures: 12 | Bag: 3 | TPR: 0.7976 | TNR: 0.3705 | GMean: 0.5436 | TP: 67 | TN: 26000 | FP: 44179 | FN: 17\n",
      "Run: 4 | Wilcoxon | GaussianNB | NumFeatures: 12 | Bag: 4 | TPR: 0.8214 | TNR: 0.3550 | GMean: 0.5400 | TP: 69 | TN: 24912 | FP: 45267 | FN: 15\n",
      "Run: 4 | Wilcoxon | GaussianNB | NumFeatures: 12 | Bag: 5 | TPR: 0.7976 | TNR: 0.3887 | GMean: 0.5568 | TP: 67 | TN: 27279 | FP: 42900 | FN: 17\n",
      "Run: 4 | Wilcoxon | GaussianNB | NumFeatures: 12 | Bag: 6 | TPR: 0.7976 | TNR: 0.3632 | GMean: 0.5382 | TP: 67 | TN: 25490 | FP: 44689 | FN: 17\n",
      "Run: 4 | Wilcoxon | GaussianNB | NumFeatures: 12 | Bag: 7 | TPR: 0.7976 | TNR: 0.3724 | GMean: 0.5450 | TP: 67 | TN: 26134 | FP: 44045 | FN: 17\n",
      "Run: 4 | Wilcoxon | GaussianNB | NumFeatures: 12 | Bag: 8 | TPR: 0.7976 | TNR: 0.3516 | GMean: 0.5296 | TP: 67 | TN: 24676 | FP: 45503 | FN: 17\n",
      "Run: 4 | Wilcoxon | GaussianNB | NumFeatures: 12 | Bag: 9 | TPR: 0.8095 | TNR: 0.3634 | GMean: 0.5424 | TP: 68 | TN: 25503 | FP: 44676 | FN: 16\n",
      "Run: 4 | Wilcoxon | GaussianNB | NumFeatures: 12 | Bag: 10 | TPR: 0.8214 | TNR: 0.3558 | GMean: 0.5406 | TP: 69 | TN: 24969 | FP: 45210 | FN: 15\n",
      "Run: 4 | Wilcoxon | GaussianNB | NumFeatures: 12 | Bag: 11 | TPR: 0.8095 | TNR: 0.3738 | GMean: 0.5501 | TP: 68 | TN: 26230 | FP: 43949 | FN: 16\n",
      "Run: 4 | Wilcoxon | GaussianNB | NumFeatures: 12 | Bag: 12 | TPR: 0.8214 | TNR: 0.3348 | GMean: 0.5244 | TP: 69 | TN: 23494 | FP: 46685 | FN: 15\n",
      "Run: 4 | Wilcoxon | GaussianNB | NumFeatures: 12 | Bag: 13 | TPR: 0.8333 | TNR: 0.3510 | GMean: 0.5408 | TP: 70 | TN: 24631 | FP: 45548 | FN: 14\n",
      "Run: 4 | Wilcoxon | GaussianNB | NumFeatures: 12 | Bag: 14 | TPR: 0.7976 | TNR: 0.3650 | GMean: 0.5396 | TP: 67 | TN: 25618 | FP: 44561 | FN: 17\n",
      "Run: 4 | Wilcoxon | GaussianNB | NumFeatures: 12 | Bag: 15 | TPR: 0.7857 | TNR: 0.3862 | GMean: 0.5509 | TP: 66 | TN: 27106 | FP: 43073 | FN: 18\n",
      "Run: 4 | Wilcoxon | GaussianNB | NumFeatures: 12 | Bag: 16 | TPR: 0.8214 | TNR: 0.3768 | GMean: 0.5563 | TP: 69 | TN: 26442 | FP: 43737 | FN: 15\n",
      "Run: 4 | Wilcoxon | GaussianNB | NumFeatures: 12 | Bag: 17 | TPR: 0.8095 | TNR: 0.3682 | GMean: 0.5460 | TP: 68 | TN: 25843 | FP: 44336 | FN: 16\n",
      "Run: 4 | Wilcoxon | GaussianNB | NumFeatures: 12 | Bag: 18 | TPR: 0.8214 | TNR: 0.3432 | GMean: 0.5309 | TP: 69 | TN: 24082 | FP: 46097 | FN: 15\n",
      "Run: 4 | Wilcoxon | GaussianNB | NumFeatures: 12 | Bag: 19 | TPR: 0.8214 | TNR: 0.3513 | GMean: 0.5372 | TP: 69 | TN: 24654 | FP: 45525 | FN: 15\n",
      "Run: 4 | Wilcoxon | GaussianNB | NumFeatures: 12 | Bag: 20 | TPR: 0.7857 | TNR: 0.3859 | GMean: 0.5507 | TP: 66 | TN: 27083 | FP: 43096 | FN: 18\n",
      "Run: 4 | Wilcoxon | GaussianNB | NumFeatures: 12 | Bag: 21 | TPR: 0.8095 | TNR: 0.3538 | GMean: 0.5352 | TP: 68 | TN: 24831 | FP: 45348 | FN: 16\n",
      "Run: 4 | Wilcoxon | GaussianNB | NumFeatures: 12 | Bag: 22 | TPR: 0.8214 | TNR: 0.3563 | GMean: 0.5410 | TP: 69 | TN: 25003 | FP: 45176 | FN: 15\n",
      "Run: 4 | Wilcoxon | GaussianNB | NumFeatures: 12 | Bag: 23 | TPR: 0.8214 | TNR: 0.3817 | GMean: 0.5600 | TP: 69 | TN: 26788 | FP: 43391 | FN: 15\n",
      "Run: 4 | Wilcoxon | GaussianNB | NumFeatures: 12 | Bag: 24 | TPR: 0.7976 | TNR: 0.3845 | GMean: 0.5538 | TP: 67 | TN: 26983 | FP: 43196 | FN: 17\n",
      "Run: 4 | Wilcoxon | GaussianNB | NumFeatures: 12 | Bag: 25 | TPR: 0.8095 | TNR: 0.3708 | GMean: 0.5479 | TP: 68 | TN: 26021 | FP: 44158 | FN: 16\n",
      "Run: 4 | Wilcoxon | GaussianNB | NumFeatures: 12 | Bag: 26 | TPR: 0.7976 | TNR: 0.3675 | GMean: 0.5414 | TP: 67 | TN: 25790 | FP: 44389 | FN: 17\n",
      "Run: 4 | Wilcoxon | GaussianNB | NumFeatures: 12 | Bag: 27 | TPR: 0.8095 | TNR: 0.3667 | GMean: 0.5449 | TP: 68 | TN: 25737 | FP: 44442 | FN: 16\n",
      "Run: 4 | Wilcoxon | GaussianNB | NumFeatures: 12 | Bag: 28 | TPR: 0.7857 | TNR: 0.3842 | GMean: 0.5495 | TP: 66 | TN: 26965 | FP: 43214 | FN: 18\n",
      "Run: 4 | Wilcoxon | GaussianNB | NumFeatures: 12 | Bag: 29 | TPR: 0.8095 | TNR: 0.3701 | GMean: 0.5473 | TP: 68 | TN: 25972 | FP: 44207 | FN: 16\n",
      "Mean TPR: 0.8095 | Mean TNR: 0.3617 | Mean GMean: 0.5409\n",
      "Run: 4 | Wilcoxon | GaussianNB | NumFeatures: 12 | Ensemble of 10 bags | TPR: 0.7976 | TNR: 0.3660 | GMean: 0.5403 | TP: 67 | TN: 25686 | FP: 44493 | FN: 17\n",
      "Mean TPR: 0.8119 | Mean TNR: 0.3612 | Mean GMean: 0.5413\n",
      "Run: 4 | Wilcoxon | GaussianNB | NumFeatures: 12 | Ensemble of 20 bags | TPR: 0.8214 | TNR: 0.3629 | GMean: 0.5460 | TP: 69 | TN: 25470 | FP: 44709 | FN: 15\n",
      "Mean TPR: 0.8095 | Mean TNR: 0.3648 | Mean GMean: 0.5432\n",
      "Run: 4 | Wilcoxon | GaussianNB | NumFeatures: 12 | Ensemble of 30 bags | TPR: 0.8214 | TNR: 0.3661 | GMean: 0.5484 | TP: 69 | TN: 25694 | FP: 44485 | FN: 15\n",
      "\n",
      "       All features\n",
      "          Features: [0, 1, 2, 3, 4, 5, 6, 7, 8, 9, 10, 11, 12, 13, 14, 15, 16, 17, 18, 19, 20, 21, 22, 23, 24, 25, 26, 27, 28, 29, 30, 31, 32, 33, 34, 35, 36, 37, 38, 39, 40, 41, 42, 43, 44]\n",
      "Run: 4 | Wilcoxon | GaussianNB | NumFeatures: 45 | Bag: 0 | TPR: 0.8333 | TNR: 0.3235 | GMean: 0.5192 | TP: 70 | TN: 22705 | FP: 47474 | FN: 14\n",
      "Run: 4 | Wilcoxon | GaussianNB | NumFeatures: 45 | Bag: 1 | TPR: 0.7976 | TNR: 0.3957 | GMean: 0.5618 | TP: 67 | TN: 27771 | FP: 42408 | FN: 17\n",
      "Run: 4 | Wilcoxon | GaussianNB | NumFeatures: 45 | Bag: 2 | TPR: 0.7500 | TNR: 0.3539 | GMean: 0.5152 | TP: 63 | TN: 24836 | FP: 45343 | FN: 21\n",
      "Run: 4 | Wilcoxon | GaussianNB | NumFeatures: 45 | Bag: 3 | TPR: 0.7976 | TNR: 0.4026 | GMean: 0.5667 | TP: 67 | TN: 28253 | FP: 41926 | FN: 17\n",
      "Run: 4 | Wilcoxon | GaussianNB | NumFeatures: 45 | Bag: 4 | TPR: 0.8214 | TNR: 0.4017 | GMean: 0.5744 | TP: 69 | TN: 28189 | FP: 41990 | FN: 15\n",
      "Run: 4 | Wilcoxon | GaussianNB | NumFeatures: 45 | Bag: 5 | TPR: 0.7857 | TNR: 0.4233 | GMean: 0.5767 | TP: 66 | TN: 29710 | FP: 40469 | FN: 18\n",
      "Run: 4 | Wilcoxon | GaussianNB | NumFeatures: 45 | Bag: 6 | TPR: 0.8095 | TNR: 0.3961 | GMean: 0.5662 | TP: 68 | TN: 27795 | FP: 42384 | FN: 16\n",
      "Run: 4 | Wilcoxon | GaussianNB | NumFeatures: 45 | Bag: 7 | TPR: 0.7976 | TNR: 0.4009 | GMean: 0.5655 | TP: 67 | TN: 28132 | FP: 42047 | FN: 17\n",
      "Run: 4 | Wilcoxon | GaussianNB | NumFeatures: 45 | Bag: 8 | TPR: 0.8690 | TNR: 0.3426 | GMean: 0.5456 | TP: 73 | TN: 24043 | FP: 46136 | FN: 11\n",
      "Run: 4 | Wilcoxon | GaussianNB | NumFeatures: 45 | Bag: 9 | TPR: 0.7857 | TNR: 0.3900 | GMean: 0.5536 | TP: 66 | TN: 27371 | FP: 42808 | FN: 18\n",
      "Run: 4 | Wilcoxon | GaussianNB | NumFeatures: 45 | Bag: 10 | TPR: 0.7381 | TNR: 0.3904 | GMean: 0.5368 | TP: 62 | TN: 27398 | FP: 42781 | FN: 22\n",
      "Run: 4 | Wilcoxon | GaussianNB | NumFeatures: 45 | Bag: 11 | TPR: 0.8095 | TNR: 0.4393 | GMean: 0.5964 | TP: 68 | TN: 30831 | FP: 39348 | FN: 16\n",
      "Run: 4 | Wilcoxon | GaussianNB | NumFeatures: 45 | Bag: 12 | TPR: 0.8333 | TNR: 0.3227 | GMean: 0.5186 | TP: 70 | TN: 22649 | FP: 47530 | FN: 14\n",
      "Run: 4 | Wilcoxon | GaussianNB | NumFeatures: 45 | Bag: 13 | TPR: 0.7738 | TNR: 0.3607 | GMean: 0.5283 | TP: 65 | TN: 25315 | FP: 44864 | FN: 19\n",
      "Run: 4 | Wilcoxon | GaussianNB | NumFeatures: 45 | Bag: 14 | TPR: 0.8452 | TNR: 0.3830 | GMean: 0.5690 | TP: 71 | TN: 26879 | FP: 43300 | FN: 13\n",
      "Run: 4 | Wilcoxon | GaussianNB | NumFeatures: 45 | Bag: 15 | TPR: 0.6667 | TNR: 0.4586 | GMean: 0.5529 | TP: 56 | TN: 32181 | FP: 37998 | FN: 28\n",
      "Run: 4 | Wilcoxon | GaussianNB | NumFeatures: 45 | Bag: 16 | TPR: 0.7143 | TNR: 0.4084 | GMean: 0.5401 | TP: 60 | TN: 28661 | FP: 41518 | FN: 24\n",
      "Run: 4 | Wilcoxon | GaussianNB | NumFeatures: 45 | Bag: 17 | TPR: 0.7976 | TNR: 0.4589 | GMean: 0.6050 | TP: 67 | TN: 32203 | FP: 37976 | FN: 17\n",
      "Run: 4 | Wilcoxon | GaussianNB | NumFeatures: 45 | Bag: 18 | TPR: 0.8333 | TNR: 0.3935 | GMean: 0.5726 | TP: 70 | TN: 27615 | FP: 42564 | FN: 14\n",
      "Run: 4 | Wilcoxon | GaussianNB | NumFeatures: 45 | Bag: 19 | TPR: 0.7500 | TNR: 0.3976 | GMean: 0.5461 | TP: 63 | TN: 27904 | FP: 42275 | FN: 21\n",
      "Run: 4 | Wilcoxon | GaussianNB | NumFeatures: 45 | Bag: 20 | TPR: 0.6310 | TNR: 0.3910 | GMean: 0.4967 | TP: 53 | TN: 27438 | FP: 42741 | FN: 31\n",
      "Run: 4 | Wilcoxon | GaussianNB | NumFeatures: 45 | Bag: 21 | TPR: 0.8333 | TNR: 0.4186 | GMean: 0.5906 | TP: 70 | TN: 29377 | FP: 40802 | FN: 14\n",
      "Run: 4 | Wilcoxon | GaussianNB | NumFeatures: 45 | Bag: 22 | TPR: 0.8095 | TNR: 0.4169 | GMean: 0.5809 | TP: 68 | TN: 29256 | FP: 40923 | FN: 16\n",
      "Run: 4 | Wilcoxon | GaussianNB | NumFeatures: 45 | Bag: 23 | TPR: 0.7619 | TNR: 0.4756 | GMean: 0.6020 | TP: 64 | TN: 33376 | FP: 36803 | FN: 20\n",
      "Run: 4 | Wilcoxon | GaussianNB | NumFeatures: 45 | Bag: 24 | TPR: 0.8095 | TNR: 0.3951 | GMean: 0.5655 | TP: 68 | TN: 27728 | FP: 42451 | FN: 16\n",
      "Run: 4 | Wilcoxon | GaussianNB | NumFeatures: 45 | Bag: 25 | TPR: 0.7024 | TNR: 0.4032 | GMean: 0.5321 | TP: 59 | TN: 28294 | FP: 41885 | FN: 25\n",
      "Run: 4 | Wilcoxon | GaussianNB | NumFeatures: 45 | Bag: 26 | TPR: 0.7976 | TNR: 0.3662 | GMean: 0.5405 | TP: 67 | TN: 25700 | FP: 44479 | FN: 17\n",
      "Run: 4 | Wilcoxon | GaussianNB | NumFeatures: 45 | Bag: 27 | TPR: 0.7262 | TNR: 0.4464 | GMean: 0.5693 | TP: 61 | TN: 31325 | FP: 38854 | FN: 23\n",
      "Run: 4 | Wilcoxon | GaussianNB | NumFeatures: 45 | Bag: 28 | TPR: 0.7619 | TNR: 0.4247 | GMean: 0.5688 | TP: 64 | TN: 29805 | FP: 40374 | FN: 20\n",
      "Run: 4 | Wilcoxon | GaussianNB | NumFeatures: 45 | Bag: 29 | TPR: 0.7857 | TNR: 0.4596 | GMean: 0.6009 | TP: 66 | TN: 32254 | FP: 37925 | FN: 18\n",
      "Mean TPR: 0.8048 | Mean TNR: 0.3830 | Mean GMean: 0.5545\n",
      "Run: 4 | Wilcoxon | GaussianNB | NumFeatures: 45 | Ensemble of 10 bags | TPR: 0.8095 | TNR: 0.3979 | GMean: 0.5676 | TP: 68 | TN: 27927 | FP: 42252 | FN: 16\n",
      "Mean TPR: 0.7905 | Mean TNR: 0.3922 | Mean GMean: 0.5555\n",
      "Run: 4 | Wilcoxon | GaussianNB | NumFeatures: 45 | Ensemble of 20 bags | TPR: 0.8095 | TNR: 0.3991 | GMean: 0.5684 | TP: 68 | TN: 28009 | FP: 42170 | FN: 16\n",
      "Mean TPR: 0.7810 | Mean TNR: 0.4014 | Mean GMean: 0.5586\n",
      "Run: 4 | Wilcoxon | GaussianNB | NumFeatures: 45 | Ensemble of 30 bags | TPR: 0.7976 | TNR: 0.4054 | GMean: 0.5687 | TP: 67 | TN: 28453 | FP: 41726 | FN: 17\n",
      "\n",
      "CPU times: user 35.8 s, sys: 452 ms, total: 36.3 s\n",
      "Wall time: 36.1 s\n"
     ]
    }
   ],
   "source": [
    "%%time\n",
    "classify_feature_rank(DataCV_dir, Bags_dir, FeatRanking_dir,\n",
    "                      [GaussianNB], [{}],\n",
    "                      'Erk', 'Di', 'BCR', 0.01, num_bags=[10,20,30],\n",
    "                      num_runs=[4], num_top_features=[12], test_all_features=True)"
   ]
  },
  {
   "cell_type": "code",
   "execution_count": 29,
   "metadata": {},
   "outputs": [
    {
     "name": "stdout",
     "output_type": "stream",
     "text": [
      "Feature set: Di | Dataset: Erk | Treatment: BCR | Pval: 0.01\n",
      "Num bags: [10, 20, 30] | Num runs: [4] | Num features: [12] | All features: True\n",
      "Run: 4\n",
      "    Classifier: LogisticRegression\n",
      "       Feature ranking method: Entropy\n",
      "          Features: [23, 22, 20, 21, 41, 30, 8, 28, 29, 1, 6, 7]\n",
      "Run: 4 | Entropy | LogisticRegression | NumFeatures: 12 | Bag: 0 | TPR: 0.7619 | TNR: 0.4566 | GMean: 0.5898 | TP: 64 | TN: 32042 | FP: 38137 | FN: 20\n",
      "Run: 4 | Entropy | LogisticRegression | NumFeatures: 12 | Bag: 1 | TPR: 0.7976 | TNR: 0.4462 | GMean: 0.5965 | TP: 67 | TN: 31311 | FP: 38868 | FN: 17\n",
      "Run: 4 | Entropy | LogisticRegression | NumFeatures: 12 | Bag: 2 | TPR: 0.7262 | TNR: 0.4752 | GMean: 0.5874 | TP: 61 | TN: 33350 | FP: 36829 | FN: 23\n",
      "Run: 4 | Entropy | LogisticRegression | NumFeatures: 12 | Bag: 3 | TPR: 0.7738 | TNR: 0.5144 | GMean: 0.6309 | TP: 65 | TN: 36103 | FP: 34076 | FN: 19\n",
      "Run: 4 | Entropy | LogisticRegression | NumFeatures: 12 | Bag: 4 | TPR: 0.8214 | TNR: 0.4522 | GMean: 0.6095 | TP: 69 | TN: 31735 | FP: 38444 | FN: 15\n",
      "Run: 4 | Entropy | LogisticRegression | NumFeatures: 12 | Bag: 5 | TPR: 0.7500 | TNR: 0.5020 | GMean: 0.6136 | TP: 63 | TN: 35231 | FP: 34948 | FN: 21\n",
      "Run: 4 | Entropy | LogisticRegression | NumFeatures: 12 | Bag: 6 | TPR: 0.7857 | TNR: 0.4666 | GMean: 0.6055 | TP: 66 | TN: 32748 | FP: 37431 | FN: 18\n",
      "Run: 4 | Entropy | LogisticRegression | NumFeatures: 12 | Bag: 7 | TPR: 0.7976 | TNR: 0.4990 | GMean: 0.6309 | TP: 67 | TN: 35020 | FP: 35159 | FN: 17\n",
      "Run: 4 | Entropy | LogisticRegression | NumFeatures: 12 | Bag: 8 | TPR: 0.7738 | TNR: 0.4760 | GMean: 0.6069 | TP: 65 | TN: 33408 | FP: 36771 | FN: 19\n",
      "Run: 4 | Entropy | LogisticRegression | NumFeatures: 12 | Bag: 9 | TPR: 0.8095 | TNR: 0.4835 | GMean: 0.6256 | TP: 68 | TN: 33932 | FP: 36247 | FN: 16\n",
      "Run: 4 | Entropy | LogisticRegression | NumFeatures: 12 | Bag: 10 | TPR: 0.7619 | TNR: 0.4629 | GMean: 0.5939 | TP: 64 | TN: 32487 | FP: 37692 | FN: 20\n",
      "Run: 4 | Entropy | LogisticRegression | NumFeatures: 12 | Bag: 11 | TPR: 0.7619 | TNR: 0.5129 | GMean: 0.6251 | TP: 64 | TN: 35995 | FP: 34184 | FN: 20\n",
      "Run: 4 | Entropy | LogisticRegression | NumFeatures: 12 | Bag: 12 | TPR: 0.8214 | TNR: 0.4394 | GMean: 0.6008 | TP: 69 | TN: 30837 | FP: 39342 | FN: 15\n",
      "Run: 4 | Entropy | LogisticRegression | NumFeatures: 12 | Bag: 13 | TPR: 0.7262 | TNR: 0.4746 | GMean: 0.5871 | TP: 61 | TN: 33306 | FP: 36873 | FN: 23\n",
      "Run: 4 | Entropy | LogisticRegression | NumFeatures: 12 | Bag: 14 | TPR: 0.7857 | TNR: 0.4806 | GMean: 0.6145 | TP: 66 | TN: 33726 | FP: 36453 | FN: 18\n",
      "Run: 4 | Entropy | LogisticRegression | NumFeatures: 12 | Bag: 15 | TPR: 0.7619 | TNR: 0.4757 | GMean: 0.6020 | TP: 64 | TN: 33382 | FP: 36797 | FN: 20\n",
      "Run: 4 | Entropy | LogisticRegression | NumFeatures: 12 | Bag: 16 | TPR: 0.7619 | TNR: 0.4812 | GMean: 0.6055 | TP: 64 | TN: 33770 | FP: 36409 | FN: 20\n",
      "Run: 4 | Entropy | LogisticRegression | NumFeatures: 12 | Bag: 17 | TPR: 0.7857 | TNR: 0.5080 | GMean: 0.6318 | TP: 66 | TN: 35654 | FP: 34525 | FN: 18\n",
      "Run: 4 | Entropy | LogisticRegression | NumFeatures: 12 | Bag: 18 | TPR: 0.7857 | TNR: 0.4777 | GMean: 0.6127 | TP: 66 | TN: 33525 | FP: 36654 | FN: 18\n",
      "Run: 4 | Entropy | LogisticRegression | NumFeatures: 12 | Bag: 19 | TPR: 0.7500 | TNR: 0.5151 | GMean: 0.6216 | TP: 63 | TN: 36150 | FP: 34029 | FN: 21\n",
      "Run: 4 | Entropy | LogisticRegression | NumFeatures: 12 | Bag: 20 | TPR: 0.7738 | TNR: 0.4733 | GMean: 0.6052 | TP: 65 | TN: 33215 | FP: 36964 | FN: 19\n",
      "Run: 4 | Entropy | LogisticRegression | NumFeatures: 12 | Bag: 21 | TPR: 0.7857 | TNR: 0.4867 | GMean: 0.6184 | TP: 66 | TN: 34157 | FP: 36022 | FN: 18\n",
      "Run: 4 | Entropy | LogisticRegression | NumFeatures: 12 | Bag: 22 | TPR: 0.8333 | TNR: 0.4510 | GMean: 0.6130 | TP: 70 | TN: 31648 | FP: 38531 | FN: 14\n",
      "Run: 4 | Entropy | LogisticRegression | NumFeatures: 12 | Bag: 23 | TPR: 0.7857 | TNR: 0.5125 | GMean: 0.6345 | TP: 66 | TN: 35964 | FP: 34215 | FN: 18\n",
      "Run: 4 | Entropy | LogisticRegression | NumFeatures: 12 | Bag: 24 | TPR: 0.7738 | TNR: 0.5162 | GMean: 0.6320 | TP: 65 | TN: 36229 | FP: 33950 | FN: 19\n",
      "Run: 4 | Entropy | LogisticRegression | NumFeatures: 12 | Bag: 25 | TPR: 0.7381 | TNR: 0.4718 | GMean: 0.5901 | TP: 62 | TN: 33109 | FP: 37070 | FN: 22\n",
      "Run: 4 | Entropy | LogisticRegression | NumFeatures: 12 | Bag: 26 | TPR: 0.7857 | TNR: 0.4735 | GMean: 0.6100 | TP: 66 | TN: 33231 | FP: 36948 | FN: 18\n",
      "Run: 4 | Entropy | LogisticRegression | NumFeatures: 12 | Bag: 27 | TPR: 0.7500 | TNR: 0.5053 | GMean: 0.6156 | TP: 63 | TN: 35459 | FP: 34720 | FN: 21\n"
     ]
    },
    {
     "ename": "KeyboardInterrupt",
     "evalue": "",
     "output_type": "error",
     "traceback": [
      "\u001b[0;31m---------------------------------------------------------------------------\u001b[0m",
      "\u001b[0;31mKeyboardInterrupt\u001b[0m                         Traceback (most recent call last)",
      "\u001b[0;32m<timed eval>\u001b[0m in \u001b[0;36m<module>\u001b[0;34m()\u001b[0m\n",
      "\u001b[0;32m~/Documents/genomic-causality-prediction/SVMExperiments/utils.py\u001b[0m in \u001b[0;36mclassify_feature_rank\u001b[0;34m(DataCV_dir, Bags_dir, FeatRanking_dir, classifiers, params, dataset, feature_set, treatment, pval_pos_threshold, num_bags, num_runs, num_top_features, test_all_features)\u001b[0m\n\u001b[1;32m    202\u001b[0m                     evaluate_bags(trn_neg, trn_pos, test_data, test_labels, \n\u001b[1;32m    203\u001b[0m                                   \u001b[0mrun\u001b[0m\u001b[0;34m,\u001b[0m \u001b[0mclassifier\u001b[0m\u001b[0;34m,\u001b[0m \u001b[0mclassifier_name\u001b[0m\u001b[0;34m,\u001b[0m \u001b[0mparam\u001b[0m\u001b[0;34m,\u001b[0m\u001b[0;34m\u001b[0m\u001b[0m\n\u001b[0;32m--> 204\u001b[0;31m                                   feat_rank_row.Method, features, bags, n_samples, num_bags)    \n\u001b[0m\u001b[1;32m    205\u001b[0m             \u001b[0;32mif\u001b[0m \u001b[0mtest_all_features\u001b[0m\u001b[0;34m:\u001b[0m\u001b[0;34m\u001b[0m\u001b[0m\n\u001b[1;32m    206\u001b[0m                 \u001b[0mprint\u001b[0m\u001b[0;34m(\u001b[0m\u001b[0;34m' '\u001b[0m\u001b[0;34m*\u001b[0m\u001b[0;36m6\u001b[0m\u001b[0;34m,\u001b[0m \u001b[0;34mf'All features'\u001b[0m\u001b[0;34m)\u001b[0m\u001b[0;34m\u001b[0m\u001b[0m\n",
      "\u001b[0;32m~/Documents/genomic-causality-prediction/SVMExperiments/utils.py\u001b[0m in \u001b[0;36mevaluate_bags\u001b[0;34m(trn_neg, trn_pos, test_data, test_labels, run, classifier, classifier_name, params, feature_ranker, features, bags, n_samples, num_bags)\u001b[0m\n\u001b[1;32m    131\u001b[0m     \u001b[0mresults\u001b[0m \u001b[0;34m=\u001b[0m \u001b[0;34m[\u001b[0m\u001b[0;34m]\u001b[0m\u001b[0;34m\u001b[0m\u001b[0m\n\u001b[1;32m    132\u001b[0m     \u001b[0;32mfor\u001b[0m \u001b[0mbag_id\u001b[0m \u001b[0;32min\u001b[0m \u001b[0mrange\u001b[0m\u001b[0;34m(\u001b[0m\u001b[0mmax\u001b[0m\u001b[0;34m(\u001b[0m\u001b[0mnum_bags\u001b[0m\u001b[0;34m)\u001b[0m\u001b[0;34m)\u001b[0m\u001b[0;34m:\u001b[0m\u001b[0;34m\u001b[0m\u001b[0m\n\u001b[0;32m--> 133\u001b[0;31m         \u001b[0mresults\u001b[0m\u001b[0;34m.\u001b[0m\u001b[0mappend\u001b[0m\u001b[0;34m(\u001b[0m\u001b[0mpartial_predict\u001b[0m\u001b[0;34m(\u001b[0m\u001b[0mbag_id\u001b[0m\u001b[0;34m)\u001b[0m\u001b[0;34m)\u001b[0m\u001b[0;34m\u001b[0m\u001b[0m\n\u001b[0m\u001b[1;32m    134\u001b[0m         \u001b[0mprint\u001b[0m\u001b[0;34m(\u001b[0m\u001b[0mresults\u001b[0m\u001b[0;34m[\u001b[0m\u001b[0;34m-\u001b[0m\u001b[0;36m1\u001b[0m\u001b[0;34m]\u001b[0m\u001b[0;34m[\u001b[0m\u001b[0;36m1\u001b[0m\u001b[0;34m]\u001b[0m\u001b[0;34m)\u001b[0m\u001b[0;34m\u001b[0m\u001b[0m\n\u001b[1;32m    135\u001b[0m \u001b[0;34m\u001b[0m\u001b[0m\n",
      "\u001b[0;32m~/Documents/genomic-causality-prediction/SVMExperiments/utils.py\u001b[0m in \u001b[0;36mpredict_bag\u001b[0;34m(bag_id, trn_neg, trn_pos, test_data, test_labels, run, classifier, classifier_name, params, feature_ranker, features, bags, n_samples)\u001b[0m\n\u001b[1;32m     83\u001b[0m     tpr, tnr, gmean, log = log_metrics(test_labels, test_preds, \n\u001b[1;32m     84\u001b[0m                                    \u001b[0mrun\u001b[0m\u001b[0;34m,\u001b[0m \u001b[0mfeature_ranker\u001b[0m\u001b[0;34m,\u001b[0m \u001b[0mclassifier_name\u001b[0m\u001b[0;34m,\u001b[0m\u001b[0;34m\u001b[0m\u001b[0m\n\u001b[0;32m---> 85\u001b[0;31m                                    len(features), f'Bag: {bag_id}')\n\u001b[0m\u001b[1;32m     86\u001b[0m \u001b[0;34m\u001b[0m\u001b[0m\n\u001b[1;32m     87\u001b[0m     \u001b[0;32mreturn\u001b[0m \u001b[0;34m[\u001b[0m\u001b[0mtpr\u001b[0m\u001b[0;34m,\u001b[0m \u001b[0mtnr\u001b[0m\u001b[0;34m,\u001b[0m \u001b[0mgmean\u001b[0m\u001b[0;34m]\u001b[0m\u001b[0;34m,\u001b[0m \u001b[0mlog\u001b[0m\u001b[0;34m,\u001b[0m \u001b[0mtest_preds\u001b[0m\u001b[0;34m\u001b[0m\u001b[0m\n",
      "\u001b[0;32m~/Documents/genomic-causality-prediction/SVMExperiments/utils.py\u001b[0m in \u001b[0;36mlog_metrics\u001b[0;34m(targets, preds, run, feat_ranking, classifier, n_features, description)\u001b[0m\n\u001b[1;32m     42\u001b[0m \u001b[0;34m\u001b[0m\u001b[0m\n\u001b[1;32m     43\u001b[0m \u001b[0;32mdef\u001b[0m \u001b[0mlog_metrics\u001b[0m\u001b[0;34m(\u001b[0m\u001b[0mtargets\u001b[0m\u001b[0;34m,\u001b[0m \u001b[0mpreds\u001b[0m\u001b[0;34m,\u001b[0m \u001b[0mrun\u001b[0m\u001b[0;34m,\u001b[0m \u001b[0mfeat_ranking\u001b[0m\u001b[0;34m,\u001b[0m \u001b[0mclassifier\u001b[0m\u001b[0;34m,\u001b[0m \u001b[0mn_features\u001b[0m\u001b[0;34m,\u001b[0m \u001b[0mdescription\u001b[0m\u001b[0;34m)\u001b[0m\u001b[0;34m:\u001b[0m\u001b[0;34m\u001b[0m\u001b[0m\n\u001b[0;32m---> 44\u001b[0;31m     \u001b[0;34m(\u001b[0m\u001b[0mtn\u001b[0m\u001b[0;34m,\u001b[0m \u001b[0mfp\u001b[0m\u001b[0;34m)\u001b[0m\u001b[0;34m,\u001b[0m \u001b[0;34m(\u001b[0m\u001b[0mfn\u001b[0m\u001b[0;34m,\u001b[0m \u001b[0mtp\u001b[0m\u001b[0;34m)\u001b[0m \u001b[0;34m=\u001b[0m \u001b[0mconfusion_matrix\u001b[0m\u001b[0;34m(\u001b[0m\u001b[0mtargets\u001b[0m\u001b[0;34m,\u001b[0m \u001b[0mpreds\u001b[0m\u001b[0;34m)\u001b[0m\u001b[0;34m\u001b[0m\u001b[0m\n\u001b[0m\u001b[1;32m     45\u001b[0m     \u001b[0mtpr\u001b[0m \u001b[0;34m=\u001b[0m \u001b[0mtp\u001b[0m \u001b[0;34m/\u001b[0m \u001b[0;34m(\u001b[0m\u001b[0mtp\u001b[0m \u001b[0;34m+\u001b[0m \u001b[0mfn\u001b[0m\u001b[0;34m)\u001b[0m\u001b[0;34m\u001b[0m\u001b[0m\n\u001b[1;32m     46\u001b[0m     \u001b[0mtnr\u001b[0m \u001b[0;34m=\u001b[0m \u001b[0mtn\u001b[0m \u001b[0;34m/\u001b[0m \u001b[0;34m(\u001b[0m\u001b[0mtn\u001b[0m \u001b[0;34m+\u001b[0m \u001b[0mfp\u001b[0m\u001b[0;34m)\u001b[0m\u001b[0;34m\u001b[0m\u001b[0m\n",
      "\u001b[0;32m~/anaconda3/envs/chana/lib/python3.6/site-packages/sklearn/metrics/classification.py\u001b[0m in \u001b[0;36mconfusion_matrix\u001b[0;34m(y_true, y_pred, labels, sample_weight)\u001b[0m\n\u001b[1;32m    269\u001b[0m     \u001b[0mlabel_to_ind\u001b[0m \u001b[0;34m=\u001b[0m \u001b[0mdict\u001b[0m\u001b[0;34m(\u001b[0m\u001b[0;34m(\u001b[0m\u001b[0my\u001b[0m\u001b[0;34m,\u001b[0m \u001b[0mx\u001b[0m\u001b[0;34m)\u001b[0m \u001b[0;32mfor\u001b[0m \u001b[0mx\u001b[0m\u001b[0;34m,\u001b[0m \u001b[0my\u001b[0m \u001b[0;32min\u001b[0m \u001b[0menumerate\u001b[0m\u001b[0;34m(\u001b[0m\u001b[0mlabels\u001b[0m\u001b[0;34m)\u001b[0m\u001b[0;34m)\u001b[0m\u001b[0;34m\u001b[0m\u001b[0m\n\u001b[1;32m    270\u001b[0m     \u001b[0;31m# convert yt, yp into index\u001b[0m\u001b[0;34m\u001b[0m\u001b[0;34m\u001b[0m\u001b[0m\n\u001b[0;32m--> 271\u001b[0;31m     \u001b[0my_pred\u001b[0m \u001b[0;34m=\u001b[0m \u001b[0mnp\u001b[0m\u001b[0;34m.\u001b[0m\u001b[0marray\u001b[0m\u001b[0;34m(\u001b[0m\u001b[0;34m[\u001b[0m\u001b[0mlabel_to_ind\u001b[0m\u001b[0;34m.\u001b[0m\u001b[0mget\u001b[0m\u001b[0;34m(\u001b[0m\u001b[0mx\u001b[0m\u001b[0;34m,\u001b[0m \u001b[0mn_labels\u001b[0m \u001b[0;34m+\u001b[0m \u001b[0;36m1\u001b[0m\u001b[0;34m)\u001b[0m \u001b[0;32mfor\u001b[0m \u001b[0mx\u001b[0m \u001b[0;32min\u001b[0m \u001b[0my_pred\u001b[0m\u001b[0;34m]\u001b[0m\u001b[0;34m)\u001b[0m\u001b[0;34m\u001b[0m\u001b[0m\n\u001b[0m\u001b[1;32m    272\u001b[0m     \u001b[0my_true\u001b[0m \u001b[0;34m=\u001b[0m \u001b[0mnp\u001b[0m\u001b[0;34m.\u001b[0m\u001b[0marray\u001b[0m\u001b[0;34m(\u001b[0m\u001b[0;34m[\u001b[0m\u001b[0mlabel_to_ind\u001b[0m\u001b[0;34m.\u001b[0m\u001b[0mget\u001b[0m\u001b[0;34m(\u001b[0m\u001b[0mx\u001b[0m\u001b[0;34m,\u001b[0m \u001b[0mn_labels\u001b[0m \u001b[0;34m+\u001b[0m \u001b[0;36m1\u001b[0m\u001b[0;34m)\u001b[0m \u001b[0;32mfor\u001b[0m \u001b[0mx\u001b[0m \u001b[0;32min\u001b[0m \u001b[0my_true\u001b[0m\u001b[0;34m]\u001b[0m\u001b[0;34m)\u001b[0m\u001b[0;34m\u001b[0m\u001b[0m\n\u001b[1;32m    273\u001b[0m \u001b[0;34m\u001b[0m\u001b[0m\n",
      "\u001b[0;32m~/anaconda3/envs/chana/lib/python3.6/site-packages/sklearn/metrics/classification.py\u001b[0m in \u001b[0;36m<listcomp>\u001b[0;34m(.0)\u001b[0m\n\u001b[1;32m    269\u001b[0m     \u001b[0mlabel_to_ind\u001b[0m \u001b[0;34m=\u001b[0m \u001b[0mdict\u001b[0m\u001b[0;34m(\u001b[0m\u001b[0;34m(\u001b[0m\u001b[0my\u001b[0m\u001b[0;34m,\u001b[0m \u001b[0mx\u001b[0m\u001b[0;34m)\u001b[0m \u001b[0;32mfor\u001b[0m \u001b[0mx\u001b[0m\u001b[0;34m,\u001b[0m \u001b[0my\u001b[0m \u001b[0;32min\u001b[0m \u001b[0menumerate\u001b[0m\u001b[0;34m(\u001b[0m\u001b[0mlabels\u001b[0m\u001b[0;34m)\u001b[0m\u001b[0;34m)\u001b[0m\u001b[0;34m\u001b[0m\u001b[0m\n\u001b[1;32m    270\u001b[0m     \u001b[0;31m# convert yt, yp into index\u001b[0m\u001b[0;34m\u001b[0m\u001b[0;34m\u001b[0m\u001b[0m\n\u001b[0;32m--> 271\u001b[0;31m     \u001b[0my_pred\u001b[0m \u001b[0;34m=\u001b[0m \u001b[0mnp\u001b[0m\u001b[0;34m.\u001b[0m\u001b[0marray\u001b[0m\u001b[0;34m(\u001b[0m\u001b[0;34m[\u001b[0m\u001b[0mlabel_to_ind\u001b[0m\u001b[0;34m.\u001b[0m\u001b[0mget\u001b[0m\u001b[0;34m(\u001b[0m\u001b[0mx\u001b[0m\u001b[0;34m,\u001b[0m \u001b[0mn_labels\u001b[0m \u001b[0;34m+\u001b[0m \u001b[0;36m1\u001b[0m\u001b[0;34m)\u001b[0m \u001b[0;32mfor\u001b[0m \u001b[0mx\u001b[0m \u001b[0;32min\u001b[0m \u001b[0my_pred\u001b[0m\u001b[0;34m]\u001b[0m\u001b[0;34m)\u001b[0m\u001b[0;34m\u001b[0m\u001b[0m\n\u001b[0m\u001b[1;32m    272\u001b[0m     \u001b[0my_true\u001b[0m \u001b[0;34m=\u001b[0m \u001b[0mnp\u001b[0m\u001b[0;34m.\u001b[0m\u001b[0marray\u001b[0m\u001b[0;34m(\u001b[0m\u001b[0;34m[\u001b[0m\u001b[0mlabel_to_ind\u001b[0m\u001b[0;34m.\u001b[0m\u001b[0mget\u001b[0m\u001b[0;34m(\u001b[0m\u001b[0mx\u001b[0m\u001b[0;34m,\u001b[0m \u001b[0mn_labels\u001b[0m \u001b[0;34m+\u001b[0m \u001b[0;36m1\u001b[0m\u001b[0;34m)\u001b[0m \u001b[0;32mfor\u001b[0m \u001b[0mx\u001b[0m \u001b[0;32min\u001b[0m \u001b[0my_true\u001b[0m\u001b[0;34m]\u001b[0m\u001b[0;34m)\u001b[0m\u001b[0;34m\u001b[0m\u001b[0m\n\u001b[1;32m    273\u001b[0m \u001b[0;34m\u001b[0m\u001b[0m\n",
      "\u001b[0;31mKeyboardInterrupt\u001b[0m: "
     ]
    }
   ],
   "source": [
    "%%time\n",
    "classify_feature_rank(DataCV_dir, Bags_dir, FeatRanking_dir,\n",
    "                      [LogisticRegression], [{}],\n",
    "                      'Erk', 'Di', 'BCR', 0.01, num_bags=[10,20,30],\n",
    "                      num_runs=[4], num_top_features=[12], test_all_features=True)"
   ]
  },
  {
   "cell_type": "code",
   "execution_count": 30,
   "metadata": {},
   "outputs": [
    {
     "name": "stdout",
     "output_type": "stream",
     "text": [
      "Feature set: Di | Dataset: Erk | Treatment: BCR | Pval: 0.01\n",
      "Num bags: [10, 20, 30] | Num runs: [4] | Num features: [12] | All features: True\n",
      "Run: 4\n",
      "    Classifier: SVC\n",
      "       Feature ranking method: Entropy\n",
      "          Features: [23, 22, 20, 21, 41, 30, 8, 28, 29, 1, 6, 7]\n",
      "Run: 4 | Entropy | SVC | NumFeatures: 12 | Bag: 0 | TPR: 0.5833 | TNR: 0.6412 | GMean: 0.6116 | TP: 49 | TN: 44997 | FP: 25182 | FN: 35\n",
      "Run: 4 | Entropy | SVC | NumFeatures: 12 | Bag: 1 | TPR: 0.6905 | TNR: 0.5833 | GMean: 0.6346 | TP: 58 | TN: 40934 | FP: 29245 | FN: 26\n",
      "Run: 4 | Entropy | SVC | NumFeatures: 12 | Bag: 2 | TPR: 0.6905 | TNR: 0.5960 | GMean: 0.6415 | TP: 58 | TN: 41830 | FP: 28349 | FN: 26\n",
      "Run: 4 | Entropy | SVC | NumFeatures: 12 | Bag: 3 | TPR: 0.6310 | TNR: 0.6876 | GMean: 0.6587 | TP: 53 | TN: 48258 | FP: 21921 | FN: 31\n",
      "Run: 4 | Entropy | SVC | NumFeatures: 12 | Bag: 4 | TPR: 0.6548 | TNR: 0.6492 | GMean: 0.6520 | TP: 55 | TN: 45557 | FP: 24622 | FN: 29\n",
      "Run: 4 | Entropy | SVC | NumFeatures: 12 | Bag: 5 | TPR: 0.5833 | TNR: 0.6880 | GMean: 0.6335 | TP: 49 | TN: 48282 | FP: 21897 | FN: 35\n",
      "Run: 4 | Entropy | SVC | NumFeatures: 12 | Bag: 6 | TPR: 0.6190 | TNR: 0.6427 | GMean: 0.6308 | TP: 52 | TN: 45106 | FP: 25073 | FN: 32\n",
      "Run: 4 | Entropy | SVC | NumFeatures: 12 | Bag: 7 | TPR: 0.6667 | TNR: 0.6675 | GMean: 0.6671 | TP: 56 | TN: 46844 | FP: 23335 | FN: 28\n",
      "Run: 4 | Entropy | SVC | NumFeatures: 12 | Bag: 8 | TPR: 0.6548 | TNR: 0.6569 | GMean: 0.6558 | TP: 55 | TN: 46101 | FP: 24078 | FN: 29\n"
     ]
    },
    {
     "name": "stderr",
     "output_type": "stream",
     "text": [
      "ERROR:root:Internal Python error in the inspect module.\n",
      "Below is the traceback from this internal error.\n",
      "\n"
     ]
    },
    {
     "name": "stdout",
     "output_type": "stream",
     "text": [
      "Traceback (most recent call last):\n",
      "  File \"/home/raduviri/anaconda3/envs/chana/lib/python3.6/site-packages/IPython/core/magics/execution.py\", line 1230, in time\n",
      "    out = eval(code, glob, local_ns)\n",
      "  File \"<timed eval>\", line 4, in <module>\n",
      "  File \"/home/raduviri/Documents/genomic-causality-prediction/SVMExperiments/utils.py\", line 204, in classify_feature_rank\n",
      "    feat_rank_row.Method, features, bags, n_samples, num_bags)\n",
      "  File \"/home/raduviri/Documents/genomic-causality-prediction/SVMExperiments/utils.py\", line 133, in evaluate_bags\n",
      "    results.append(partial_predict(bag_id))\n",
      "  File \"/home/raduviri/Documents/genomic-causality-prediction/SVMExperiments/utils.py\", line 80, in predict_bag\n",
      "    model.fit(train_data, train_labels)\n",
      "  File \"/home/raduviri/anaconda3/envs/chana/lib/python3.6/site-packages/sklearn/svm/base.py\", line 187, in fit\n",
      "    fit(X, y, sample_weight, solver_type, kernel, random_seed=seed)\n",
      "  File \"/home/raduviri/anaconda3/envs/chana/lib/python3.6/site-packages/sklearn/svm/base.py\", line 254, in _dense_fit\n",
      "    max_iter=self.max_iter, random_seed=random_seed)\n",
      "KeyboardInterrupt\n",
      "\n",
      "During handling of the above exception, another exception occurred:\n",
      "\n",
      "Traceback (most recent call last):\n",
      "  File \"/home/raduviri/anaconda3/envs/chana/lib/python3.6/site-packages/IPython/core/interactiveshell.py\", line 1828, in showtraceback\n",
      "    stb = value._render_traceback_()\n",
      "AttributeError: 'KeyboardInterrupt' object has no attribute '_render_traceback_'\n",
      "\n",
      "During handling of the above exception, another exception occurred:\n",
      "\n",
      "Traceback (most recent call last):\n",
      "  File \"/home/raduviri/anaconda3/envs/chana/lib/python3.6/site-packages/IPython/core/ultratb.py\", line 1090, in get_records\n",
      "    return _fixed_getinnerframes(etb, number_of_lines_of_context, tb_offset)\n",
      "  File \"/home/raduviri/anaconda3/envs/chana/lib/python3.6/site-packages/IPython/core/ultratb.py\", line 311, in wrapped\n",
      "    return f(*args, **kwargs)\n",
      "  File \"/home/raduviri/anaconda3/envs/chana/lib/python3.6/site-packages/IPython/core/ultratb.py\", line 345, in _fixed_getinnerframes\n",
      "    records = fix_frame_records_filenames(inspect.getinnerframes(etb, context))\n",
      "  File \"/home/raduviri/anaconda3/envs/chana/lib/python3.6/inspect.py\", line 1483, in getinnerframes\n",
      "    frameinfo = (tb.tb_frame,) + getframeinfo(tb, context)\n",
      "  File \"/home/raduviri/anaconda3/envs/chana/lib/python3.6/inspect.py\", line 1441, in getframeinfo\n",
      "    filename = getsourcefile(frame) or getfile(frame)\n",
      "  File \"/home/raduviri/anaconda3/envs/chana/lib/python3.6/inspect.py\", line 696, in getsourcefile\n",
      "    if getattr(getmodule(object, filename), '__loader__', None) is not None:\n",
      "  File \"/home/raduviri/anaconda3/envs/chana/lib/python3.6/inspect.py\", line 732, in getmodule\n",
      "    for modname, module in list(sys.modules.items()):\n",
      "KeyboardInterrupt\n"
     ]
    },
    {
     "ename": "KeyboardInterrupt",
     "evalue": "",
     "output_type": "error",
     "traceback": [
      "\u001b[0;31m---------------------------------------------------------------------------\u001b[0m"
     ]
    }
   ],
   "source": [
    "%%time\n",
    "classify_feature_rank(DataCV_dir, Bags_dir, FeatRanking_dir,\n",
    "                      [SVC], [{}],\n",
    "                      'Erk', 'Di', 'BCR', 0.01, num_bags=[10,20,30],\n",
    "                      num_runs=[4], num_top_features=[12], test_all_features=True)"
   ]
  },
  {
   "cell_type": "code",
   "execution_count": 25,
   "metadata": {},
   "outputs": [
    {
     "name": "stdout",
     "output_type": "stream",
     "text": [
      "Feature set: Di | Dataset: Erk | Treatment: BCR | Pval: 0.01\n",
      "Num bags: [10, 20, 30] | Num runs: [4] | Num features: [12] | All features: True\n",
      "Run: 4\n",
      "    Classifier: RandomForestClassifier\n",
      "       Feature ranking method: Entropy\n",
      "          Features: [23, 22, 20, 21, 41, 30, 8, 28, 29, 1, 6, 7]\n",
      "Run: 4 | Entropy | RandomForestClassifier | NumFeatures: 12 | Bag: 0 | TPR: 0.6667 | TNR: 0.6138 | GMean: 0.6397 | TP: 56 | TN: 43078 | FP: 27101 | FN: 28\n",
      "Run: 4 | Entropy | RandomForestClassifier | NumFeatures: 12 | Bag: 1 | TPR: 0.7500 | TNR: 0.5694 | GMean: 0.6535 | TP: 63 | TN: 39960 | FP: 30219 | FN: 21\n",
      "Run: 4 | Entropy | RandomForestClassifier | NumFeatures: 12 | Bag: 2 | TPR: 0.7857 | TNR: 0.5856 | GMean: 0.6783 | TP: 66 | TN: 41100 | FP: 29079 | FN: 18\n",
      "Run: 4 | Entropy | RandomForestClassifier | NumFeatures: 12 | Bag: 3 | TPR: 0.6667 | TNR: 0.6743 | GMean: 0.6705 | TP: 56 | TN: 47323 | FP: 22856 | FN: 28\n",
      "Run: 4 | Entropy | RandomForestClassifier | NumFeatures: 12 | Bag: 4 | TPR: 0.7143 | TNR: 0.6232 | GMean: 0.6672 | TP: 60 | TN: 43739 | FP: 26440 | FN: 24\n",
      "Run: 4 | Entropy | RandomForestClassifier | NumFeatures: 12 | Bag: 5 | TPR: 0.6667 | TNR: 0.6651 | GMean: 0.6659 | TP: 56 | TN: 46676 | FP: 23503 | FN: 28\n",
      "Run: 4 | Entropy | RandomForestClassifier | NumFeatures: 12 | Bag: 6 | TPR: 0.6667 | TNR: 0.6241 | GMean: 0.6451 | TP: 56 | TN: 43802 | FP: 26377 | FN: 28\n",
      "Run: 4 | Entropy | RandomForestClassifier | NumFeatures: 12 | Bag: 7 | TPR: 0.7143 | TNR: 0.6431 | GMean: 0.6778 | TP: 60 | TN: 45134 | FP: 25045 | FN: 24\n",
      "Run: 4 | Entropy | RandomForestClassifier | NumFeatures: 12 | Bag: 8 | TPR: 0.7262 | TNR: 0.6289 | GMean: 0.6758 | TP: 61 | TN: 44135 | FP: 26044 | FN: 23\n",
      "Run: 4 | Entropy | RandomForestClassifier | NumFeatures: 12 | Bag: 9 | TPR: 0.6786 | TNR: 0.6499 | GMean: 0.6641 | TP: 57 | TN: 45607 | FP: 24572 | FN: 27\n",
      "Run: 4 | Entropy | RandomForestClassifier | NumFeatures: 12 | Bag: 10 | TPR: 0.7024 | TNR: 0.6248 | GMean: 0.6624 | TP: 59 | TN: 43847 | FP: 26332 | FN: 25\n",
      "Run: 4 | Entropy | RandomForestClassifier | NumFeatures: 12 | Bag: 11 | TPR: 0.7262 | TNR: 0.6451 | GMean: 0.6844 | TP: 61 | TN: 45270 | FP: 24909 | FN: 23\n",
      "Run: 4 | Entropy | RandomForestClassifier | NumFeatures: 12 | Bag: 12 | TPR: 0.7262 | TNR: 0.5881 | GMean: 0.6535 | TP: 61 | TN: 41270 | FP: 28909 | FN: 23\n",
      "Run: 4 | Entropy | RandomForestClassifier | NumFeatures: 12 | Bag: 13 | TPR: 0.7143 | TNR: 0.6259 | GMean: 0.6687 | TP: 60 | TN: 43928 | FP: 26251 | FN: 24\n",
      "Run: 4 | Entropy | RandomForestClassifier | NumFeatures: 12 | Bag: 14 | TPR: 0.7619 | TNR: 0.6345 | GMean: 0.6953 | TP: 64 | TN: 44528 | FP: 25651 | FN: 20\n",
      "Run: 4 | Entropy | RandomForestClassifier | NumFeatures: 12 | Bag: 15 | TPR: 0.6667 | TNR: 0.6174 | GMean: 0.6416 | TP: 56 | TN: 43328 | FP: 26851 | FN: 28\n",
      "Run: 4 | Entropy | RandomForestClassifier | NumFeatures: 12 | Bag: 16 | TPR: 0.7024 | TNR: 0.6222 | GMean: 0.6611 | TP: 59 | TN: 43666 | FP: 26513 | FN: 25\n",
      "Run: 4 | Entropy | RandomForestClassifier | NumFeatures: 12 | Bag: 17 | TPR: 0.6548 | TNR: 0.6297 | GMean: 0.6421 | TP: 55 | TN: 44193 | FP: 25986 | FN: 29\n",
      "Run: 4 | Entropy | RandomForestClassifier | NumFeatures: 12 | Bag: 18 | TPR: 0.8095 | TNR: 0.6014 | GMean: 0.6978 | TP: 68 | TN: 42208 | FP: 27971 | FN: 16\n",
      "Run: 4 | Entropy | RandomForestClassifier | NumFeatures: 12 | Bag: 19 | TPR: 0.7262 | TNR: 0.6226 | GMean: 0.6724 | TP: 61 | TN: 43694 | FP: 26485 | FN: 23\n",
      "Run: 4 | Entropy | RandomForestClassifier | NumFeatures: 12 | Bag: 20 | TPR: 0.7024 | TNR: 0.6492 | GMean: 0.6753 | TP: 59 | TN: 45558 | FP: 24621 | FN: 25\n",
      "Run: 4 | Entropy | RandomForestClassifier | NumFeatures: 12 | Bag: 21 | TPR: 0.7262 | TNR: 0.6437 | GMean: 0.6837 | TP: 61 | TN: 45175 | FP: 25004 | FN: 23\n",
      "Run: 4 | Entropy | RandomForestClassifier | NumFeatures: 12 | Bag: 22 | TPR: 0.7500 | TNR: 0.5836 | GMean: 0.6616 | TP: 63 | TN: 40958 | FP: 29221 | FN: 21\n",
      "Run: 4 | Entropy | RandomForestClassifier | NumFeatures: 12 | Bag: 23 | TPR: 0.7857 | TNR: 0.6751 | GMean: 0.7283 | TP: 66 | TN: 47381 | FP: 22798 | FN: 18\n",
      "Run: 4 | Entropy | RandomForestClassifier | NumFeatures: 12 | Bag: 24 | TPR: 0.6667 | TNR: 0.6835 | GMean: 0.6750 | TP: 56 | TN: 47970 | FP: 22209 | FN: 28\n",
      "Run: 4 | Entropy | RandomForestClassifier | NumFeatures: 12 | Bag: 25 | TPR: 0.6548 | TNR: 0.6517 | GMean: 0.6533 | TP: 55 | TN: 45739 | FP: 24440 | FN: 29\n",
      "Run: 4 | Entropy | RandomForestClassifier | NumFeatures: 12 | Bag: 26 | TPR: 0.7024 | TNR: 0.6252 | GMean: 0.6627 | TP: 59 | TN: 43874 | FP: 26305 | FN: 25\n",
      "Run: 4 | Entropy | RandomForestClassifier | NumFeatures: 12 | Bag: 27 | TPR: 0.6905 | TNR: 0.6435 | GMean: 0.6666 | TP: 58 | TN: 45158 | FP: 25021 | FN: 26\n",
      "Run: 4 | Entropy | RandomForestClassifier | NumFeatures: 12 | Bag: 28 | TPR: 0.6905 | TNR: 0.6653 | GMean: 0.6778 | TP: 58 | TN: 46690 | FP: 23489 | FN: 26\n",
      "Run: 4 | Entropy | RandomForestClassifier | NumFeatures: 12 | Bag: 29 | TPR: 0.7738 | TNR: 0.6379 | GMean: 0.7026 | TP: 65 | TN: 44764 | FP: 25415 | FN: 19\n",
      "Mean TPR: 0.7036 | Mean TNR: 0.6278 | Mean GMean: 0.6638\n",
      "Run: 4 | Entropy | RandomForestClassifier | NumFeatures: 12 | Ensemble of 10 bags | TPR: 0.6905 | TNR: 0.6524 | GMean: 0.6712 | TP: 58 | TN: 45783 | FP: 24396 | FN: 26\n",
      "Mean TPR: 0.7113 | Mean TNR: 0.6245 | Mean GMean: 0.6659\n",
      "Run: 4 | Entropy | RandomForestClassifier | NumFeatures: 12 | Ensemble of 20 bags | TPR: 0.7500 | TNR: 0.6393 | GMean: 0.6924 | TP: 63 | TN: 44866 | FP: 25313 | FN: 21\n",
      "Mean TPR: 0.7123 | Mean TNR: 0.6316 | Mean GMean: 0.6701\n",
      "Run: 4 | Entropy | RandomForestClassifier | NumFeatures: 12 | Ensemble of 30 bags | TPR: 0.7262 | TNR: 0.6450 | GMean: 0.6844 | TP: 61 | TN: 45264 | FP: 24915 | FN: 23\n",
      "\n",
      "       Feature ranking method: Ttest\n",
      "          Features: [23, 22, 21, 20, 8, 30, 28, 6, 7, 29, 18, 19]\n",
      "Run: 4 | Ttest | RandomForestClassifier | NumFeatures: 12 | Bag: 0 | TPR: 0.4762 | TNR: 0.6794 | GMean: 0.5688 | TP: 40 | TN: 47681 | FP: 22498 | FN: 44\n",
      "Run: 4 | Ttest | RandomForestClassifier | NumFeatures: 12 | Bag: 1 | TPR: 0.5357 | TNR: 0.6687 | GMean: 0.5985 | TP: 45 | TN: 46927 | FP: 23252 | FN: 39\n",
      "Run: 4 | Ttest | RandomForestClassifier | NumFeatures: 12 | Bag: 2 | TPR: 0.5952 | TNR: 0.6544 | GMean: 0.6241 | TP: 50 | TN: 45922 | FP: 24257 | FN: 34\n",
      "Run: 4 | Ttest | RandomForestClassifier | NumFeatures: 12 | Bag: 3 | TPR: 0.5595 | TNR: 0.6866 | GMean: 0.6198 | TP: 47 | TN: 48183 | FP: 21996 | FN: 37\n",
      "Run: 4 | Ttest | RandomForestClassifier | NumFeatures: 12 | Bag: 4 | TPR: 0.5833 | TNR: 0.6883 | GMean: 0.6337 | TP: 49 | TN: 48306 | FP: 21873 | FN: 35\n",
      "Run: 4 | Ttest | RandomForestClassifier | NumFeatures: 12 | Bag: 5 | TPR: 0.4405 | TNR: 0.7171 | GMean: 0.5620 | TP: 37 | TN: 50326 | FP: 19853 | FN: 47\n",
      "Run: 4 | Ttest | RandomForestClassifier | NumFeatures: 12 | Bag: 6 | TPR: 0.5476 | TNR: 0.6773 | GMean: 0.6090 | TP: 46 | TN: 47530 | FP: 22649 | FN: 38\n",
      "Run: 4 | Ttest | RandomForestClassifier | NumFeatures: 12 | Bag: 7 | TPR: 0.4881 | TNR: 0.7038 | GMean: 0.5861 | TP: 41 | TN: 49390 | FP: 20789 | FN: 43\n",
      "Run: 4 | Ttest | RandomForestClassifier | NumFeatures: 12 | Bag: 8 | TPR: 0.4643 | TNR: 0.6796 | GMean: 0.5617 | TP: 39 | TN: 47696 | FP: 22483 | FN: 45\n",
      "Run: 4 | Ttest | RandomForestClassifier | NumFeatures: 12 | Bag: 9 | TPR: 0.4643 | TNR: 0.7234 | GMean: 0.5795 | TP: 39 | TN: 50768 | FP: 19411 | FN: 45\n",
      "Run: 4 | Ttest | RandomForestClassifier | NumFeatures: 12 | Bag: 10 | TPR: 0.5000 | TNR: 0.6838 | GMean: 0.5847 | TP: 42 | TN: 47987 | FP: 22192 | FN: 42\n",
      "Run: 4 | Ttest | RandomForestClassifier | NumFeatures: 12 | Bag: 11 | TPR: 0.5357 | TNR: 0.7335 | GMean: 0.6269 | TP: 45 | TN: 51478 | FP: 18701 | FN: 39\n"
     ]
    },
    {
     "ename": "KeyboardInterrupt",
     "evalue": "",
     "output_type": "error",
     "traceback": [
      "\u001b[0;31m---------------------------------------------------------------------------\u001b[0m",
      "\u001b[0;31mKeyboardInterrupt\u001b[0m                         Traceback (most recent call last)",
      "\u001b[0;32m<timed eval>\u001b[0m in \u001b[0;36m<module>\u001b[0;34m()\u001b[0m\n",
      "\u001b[0;32m~/Documents/genomic-causality-prediction/SVMExperiments/utils.py\u001b[0m in \u001b[0;36mclassify_feature_rank\u001b[0;34m(DataCV_dir, Bags_dir, FeatRanking_dir, classifiers, params, dataset, feature_set, treatment, pval_pos_threshold, num_bags, num_runs, num_top_features, test_all_features)\u001b[0m\n\u001b[1;32m    202\u001b[0m                     evaluate_bags(trn_neg, trn_pos, test_data, test_labels, \n\u001b[1;32m    203\u001b[0m                                   \u001b[0mrun\u001b[0m\u001b[0;34m,\u001b[0m \u001b[0mclassifier\u001b[0m\u001b[0;34m,\u001b[0m \u001b[0mclassifier_name\u001b[0m\u001b[0;34m,\u001b[0m \u001b[0mparam\u001b[0m\u001b[0;34m,\u001b[0m\u001b[0;34m\u001b[0m\u001b[0m\n\u001b[0;32m--> 204\u001b[0;31m                                   feat_rank_row.Method, features, bags, n_samples, num_bags)    \n\u001b[0m\u001b[1;32m    205\u001b[0m             \u001b[0;32mif\u001b[0m \u001b[0mtest_all_features\u001b[0m\u001b[0;34m:\u001b[0m\u001b[0;34m\u001b[0m\u001b[0m\n\u001b[1;32m    206\u001b[0m                 \u001b[0mprint\u001b[0m\u001b[0;34m(\u001b[0m\u001b[0;34m' '\u001b[0m\u001b[0;34m*\u001b[0m\u001b[0;36m6\u001b[0m\u001b[0;34m,\u001b[0m \u001b[0;34mf'All features'\u001b[0m\u001b[0;34m)\u001b[0m\u001b[0;34m\u001b[0m\u001b[0m\n",
      "\u001b[0;32m~/Documents/genomic-causality-prediction/SVMExperiments/utils.py\u001b[0m in \u001b[0;36mevaluate_bags\u001b[0;34m(trn_neg, trn_pos, test_data, test_labels, run, classifier, classifier_name, params, feature_ranker, features, bags, n_samples, num_bags)\u001b[0m\n\u001b[1;32m    131\u001b[0m     \u001b[0mresults\u001b[0m \u001b[0;34m=\u001b[0m \u001b[0;34m[\u001b[0m\u001b[0;34m]\u001b[0m\u001b[0;34m\u001b[0m\u001b[0m\n\u001b[1;32m    132\u001b[0m     \u001b[0;32mfor\u001b[0m \u001b[0mbag_id\u001b[0m \u001b[0;32min\u001b[0m \u001b[0mrange\u001b[0m\u001b[0;34m(\u001b[0m\u001b[0mmax\u001b[0m\u001b[0;34m(\u001b[0m\u001b[0mnum_bags\u001b[0m\u001b[0;34m)\u001b[0m\u001b[0;34m)\u001b[0m\u001b[0;34m:\u001b[0m\u001b[0;34m\u001b[0m\u001b[0m\n\u001b[0;32m--> 133\u001b[0;31m         \u001b[0mresults\u001b[0m\u001b[0;34m.\u001b[0m\u001b[0mappend\u001b[0m\u001b[0;34m(\u001b[0m\u001b[0mpartial_predict\u001b[0m\u001b[0;34m(\u001b[0m\u001b[0mbag_id\u001b[0m\u001b[0;34m)\u001b[0m\u001b[0;34m)\u001b[0m\u001b[0;34m\u001b[0m\u001b[0m\n\u001b[0m\u001b[1;32m    134\u001b[0m         \u001b[0mprint\u001b[0m\u001b[0;34m(\u001b[0m\u001b[0mresults\u001b[0m\u001b[0;34m[\u001b[0m\u001b[0;34m-\u001b[0m\u001b[0;36m1\u001b[0m\u001b[0;34m]\u001b[0m\u001b[0;34m[\u001b[0m\u001b[0;36m1\u001b[0m\u001b[0;34m]\u001b[0m\u001b[0;34m)\u001b[0m\u001b[0;34m\u001b[0m\u001b[0m\n\u001b[1;32m    135\u001b[0m \u001b[0;34m\u001b[0m\u001b[0m\n",
      "\u001b[0;32m~/Documents/genomic-causality-prediction/SVMExperiments/utils.py\u001b[0m in \u001b[0;36mpredict_bag\u001b[0;34m(bag_id, trn_neg, trn_pos, test_data, test_labels, run, classifier, classifier_name, params, feature_ranker, features, bags, n_samples)\u001b[0m\n\u001b[1;32m     78\u001b[0m \u001b[0;34m\u001b[0m\u001b[0m\n\u001b[1;32m     79\u001b[0m     \u001b[0mmodel\u001b[0m \u001b[0;34m=\u001b[0m \u001b[0mclassifier\u001b[0m\u001b[0;34m(\u001b[0m\u001b[0;34m**\u001b[0m\u001b[0mparams\u001b[0m\u001b[0;34m)\u001b[0m\u001b[0;34m\u001b[0m\u001b[0m\n\u001b[0;32m---> 80\u001b[0;31m     \u001b[0mmodel\u001b[0m\u001b[0;34m.\u001b[0m\u001b[0mfit\u001b[0m\u001b[0;34m(\u001b[0m\u001b[0mtrain_data\u001b[0m\u001b[0;34m,\u001b[0m \u001b[0mtrain_labels\u001b[0m\u001b[0;34m)\u001b[0m\u001b[0;34m\u001b[0m\u001b[0m\n\u001b[0m\u001b[1;32m     81\u001b[0m     \u001b[0mtest_preds\u001b[0m \u001b[0;34m=\u001b[0m \u001b[0mmodel\u001b[0m\u001b[0;34m.\u001b[0m\u001b[0mpredict\u001b[0m\u001b[0;34m(\u001b[0m\u001b[0mtest_data\u001b[0m\u001b[0;34m)\u001b[0m\u001b[0;34m\u001b[0m\u001b[0m\n\u001b[1;32m     82\u001b[0m \u001b[0;34m\u001b[0m\u001b[0m\n",
      "\u001b[0;32m~/anaconda3/envs/chana/lib/python3.6/site-packages/sklearn/ensemble/forest.py\u001b[0m in \u001b[0;36mfit\u001b[0;34m(self, X, y, sample_weight)\u001b[0m\n\u001b[1;32m    326\u001b[0m                     \u001b[0mt\u001b[0m\u001b[0;34m,\u001b[0m \u001b[0mself\u001b[0m\u001b[0;34m,\u001b[0m \u001b[0mX\u001b[0m\u001b[0;34m,\u001b[0m \u001b[0my\u001b[0m\u001b[0;34m,\u001b[0m \u001b[0msample_weight\u001b[0m\u001b[0;34m,\u001b[0m \u001b[0mi\u001b[0m\u001b[0;34m,\u001b[0m \u001b[0mlen\u001b[0m\u001b[0;34m(\u001b[0m\u001b[0mtrees\u001b[0m\u001b[0;34m)\u001b[0m\u001b[0;34m,\u001b[0m\u001b[0;34m\u001b[0m\u001b[0m\n\u001b[1;32m    327\u001b[0m                     verbose=self.verbose, class_weight=self.class_weight)\n\u001b[0;32m--> 328\u001b[0;31m                 for i, t in enumerate(trees))\n\u001b[0m\u001b[1;32m    329\u001b[0m \u001b[0;34m\u001b[0m\u001b[0m\n\u001b[1;32m    330\u001b[0m             \u001b[0;31m# Collect newly grown trees\u001b[0m\u001b[0;34m\u001b[0m\u001b[0;34m\u001b[0m\u001b[0m\n",
      "\u001b[0;32m~/anaconda3/envs/chana/lib/python3.6/site-packages/sklearn/externals/joblib/parallel.py\u001b[0m in \u001b[0;36m__call__\u001b[0;34m(self, iterable)\u001b[0m\n\u001b[1;32m    787\u001b[0m                 \u001b[0;31m# consumption.\u001b[0m\u001b[0;34m\u001b[0m\u001b[0;34m\u001b[0m\u001b[0m\n\u001b[1;32m    788\u001b[0m                 \u001b[0mself\u001b[0m\u001b[0;34m.\u001b[0m\u001b[0m_iterating\u001b[0m \u001b[0;34m=\u001b[0m \u001b[0;32mFalse\u001b[0m\u001b[0;34m\u001b[0m\u001b[0m\n\u001b[0;32m--> 789\u001b[0;31m             \u001b[0mself\u001b[0m\u001b[0;34m.\u001b[0m\u001b[0mretrieve\u001b[0m\u001b[0;34m(\u001b[0m\u001b[0;34m)\u001b[0m\u001b[0;34m\u001b[0m\u001b[0m\n\u001b[0m\u001b[1;32m    790\u001b[0m             \u001b[0;31m# Make sure that we get a last message telling us we are done\u001b[0m\u001b[0;34m\u001b[0m\u001b[0;34m\u001b[0m\u001b[0m\n\u001b[1;32m    791\u001b[0m             \u001b[0melapsed_time\u001b[0m \u001b[0;34m=\u001b[0m \u001b[0mtime\u001b[0m\u001b[0;34m.\u001b[0m\u001b[0mtime\u001b[0m\u001b[0;34m(\u001b[0m\u001b[0;34m)\u001b[0m \u001b[0;34m-\u001b[0m \u001b[0mself\u001b[0m\u001b[0;34m.\u001b[0m\u001b[0m_start_time\u001b[0m\u001b[0;34m\u001b[0m\u001b[0m\n",
      "\u001b[0;32m~/anaconda3/envs/chana/lib/python3.6/site-packages/sklearn/externals/joblib/parallel.py\u001b[0m in \u001b[0;36mretrieve\u001b[0;34m(self)\u001b[0m\n\u001b[1;32m    697\u001b[0m             \u001b[0;32mtry\u001b[0m\u001b[0;34m:\u001b[0m\u001b[0;34m\u001b[0m\u001b[0m\n\u001b[1;32m    698\u001b[0m                 \u001b[0;32mif\u001b[0m \u001b[0mgetattr\u001b[0m\u001b[0;34m(\u001b[0m\u001b[0mself\u001b[0m\u001b[0;34m.\u001b[0m\u001b[0m_backend\u001b[0m\u001b[0;34m,\u001b[0m \u001b[0;34m'supports_timeout'\u001b[0m\u001b[0;34m,\u001b[0m \u001b[0;32mFalse\u001b[0m\u001b[0;34m)\u001b[0m\u001b[0;34m:\u001b[0m\u001b[0;34m\u001b[0m\u001b[0m\n\u001b[0;32m--> 699\u001b[0;31m                     \u001b[0mself\u001b[0m\u001b[0;34m.\u001b[0m\u001b[0m_output\u001b[0m\u001b[0;34m.\u001b[0m\u001b[0mextend\u001b[0m\u001b[0;34m(\u001b[0m\u001b[0mjob\u001b[0m\u001b[0;34m.\u001b[0m\u001b[0mget\u001b[0m\u001b[0;34m(\u001b[0m\u001b[0mtimeout\u001b[0m\u001b[0;34m=\u001b[0m\u001b[0mself\u001b[0m\u001b[0;34m.\u001b[0m\u001b[0mtimeout\u001b[0m\u001b[0;34m)\u001b[0m\u001b[0;34m)\u001b[0m\u001b[0;34m\u001b[0m\u001b[0m\n\u001b[0m\u001b[1;32m    700\u001b[0m                 \u001b[0;32melse\u001b[0m\u001b[0;34m:\u001b[0m\u001b[0;34m\u001b[0m\u001b[0m\n\u001b[1;32m    701\u001b[0m                     \u001b[0mself\u001b[0m\u001b[0;34m.\u001b[0m\u001b[0m_output\u001b[0m\u001b[0;34m.\u001b[0m\u001b[0mextend\u001b[0m\u001b[0;34m(\u001b[0m\u001b[0mjob\u001b[0m\u001b[0;34m.\u001b[0m\u001b[0mget\u001b[0m\u001b[0;34m(\u001b[0m\u001b[0;34m)\u001b[0m\u001b[0;34m)\u001b[0m\u001b[0;34m\u001b[0m\u001b[0m\n",
      "\u001b[0;32m~/anaconda3/envs/chana/lib/python3.6/multiprocessing/pool.py\u001b[0m in \u001b[0;36mget\u001b[0;34m(self, timeout)\u001b[0m\n\u001b[1;32m    636\u001b[0m \u001b[0;34m\u001b[0m\u001b[0m\n\u001b[1;32m    637\u001b[0m     \u001b[0;32mdef\u001b[0m \u001b[0mget\u001b[0m\u001b[0;34m(\u001b[0m\u001b[0mself\u001b[0m\u001b[0;34m,\u001b[0m \u001b[0mtimeout\u001b[0m\u001b[0;34m=\u001b[0m\u001b[0;32mNone\u001b[0m\u001b[0;34m)\u001b[0m\u001b[0;34m:\u001b[0m\u001b[0;34m\u001b[0m\u001b[0m\n\u001b[0;32m--> 638\u001b[0;31m         \u001b[0mself\u001b[0m\u001b[0;34m.\u001b[0m\u001b[0mwait\u001b[0m\u001b[0;34m(\u001b[0m\u001b[0mtimeout\u001b[0m\u001b[0;34m)\u001b[0m\u001b[0;34m\u001b[0m\u001b[0m\n\u001b[0m\u001b[1;32m    639\u001b[0m         \u001b[0;32mif\u001b[0m \u001b[0;32mnot\u001b[0m \u001b[0mself\u001b[0m\u001b[0;34m.\u001b[0m\u001b[0mready\u001b[0m\u001b[0;34m(\u001b[0m\u001b[0;34m)\u001b[0m\u001b[0;34m:\u001b[0m\u001b[0;34m\u001b[0m\u001b[0m\n\u001b[1;32m    640\u001b[0m             \u001b[0;32mraise\u001b[0m \u001b[0mTimeoutError\u001b[0m\u001b[0;34m\u001b[0m\u001b[0m\n",
      "\u001b[0;32m~/anaconda3/envs/chana/lib/python3.6/multiprocessing/pool.py\u001b[0m in \u001b[0;36mwait\u001b[0;34m(self, timeout)\u001b[0m\n\u001b[1;32m    633\u001b[0m \u001b[0;34m\u001b[0m\u001b[0m\n\u001b[1;32m    634\u001b[0m     \u001b[0;32mdef\u001b[0m \u001b[0mwait\u001b[0m\u001b[0;34m(\u001b[0m\u001b[0mself\u001b[0m\u001b[0;34m,\u001b[0m \u001b[0mtimeout\u001b[0m\u001b[0;34m=\u001b[0m\u001b[0;32mNone\u001b[0m\u001b[0;34m)\u001b[0m\u001b[0;34m:\u001b[0m\u001b[0;34m\u001b[0m\u001b[0m\n\u001b[0;32m--> 635\u001b[0;31m         \u001b[0mself\u001b[0m\u001b[0;34m.\u001b[0m\u001b[0m_event\u001b[0m\u001b[0;34m.\u001b[0m\u001b[0mwait\u001b[0m\u001b[0;34m(\u001b[0m\u001b[0mtimeout\u001b[0m\u001b[0;34m)\u001b[0m\u001b[0;34m\u001b[0m\u001b[0m\n\u001b[0m\u001b[1;32m    636\u001b[0m \u001b[0;34m\u001b[0m\u001b[0m\n\u001b[1;32m    637\u001b[0m     \u001b[0;32mdef\u001b[0m \u001b[0mget\u001b[0m\u001b[0;34m(\u001b[0m\u001b[0mself\u001b[0m\u001b[0;34m,\u001b[0m \u001b[0mtimeout\u001b[0m\u001b[0;34m=\u001b[0m\u001b[0;32mNone\u001b[0m\u001b[0;34m)\u001b[0m\u001b[0;34m:\u001b[0m\u001b[0;34m\u001b[0m\u001b[0m\n",
      "\u001b[0;32m~/anaconda3/envs/chana/lib/python3.6/threading.py\u001b[0m in \u001b[0;36mwait\u001b[0;34m(self, timeout)\u001b[0m\n\u001b[1;32m    549\u001b[0m             \u001b[0msignaled\u001b[0m \u001b[0;34m=\u001b[0m \u001b[0mself\u001b[0m\u001b[0;34m.\u001b[0m\u001b[0m_flag\u001b[0m\u001b[0;34m\u001b[0m\u001b[0m\n\u001b[1;32m    550\u001b[0m             \u001b[0;32mif\u001b[0m \u001b[0;32mnot\u001b[0m \u001b[0msignaled\u001b[0m\u001b[0;34m:\u001b[0m\u001b[0;34m\u001b[0m\u001b[0m\n\u001b[0;32m--> 551\u001b[0;31m                 \u001b[0msignaled\u001b[0m \u001b[0;34m=\u001b[0m \u001b[0mself\u001b[0m\u001b[0;34m.\u001b[0m\u001b[0m_cond\u001b[0m\u001b[0;34m.\u001b[0m\u001b[0mwait\u001b[0m\u001b[0;34m(\u001b[0m\u001b[0mtimeout\u001b[0m\u001b[0;34m)\u001b[0m\u001b[0;34m\u001b[0m\u001b[0m\n\u001b[0m\u001b[1;32m    552\u001b[0m             \u001b[0;32mreturn\u001b[0m \u001b[0msignaled\u001b[0m\u001b[0;34m\u001b[0m\u001b[0m\n\u001b[1;32m    553\u001b[0m \u001b[0;34m\u001b[0m\u001b[0m\n",
      "\u001b[0;32m~/anaconda3/envs/chana/lib/python3.6/threading.py\u001b[0m in \u001b[0;36mwait\u001b[0;34m(self, timeout)\u001b[0m\n\u001b[1;32m    293\u001b[0m         \u001b[0;32mtry\u001b[0m\u001b[0;34m:\u001b[0m    \u001b[0;31m# restore state no matter what (e.g., KeyboardInterrupt)\u001b[0m\u001b[0;34m\u001b[0m\u001b[0m\n\u001b[1;32m    294\u001b[0m             \u001b[0;32mif\u001b[0m \u001b[0mtimeout\u001b[0m \u001b[0;32mis\u001b[0m \u001b[0;32mNone\u001b[0m\u001b[0;34m:\u001b[0m\u001b[0;34m\u001b[0m\u001b[0m\n\u001b[0;32m--> 295\u001b[0;31m                 \u001b[0mwaiter\u001b[0m\u001b[0;34m.\u001b[0m\u001b[0macquire\u001b[0m\u001b[0;34m(\u001b[0m\u001b[0;34m)\u001b[0m\u001b[0;34m\u001b[0m\u001b[0m\n\u001b[0m\u001b[1;32m    296\u001b[0m                 \u001b[0mgotit\u001b[0m \u001b[0;34m=\u001b[0m \u001b[0;32mTrue\u001b[0m\u001b[0;34m\u001b[0m\u001b[0m\n\u001b[1;32m    297\u001b[0m             \u001b[0;32melse\u001b[0m\u001b[0;34m:\u001b[0m\u001b[0;34m\u001b[0m\u001b[0m\n",
      "\u001b[0;31mKeyboardInterrupt\u001b[0m: "
     ]
    }
   ],
   "source": [
    "%%time\n",
    "classify_feature_rank(DataCV_dir, Bags_dir, FeatRanking_dir,\n",
    "                      [RandomForestClassifier], [{'n_estimators': 200, 'n_jobs': -1}],\n",
    "                      'Erk', 'Di', 'BCR', 0.01, num_bags=[10,20,30],\n",
    "                      num_runs=[4], num_top_features=[12], test_all_features=True)"
   ]
  },
  {
   "cell_type": "code",
   "execution_count": 26,
   "metadata": {},
   "outputs": [
    {
     "name": "stdout",
     "output_type": "stream",
     "text": [
      "Feature set: Di | Dataset: Erk | Treatment: BCR | Pval: 0.01\n",
      "Num bags: [10, 20, 30] | Num runs: [4] | Num features: [12] | All features: True\n",
      "Run: 4\n",
      "    Classifier: LGBMClassifier\n",
      "       Feature ranking method: Entropy\n",
      "          Features: [23, 22, 20, 21, 41, 30, 8, 28, 29, 1, 6, 7]\n",
      "Run: 4 | Entropy | LGBMClassifier | NumFeatures: 12 | Bag: 0 | TPR: 0.7024 | TNR: 0.6014 | GMean: 0.6499 | TP: 59 | TN: 42204 | FP: 27975 | FN: 25\n",
      "Run: 4 | Entropy | LGBMClassifier | NumFeatures: 12 | Bag: 1 | TPR: 0.7143 | TNR: 0.5739 | GMean: 0.6402 | TP: 60 | TN: 40273 | FP: 29906 | FN: 24\n",
      "Run: 4 | Entropy | LGBMClassifier | NumFeatures: 12 | Bag: 2 | TPR: 0.7381 | TNR: 0.5951 | GMean: 0.6627 | TP: 62 | TN: 41762 | FP: 28417 | FN: 22\n",
      "Run: 4 | Entropy | LGBMClassifier | NumFeatures: 12 | Bag: 3 | TPR: 0.6548 | TNR: 0.6805 | GMean: 0.6675 | TP: 55 | TN: 47758 | FP: 22421 | FN: 29\n",
      "Run: 4 | Entropy | LGBMClassifier | NumFeatures: 12 | Bag: 4 | TPR: 0.6667 | TNR: 0.6013 | GMean: 0.6331 | TP: 56 | TN: 42198 | FP: 27981 | FN: 28\n",
      "Run: 4 | Entropy | LGBMClassifier | NumFeatures: 12 | Bag: 5 | TPR: 0.6310 | TNR: 0.6603 | GMean: 0.6455 | TP: 53 | TN: 46339 | FP: 23840 | FN: 31\n",
      "Run: 4 | Entropy | LGBMClassifier | NumFeatures: 12 | Bag: 6 | TPR: 0.5595 | TNR: 0.6426 | GMean: 0.5996 | TP: 47 | TN: 45094 | FP: 25085 | FN: 37\n",
      "Run: 4 | Entropy | LGBMClassifier | NumFeatures: 12 | Bag: 7 | TPR: 0.7500 | TNR: 0.6431 | GMean: 0.6945 | TP: 63 | TN: 45132 | FP: 25047 | FN: 21\n",
      "Run: 4 | Entropy | LGBMClassifier | NumFeatures: 12 | Bag: 8 | TPR: 0.7143 | TNR: 0.6231 | GMean: 0.6671 | TP: 60 | TN: 43727 | FP: 26452 | FN: 24\n",
      "Run: 4 | Entropy | LGBMClassifier | NumFeatures: 12 | Bag: 9 | TPR: 0.6786 | TNR: 0.6401 | GMean: 0.6591 | TP: 57 | TN: 44924 | FP: 25255 | FN: 27\n",
      "Run: 4 | Entropy | LGBMClassifier | NumFeatures: 12 | Bag: 10 | TPR: 0.7500 | TNR: 0.6215 | GMean: 0.6827 | TP: 63 | TN: 43614 | FP: 26565 | FN: 21\n",
      "Run: 4 | Entropy | LGBMClassifier | NumFeatures: 12 | Bag: 11 | TPR: 0.7262 | TNR: 0.6514 | GMean: 0.6878 | TP: 61 | TN: 45718 | FP: 24461 | FN: 23\n",
      "Run: 4 | Entropy | LGBMClassifier | NumFeatures: 12 | Bag: 12 | TPR: 0.7500 | TNR: 0.5704 | GMean: 0.6541 | TP: 63 | TN: 40029 | FP: 30150 | FN: 21\n",
      "Run: 4 | Entropy | LGBMClassifier | NumFeatures: 12 | Bag: 13 | TPR: 0.6786 | TNR: 0.6228 | GMean: 0.6501 | TP: 57 | TN: 43706 | FP: 26473 | FN: 27\n",
      "Run: 4 | Entropy | LGBMClassifier | NumFeatures: 12 | Bag: 14 | TPR: 0.6905 | TNR: 0.6344 | GMean: 0.6618 | TP: 58 | TN: 44522 | FP: 25657 | FN: 26\n",
      "Run: 4 | Entropy | LGBMClassifier | NumFeatures: 12 | Bag: 15 | TPR: 0.6786 | TNR: 0.6216 | GMean: 0.6495 | TP: 57 | TN: 43626 | FP: 26553 | FN: 27\n",
      "Run: 4 | Entropy | LGBMClassifier | NumFeatures: 12 | Bag: 16 | TPR: 0.7381 | TNR: 0.6329 | GMean: 0.6835 | TP: 62 | TN: 44419 | FP: 25760 | FN: 22\n",
      "Run: 4 | Entropy | LGBMClassifier | NumFeatures: 12 | Bag: 17 | TPR: 0.6905 | TNR: 0.6319 | GMean: 0.6605 | TP: 58 | TN: 44346 | FP: 25833 | FN: 26\n",
      "Run: 4 | Entropy | LGBMClassifier | NumFeatures: 12 | Bag: 18 | TPR: 0.7500 | TNR: 0.6088 | GMean: 0.6757 | TP: 63 | TN: 42726 | FP: 27453 | FN: 21\n",
      "Run: 4 | Entropy | LGBMClassifier | NumFeatures: 12 | Bag: 19 | TPR: 0.6905 | TNR: 0.6331 | GMean: 0.6612 | TP: 58 | TN: 44430 | FP: 25749 | FN: 26\n",
      "Run: 4 | Entropy | LGBMClassifier | NumFeatures: 12 | Bag: 20 | TPR: 0.6190 | TNR: 0.6441 | GMean: 0.6315 | TP: 52 | TN: 45204 | FP: 24975 | FN: 32\n",
      "Run: 4 | Entropy | LGBMClassifier | NumFeatures: 12 | Bag: 21 | TPR: 0.6667 | TNR: 0.6297 | GMean: 0.6479 | TP: 56 | TN: 44191 | FP: 25988 | FN: 28\n",
      "Run: 4 | Entropy | LGBMClassifier | NumFeatures: 12 | Bag: 22 | TPR: 0.6548 | TNR: 0.6036 | GMean: 0.6287 | TP: 55 | TN: 42359 | FP: 27820 | FN: 29\n",
      "Run: 4 | Entropy | LGBMClassifier | NumFeatures: 12 | Bag: 23 | TPR: 0.7500 | TNR: 0.6471 | GMean: 0.6967 | TP: 63 | TN: 45416 | FP: 24763 | FN: 21\n"
     ]
    },
    {
     "ename": "KeyboardInterrupt",
     "evalue": "",
     "output_type": "error",
     "traceback": [
      "\u001b[0;31m---------------------------------------------------------------------------\u001b[0m",
      "\u001b[0;31mKeyboardInterrupt\u001b[0m                         Traceback (most recent call last)",
      "\u001b[0;32m<timed eval>\u001b[0m in \u001b[0;36m<module>\u001b[0;34m()\u001b[0m\n",
      "\u001b[0;32m~/Documents/genomic-causality-prediction/SVMExperiments/utils.py\u001b[0m in \u001b[0;36mclassify_feature_rank\u001b[0;34m(DataCV_dir, Bags_dir, FeatRanking_dir, classifiers, params, dataset, feature_set, treatment, pval_pos_threshold, num_bags, num_runs, num_top_features, test_all_features)\u001b[0m\n\u001b[1;32m    202\u001b[0m                     evaluate_bags(trn_neg, trn_pos, test_data, test_labels, \n\u001b[1;32m    203\u001b[0m                                   \u001b[0mrun\u001b[0m\u001b[0;34m,\u001b[0m \u001b[0mclassifier\u001b[0m\u001b[0;34m,\u001b[0m \u001b[0mclassifier_name\u001b[0m\u001b[0;34m,\u001b[0m \u001b[0mparam\u001b[0m\u001b[0;34m,\u001b[0m\u001b[0;34m\u001b[0m\u001b[0m\n\u001b[0;32m--> 204\u001b[0;31m                                   feat_rank_row.Method, features, bags, n_samples, num_bags)    \n\u001b[0m\u001b[1;32m    205\u001b[0m             \u001b[0;32mif\u001b[0m \u001b[0mtest_all_features\u001b[0m\u001b[0;34m:\u001b[0m\u001b[0;34m\u001b[0m\u001b[0m\n\u001b[1;32m    206\u001b[0m                 \u001b[0mprint\u001b[0m\u001b[0;34m(\u001b[0m\u001b[0;34m' '\u001b[0m\u001b[0;34m*\u001b[0m\u001b[0;36m6\u001b[0m\u001b[0;34m,\u001b[0m \u001b[0;34mf'All features'\u001b[0m\u001b[0;34m)\u001b[0m\u001b[0;34m\u001b[0m\u001b[0m\n",
      "\u001b[0;32m~/Documents/genomic-causality-prediction/SVMExperiments/utils.py\u001b[0m in \u001b[0;36mevaluate_bags\u001b[0;34m(trn_neg, trn_pos, test_data, test_labels, run, classifier, classifier_name, params, feature_ranker, features, bags, n_samples, num_bags)\u001b[0m\n\u001b[1;32m    131\u001b[0m     \u001b[0mresults\u001b[0m \u001b[0;34m=\u001b[0m \u001b[0;34m[\u001b[0m\u001b[0;34m]\u001b[0m\u001b[0;34m\u001b[0m\u001b[0m\n\u001b[1;32m    132\u001b[0m     \u001b[0;32mfor\u001b[0m \u001b[0mbag_id\u001b[0m \u001b[0;32min\u001b[0m \u001b[0mrange\u001b[0m\u001b[0;34m(\u001b[0m\u001b[0mmax\u001b[0m\u001b[0;34m(\u001b[0m\u001b[0mnum_bags\u001b[0m\u001b[0;34m)\u001b[0m\u001b[0;34m)\u001b[0m\u001b[0;34m:\u001b[0m\u001b[0;34m\u001b[0m\u001b[0m\n\u001b[0;32m--> 133\u001b[0;31m         \u001b[0mresults\u001b[0m\u001b[0;34m.\u001b[0m\u001b[0mappend\u001b[0m\u001b[0;34m(\u001b[0m\u001b[0mpartial_predict\u001b[0m\u001b[0;34m(\u001b[0m\u001b[0mbag_id\u001b[0m\u001b[0;34m)\u001b[0m\u001b[0;34m)\u001b[0m\u001b[0;34m\u001b[0m\u001b[0m\n\u001b[0m\u001b[1;32m    134\u001b[0m         \u001b[0mprint\u001b[0m\u001b[0;34m(\u001b[0m\u001b[0mresults\u001b[0m\u001b[0;34m[\u001b[0m\u001b[0;34m-\u001b[0m\u001b[0;36m1\u001b[0m\u001b[0;34m]\u001b[0m\u001b[0;34m[\u001b[0m\u001b[0;36m1\u001b[0m\u001b[0;34m]\u001b[0m\u001b[0;34m)\u001b[0m\u001b[0;34m\u001b[0m\u001b[0m\n\u001b[1;32m    135\u001b[0m \u001b[0;34m\u001b[0m\u001b[0m\n",
      "\u001b[0;32m~/Documents/genomic-causality-prediction/SVMExperiments/utils.py\u001b[0m in \u001b[0;36mpredict_bag\u001b[0;34m(bag_id, trn_neg, trn_pos, test_data, test_labels, run, classifier, classifier_name, params, feature_ranker, features, bags, n_samples)\u001b[0m\n\u001b[1;32m     79\u001b[0m     \u001b[0mmodel\u001b[0m \u001b[0;34m=\u001b[0m \u001b[0mclassifier\u001b[0m\u001b[0;34m(\u001b[0m\u001b[0;34m**\u001b[0m\u001b[0mparams\u001b[0m\u001b[0;34m)\u001b[0m\u001b[0;34m\u001b[0m\u001b[0m\n\u001b[1;32m     80\u001b[0m     \u001b[0mmodel\u001b[0m\u001b[0;34m.\u001b[0m\u001b[0mfit\u001b[0m\u001b[0;34m(\u001b[0m\u001b[0mtrain_data\u001b[0m\u001b[0;34m,\u001b[0m \u001b[0mtrain_labels\u001b[0m\u001b[0;34m)\u001b[0m\u001b[0;34m\u001b[0m\u001b[0m\n\u001b[0;32m---> 81\u001b[0;31m     \u001b[0mtest_preds\u001b[0m \u001b[0;34m=\u001b[0m \u001b[0mmodel\u001b[0m\u001b[0;34m.\u001b[0m\u001b[0mpredict\u001b[0m\u001b[0;34m(\u001b[0m\u001b[0mtest_data\u001b[0m\u001b[0;34m)\u001b[0m\u001b[0;34m\u001b[0m\u001b[0m\n\u001b[0m\u001b[1;32m     82\u001b[0m \u001b[0;34m\u001b[0m\u001b[0m\n\u001b[1;32m     83\u001b[0m     tpr, tnr, gmean, log = log_metrics(test_labels, test_preds, \n",
      "\u001b[0;32m~/anaconda3/envs/chana/lib/python3.6/site-packages/lightgbm/sklearn.py\u001b[0m in \u001b[0;36mpredict\u001b[0;34m(self, X, raw_score, num_iteration)\u001b[0m\n\u001b[1;32m    686\u001b[0m \u001b[0;34m\u001b[0m\u001b[0m\n\u001b[1;32m    687\u001b[0m     \u001b[0;32mdef\u001b[0m \u001b[0mpredict\u001b[0m\u001b[0;34m(\u001b[0m\u001b[0mself\u001b[0m\u001b[0;34m,\u001b[0m \u001b[0mX\u001b[0m\u001b[0;34m,\u001b[0m \u001b[0mraw_score\u001b[0m\u001b[0;34m=\u001b[0m\u001b[0;32mFalse\u001b[0m\u001b[0;34m,\u001b[0m \u001b[0mnum_iteration\u001b[0m\u001b[0;34m=\u001b[0m\u001b[0;36m0\u001b[0m\u001b[0;34m)\u001b[0m\u001b[0;34m:\u001b[0m\u001b[0;34m\u001b[0m\u001b[0m\n\u001b[0;32m--> 688\u001b[0;31m         \u001b[0mclass_probs\u001b[0m \u001b[0;34m=\u001b[0m \u001b[0mself\u001b[0m\u001b[0;34m.\u001b[0m\u001b[0mpredict_proba\u001b[0m\u001b[0;34m(\u001b[0m\u001b[0mX\u001b[0m\u001b[0;34m,\u001b[0m \u001b[0mraw_score\u001b[0m\u001b[0;34m,\u001b[0m \u001b[0mnum_iteration\u001b[0m\u001b[0;34m)\u001b[0m\u001b[0;34m\u001b[0m\u001b[0m\n\u001b[0m\u001b[1;32m    689\u001b[0m         \u001b[0mclass_index\u001b[0m \u001b[0;34m=\u001b[0m \u001b[0mnp\u001b[0m\u001b[0;34m.\u001b[0m\u001b[0margmax\u001b[0m\u001b[0;34m(\u001b[0m\u001b[0mclass_probs\u001b[0m\u001b[0;34m,\u001b[0m \u001b[0maxis\u001b[0m\u001b[0;34m=\u001b[0m\u001b[0;36m1\u001b[0m\u001b[0;34m)\u001b[0m\u001b[0;34m\u001b[0m\u001b[0m\n\u001b[1;32m    690\u001b[0m         \u001b[0;32mreturn\u001b[0m \u001b[0mself\u001b[0m\u001b[0;34m.\u001b[0m\u001b[0m_le\u001b[0m\u001b[0;34m.\u001b[0m\u001b[0minverse_transform\u001b[0m\u001b[0;34m(\u001b[0m\u001b[0mclass_index\u001b[0m\u001b[0;34m)\u001b[0m\u001b[0;34m\u001b[0m\u001b[0m\n",
      "\u001b[0;32m~/anaconda3/envs/chana/lib/python3.6/site-packages/lightgbm/sklearn.py\u001b[0m in \u001b[0;36mpredict_proba\u001b[0;34m(self, X, raw_score, num_iteration)\u001b[0m\n\u001b[1;32m    717\u001b[0m                              \u001b[0;34m\"input n_features is %s \"\u001b[0m\u001b[0;34m\u001b[0m\u001b[0m\n\u001b[1;32m    718\u001b[0m                              % (self._n_features, n_features))\n\u001b[0;32m--> 719\u001b[0;31m         \u001b[0mclass_probs\u001b[0m \u001b[0;34m=\u001b[0m \u001b[0mself\u001b[0m\u001b[0;34m.\u001b[0m\u001b[0mbooster_\u001b[0m\u001b[0;34m.\u001b[0m\u001b[0mpredict\u001b[0m\u001b[0;34m(\u001b[0m\u001b[0mX\u001b[0m\u001b[0;34m,\u001b[0m \u001b[0mraw_score\u001b[0m\u001b[0;34m=\u001b[0m\u001b[0mraw_score\u001b[0m\u001b[0;34m,\u001b[0m \u001b[0mnum_iteration\u001b[0m\u001b[0;34m=\u001b[0m\u001b[0mnum_iteration\u001b[0m\u001b[0;34m)\u001b[0m\u001b[0;34m\u001b[0m\u001b[0m\n\u001b[0m\u001b[1;32m    720\u001b[0m         \u001b[0;32mif\u001b[0m \u001b[0mself\u001b[0m\u001b[0;34m.\u001b[0m\u001b[0m_n_classes\u001b[0m \u001b[0;34m>\u001b[0m \u001b[0;36m2\u001b[0m\u001b[0;34m:\u001b[0m\u001b[0;34m\u001b[0m\u001b[0m\n\u001b[1;32m    721\u001b[0m             \u001b[0;32mreturn\u001b[0m \u001b[0mclass_probs\u001b[0m\u001b[0;34m\u001b[0m\u001b[0m\n",
      "\u001b[0;32m~/anaconda3/envs/chana/lib/python3.6/site-packages/lightgbm/basic.py\u001b[0m in \u001b[0;36mpredict\u001b[0;34m(self, data, num_iteration, raw_score, pred_leaf, pred_contrib, data_has_header, is_reshape, pred_parameter)\u001b[0m\n\u001b[1;32m   1782\u001b[0m         \u001b[0;32mif\u001b[0m \u001b[0mnum_iteration\u001b[0m \u001b[0;34m<=\u001b[0m \u001b[0;36m0\u001b[0m\u001b[0;34m:\u001b[0m\u001b[0;34m\u001b[0m\u001b[0m\n\u001b[1;32m   1783\u001b[0m             \u001b[0mnum_iteration\u001b[0m \u001b[0;34m=\u001b[0m \u001b[0mself\u001b[0m\u001b[0;34m.\u001b[0m\u001b[0mbest_iteration\u001b[0m\u001b[0;34m\u001b[0m\u001b[0m\n\u001b[0;32m-> 1784\u001b[0;31m         \u001b[0;32mreturn\u001b[0m \u001b[0mpredictor\u001b[0m\u001b[0;34m.\u001b[0m\u001b[0mpredict\u001b[0m\u001b[0;34m(\u001b[0m\u001b[0mdata\u001b[0m\u001b[0;34m,\u001b[0m \u001b[0mnum_iteration\u001b[0m\u001b[0;34m,\u001b[0m \u001b[0mraw_score\u001b[0m\u001b[0;34m,\u001b[0m \u001b[0mpred_leaf\u001b[0m\u001b[0;34m,\u001b[0m \u001b[0mpred_contrib\u001b[0m\u001b[0;34m,\u001b[0m \u001b[0mdata_has_header\u001b[0m\u001b[0;34m,\u001b[0m \u001b[0mis_reshape\u001b[0m\u001b[0;34m)\u001b[0m\u001b[0;34m\u001b[0m\u001b[0m\n\u001b[0m\u001b[1;32m   1785\u001b[0m \u001b[0;34m\u001b[0m\u001b[0m\n\u001b[1;32m   1786\u001b[0m     \u001b[0;32mdef\u001b[0m \u001b[0mget_leaf_output\u001b[0m\u001b[0;34m(\u001b[0m\u001b[0mself\u001b[0m\u001b[0;34m,\u001b[0m \u001b[0mtree_id\u001b[0m\u001b[0;34m,\u001b[0m \u001b[0mleaf_id\u001b[0m\u001b[0;34m)\u001b[0m\u001b[0;34m:\u001b[0m\u001b[0;34m\u001b[0m\u001b[0m\n",
      "\u001b[0;32m~/anaconda3/envs/chana/lib/python3.6/site-packages/lightgbm/basic.py\u001b[0m in \u001b[0;36mpredict\u001b[0;34m(self, data, num_iteration, raw_score, pred_leaf, pred_contrib, data_has_header, is_reshape)\u001b[0m\n\u001b[1;32m    435\u001b[0m         \u001b[0;32melif\u001b[0m \u001b[0misinstance\u001b[0m\u001b[0;34m(\u001b[0m\u001b[0mdata\u001b[0m\u001b[0;34m,\u001b[0m \u001b[0mnp\u001b[0m\u001b[0;34m.\u001b[0m\u001b[0mndarray\u001b[0m\u001b[0;34m)\u001b[0m\u001b[0;34m:\u001b[0m\u001b[0;34m\u001b[0m\u001b[0m\n\u001b[1;32m    436\u001b[0m             preds, nrow = self.__pred_for_np2d(data, num_iteration,\n\u001b[0;32m--> 437\u001b[0;31m                                                predict_type)\n\u001b[0m\u001b[1;32m    438\u001b[0m         \u001b[0;32melif\u001b[0m \u001b[0misinstance\u001b[0m\u001b[0;34m(\u001b[0m\u001b[0mdata\u001b[0m\u001b[0;34m,\u001b[0m \u001b[0mlist\u001b[0m\u001b[0;34m)\u001b[0m\u001b[0;34m:\u001b[0m\u001b[0;34m\u001b[0m\u001b[0m\n\u001b[1;32m    439\u001b[0m             \u001b[0;32mtry\u001b[0m\u001b[0;34m:\u001b[0m\u001b[0;34m\u001b[0m\u001b[0m\n",
      "\u001b[0;32m~/anaconda3/envs/chana/lib/python3.6/site-packages/lightgbm/basic.py\u001b[0m in \u001b[0;36m__pred_for_np2d\u001b[0;34m(self, mat, num_iteration, predict_type)\u001b[0m\n\u001b[1;32m    502\u001b[0m             \u001b[0mc_str\u001b[0m\u001b[0;34m(\u001b[0m\u001b[0mself\u001b[0m\u001b[0;34m.\u001b[0m\u001b[0mpred_parameter\u001b[0m\u001b[0;34m)\u001b[0m\u001b[0;34m,\u001b[0m\u001b[0;34m\u001b[0m\u001b[0m\n\u001b[1;32m    503\u001b[0m             \u001b[0mctypes\u001b[0m\u001b[0;34m.\u001b[0m\u001b[0mbyref\u001b[0m\u001b[0;34m(\u001b[0m\u001b[0mout_num_preds\u001b[0m\u001b[0;34m)\u001b[0m\u001b[0;34m,\u001b[0m\u001b[0;34m\u001b[0m\u001b[0m\n\u001b[0;32m--> 504\u001b[0;31m             preds.ctypes.data_as(ctypes.POINTER(ctypes.c_double))))\n\u001b[0m\u001b[1;32m    505\u001b[0m         \u001b[0;32mif\u001b[0m \u001b[0mn_preds\u001b[0m \u001b[0;34m!=\u001b[0m \u001b[0mout_num_preds\u001b[0m\u001b[0;34m.\u001b[0m\u001b[0mvalue\u001b[0m\u001b[0;34m:\u001b[0m\u001b[0;34m\u001b[0m\u001b[0m\n\u001b[1;32m    506\u001b[0m             \u001b[0;32mraise\u001b[0m \u001b[0mValueError\u001b[0m\u001b[0;34m(\u001b[0m\u001b[0;34m\"Wrong length for predict results\"\u001b[0m\u001b[0;34m)\u001b[0m\u001b[0;34m\u001b[0m\u001b[0m\n",
      "\u001b[0;31mKeyboardInterrupt\u001b[0m: "
     ]
    }
   ],
   "source": [
    "%%time\n",
    "classify_feature_rank(DataCV_dir, Bags_dir, FeatRanking_dir,\n",
    "                      [LGBMClassifier], [{}],\n",
    "                      'Erk', 'Di', 'BCR', 0.01, num_bags=[10,20,30],\n",
    "                      num_runs=[4], num_top_features=[12], test_all_features=True)"
   ]
  },
  {
   "cell_type": "code",
   "execution_count": null,
   "metadata": {},
   "outputs": [],
   "source": []
  }
 ],
 "metadata": {
  "kernelspec": {
   "display_name": "Python 3",
   "language": "python",
   "name": "python3"
  },
  "language_info": {
   "codemirror_mode": {
    "name": "ipython",
    "version": 3
   },
   "file_extension": ".py",
   "mimetype": "text/x-python",
   "name": "python",
   "nbconvert_exporter": "python",
   "pygments_lexer": "ipython3",
   "version": "3.6.4"
  }
 },
 "nbformat": 4,
 "nbformat_minor": 2
}
