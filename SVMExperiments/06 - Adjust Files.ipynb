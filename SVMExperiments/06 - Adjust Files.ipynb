{
 "cells": [
  {
   "cell_type": "code",
   "execution_count": 1,
   "metadata": {},
   "outputs": [],
   "source": [
    "%load_ext autoreload\n",
    "%autoreload 2\n",
    "%matplotlib inline\n",
    "%config InlineBackend.figure_format = 'retina'\n",
    "import numpy as np\n",
    "import pandas as pd\n",
    "import matplotlib.pyplot as plt\n",
    "import seaborn as sns\n",
    "sns.set()\n",
    "pd.set_option('display.max_columns', 400)"
   ]
  },
  {
   "cell_type": "code",
   "execution_count": 2,
   "metadata": {},
   "outputs": [],
   "source": [
    "import os\n",
    "from pathlib import Path\n",
    "os.chdir('..')\n",
    "DATA = Path('_data/genomics-data')\n",
    "DataCV_dir      = DATA/'DataCV'\n",
    "Bags_dir        = DATA/'Bags'\n",
    "FeatRanking_dir = DATA/'FeatRanking'\n",
    "Log_dir         = DATA/'LogsClassifFeatureRank'"
   ]
  },
  {
   "cell_type": "code",
   "execution_count": 4,
   "metadata": {},
   "outputs": [],
   "source": [
    "from lightgbm import LGBMClassifier"
   ]
  },
  {
   "cell_type": "code",
   "execution_count": null,
   "metadata": {},
   "outputs": [],
   "source": [
    "%%time\n",
    "from SVMExperiments.utils import classify_feature_rank\n",
    "classify_feature_rank(DataCV_dir, Bags_dir, FeatRanking_dir,\n",
    "                      [LGBMClassifier], [{}],\n",
    "                      'Erk', 'Di', 'BCR', 0.01, num_bags=[10,20,30],\n",
    "                      num_runs=[1], num_top_features=[2,4,6,8,10,12], test_all_features=True)"
   ]
  },
  {
   "cell_type": "code",
   "execution_count": 8,
   "metadata": {},
   "outputs": [],
   "source": [
    "dataset = 'Erk'\n",
    "feature_set = 'Di'\n",
    "treatment = 'BCR'\n",
    "pval_pos_threshold = 0.01"
   ]
  },
  {
   "cell_type": "code",
   "execution_count": 7,
   "metadata": {},
   "outputs": [],
   "source": [
    "file_name = f'{dataset}-{feature_set}-{treatment}.txt'"
   ]
  },
  {
   "cell_type": "code",
   "execution_count": 10,
   "metadata": {},
   "outputs": [],
   "source": [
    "from SVMExperiments.utils import load_mat"
   ]
  },
  {
   "cell_type": "code",
   "execution_count": null,
   "metadata": {},
   "outputs": [],
   "source": [
    "train = load_mat(DataCV_dir/f'{feature_set}/{dataset}_{treatment}({pval_pos_threshold}).trn.mat')"
   ]
  },
  {
   "cell_type": "code",
   "execution_count": 12,
   "metadata": {},
   "outputs": [
    {
     "data": {
      "text/plain": [
       "(315636, 51)"
      ]
     },
     "execution_count": 12,
     "metadata": {},
     "output_type": "execute_result"
    }
   ],
   "source": [
    "train.shape"
   ]
  },
  {
   "cell_type": "code",
   "execution_count": 88,
   "metadata": {},
   "outputs": [
    {
     "name": "stdout",
     "output_type": "stream",
     "text": [
      "total 753M\n",
      "drwxrwxrwx 2 raduviri raduviri 4.0K May 16 16:29 .\n",
      "drwxrwxrwx 6 raduviri raduviri 4.0K May 16 16:29 ..\n",
      "-rwxrwxrwx 1 raduviri raduviri  47M May 16 16:29 CTNNB1_All(0.01).trn.mat\n",
      "-rwxrwxrwx 1 raduviri raduviri 5.6M May 16 16:29 CTNNB1_All(0.01).tst.mat\n",
      "-rwxrwxrwx 1 raduviri raduviri  25M May 16 16:29 CTNNB1_BCR(0.01).trn.mat\n",
      "-rwxrwxrwx 1 raduviri raduviri 3.0M May 16 16:29 CTNNB1_BCR(0.01).tst.mat\n",
      "-rwxrwxrwx 1 raduviri raduviri  25M May 16 16:29 CTNNB1_CD40(0.01).trn.mat\n",
      "-rwxrwxrwx 1 raduviri raduviri 3.0M May 16 16:29 CTNNB1_CD40(0.01).tst.mat\n",
      "-rwxrwxrwx 1 raduviri raduviri  43M May 16 16:29 Erk_All(0.01).trn.mat\n",
      "-rwxrwxrwx 1 raduviri raduviri 9.5M May 16 16:29 Erk_All(0.01).tst.mat\n",
      "-rwxrwxrwx 1 raduviri raduviri  23M May 16 16:29 Erk_BCR(0.01).trn.mat\n",
      "-rwxrwxrwx 1 raduviri raduviri 5.1M May 16 16:29 Erk_BCR(0.01).tst.mat\n",
      "-rwxrwxrwx 1 raduviri raduviri  23M May 16 16:29 Erk_CD40(0.01).trn.mat\n",
      "-rwxrwxrwx 1 raduviri raduviri 5.1M May 16 16:29 Erk_CD40(0.01).tst.mat\n",
      "-rwxrwxrwx 1 raduviri raduviri  46M May 16 16:29 IRF4_All(0.01).trn.mat\n",
      "-rwxrwxrwx 1 raduviri raduviri 6.5M May 16 16:29 IRF4_All(0.01).tst.mat\n",
      "-rwxrwxrwx 1 raduviri raduviri  25M May 16 16:29 IRF4_BCR(0.01).trn.mat\n",
      "-rwxrwxrwx 1 raduviri raduviri 3.5M May 16 16:29 IRF4_BCR(0.01).tst.mat\n",
      "-rwxrwxrwx 1 raduviri raduviri  25M May 16 16:29 IRF4_CD40(0.01).trn.mat\n",
      "-rwxrwxrwx 1 raduviri raduviri 3.5M May 16 16:29 IRF4_CD40(0.01).tst.mat\n",
      "-rwxrwxrwx 1 raduviri raduviri  45M May 16 16:29 Ikk2_All(0.01).trn.mat\n",
      "-rwxrwxrwx 1 raduviri raduviri 7.4M May 16 16:29 Ikk2_All(0.01).tst.mat\n",
      "-rwxrwxrwx 1 raduviri raduviri  24M May 16 16:29 Ikk2_BCR(0.01).trn.mat\n",
      "-rwxrwxrwx 1 raduviri raduviri 3.9M May 16 16:29 Ikk2_BCR(0.01).tst.mat\n",
      "-rwxrwxrwx 1 raduviri raduviri  24M May 16 16:29 Ikk2_CD40(0.01).trn.mat\n",
      "-rwxrwxrwx 1 raduviri raduviri 3.9M May 16 16:29 Ikk2_CD40(0.01).tst.mat\n",
      "-rwxrwxrwx 1 raduviri raduviri  38M May 16 16:29 Jnk_All(0.01).trn.mat\n",
      "-rwxrwxrwx 1 raduviri raduviri  15M May 16 16:29 Jnk_All(0.01).tst.mat\n",
      "-rwxrwxrwx 1 raduviri raduviri  21M May 16 16:29 Jnk_BCR(0.01).trn.mat\n",
      "-rwxrwxrwx 1 raduviri raduviri 7.7M May 16 16:29 Jnk_BCR(0.01).tst.mat\n",
      "-rwxrwxrwx 1 raduviri raduviri  21M May 16 16:29 Jnk_CD40(0.01).trn.mat\n",
      "-rwxrwxrwx 1 raduviri raduviri 7.7M May 16 16:29 Jnk_CD40(0.01).tst.mat\n",
      "-rwxrwxrwx 1 raduviri raduviri  48M May 16 16:29 LEF1_All(0.01).trn.mat\n",
      "-rwxrwxrwx 1 raduviri raduviri 4.6M May 16 16:29 LEF1_All(0.01).tst.mat\n",
      "-rwxrwxrwx 1 raduviri raduviri  26M May 16 16:29 LEF1_BCR(0.01).trn.mat\n",
      "-rwxrwxrwx 1 raduviri raduviri 2.5M May 16 16:29 LEF1_BCR(0.01).tst.mat\n",
      "-rwxrwxrwx 1 raduviri raduviri  26M May 16 16:29 LEF1_CD40(0.01).trn.mat\n",
      "-rwxrwxrwx 1 raduviri raduviri 2.5M May 16 16:29 LEF1_CD40(0.01).tst.mat\n",
      "-rwxrwxrwx 1 raduviri raduviri  48M May 16 16:29 MYC_All(0.01).trn.mat\n",
      "-rwxrwxrwx 1 raduviri raduviri 4.3M May 16 16:29 MYC_All(0.01).tst.mat\n",
      "-rwxrwxrwx 1 raduviri raduviri  26M May 16 16:29 MYC_BCR(0.01).trn.mat\n",
      "-rwxrwxrwx 1 raduviri raduviri 2.3M May 16 16:29 MYC_BCR(0.01).tst.mat\n",
      "-rwxrwxrwx 1 raduviri raduviri  26M May 16 16:29 MYC_CD40(0.01).trn.mat\n",
      "-rwxrwxrwx 1 raduviri raduviri 2.3M May 16 16:29 MYC_CD40(0.01).tst.mat\n"
     ]
    }
   ],
   "source": [
    "!ls -lha {DataCV_dir/'Raw'}"
   ]
  },
  {
   "cell_type": "code",
   "execution_count": 13,
   "metadata": {},
   "outputs": [
    {
     "name": "stdout",
     "output_type": "stream",
     "text": [
      "<class 'pandas.core.frame.DataFrame'>\n",
      "RangeIndex: 315636 entries, 0 to 315635\n",
      "Data columns (total 51 columns):\n",
      "CauseGene                           315636 non-null object\n",
      "EffectGene                          315636 non-null object\n",
      "Replicate                           315636 non-null int32\n",
      "Treatment                           315636 non-null object\n",
      "Pvalue                              315636 non-null float64\n",
      "X0min_neg_effect-X0min_neg_cause    315636 non-null float64\n",
      "X15min_effect-X0min_neg_cause       315636 non-null float64\n",
      "X15min_effect-X15min_cause          315636 non-null float64\n",
      "X30min_effect-X0min_neg_cause       315636 non-null float64\n",
      "X30min_effect-X15min_cause          315636 non-null float64\n",
      "X30min_effect-X30min_cause          315636 non-null float64\n",
      "X90min_effect-X0min_neg_cause       315636 non-null float64\n",
      "X90min_effect-X15min_cause          315636 non-null float64\n",
      "X90min_effect-X30min_cause          315636 non-null float64\n",
      "X90min_effect-X90min_cause          315636 non-null float64\n",
      "X120min_effect-X0min_neg_cause      315636 non-null float64\n",
      "X120min_effect-X15min_cause         315636 non-null float64\n",
      "X120min_effect-X30min_cause         315636 non-null float64\n",
      "X120min_effect-X90min_cause         315636 non-null float64\n",
      "X120min_effect-X120min_cause        315636 non-null float64\n",
      "X180min_effect-X0min_neg_cause      315636 non-null float64\n",
      "X180min_effect-X15min_cause         315636 non-null float64\n",
      "X180min_effect-X30min_cause         315636 non-null float64\n",
      "X180min_effect-X90min_cause         315636 non-null float64\n",
      "X180min_effect-X120min_cause        315636 non-null float64\n",
      "X180min_effect-X180min_cause        315636 non-null float64\n",
      "X210min_effect-X0min_neg_cause      315636 non-null float64\n",
      "X210min_effect-X15min_cause         315636 non-null float64\n",
      "X210min_effect-X30min_cause         315636 non-null float64\n",
      "X210min_effect-X90min_cause         315636 non-null float64\n",
      "X210min_effect-X120min_cause        315636 non-null float64\n",
      "X210min_effect-X180min_cause        315636 non-null float64\n",
      "X210min_effect-X210min_cause        315636 non-null float64\n",
      "X240min_effect-X0min_neg_cause      315636 non-null float64\n",
      "X240min_effect-X15min_cause         315636 non-null float64\n",
      "X240min_effect-X30min_cause         315636 non-null float64\n",
      "X240min_effect-X90min_cause         315636 non-null float64\n",
      "X240min_effect-X120min_cause        315636 non-null float64\n",
      "X240min_effect-X180min_cause        315636 non-null float64\n",
      "X240min_effect-X210min_cause        315636 non-null float64\n",
      "X240min_effect-X240min_cause        315636 non-null float64\n",
      "X360min_effect-X0min_neg_cause      315636 non-null float64\n",
      "X360min_effect-X15min_cause         315636 non-null float64\n",
      "X360min_effect-X30min_cause         315636 non-null float64\n",
      "X360min_effect-X90min_cause         315636 non-null float64\n",
      "X360min_effect-X120min_cause        315636 non-null float64\n",
      "X360min_effect-X180min_cause        315636 non-null float64\n",
      "X360min_effect-X210min_cause        315636 non-null float64\n",
      "X360min_effect-X240min_cause        315636 non-null float64\n",
      "X360min_effect-X360min_cause        315636 non-null float64\n",
      "Target                              315636 non-null int64\n",
      "dtypes: float64(46), int32(1), int64(1), object(3)\n",
      "memory usage: 198.8 MB\n"
     ]
    }
   ],
   "source": [
    "train.info(memory_usage='deep')"
   ]
  },
  {
   "cell_type": "code",
   "execution_count": 16,
   "metadata": {},
   "outputs": [],
   "source": [
    "cols = [c for c in train.columns if 'X' in c]"
   ]
  },
  {
   "cell_type": "code",
   "execution_count": 25,
   "metadata": {},
   "outputs": [
    {
     "data": {
      "text/plain": [
       "1.254825779"
      ]
     },
     "execution_count": 25,
     "metadata": {},
     "output_type": "execute_result"
    }
   ],
   "source": [
    "X_trn[10,10]"
   ]
  },
  {
   "cell_type": "code",
   "execution_count": 19,
   "metadata": {},
   "outputs": [],
   "source": [
    "X_trn = train[cols].values"
   ]
  },
  {
   "cell_type": "code",
   "execution_count": 40,
   "metadata": {},
   "outputs": [],
   "source": [
    "X_comp = (1000000000 * X_trn).astype(np.int32)"
   ]
  },
  {
   "cell_type": "code",
   "execution_count": 41,
   "metadata": {},
   "outputs": [
    {
     "data": {
      "text/plain": [
       "1254825779"
      ]
     },
     "execution_count": 41,
     "metadata": {},
     "output_type": "execute_result"
    }
   ],
   "source": [
    "X_comp[10,10]"
   ]
  },
  {
   "cell_type": "code",
   "execution_count": 45,
   "metadata": {},
   "outputs": [],
   "source": [
    "np.savez_compressed('./X_trn', X_trn=X_trn)"
   ]
  },
  {
   "cell_type": "code",
   "execution_count": 46,
   "metadata": {},
   "outputs": [
    {
     "name": "stdout",
     "output_type": "stream",
     "text": [
      "total 105M\n",
      "drwxrwxr-x 11 raduviri raduviri 4.0K Aug 30 21:56 .\n",
      "drwxrwxr-x 30 raduviri raduviri 4.0K Aug 11 22:45 ..\n",
      "drwxrwxr-x  8 raduviri raduviri 4.0K Aug 10 18:59 .git\n",
      "-rw-rw-r--  1 raduviri raduviri  116 May 16 17:41 .gitignore\n",
      "drwxrwxr-x  2 raduviri raduviri 4.0K May  4 17:52 .ipynb_checkpoints\n",
      "drwxrwxr-x  2 raduviri raduviri 4.0K Mar 21 16:15 .vscode\n",
      "drwxrwxr-x  3 raduviri raduviri 4.0K May 24 16:30 CNNExperiments\n",
      "drwxrwxr-x  2 raduviri raduviri 4.0K Feb  8  2018 Outer\n",
      "drwxrwxrwx  3 raduviri raduviri 4.0K Jun  1 18:09 Raw\n",
      "drwxrwxr-x  4 raduviri raduviri 4.0K Aug 30 22:01 SVMExperiments\n",
      "-rw-rw-r--  1 raduviri raduviri  142 Aug 20 16:06 Tt - Erk - BCR.txt\n",
      "-rw-rw-r--  1 raduviri raduviri 105M Aug 30 22:02 X_trn.npz\n",
      "drwxrwxr-x  2 raduviri raduviri 4.0K Mar 21 16:33 __pycache__\n",
      "drwxrwxr-x  3 raduviri raduviri 4.0K May 16 16:28 _data\n",
      "-rw-rw-r--  1 raduviri raduviri  13K Mar 21 16:32 utils.py\n"
     ]
    }
   ],
   "source": [
    "!ls -lah"
   ]
  },
  {
   "cell_type": "code",
   "execution_count": 49,
   "metadata": {},
   "outputs": [],
   "source": [
    "from scipy.io import loadmat\n",
    "bags = loadmat(Bags_dir/f'{dataset}({pval_pos_threshold})_Bags{1}.mat')"
   ]
  },
  {
   "cell_type": "code",
   "execution_count": 50,
   "metadata": {},
   "outputs": [],
   "source": [
    "n_samples = 6 if treatment == 'All' else 3"
   ]
  },
  {
   "cell_type": "code",
   "execution_count": 51,
   "metadata": {},
   "outputs": [],
   "source": [
    "from SVMExperiments.utils import bag_idx"
   ]
  },
  {
   "cell_type": "code",
   "execution_count": 52,
   "metadata": {},
   "outputs": [],
   "source": [
    "bag_id = 1"
   ]
  },
  {
   "cell_type": "code",
   "execution_count": 55,
   "metadata": {},
   "outputs": [],
   "source": [
    "bags_n = bags['NegGenePairsBag']"
   ]
  },
  {
   "cell_type": "code",
   "execution_count": 56,
   "metadata": {},
   "outputs": [],
   "source": [
    "trn_neg = train[train.Target == 0].reset_index(drop=True)\n",
    "trn_pos = train[train.Target == 1].reset_index(drop=True)"
   ]
  },
  {
   "cell_type": "code",
   "execution_count": 57,
   "metadata": {},
   "outputs": [],
   "source": [
    "X_trn_neg = trn_neg[cols].values"
   ]
  },
  {
   "cell_type": "code",
   "execution_count": 58,
   "metadata": {},
   "outputs": [],
   "source": [
    "idxs = [x for i in bags_n[:, bag_id] for x in bag_idx(n_samples, i)]"
   ]
  },
  {
   "cell_type": "code",
   "execution_count": 63,
   "metadata": {},
   "outputs": [],
   "source": [
    "unique_idxs = []\n",
    "for bag_id in range(100):\n",
    "    idxs = [x for i in bags_n[:, bag_id] for x in bag_idx(n_samples, i)]\n",
    "    unique_idxs += idxs"
   ]
  },
  {
   "cell_type": "code",
   "execution_count": 64,
   "metadata": {},
   "outputs": [
    {
     "data": {
      "text/plain": [
       "192345"
      ]
     },
     "execution_count": 64,
     "metadata": {},
     "output_type": "execute_result"
    }
   ],
   "source": [
    "len(np.unique(unique_idxs))"
   ]
  },
  {
   "cell_type": "code",
   "execution_count": 65,
   "metadata": {},
   "outputs": [
    {
     "data": {
      "text/plain": [
       "(307359, 45)"
      ]
     },
     "execution_count": 65,
     "metadata": {},
     "output_type": "execute_result"
    }
   ],
   "source": [
    "X_trn_neg.shape"
   ]
  },
  {
   "cell_type": "code",
   "execution_count": 60,
   "metadata": {},
   "outputs": [],
   "source": [
    "X_bag = X_trn_neg[idxs]"
   ]
  },
  {
   "cell_type": "code",
   "execution_count": 61,
   "metadata": {},
   "outputs": [
    {
     "data": {
      "text/plain": [
       "(3000, 45)"
      ]
     },
     "execution_count": 61,
     "metadata": {},
     "output_type": "execute_result"
    }
   ],
   "source": [
    "X_bag.shape"
   ]
  },
  {
   "cell_type": "code",
   "execution_count": 77,
   "metadata": {},
   "outputs": [],
   "source": [
    "np.savez_compressed('./X_bag', X_bag=X_bag)"
   ]
  },
  {
   "cell_type": "code",
   "execution_count": 78,
   "metadata": {},
   "outputs": [
    {
     "name": "stdout",
     "output_type": "stream",
     "text": [
      "total 106M\n",
      "drwxrwxr-x 11 raduviri raduviri  4.0K Aug 30 22:27 .\n",
      "drwxrwxr-x 30 raduviri raduviri  4.0K Aug 11 22:45 ..\n",
      "drwxrwxr-x  8 raduviri raduviri  4.0K Aug 10 18:59 .git\n",
      "-rw-rw-r--  1 raduviri raduviri   116 May 16 17:41 .gitignore\n",
      "drwxrwxr-x  2 raduviri raduviri  4.0K May  4 17:52 .ipynb_checkpoints\n",
      "drwxrwxr-x  2 raduviri raduviri  4.0K Mar 21 16:15 .vscode\n",
      "drwxrwxr-x  3 raduviri raduviri  4.0K May 24 16:30 CNNExperiments\n",
      "drwxrwxr-x  2 raduviri raduviri  4.0K Feb  8  2018 Outer\n",
      "drwxrwxrwx  3 raduviri raduviri  4.0K Jun  1 18:09 Raw\n",
      "drwxrwxr-x  4 raduviri raduviri  4.0K Aug 30 22:26 SVMExperiments\n",
      "-rw-rw-r--  1 raduviri raduviri   142 Aug 20 16:06 Tt - Erk - BCR.txt\n",
      "-rw-rw-r--  1 raduviri raduviri 1019K Aug 30 22:27 X_bag.npz\n",
      "-rw-rw-r--  1 raduviri raduviri  105M Aug 30 22:02 X_trn.npz\n",
      "drwxrwxr-x  2 raduviri raduviri  4.0K Mar 21 16:33 __pycache__\n",
      "drwxrwxr-x  3 raduviri raduviri  4.0K May 16 16:28 _data\n",
      "-rw-rw-r--  1 raduviri raduviri   13K Mar 21 16:32 utils.py\n"
     ]
    }
   ],
   "source": [
    "!ls -lah"
   ]
  },
  {
   "cell_type": "code",
   "execution_count": 80,
   "metadata": {},
   "outputs": [
    {
     "data": {
      "text/plain": [
       "(315636, 307359)"
      ]
     },
     "execution_count": 80,
     "metadata": {},
     "output_type": "execute_result"
    }
   ],
   "source": [
    "len(X_trn), len(X_trn_neg)"
   ]
  },
  {
   "cell_type": "markdown",
   "metadata": {},
   "source": [
    "1M => 107M\n",
    "9M => 900M"
   ]
  },
  {
   "cell_type": "code",
   "execution_count": 22,
   "metadata": {},
   "outputs": [
    {
     "data": {
      "text/plain": [
       "(315636, 45)"
      ]
     },
     "execution_count": 22,
     "metadata": {},
     "output_type": "execute_result"
    }
   ],
   "source": [
    "X_trn.shape"
   ]
  },
  {
   "cell_type": "code",
   "execution_count": 76,
   "metadata": {},
   "outputs": [
    {
     "data": {
      "text/plain": [
       "55482.890625"
      ]
     },
     "execution_count": 76,
     "metadata": {},
     "output_type": "execute_result"
    }
   ],
   "source": [
    "315636 * 45 * 4 / 1024"
   ]
  },
  {
   "cell_type": "code",
   "execution_count": null,
   "metadata": {},
   "outputs": [],
   "source": []
  }
 ],
 "metadata": {
  "kernelspec": {
   "display_name": "Python 3",
   "language": "python",
   "name": "python3"
  },
  "language_info": {
   "codemirror_mode": {
    "name": "ipython",
    "version": 3
   },
   "file_extension": ".py",
   "mimetype": "text/x-python",
   "name": "python",
   "nbconvert_exporter": "python",
   "pygments_lexer": "ipython3",
   "version": "3.6.4"
  }
 },
 "nbformat": 4,
 "nbformat_minor": 2
}
