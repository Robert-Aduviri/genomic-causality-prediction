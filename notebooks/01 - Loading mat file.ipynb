{
 "cells": [
  {
   "cell_type": "code",
   "execution_count": 1,
   "metadata": {},
   "outputs": [],
   "source": [
    "%load_ext autoreload\n",
    "%autoreload 2\n",
    "%matplotlib inline\n",
    "%config InlineBackend.figure_format = 'retina'\n",
    "import numpy as np\n",
    "import pandas as pd\n",
    "import matplotlib.pyplot as plt\n",
    "import seaborn as sns\n",
    "sns.set()\n",
    "pd.set_option('display.max_columns', 400)"
   ]
  },
  {
   "cell_type": "code",
   "execution_count": 2,
   "metadata": {},
   "outputs": [],
   "source": [
    "import os\n",
    "from pathlib import Path\n",
    "os.chdir('..')\n",
    "DATA = Path('_data/genomics-data')\n",
    "DataCV_dir      = DATA/'DataCV'\n",
    "Bags_dir        = DATA/'Bags'\n",
    "FeatRanking_dir = DATA/'FeatRanking'\n",
    "Log_dir         = DATA/'LogsClassifFeatureRank'"
   ]
  },
  {
   "cell_type": "code",
   "execution_count": 3,
   "metadata": {},
   "outputs": [],
   "source": [
    "dataset = 'Erk'\n",
    "featureset = 'Dc'\n",
    "treatment = 'BCR'"
   ]
  },
  {
   "cell_type": "code",
   "execution_count": 16,
   "metadata": {},
   "outputs": [],
   "source": [
    "file_name = DataCV_dir / f'{featureset}/{dataset}_{treatment}(0.01)'\n",
    "train_file = f'{file_name}.trn.mat'\n",
    "test_file = f'{file_name}.tst.mat'"
   ]
  },
  {
   "cell_type": "code",
   "execution_count": 17,
   "metadata": {},
   "outputs": [
    {
     "data": {
      "text/plain": [
       "'_data/genomics-data/DataCV/Dc/Erk_BCR(0.01).trn.mat'"
      ]
     },
     "execution_count": 17,
     "metadata": {},
     "output_type": "execute_result"
    }
   ],
   "source": [
    "train_file"
   ]
  },
  {
   "cell_type": "code",
   "execution_count": 18,
   "metadata": {},
   "outputs": [],
   "source": [
    "from scipy.io import loadmat"
   ]
  },
  {
   "cell_type": "code",
   "execution_count": 20,
   "metadata": {},
   "outputs": [
    {
     "name": "stdout",
     "output_type": "stream",
     "text": [
      "CPU times: user 7.83 s, sys: 232 ms, total: 8.06 s\n",
      "Wall time: 8.06 s\n"
     ]
    }
   ],
   "source": [
    "%%time\n",
    "train_mat = loadmat(train_file)\n",
    "test_mat = loadmat(test_file)"
   ]
  },
  {
   "cell_type": "code",
   "execution_count": 33,
   "metadata": {},
   "outputs": [],
   "source": [
    "trn_pos = train_mat['DatasetTrn'][0,0][0]\n",
    "tst_neg = train_mat['DatasetTrn'][0,0][1]"
   ]
  },
  {
   "cell_type": "code",
   "execution_count": 34,
   "metadata": {},
   "outputs": [
    {
     "data": {
      "text/plain": [
       "((8277, 45), (307359, 45))"
      ]
     },
     "execution_count": 34,
     "metadata": {},
     "output_type": "execute_result"
    }
   ],
   "source": [
    "trn_pos.shape, tst_neg.shape"
   ]
  },
  {
   "cell_type": "code",
   "execution_count": 35,
   "metadata": {},
   "outputs": [
    {
     "data": {
      "text/plain": [
       "dict_keys(['__header__', '__version__', '__globals__', 'Dataset'])"
      ]
     },
     "execution_count": 35,
     "metadata": {},
     "output_type": "execute_result"
    }
   ],
   "source": [
    "test_mat.keys()"
   ]
  },
  {
   "cell_type": "code",
   "execution_count": 36,
   "metadata": {},
   "outputs": [
    {
     "name": "stdout",
     "output_type": "stream",
     "text": [
      "__header__\n",
      "__version__\n",
      "__globals__\n",
      "DatasetTrn\n"
     ]
    }
   ],
   "source": [
    "for c in train_mat:\n",
    "    print(c)"
   ]
  },
  {
   "cell_type": "markdown",
   "metadata": {},
   "source": [
    "## 1. Refactor"
   ]
  },
  {
   "cell_type": "code",
   "execution_count": 42,
   "metadata": {},
   "outputs": [],
   "source": [
    "def get_dataset(file_name):\n",
    "    mat_object = loadmat(file_name)\n",
    "    dataset_key = [k for k in mat_object if 'Dataset' in k][0]\n",
    "    positives = mat_object[dataset_key][0,0][0]\n",
    "    negatives = mat_object[dataset_key][0,0][1]\n",
    "    return positives, negatives"
   ]
  },
  {
   "cell_type": "code",
   "execution_count": 44,
   "metadata": {},
   "outputs": [
    {
     "name": "stdout",
     "output_type": "stream",
     "text": [
      "CPU times: user 8.08 s, sys: 168 ms, total: 8.24 s\n",
      "Wall time: 8.24 s\n"
     ]
    }
   ],
   "source": [
    "%%time\n",
    "trn_pos, trn_neg = get_dataset(train_file)\n",
    "tst_pos, tst_neg = get_dataset(test_file)"
   ]
  },
  {
   "cell_type": "code",
   "execution_count": 46,
   "metadata": {},
   "outputs": [],
   "source": [
    "# FeatureRanking [inhibitor, featureset, treatment][fold, feature_ranker]\n",
    "# Indices of features reordered according to feature ranking\n",
    "# applied over this fold\n",
    "# [0,1,2,3,4] => [2,4,1,0,3] (feature in column 2 is the most important)\n",
    "\n",
    "# Input: \n",
    "# 1. For each [i,f,t] a file containing the indices of the train and\n",
    "#    validation subsets, for each fold. [.mat idx, fold, train/val flag]\n",
    "#    or [.mat idx, fold i+]\n",
    "# 2. Original data in .trn.mat\n",
    "\n",
    "# Output\n",
    "# 1. For each [i,f,t] a file containing a table with the format\n",
    "#    [feature ranker, fold, feature i+]"
   ]
  },
  {
   "cell_type": "code",
   "execution_count": null,
   "metadata": {},
   "outputs": [],
   "source": [
    "# Bags [inhibitor, fold][bag size, #bags=100]\n",
    "# Indices of bags respect to each train fold, which will be expanded\n",
    "# to take into account the number of samples (3 or 6) \n",
    "# Build training bags from samples ids"
   ]
  },
  {
   "cell_type": "code",
   "execution_count": null,
   "metadata": {},
   "outputs": [],
   "source": [
    "def get_bag_data(bag_id, )"
   ]
  }
 ],
 "metadata": {
  "kernelspec": {
   "display_name": "Python 3",
   "language": "python",
   "name": "python3"
  },
  "language_info": {
   "codemirror_mode": {
    "name": "ipython",
    "version": 3
   },
   "file_extension": ".py",
   "mimetype": "text/x-python",
   "name": "python",
   "nbconvert_exporter": "python",
   "pygments_lexer": "ipython3",
   "version": "3.6.4"
  }
 },
 "nbformat": 4,
 "nbformat_minor": 2
}
